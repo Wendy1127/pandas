{
 "cells": [
  {
   "cell_type": "markdown",
   "metadata": {},
   "source": [
    "# Pandas"
   ]
  },
  {
   "cell_type": "markdown",
   "metadata": {},
   "source": [
    "## 引入约定"
   ]
  },
  {
   "cell_type": "code",
   "execution_count": 3,
   "metadata": {
    "collapsed": true
   },
   "outputs": [],
   "source": [
    "import pandas as pd\n",
    "import numpy as np"
   ]
  },
  {
   "cell_type": "code",
   "execution_count": 4,
   "metadata": {
    "collapsed": true
   },
   "outputs": [],
   "source": [
    "from pandas import DataFrame,Series    #数据框、一维数组"
   ]
  },
  {
   "cell_type": "markdown",
   "metadata": {},
   "source": [
    "## Series  一维数组"
   ]
  },
  {
   "cell_type": "markdown",
   "metadata": {},
   "source": [
    "### 通过一维数组创建series"
   ]
  },
  {
   "cell_type": "code",
   "execution_count": 5,
   "metadata": {
    "collapsed": true
   },
   "outputs": [],
   "source": [
    "arr=np.arange(1,21)"
   ]
  },
  {
   "cell_type": "code",
   "execution_count": 6,
   "metadata": {
    "collapsed": true
   },
   "outputs": [],
   "source": [
    "series=Series(arr)  #创建一个一维数组对象"
   ]
  },
  {
   "cell_type": "code",
   "execution_count": 7,
   "metadata": {},
   "outputs": [
    {
     "data": {
      "text/plain": [
       "0      1\n",
       "1      2\n",
       "2      3\n",
       "3      4\n",
       "4      5\n",
       "5      6\n",
       "6      7\n",
       "7      8\n",
       "8      9\n",
       "9     10\n",
       "10    11\n",
       "11    12\n",
       "12    13\n",
       "13    14\n",
       "14    15\n",
       "15    16\n",
       "16    17\n",
       "17    18\n",
       "18    19\n",
       "19    20\n",
       "dtype: int32"
      ]
     },
     "execution_count": 7,
     "metadata": {},
     "output_type": "execute_result"
    }
   ],
   "source": [
    "series"
   ]
  },
  {
   "cell_type": "markdown",
   "metadata": {},
   "source": [
    "### 查看索引"
   ]
  },
  {
   "cell_type": "code",
   "execution_count": 8,
   "metadata": {},
   "outputs": [
    {
     "data": {
      "text/plain": [
       "RangeIndex(start=0, stop=20, step=1)"
      ]
     },
     "execution_count": 8,
     "metadata": {},
     "output_type": "execute_result"
    }
   ],
   "source": [
    "series.index"
   ]
  },
  {
   "cell_type": "markdown",
   "metadata": {},
   "source": [
    "### 通过字典创建Series"
   ]
  },
  {
   "cell_type": "code",
   "execution_count": 9,
   "metadata": {
    "collapsed": true
   },
   "outputs": [],
   "source": [
    "a_dict={'20171128':1000,'20171009':1050,'20170910':500}"
   ]
  },
  {
   "cell_type": "code",
   "execution_count": 10,
   "metadata": {
    "collapsed": true
   },
   "outputs": [],
   "source": [
    "series01=Series(a_dict)"
   ]
  },
  {
   "cell_type": "code",
   "execution_count": 11,
   "metadata": {},
   "outputs": [
    {
     "data": {
      "text/plain": [
       "20170910     500\n",
       "20171009    1050\n",
       "20171128    1000\n",
       "dtype: int64"
      ]
     },
     "execution_count": 11,
     "metadata": {},
     "output_type": "execute_result"
    }
   ],
   "source": [
    "series01"
   ]
  },
  {
   "cell_type": "code",
   "execution_count": 12,
   "metadata": {},
   "outputs": [
    {
     "data": {
      "text/plain": [
       "Index([u'20170910', u'20171009', u'20171128'], dtype='object')"
      ]
     },
     "execution_count": 12,
     "metadata": {},
     "output_type": "execute_result"
    }
   ],
   "source": [
    "series01.index"
   ]
  },
  {
   "cell_type": "markdown",
   "metadata": {},
   "source": [
    "### 数据index绑定"
   ]
  },
  {
   "cell_type": "code",
   "execution_count": 13,
   "metadata": {
    "collapsed": true
   },
   "outputs": [],
   "source": [
    "series1=Series([70,89,67],index=['张三','李四','王五'])"
   ]
  },
  {
   "cell_type": "code",
   "execution_count": 14,
   "metadata": {},
   "outputs": [
    {
     "data": {
      "text/plain": [
       "张三    70\n",
       "李四    89\n",
       "王五    67\n",
       "dtype: int64"
      ]
     },
     "execution_count": 14,
     "metadata": {},
     "output_type": "execute_result"
    }
   ],
   "source": [
    "series1"
   ]
  },
  {
   "cell_type": "code",
   "execution_count": 15,
   "metadata": {},
   "outputs": [
    {
     "data": {
      "text/plain": [
       "array([70, 89, 67], dtype=int64)"
      ]
     },
     "execution_count": 15,
     "metadata": {},
     "output_type": "execute_result"
    }
   ],
   "source": [
    "series1.values  #查看数据列"
   ]
  },
  {
   "cell_type": "code",
   "execution_count": 16,
   "metadata": {},
   "outputs": [
    {
     "data": {
      "text/plain": [
       "dtype('int64')"
      ]
     },
     "execution_count": 16,
     "metadata": {},
     "output_type": "execute_result"
    }
   ],
   "source": [
    "series1.dtype"
   ]
  },
  {
   "cell_type": "markdown",
   "metadata": {},
   "source": [
    "### 缺失值的检测"
   ]
  },
  {
   "cell_type": "markdown",
   "metadata": {},
   "source": [
    "* isnull"
   ]
  },
  {
   "cell_type": "code",
   "execution_count": 17,
   "metadata": {
    "collapsed": true
   },
   "outputs": [],
   "source": [
    "series2=Series([1,2,3,4,np.NaN,5,6,7,8,9])"
   ]
  },
  {
   "cell_type": "code",
   "execution_count": 18,
   "metadata": {},
   "outputs": [
    {
     "data": {
      "text/plain": [
       "0    1.0\n",
       "1    2.0\n",
       "2    3.0\n",
       "3    4.0\n",
       "4    NaN\n",
       "5    5.0\n",
       "6    6.0\n",
       "7    7.0\n",
       "8    8.0\n",
       "9    9.0\n",
       "dtype: float64"
      ]
     },
     "execution_count": 18,
     "metadata": {},
     "output_type": "execute_result"
    }
   ],
   "source": [
    "series2"
   ]
  },
  {
   "cell_type": "code",
   "execution_count": 19,
   "metadata": {},
   "outputs": [
    {
     "data": {
      "text/plain": [
       "0    False\n",
       "1    False\n",
       "2    False\n",
       "3    False\n",
       "4     True\n",
       "5    False\n",
       "6    False\n",
       "7    False\n",
       "8    False\n",
       "9    False\n",
       "dtype: bool"
      ]
     },
     "execution_count": 19,
     "metadata": {},
     "output_type": "execute_result"
    }
   ],
   "source": [
    "series2.isnull()"
   ]
  },
  {
   "cell_type": "code",
   "execution_count": 20,
   "metadata": {},
   "outputs": [
    {
     "data": {
      "text/plain": [
       "0     True\n",
       "1     True\n",
       "2     True\n",
       "3     True\n",
       "4    False\n",
       "5     True\n",
       "6     True\n",
       "7     True\n",
       "8     True\n",
       "9     True\n",
       "dtype: bool"
      ]
     },
     "execution_count": 20,
     "metadata": {},
     "output_type": "execute_result"
    }
   ],
   "source": [
    "series2.notnull()"
   ]
  },
  {
   "cell_type": "markdown",
   "metadata": {},
   "source": [
    "* notnull"
   ]
  },
  {
   "cell_type": "code",
   "execution_count": 21,
   "metadata": {},
   "outputs": [
    {
     "data": {
      "text/plain": [
       "4   NaN\n",
       "dtype: float64"
      ]
     },
     "execution_count": 21,
     "metadata": {},
     "output_type": "execute_result"
    }
   ],
   "source": [
    "series2[pd.isnull(series2)]"
   ]
  },
  {
   "cell_type": "code",
   "execution_count": 22,
   "metadata": {},
   "outputs": [
    {
     "data": {
      "text/plain": [
       "0    1.0\n",
       "1    2.0\n",
       "2    3.0\n",
       "3    4.0\n",
       "5    5.0\n",
       "6    6.0\n",
       "7    7.0\n",
       "8    8.0\n",
       "9    9.0\n",
       "dtype: float64"
      ]
     },
     "execution_count": 22,
     "metadata": {},
     "output_type": "execute_result"
    }
   ],
   "source": [
    "series2[pd.notnull(series2)]"
   ]
  },
  {
   "cell_type": "code",
   "execution_count": 41,
   "metadata": {
    "collapsed": true
   },
   "outputs": [],
   "source": [
    "product_num=Series([23,45,67,89],index=['p3','p1','p2','p4'])"
   ]
  },
  {
   "cell_type": "code",
   "execution_count": 42,
   "metadata": {
    "collapsed": true
   },
   "outputs": [],
   "source": [
    "product_price_table=Series([9.83,8.13,2.43,5.61,4.89],index=['p1','p2','p3','p4','p5'])"
   ]
  },
  {
   "cell_type": "code",
   "execution_count": 43,
   "metadata": {},
   "outputs": [],
   "source": [
    "product_sum=product_num*product_price_table"
   ]
  },
  {
   "cell_type": "code",
   "execution_count": 44,
   "metadata": {},
   "outputs": [
    {
     "data": {
      "text/plain": [
       "p1    442.35\n",
       "p2    544.71\n",
       "p3     55.89\n",
       "p4    499.29\n",
       "p5       NaN\n",
       "dtype: float64"
      ]
     },
     "execution_count": 44,
     "metadata": {},
     "output_type": "execute_result"
    }
   ],
   "source": [
    "product_sum"
   ]
  },
  {
   "cell_type": "code",
   "execution_count": 45,
   "metadata": {},
   "outputs": [],
   "source": [
    "product_num.name='PN'"
   ]
  },
  {
   "cell_type": "code",
   "execution_count": 46,
   "metadata": {},
   "outputs": [],
   "source": [
    "product_num.index.name='PT'"
   ]
  },
  {
   "cell_type": "code",
   "execution_count": 47,
   "metadata": {},
   "outputs": [
    {
     "data": {
      "text/plain": [
       "PT\n",
       "p3    23\n",
       "p1    45\n",
       "p2    67\n",
       "p4    89\n",
       "Name: PN, dtype: int64"
      ]
     },
     "execution_count": 47,
     "metadata": {},
     "output_type": "execute_result"
    }
   ],
   "source": [
    "product_num"
   ]
  },
  {
   "cell_type": "code",
   "execution_count": 48,
   "metadata": {},
   "outputs": [
    {
     "data": {
      "text/plain": [
       "45"
      ]
     },
     "execution_count": 48,
     "metadata": {},
     "output_type": "execute_result"
    }
   ],
   "source": [
    "product_num['p1']"
   ]
  },
  {
   "cell_type": "code",
   "execution_count": 49,
   "metadata": {},
   "outputs": [
    {
     "data": {
      "text/plain": [
       "PT\n",
       "p3    23\n",
       "Name: PN, dtype: int64"
      ]
     },
     "execution_count": 49,
     "metadata": {},
     "output_type": "execute_result"
    }
   ],
   "source": [
    "product_num[:'p3']"
   ]
  },
  {
   "cell_type": "code",
   "execution_count": 50,
   "metadata": {},
   "outputs": [
    {
     "data": {
      "text/plain": [
       "PT\n",
       "p3    23\n",
       "p1    45\n",
       "p2    67\n",
       "p4    89\n",
       "Name: PN, dtype: int64"
      ]
     },
     "execution_count": 50,
     "metadata": {},
     "output_type": "execute_result"
    }
   ],
   "source": [
    "product_num['p3':\n",
    "           ]"
   ]
  },
  {
   "cell_type": "code",
   "execution_count": 51,
   "metadata": {},
   "outputs": [
    {
     "data": {
      "text/plain": [
       "PT\n",
       "p3    23\n",
       "p1    45\n",
       "p2    67\n",
       "Name: PN, dtype: int64"
      ]
     },
     "execution_count": 51,
     "metadata": {},
     "output_type": "execute_result"
    }
   ],
   "source": [
    "product_num[:'p2']"
   ]
  },
  {
   "cell_type": "code",
   "execution_count": 52,
   "metadata": {},
   "outputs": [
    {
     "data": {
      "text/plain": [
       "PT\n",
       "p3    23\n",
       "p1    45\n",
       "p2    67\n",
       "Name: PN, dtype: int64"
      ]
     },
     "execution_count": 52,
     "metadata": {},
     "output_type": "execute_result"
    }
   ],
   "source": [
    "product_num['p3':'p2']"
   ]
  },
  {
   "cell_type": "markdown",
   "metadata": {},
   "source": [
    "### dataframe"
   ]
  },
  {
   "cell_type": "code",
   "execution_count": 53,
   "metadata": {
    "collapsed": true
   },
   "outputs": [],
   "source": [
    "df=DataFrame([[1,2,3],[3,4,5]])"
   ]
  },
  {
   "cell_type": "code",
   "execution_count": 54,
   "metadata": {},
   "outputs": [
    {
     "data": {
      "text/html": [
       "<div>\n",
       "<style>\n",
       "    .dataframe thead tr:only-child th {\n",
       "        text-align: right;\n",
       "    }\n",
       "\n",
       "    .dataframe thead th {\n",
       "        text-align: left;\n",
       "    }\n",
       "\n",
       "    .dataframe tbody tr th {\n",
       "        vertical-align: top;\n",
       "    }\n",
       "</style>\n",
       "<table border=\"1\" class=\"dataframe\">\n",
       "  <thead>\n",
       "    <tr style=\"text-align: right;\">\n",
       "      <th></th>\n",
       "      <th>0</th>\n",
       "      <th>1</th>\n",
       "      <th>2</th>\n",
       "    </tr>\n",
       "  </thead>\n",
       "  <tbody>\n",
       "    <tr>\n",
       "      <th>0</th>\n",
       "      <td>1</td>\n",
       "      <td>2</td>\n",
       "      <td>3</td>\n",
       "    </tr>\n",
       "    <tr>\n",
       "      <th>1</th>\n",
       "      <td>3</td>\n",
       "      <td>4</td>\n",
       "      <td>5</td>\n",
       "    </tr>\n",
       "  </tbody>\n",
       "</table>\n",
       "</div>"
      ],
      "text/plain": [
       "   0  1  2\n",
       "0  1  2  3\n",
       "1  3  4  5"
      ]
     },
     "execution_count": 54,
     "metadata": {},
     "output_type": "execute_result"
    }
   ],
   "source": [
    "df"
   ]
  },
  {
   "cell_type": "code",
   "execution_count": 55,
   "metadata": {
    "collapsed": true
   },
   "outputs": [],
   "source": [
    "df=DataFrame([[1,2,3],[3,4,5]],index=['a','b'])"
   ]
  },
  {
   "cell_type": "code",
   "execution_count": 56,
   "metadata": {},
   "outputs": [
    {
     "data": {
      "text/html": [
       "<div>\n",
       "<style>\n",
       "    .dataframe thead tr:only-child th {\n",
       "        text-align: right;\n",
       "    }\n",
       "\n",
       "    .dataframe thead th {\n",
       "        text-align: left;\n",
       "    }\n",
       "\n",
       "    .dataframe tbody tr th {\n",
       "        vertical-align: top;\n",
       "    }\n",
       "</style>\n",
       "<table border=\"1\" class=\"dataframe\">\n",
       "  <thead>\n",
       "    <tr style=\"text-align: right;\">\n",
       "      <th></th>\n",
       "      <th>0</th>\n",
       "      <th>1</th>\n",
       "      <th>2</th>\n",
       "    </tr>\n",
       "  </thead>\n",
       "  <tbody>\n",
       "    <tr>\n",
       "      <th>a</th>\n",
       "      <td>1</td>\n",
       "      <td>2</td>\n",
       "      <td>3</td>\n",
       "    </tr>\n",
       "    <tr>\n",
       "      <th>b</th>\n",
       "      <td>3</td>\n",
       "      <td>4</td>\n",
       "      <td>5</td>\n",
       "    </tr>\n",
       "  </tbody>\n",
       "</table>\n",
       "</div>"
      ],
      "text/plain": [
       "   0  1  2\n",
       "a  1  2  3\n",
       "b  3  4  5"
      ]
     },
     "execution_count": 56,
     "metadata": {},
     "output_type": "execute_result"
    }
   ],
   "source": [
    "df"
   ]
  },
  {
   "cell_type": "code",
   "execution_count": 57,
   "metadata": {},
   "outputs": [
    {
     "data": {
      "text/plain": [
       "a    1\n",
       "b    3\n",
       "Name: 0, dtype: int64"
      ]
     },
     "execution_count": 57,
     "metadata": {},
     "output_type": "execute_result"
    }
   ],
   "source": [
    "df[0]     #优先从列取值"
   ]
  },
  {
   "cell_type": "code",
   "execution_count": 58,
   "metadata": {},
   "outputs": [
    {
     "data": {
      "text/plain": [
       "1"
      ]
     },
     "execution_count": 58,
     "metadata": {},
     "output_type": "execute_result"
    }
   ],
   "source": [
    "df[0]['a']   #取出第一列，a行的数据"
   ]
  },
  {
   "cell_type": "code",
   "execution_count": 59,
   "metadata": {},
   "outputs": [
    {
     "data": {
      "text/html": [
       "<div>\n",
       "<style>\n",
       "    .dataframe thead tr:only-child th {\n",
       "        text-align: right;\n",
       "    }\n",
       "\n",
       "    .dataframe thead th {\n",
       "        text-align: left;\n",
       "    }\n",
       "\n",
       "    .dataframe tbody tr th {\n",
       "        vertical-align: top;\n",
       "    }\n",
       "</style>\n",
       "<table border=\"1\" class=\"dataframe\">\n",
       "  <thead>\n",
       "    <tr style=\"text-align: right;\">\n",
       "      <th></th>\n",
       "      <th>0</th>\n",
       "      <th>1</th>\n",
       "      <th>2</th>\n",
       "    </tr>\n",
       "  </thead>\n",
       "  <tbody>\n",
       "    <tr>\n",
       "      <th>b</th>\n",
       "      <td>3</td>\n",
       "      <td>4</td>\n",
       "      <td>5</td>\n",
       "    </tr>\n",
       "  </tbody>\n",
       "</table>\n",
       "</div>"
      ],
      "text/plain": [
       "   0  1  2\n",
       "b  3  4  5"
      ]
     },
     "execution_count": 59,
     "metadata": {},
     "output_type": "execute_result"
    }
   ],
   "source": [
    "df[1:]"
   ]
  },
  {
   "cell_type": "code",
   "execution_count": 60,
   "metadata": {},
   "outputs": [
    {
     "data": {
      "text/html": [
       "<div>\n",
       "<style>\n",
       "    .dataframe thead tr:only-child th {\n",
       "        text-align: right;\n",
       "    }\n",
       "\n",
       "    .dataframe thead th {\n",
       "        text-align: left;\n",
       "    }\n",
       "\n",
       "    .dataframe tbody tr th {\n",
       "        vertical-align: top;\n",
       "    }\n",
       "</style>\n",
       "<table border=\"1\" class=\"dataframe\">\n",
       "  <thead>\n",
       "    <tr style=\"text-align: right;\">\n",
       "      <th></th>\n",
       "      <th>0</th>\n",
       "      <th>1</th>\n",
       "      <th>2</th>\n",
       "    </tr>\n",
       "  </thead>\n",
       "  <tbody>\n",
       "    <tr>\n",
       "      <th>a</th>\n",
       "      <td>1</td>\n",
       "      <td>2</td>\n",
       "      <td>3</td>\n",
       "    </tr>\n",
       "    <tr>\n",
       "      <th>b</th>\n",
       "      <td>3</td>\n",
       "      <td>4</td>\n",
       "      <td>5</td>\n",
       "    </tr>\n",
       "  </tbody>\n",
       "</table>\n",
       "</div>"
      ],
      "text/plain": [
       "   0  1  2\n",
       "a  1  2  3\n",
       "b  3  4  5"
      ]
     },
     "execution_count": 60,
     "metadata": {},
     "output_type": "execute_result"
    }
   ],
   "source": [
    "df[0:]   #如果使用切片，优先取行的数据   ix_对列进行切片"
   ]
  },
  {
   "cell_type": "code",
   "execution_count": 61,
   "metadata": {},
   "outputs": [
    {
     "data": {
      "text/html": [
       "<div>\n",
       "<style>\n",
       "    .dataframe thead tr:only-child th {\n",
       "        text-align: right;\n",
       "    }\n",
       "\n",
       "    .dataframe thead th {\n",
       "        text-align: left;\n",
       "    }\n",
       "\n",
       "    .dataframe tbody tr th {\n",
       "        vertical-align: top;\n",
       "    }\n",
       "</style>\n",
       "<table border=\"1\" class=\"dataframe\">\n",
       "  <thead>\n",
       "    <tr style=\"text-align: right;\">\n",
       "      <th></th>\n",
       "      <th>0</th>\n",
       "      <th>1</th>\n",
       "      <th>2</th>\n",
       "    </tr>\n",
       "  </thead>\n",
       "  <tbody>\n",
       "    <tr>\n",
       "      <th>b</th>\n",
       "      <td>3</td>\n",
       "      <td>4</td>\n",
       "      <td>5</td>\n",
       "    </tr>\n",
       "  </tbody>\n",
       "</table>\n",
       "</div>"
      ],
      "text/plain": [
       "   0  1  2\n",
       "b  3  4  5"
      ]
     },
     "execution_count": 61,
     "metadata": {},
     "output_type": "execute_result"
    }
   ],
   "source": [
    "df[1:][0:]"
   ]
  },
  {
   "cell_type": "markdown",
   "metadata": {},
   "source": [
    "### 通过二维数组创建DataFrame"
   ]
  },
  {
   "cell_type": "code",
   "execution_count": 62,
   "metadata": {
    "collapsed": true
   },
   "outputs": [],
   "source": [
    "arr=np.array([['Tom',76],['Jane',45],['Merry',100]])"
   ]
  },
  {
   "cell_type": "code",
   "execution_count": 63,
   "metadata": {
    "collapsed": true
   },
   "outputs": [],
   "source": [
    "df3=DataFrame(arr,columns=['name','score'])"
   ]
  },
  {
   "cell_type": "code",
   "execution_count": 64,
   "metadata": {},
   "outputs": [
    {
     "data": {
      "text/html": [
       "<div>\n",
       "<style>\n",
       "    .dataframe thead tr:only-child th {\n",
       "        text-align: right;\n",
       "    }\n",
       "\n",
       "    .dataframe thead th {\n",
       "        text-align: left;\n",
       "    }\n",
       "\n",
       "    .dataframe tbody tr th {\n",
       "        vertical-align: top;\n",
       "    }\n",
       "</style>\n",
       "<table border=\"1\" class=\"dataframe\">\n",
       "  <thead>\n",
       "    <tr style=\"text-align: right;\">\n",
       "      <th></th>\n",
       "      <th>name</th>\n",
       "      <th>score</th>\n",
       "    </tr>\n",
       "  </thead>\n",
       "  <tbody>\n",
       "    <tr>\n",
       "      <th>0</th>\n",
       "      <td>Tom</td>\n",
       "      <td>76</td>\n",
       "    </tr>\n",
       "    <tr>\n",
       "      <th>1</th>\n",
       "      <td>Jane</td>\n",
       "      <td>45</td>\n",
       "    </tr>\n",
       "    <tr>\n",
       "      <th>2</th>\n",
       "      <td>Merry</td>\n",
       "      <td>100</td>\n",
       "    </tr>\n",
       "  </tbody>\n",
       "</table>\n",
       "</div>"
      ],
      "text/plain": [
       "    name score\n",
       "0    Tom    76\n",
       "1   Jane    45\n",
       "2  Merry   100"
      ]
     },
     "execution_count": 64,
     "metadata": {},
     "output_type": "execute_result"
    }
   ],
   "source": [
    "df3"
   ]
  },
  {
   "cell_type": "code",
   "execution_count": 65,
   "metadata": {
    "collapsed": true
   },
   "outputs": [],
   "source": [
    "df4=DataFrame(arr,index=['one','two','three'],columns=['name','score'])"
   ]
  },
  {
   "cell_type": "code",
   "execution_count": 66,
   "metadata": {},
   "outputs": [
    {
     "data": {
      "text/html": [
       "<div>\n",
       "<style>\n",
       "    .dataframe thead tr:only-child th {\n",
       "        text-align: right;\n",
       "    }\n",
       "\n",
       "    .dataframe thead th {\n",
       "        text-align: left;\n",
       "    }\n",
       "\n",
       "    .dataframe tbody tr th {\n",
       "        vertical-align: top;\n",
       "    }\n",
       "</style>\n",
       "<table border=\"1\" class=\"dataframe\">\n",
       "  <thead>\n",
       "    <tr style=\"text-align: right;\">\n",
       "      <th></th>\n",
       "      <th>name</th>\n",
       "      <th>score</th>\n",
       "    </tr>\n",
       "  </thead>\n",
       "  <tbody>\n",
       "    <tr>\n",
       "      <th>one</th>\n",
       "      <td>Tom</td>\n",
       "      <td>76</td>\n",
       "    </tr>\n",
       "    <tr>\n",
       "      <th>two</th>\n",
       "      <td>Jane</td>\n",
       "      <td>45</td>\n",
       "    </tr>\n",
       "    <tr>\n",
       "      <th>three</th>\n",
       "      <td>Merry</td>\n",
       "      <td>100</td>\n",
       "    </tr>\n",
       "  </tbody>\n",
       "</table>\n",
       "</div>"
      ],
      "text/plain": [
       "        name score\n",
       "one      Tom    76\n",
       "two     Jane    45\n",
       "three  Merry   100"
      ]
     },
     "execution_count": 66,
     "metadata": {},
     "output_type": "execute_result"
    }
   ],
   "source": [
    "df4"
   ]
  },
  {
   "cell_type": "markdown",
   "metadata": {},
   "source": [
    "### 通过字典创建DataFrame"
   ]
  },
  {
   "cell_type": "code",
   "execution_count": 67,
   "metadata": {
    "collapsed": true
   },
   "outputs": [],
   "source": [
    "data={'apart':[1001,1002,1004,1003],\n",
    "     'profile':[1000,2000,1500,3500],\n",
    "     'year':[2010,2011,2012,2013]}"
   ]
  },
  {
   "cell_type": "code",
   "execution_count": 68,
   "metadata": {
    "collapsed": true
   },
   "outputs": [],
   "source": [
    "df5=DataFrame(data)"
   ]
  },
  {
   "cell_type": "code",
   "execution_count": 69,
   "metadata": {},
   "outputs": [
    {
     "data": {
      "text/html": [
       "<div>\n",
       "<style>\n",
       "    .dataframe thead tr:only-child th {\n",
       "        text-align: right;\n",
       "    }\n",
       "\n",
       "    .dataframe thead th {\n",
       "        text-align: left;\n",
       "    }\n",
       "\n",
       "    .dataframe tbody tr th {\n",
       "        vertical-align: top;\n",
       "    }\n",
       "</style>\n",
       "<table border=\"1\" class=\"dataframe\">\n",
       "  <thead>\n",
       "    <tr style=\"text-align: right;\">\n",
       "      <th></th>\n",
       "      <th>apart</th>\n",
       "      <th>profile</th>\n",
       "      <th>year</th>\n",
       "    </tr>\n",
       "  </thead>\n",
       "  <tbody>\n",
       "    <tr>\n",
       "      <th>0</th>\n",
       "      <td>1001</td>\n",
       "      <td>1000</td>\n",
       "      <td>2010</td>\n",
       "    </tr>\n",
       "    <tr>\n",
       "      <th>1</th>\n",
       "      <td>1002</td>\n",
       "      <td>2000</td>\n",
       "      <td>2011</td>\n",
       "    </tr>\n",
       "    <tr>\n",
       "      <th>2</th>\n",
       "      <td>1004</td>\n",
       "      <td>1500</td>\n",
       "      <td>2012</td>\n",
       "    </tr>\n",
       "    <tr>\n",
       "      <th>3</th>\n",
       "      <td>1003</td>\n",
       "      <td>3500</td>\n",
       "      <td>2013</td>\n",
       "    </tr>\n",
       "  </tbody>\n",
       "</table>\n",
       "</div>"
      ],
      "text/plain": [
       "   apart  profile  year\n",
       "0   1001     1000  2010\n",
       "1   1002     2000  2011\n",
       "2   1004     1500  2012\n",
       "3   1003     3500  2013"
      ]
     },
     "execution_count": 69,
     "metadata": {},
     "output_type": "execute_result"
    }
   ],
   "source": [
    "df5"
   ]
  },
  {
   "cell_type": "code",
   "execution_count": 70,
   "metadata": {},
   "outputs": [
    {
     "data": {
      "text/plain": [
       "RangeIndex(start=0, stop=4, step=1)"
      ]
     },
     "execution_count": 70,
     "metadata": {},
     "output_type": "execute_result"
    }
   ],
   "source": [
    "df5.index"
   ]
  },
  {
   "cell_type": "code",
   "execution_count": 71,
   "metadata": {},
   "outputs": [
    {
     "data": {
      "text/plain": [
       "Index([u'apart', u'profile', u'year'], dtype='object')"
      ]
     },
     "execution_count": 71,
     "metadata": {},
     "output_type": "execute_result"
    }
   ],
   "source": [
    "df5.columns"
   ]
  },
  {
   "cell_type": "code",
   "execution_count": 72,
   "metadata": {},
   "outputs": [
    {
     "data": {
      "text/plain": [
       "array([[1001, 1000, 2010],\n",
       "       [1002, 2000, 2011],\n",
       "       [1004, 1500, 2012],\n",
       "       [1003, 3500, 2013]], dtype=int64)"
      ]
     },
     "execution_count": 72,
     "metadata": {},
     "output_type": "execute_result"
    }
   ],
   "source": [
    "df5.values"
   ]
  },
  {
   "cell_type": "code",
   "execution_count": 73,
   "metadata": {
    "collapsed": true
   },
   "outputs": [],
   "source": [
    "df6=DataFrame(data,index=['one','two','three','four'])"
   ]
  },
  {
   "cell_type": "code",
   "execution_count": 74,
   "metadata": {},
   "outputs": [
    {
     "data": {
      "text/html": [
       "<div>\n",
       "<style>\n",
       "    .dataframe thead tr:only-child th {\n",
       "        text-align: right;\n",
       "    }\n",
       "\n",
       "    .dataframe thead th {\n",
       "        text-align: left;\n",
       "    }\n",
       "\n",
       "    .dataframe tbody tr th {\n",
       "        vertical-align: top;\n",
       "    }\n",
       "</style>\n",
       "<table border=\"1\" class=\"dataframe\">\n",
       "  <thead>\n",
       "    <tr style=\"text-align: right;\">\n",
       "      <th></th>\n",
       "      <th>apart</th>\n",
       "      <th>profile</th>\n",
       "      <th>year</th>\n",
       "    </tr>\n",
       "  </thead>\n",
       "  <tbody>\n",
       "    <tr>\n",
       "      <th>one</th>\n",
       "      <td>1001</td>\n",
       "      <td>1000</td>\n",
       "      <td>2010</td>\n",
       "    </tr>\n",
       "    <tr>\n",
       "      <th>two</th>\n",
       "      <td>1002</td>\n",
       "      <td>2000</td>\n",
       "      <td>2011</td>\n",
       "    </tr>\n",
       "    <tr>\n",
       "      <th>three</th>\n",
       "      <td>1004</td>\n",
       "      <td>1500</td>\n",
       "      <td>2012</td>\n",
       "    </tr>\n",
       "    <tr>\n",
       "      <th>four</th>\n",
       "      <td>1003</td>\n",
       "      <td>3500</td>\n",
       "      <td>2013</td>\n",
       "    </tr>\n",
       "  </tbody>\n",
       "</table>\n",
       "</div>"
      ],
      "text/plain": [
       "       apart  profile  year\n",
       "one     1001     1000  2010\n",
       "two     1002     2000  2011\n",
       "three   1004     1500  2012\n",
       "four    1003     3500  2013"
      ]
     },
     "execution_count": 74,
     "metadata": {},
     "output_type": "execute_result"
    }
   ],
   "source": [
    "df6"
   ]
  },
  {
   "cell_type": "code",
   "execution_count": 75,
   "metadata": {},
   "outputs": [
    {
     "data": {
      "text/plain": [
       "Index([u'one', u'two', u'three', u'four'], dtype='object')"
      ]
     },
     "execution_count": 75,
     "metadata": {},
     "output_type": "execute_result"
    }
   ],
   "source": [
    "df6.index"
   ]
  },
  {
   "cell_type": "code",
   "execution_count": 76,
   "metadata": {
    "collapsed": true
   },
   "outputs": [],
   "source": [
    "dict={'C++':[50,50,20],'JAVA':[20,30,40],'python':[10,20,30]}"
   ]
  },
  {
   "cell_type": "code",
   "execution_count": 77,
   "metadata": {
    "collapsed": true
   },
   "outputs": [],
   "source": [
    "s1=DataFrame(dict)"
   ]
  },
  {
   "cell_type": "code",
   "execution_count": 78,
   "metadata": {},
   "outputs": [
    {
     "data": {
      "text/html": [
       "<div>\n",
       "<style>\n",
       "    .dataframe thead tr:only-child th {\n",
       "        text-align: right;\n",
       "    }\n",
       "\n",
       "    .dataframe thead th {\n",
       "        text-align: left;\n",
       "    }\n",
       "\n",
       "    .dataframe tbody tr th {\n",
       "        vertical-align: top;\n",
       "    }\n",
       "</style>\n",
       "<table border=\"1\" class=\"dataframe\">\n",
       "  <thead>\n",
       "    <tr style=\"text-align: right;\">\n",
       "      <th></th>\n",
       "      <th>C++</th>\n",
       "      <th>JAVA</th>\n",
       "      <th>python</th>\n",
       "    </tr>\n",
       "  </thead>\n",
       "  <tbody>\n",
       "    <tr>\n",
       "      <th>0</th>\n",
       "      <td>50</td>\n",
       "      <td>20</td>\n",
       "      <td>10</td>\n",
       "    </tr>\n",
       "    <tr>\n",
       "      <th>1</th>\n",
       "      <td>50</td>\n",
       "      <td>30</td>\n",
       "      <td>20</td>\n",
       "    </tr>\n",
       "    <tr>\n",
       "      <th>2</th>\n",
       "      <td>20</td>\n",
       "      <td>40</td>\n",
       "      <td>30</td>\n",
       "    </tr>\n",
       "  </tbody>\n",
       "</table>\n",
       "</div>"
      ],
      "text/plain": [
       "   C++  JAVA  python\n",
       "0   50    20      10\n",
       "1   50    30      20\n",
       "2   20    40      30"
      ]
     },
     "execution_count": 78,
     "metadata": {},
     "output_type": "execute_result"
    }
   ],
   "source": [
    "s1"
   ]
  },
  {
   "cell_type": "code",
   "execution_count": 79,
   "metadata": {
    "collapsed": true
   },
   "outputs": [],
   "source": [
    "s1.index=[2,3,4]"
   ]
  },
  {
   "cell_type": "code",
   "execution_count": 80,
   "metadata": {
    "collapsed": true
   },
   "outputs": [],
   "source": [
    "s1.columns=['Java','C++','Vb']"
   ]
  },
  {
   "cell_type": "code",
   "execution_count": 81,
   "metadata": {},
   "outputs": [
    {
     "data": {
      "text/html": [
       "<div>\n",
       "<style>\n",
       "    .dataframe thead tr:only-child th {\n",
       "        text-align: right;\n",
       "    }\n",
       "\n",
       "    .dataframe thead th {\n",
       "        text-align: left;\n",
       "    }\n",
       "\n",
       "    .dataframe tbody tr th {\n",
       "        vertical-align: top;\n",
       "    }\n",
       "</style>\n",
       "<table border=\"1\" class=\"dataframe\">\n",
       "  <thead>\n",
       "    <tr style=\"text-align: right;\">\n",
       "      <th></th>\n",
       "      <th>Java</th>\n",
       "      <th>C++</th>\n",
       "      <th>Vb</th>\n",
       "    </tr>\n",
       "  </thead>\n",
       "  <tbody>\n",
       "    <tr>\n",
       "      <th>2</th>\n",
       "      <td>50</td>\n",
       "      <td>20</td>\n",
       "      <td>10</td>\n",
       "    </tr>\n",
       "    <tr>\n",
       "      <th>3</th>\n",
       "      <td>50</td>\n",
       "      <td>30</td>\n",
       "      <td>20</td>\n",
       "    </tr>\n",
       "    <tr>\n",
       "      <th>4</th>\n",
       "      <td>20</td>\n",
       "      <td>40</td>\n",
       "      <td>30</td>\n",
       "    </tr>\n",
       "  </tbody>\n",
       "</table>\n",
       "</div>"
      ],
      "text/plain": [
       "   Java  C++  Vb\n",
       "2    50   20  10\n",
       "3    50   30  20\n",
       "4    20   40  30"
      ]
     },
     "execution_count": 81,
     "metadata": {},
     "output_type": "execute_result"
    }
   ],
   "source": [
    "s1"
   ]
  },
  {
   "cell_type": "code",
   "execution_count": 82,
   "metadata": {
    "collapsed": true
   },
   "outputs": [],
   "source": [
    "s1['C++']=np.NaN"
   ]
  },
  {
   "cell_type": "code",
   "execution_count": 83,
   "metadata": {},
   "outputs": [
    {
     "data": {
      "text/html": [
       "<div>\n",
       "<style>\n",
       "    .dataframe thead tr:only-child th {\n",
       "        text-align: right;\n",
       "    }\n",
       "\n",
       "    .dataframe thead th {\n",
       "        text-align: left;\n",
       "    }\n",
       "\n",
       "    .dataframe tbody tr th {\n",
       "        vertical-align: top;\n",
       "    }\n",
       "</style>\n",
       "<table border=\"1\" class=\"dataframe\">\n",
       "  <thead>\n",
       "    <tr style=\"text-align: right;\">\n",
       "      <th></th>\n",
       "      <th>Java</th>\n",
       "      <th>C++</th>\n",
       "      <th>Vb</th>\n",
       "    </tr>\n",
       "  </thead>\n",
       "  <tbody>\n",
       "    <tr>\n",
       "      <th>2</th>\n",
       "      <td>50</td>\n",
       "      <td>NaN</td>\n",
       "      <td>10</td>\n",
       "    </tr>\n",
       "    <tr>\n",
       "      <th>3</th>\n",
       "      <td>50</td>\n",
       "      <td>NaN</td>\n",
       "      <td>20</td>\n",
       "    </tr>\n",
       "    <tr>\n",
       "      <th>4</th>\n",
       "      <td>20</td>\n",
       "      <td>NaN</td>\n",
       "      <td>30</td>\n",
       "    </tr>\n",
       "  </tbody>\n",
       "</table>\n",
       "</div>"
      ],
      "text/plain": [
       "   Java  C++  Vb\n",
       "2    50  NaN  10\n",
       "3    50  NaN  20\n",
       "4    20  NaN  30"
      ]
     },
     "execution_count": 83,
     "metadata": {},
     "output_type": "execute_result"
    }
   ],
   "source": [
    "s1"
   ]
  },
  {
   "cell_type": "code",
   "execution_count": 84,
   "metadata": {
    "collapsed": true
   },
   "outputs": [],
   "source": [
    "n1=np.random.random((20,6))"
   ]
  },
  {
   "cell_type": "code",
   "execution_count": 85,
   "metadata": {
    "collapsed": true
   },
   "outputs": [],
   "source": [
    "s2=DataFrame(n1)"
   ]
  },
  {
   "cell_type": "code",
   "execution_count": 86,
   "metadata": {},
   "outputs": [
    {
     "data": {
      "text/html": [
       "<div>\n",
       "<style>\n",
       "    .dataframe thead tr:only-child th {\n",
       "        text-align: right;\n",
       "    }\n",
       "\n",
       "    .dataframe thead th {\n",
       "        text-align: left;\n",
       "    }\n",
       "\n",
       "    .dataframe tbody tr th {\n",
       "        vertical-align: top;\n",
       "    }\n",
       "</style>\n",
       "<table border=\"1\" class=\"dataframe\">\n",
       "  <thead>\n",
       "    <tr style=\"text-align: right;\">\n",
       "      <th></th>\n",
       "      <th>0</th>\n",
       "      <th>1</th>\n",
       "      <th>2</th>\n",
       "      <th>3</th>\n",
       "      <th>4</th>\n",
       "      <th>5</th>\n",
       "    </tr>\n",
       "  </thead>\n",
       "  <tbody>\n",
       "    <tr>\n",
       "      <th>0</th>\n",
       "      <td>0.130861</td>\n",
       "      <td>0.608967</td>\n",
       "      <td>0.354778</td>\n",
       "      <td>0.444175</td>\n",
       "      <td>0.897828</td>\n",
       "      <td>0.864571</td>\n",
       "    </tr>\n",
       "    <tr>\n",
       "      <th>1</th>\n",
       "      <td>0.909209</td>\n",
       "      <td>0.451438</td>\n",
       "      <td>0.870167</td>\n",
       "      <td>0.256350</td>\n",
       "      <td>0.762493</td>\n",
       "      <td>0.508872</td>\n",
       "    </tr>\n",
       "    <tr>\n",
       "      <th>2</th>\n",
       "      <td>0.574966</td>\n",
       "      <td>0.700153</td>\n",
       "      <td>0.743195</td>\n",
       "      <td>0.194658</td>\n",
       "      <td>0.145866</td>\n",
       "      <td>0.053272</td>\n",
       "    </tr>\n",
       "    <tr>\n",
       "      <th>3</th>\n",
       "      <td>0.962317</td>\n",
       "      <td>0.846010</td>\n",
       "      <td>0.264511</td>\n",
       "      <td>0.612034</td>\n",
       "      <td>0.397991</td>\n",
       "      <td>0.438498</td>\n",
       "    </tr>\n",
       "    <tr>\n",
       "      <th>4</th>\n",
       "      <td>0.852607</td>\n",
       "      <td>0.280385</td>\n",
       "      <td>0.285077</td>\n",
       "      <td>0.836417</td>\n",
       "      <td>0.098982</td>\n",
       "      <td>0.179859</td>\n",
       "    </tr>\n",
       "    <tr>\n",
       "      <th>5</th>\n",
       "      <td>0.915303</td>\n",
       "      <td>0.999453</td>\n",
       "      <td>0.207615</td>\n",
       "      <td>0.812667</td>\n",
       "      <td>0.445971</td>\n",
       "      <td>0.898004</td>\n",
       "    </tr>\n",
       "    <tr>\n",
       "      <th>6</th>\n",
       "      <td>0.578720</td>\n",
       "      <td>0.875084</td>\n",
       "      <td>0.916643</td>\n",
       "      <td>0.639012</td>\n",
       "      <td>0.842631</td>\n",
       "      <td>0.939124</td>\n",
       "    </tr>\n",
       "    <tr>\n",
       "      <th>7</th>\n",
       "      <td>0.084235</td>\n",
       "      <td>0.538655</td>\n",
       "      <td>0.575204</td>\n",
       "      <td>0.723118</td>\n",
       "      <td>0.592949</td>\n",
       "      <td>0.285705</td>\n",
       "    </tr>\n",
       "    <tr>\n",
       "      <th>8</th>\n",
       "      <td>0.203978</td>\n",
       "      <td>0.446714</td>\n",
       "      <td>0.446219</td>\n",
       "      <td>0.572212</td>\n",
       "      <td>0.829765</td>\n",
       "      <td>0.396672</td>\n",
       "    </tr>\n",
       "    <tr>\n",
       "      <th>9</th>\n",
       "      <td>0.821850</td>\n",
       "      <td>0.327375</td>\n",
       "      <td>0.516201</td>\n",
       "      <td>0.213658</td>\n",
       "      <td>0.383463</td>\n",
       "      <td>0.857646</td>\n",
       "    </tr>\n",
       "    <tr>\n",
       "      <th>10</th>\n",
       "      <td>0.345244</td>\n",
       "      <td>0.182446</td>\n",
       "      <td>0.726670</td>\n",
       "      <td>0.101198</td>\n",
       "      <td>0.690100</td>\n",
       "      <td>0.714393</td>\n",
       "    </tr>\n",
       "    <tr>\n",
       "      <th>11</th>\n",
       "      <td>0.263081</td>\n",
       "      <td>0.278974</td>\n",
       "      <td>0.178218</td>\n",
       "      <td>0.228060</td>\n",
       "      <td>0.344035</td>\n",
       "      <td>0.229634</td>\n",
       "    </tr>\n",
       "    <tr>\n",
       "      <th>12</th>\n",
       "      <td>0.317022</td>\n",
       "      <td>0.192998</td>\n",
       "      <td>0.131538</td>\n",
       "      <td>0.404393</td>\n",
       "      <td>0.022856</td>\n",
       "      <td>0.173138</td>\n",
       "    </tr>\n",
       "    <tr>\n",
       "      <th>13</th>\n",
       "      <td>0.629659</td>\n",
       "      <td>0.772618</td>\n",
       "      <td>0.444650</td>\n",
       "      <td>0.215106</td>\n",
       "      <td>0.376171</td>\n",
       "      <td>0.446415</td>\n",
       "    </tr>\n",
       "    <tr>\n",
       "      <th>14</th>\n",
       "      <td>0.450455</td>\n",
       "      <td>0.531053</td>\n",
       "      <td>0.781466</td>\n",
       "      <td>0.610038</td>\n",
       "      <td>0.686281</td>\n",
       "      <td>0.183996</td>\n",
       "    </tr>\n",
       "    <tr>\n",
       "      <th>15</th>\n",
       "      <td>0.833681</td>\n",
       "      <td>0.083870</td>\n",
       "      <td>0.587713</td>\n",
       "      <td>0.840232</td>\n",
       "      <td>0.235971</td>\n",
       "      <td>0.259118</td>\n",
       "    </tr>\n",
       "    <tr>\n",
       "      <th>16</th>\n",
       "      <td>0.760720</td>\n",
       "      <td>0.927923</td>\n",
       "      <td>0.042855</td>\n",
       "      <td>0.475825</td>\n",
       "      <td>0.812414</td>\n",
       "      <td>0.617177</td>\n",
       "    </tr>\n",
       "    <tr>\n",
       "      <th>17</th>\n",
       "      <td>0.185196</td>\n",
       "      <td>0.328657</td>\n",
       "      <td>0.309027</td>\n",
       "      <td>0.208122</td>\n",
       "      <td>0.614992</td>\n",
       "      <td>0.892151</td>\n",
       "    </tr>\n",
       "    <tr>\n",
       "      <th>18</th>\n",
       "      <td>0.036514</td>\n",
       "      <td>0.123135</td>\n",
       "      <td>0.403208</td>\n",
       "      <td>0.032190</td>\n",
       "      <td>0.166991</td>\n",
       "      <td>0.081775</td>\n",
       "    </tr>\n",
       "    <tr>\n",
       "      <th>19</th>\n",
       "      <td>0.825121</td>\n",
       "      <td>0.849261</td>\n",
       "      <td>0.505440</td>\n",
       "      <td>0.298830</td>\n",
       "      <td>0.040016</td>\n",
       "      <td>0.630253</td>\n",
       "    </tr>\n",
       "  </tbody>\n",
       "</table>\n",
       "</div>"
      ],
      "text/plain": [
       "           0         1         2         3         4         5\n",
       "0   0.130861  0.608967  0.354778  0.444175  0.897828  0.864571\n",
       "1   0.909209  0.451438  0.870167  0.256350  0.762493  0.508872\n",
       "2   0.574966  0.700153  0.743195  0.194658  0.145866  0.053272\n",
       "3   0.962317  0.846010  0.264511  0.612034  0.397991  0.438498\n",
       "4   0.852607  0.280385  0.285077  0.836417  0.098982  0.179859\n",
       "5   0.915303  0.999453  0.207615  0.812667  0.445971  0.898004\n",
       "6   0.578720  0.875084  0.916643  0.639012  0.842631  0.939124\n",
       "7   0.084235  0.538655  0.575204  0.723118  0.592949  0.285705\n",
       "8   0.203978  0.446714  0.446219  0.572212  0.829765  0.396672\n",
       "9   0.821850  0.327375  0.516201  0.213658  0.383463  0.857646\n",
       "10  0.345244  0.182446  0.726670  0.101198  0.690100  0.714393\n",
       "11  0.263081  0.278974  0.178218  0.228060  0.344035  0.229634\n",
       "12  0.317022  0.192998  0.131538  0.404393  0.022856  0.173138\n",
       "13  0.629659  0.772618  0.444650  0.215106  0.376171  0.446415\n",
       "14  0.450455  0.531053  0.781466  0.610038  0.686281  0.183996\n",
       "15  0.833681  0.083870  0.587713  0.840232  0.235971  0.259118\n",
       "16  0.760720  0.927923  0.042855  0.475825  0.812414  0.617177\n",
       "17  0.185196  0.328657  0.309027  0.208122  0.614992  0.892151\n",
       "18  0.036514  0.123135  0.403208  0.032190  0.166991  0.081775\n",
       "19  0.825121  0.849261  0.505440  0.298830  0.040016  0.630253"
      ]
     },
     "execution_count": 86,
     "metadata": {},
     "output_type": "execute_result"
    }
   ],
   "source": [
    "s2"
   ]
  },
  {
   "cell_type": "code",
   "execution_count": 87,
   "metadata": {},
   "outputs": [
    {
     "data": {
      "text/html": [
       "<div>\n",
       "<style>\n",
       "    .dataframe thead tr:only-child th {\n",
       "        text-align: right;\n",
       "    }\n",
       "\n",
       "    .dataframe thead th {\n",
       "        text-align: left;\n",
       "    }\n",
       "\n",
       "    .dataframe tbody tr th {\n",
       "        vertical-align: top;\n",
       "    }\n",
       "</style>\n",
       "<table border=\"1\" class=\"dataframe\">\n",
       "  <thead>\n",
       "    <tr style=\"text-align: right;\">\n",
       "      <th></th>\n",
       "      <th>0</th>\n",
       "      <th>1</th>\n",
       "      <th>2</th>\n",
       "      <th>3</th>\n",
       "      <th>4</th>\n",
       "      <th>5</th>\n",
       "    </tr>\n",
       "  </thead>\n",
       "  <tbody>\n",
       "    <tr>\n",
       "      <th>0</th>\n",
       "      <td>0.130861</td>\n",
       "      <td>0.608967</td>\n",
       "      <td>0.354778</td>\n",
       "      <td>0.444175</td>\n",
       "      <td>0.897828</td>\n",
       "      <td>0.864571</td>\n",
       "    </tr>\n",
       "    <tr>\n",
       "      <th>1</th>\n",
       "      <td>0.909209</td>\n",
       "      <td>0.451438</td>\n",
       "      <td>0.870167</td>\n",
       "      <td>0.256350</td>\n",
       "      <td>0.762493</td>\n",
       "      <td>0.508872</td>\n",
       "    </tr>\n",
       "    <tr>\n",
       "      <th>2</th>\n",
       "      <td>0.574966</td>\n",
       "      <td>0.700153</td>\n",
       "      <td>0.743195</td>\n",
       "      <td>0.194658</td>\n",
       "      <td>0.145866</td>\n",
       "      <td>0.053272</td>\n",
       "    </tr>\n",
       "    <tr>\n",
       "      <th>3</th>\n",
       "      <td>0.962317</td>\n",
       "      <td>0.846010</td>\n",
       "      <td>0.264511</td>\n",
       "      <td>0.612034</td>\n",
       "      <td>0.397991</td>\n",
       "      <td>0.438498</td>\n",
       "    </tr>\n",
       "    <tr>\n",
       "      <th>4</th>\n",
       "      <td>0.852607</td>\n",
       "      <td>0.280385</td>\n",
       "      <td>0.285077</td>\n",
       "      <td>0.836417</td>\n",
       "      <td>0.098982</td>\n",
       "      <td>0.179859</td>\n",
       "    </tr>\n",
       "  </tbody>\n",
       "</table>\n",
       "</div>"
      ],
      "text/plain": [
       "          0         1         2         3         4         5\n",
       "0  0.130861  0.608967  0.354778  0.444175  0.897828  0.864571\n",
       "1  0.909209  0.451438  0.870167  0.256350  0.762493  0.508872\n",
       "2  0.574966  0.700153  0.743195  0.194658  0.145866  0.053272\n",
       "3  0.962317  0.846010  0.264511  0.612034  0.397991  0.438498\n",
       "4  0.852607  0.280385  0.285077  0.836417  0.098982  0.179859"
      ]
     },
     "execution_count": 87,
     "metadata": {},
     "output_type": "execute_result"
    }
   ],
   "source": [
    "s2.head()   #默认为前5行数据，可以自定义显示行数"
   ]
  },
  {
   "cell_type": "code",
   "execution_count": 88,
   "metadata": {},
   "outputs": [
    {
     "data": {
      "text/html": [
       "<div>\n",
       "<style>\n",
       "    .dataframe thead tr:only-child th {\n",
       "        text-align: right;\n",
       "    }\n",
       "\n",
       "    .dataframe thead th {\n",
       "        text-align: left;\n",
       "    }\n",
       "\n",
       "    .dataframe tbody tr th {\n",
       "        vertical-align: top;\n",
       "    }\n",
       "</style>\n",
       "<table border=\"1\" class=\"dataframe\">\n",
       "  <thead>\n",
       "    <tr style=\"text-align: right;\">\n",
       "      <th></th>\n",
       "      <th>0</th>\n",
       "      <th>1</th>\n",
       "      <th>2</th>\n",
       "      <th>3</th>\n",
       "      <th>4</th>\n",
       "      <th>5</th>\n",
       "    </tr>\n",
       "  </thead>\n",
       "  <tbody>\n",
       "    <tr>\n",
       "      <th>15</th>\n",
       "      <td>0.833681</td>\n",
       "      <td>0.083870</td>\n",
       "      <td>0.587713</td>\n",
       "      <td>0.840232</td>\n",
       "      <td>0.235971</td>\n",
       "      <td>0.259118</td>\n",
       "    </tr>\n",
       "    <tr>\n",
       "      <th>16</th>\n",
       "      <td>0.760720</td>\n",
       "      <td>0.927923</td>\n",
       "      <td>0.042855</td>\n",
       "      <td>0.475825</td>\n",
       "      <td>0.812414</td>\n",
       "      <td>0.617177</td>\n",
       "    </tr>\n",
       "    <tr>\n",
       "      <th>17</th>\n",
       "      <td>0.185196</td>\n",
       "      <td>0.328657</td>\n",
       "      <td>0.309027</td>\n",
       "      <td>0.208122</td>\n",
       "      <td>0.614992</td>\n",
       "      <td>0.892151</td>\n",
       "    </tr>\n",
       "    <tr>\n",
       "      <th>18</th>\n",
       "      <td>0.036514</td>\n",
       "      <td>0.123135</td>\n",
       "      <td>0.403208</td>\n",
       "      <td>0.032190</td>\n",
       "      <td>0.166991</td>\n",
       "      <td>0.081775</td>\n",
       "    </tr>\n",
       "    <tr>\n",
       "      <th>19</th>\n",
       "      <td>0.825121</td>\n",
       "      <td>0.849261</td>\n",
       "      <td>0.505440</td>\n",
       "      <td>0.298830</td>\n",
       "      <td>0.040016</td>\n",
       "      <td>0.630253</td>\n",
       "    </tr>\n",
       "  </tbody>\n",
       "</table>\n",
       "</div>"
      ],
      "text/plain": [
       "           0         1         2         3         4         5\n",
       "15  0.833681  0.083870  0.587713  0.840232  0.235971  0.259118\n",
       "16  0.760720  0.927923  0.042855  0.475825  0.812414  0.617177\n",
       "17  0.185196  0.328657  0.309027  0.208122  0.614992  0.892151\n",
       "18  0.036514  0.123135  0.403208  0.032190  0.166991  0.081775\n",
       "19  0.825121  0.849261  0.505440  0.298830  0.040016  0.630253"
      ]
     },
     "execution_count": 88,
     "metadata": {},
     "output_type": "execute_result"
    }
   ],
   "source": [
    "s2.tail()  #默认为后5行，可自定义显示行数"
   ]
  },
  {
   "cell_type": "code",
   "execution_count": 89,
   "metadata": {},
   "outputs": [
    {
     "data": {
      "text/html": [
       "<div>\n",
       "<style>\n",
       "    .dataframe thead tr:only-child th {\n",
       "        text-align: right;\n",
       "    }\n",
       "\n",
       "    .dataframe thead th {\n",
       "        text-align: left;\n",
       "    }\n",
       "\n",
       "    .dataframe tbody tr th {\n",
       "        vertical-align: top;\n",
       "    }\n",
       "</style>\n",
       "<table border=\"1\" class=\"dataframe\">\n",
       "  <thead>\n",
       "    <tr style=\"text-align: right;\">\n",
       "      <th></th>\n",
       "      <th>0</th>\n",
       "      <th>1</th>\n",
       "      <th>2</th>\n",
       "      <th>3</th>\n",
       "      <th>4</th>\n",
       "      <th>5</th>\n",
       "    </tr>\n",
       "  </thead>\n",
       "  <tbody>\n",
       "    <tr>\n",
       "      <th>count</th>\n",
       "      <td>20.000000</td>\n",
       "      <td>20.000000</td>\n",
       "      <td>20.000000</td>\n",
       "      <td>20.000000</td>\n",
       "      <td>20.000000</td>\n",
       "      <td>20.000000</td>\n",
       "    </tr>\n",
       "    <tr>\n",
       "      <th>mean</th>\n",
       "      <td>0.534037</td>\n",
       "      <td>0.517258</td>\n",
       "      <td>0.464520</td>\n",
       "      <td>0.435915</td>\n",
       "      <td>0.469388</td>\n",
       "      <td>0.482514</td>\n",
       "    </tr>\n",
       "    <tr>\n",
       "      <th>std</th>\n",
       "      <td>0.316124</td>\n",
       "      <td>0.291046</td>\n",
       "      <td>0.251012</td>\n",
       "      <td>0.256457</td>\n",
       "      <td>0.289966</td>\n",
       "      <td>0.300395</td>\n",
       "    </tr>\n",
       "    <tr>\n",
       "      <th>min</th>\n",
       "      <td>0.036514</td>\n",
       "      <td>0.083870</td>\n",
       "      <td>0.042855</td>\n",
       "      <td>0.032190</td>\n",
       "      <td>0.022856</td>\n",
       "      <td>0.053272</td>\n",
       "    </tr>\n",
       "    <tr>\n",
       "      <th>25%</th>\n",
       "      <td>0.248305</td>\n",
       "      <td>0.280032</td>\n",
       "      <td>0.279936</td>\n",
       "      <td>0.214744</td>\n",
       "      <td>0.218726</td>\n",
       "      <td>0.218224</td>\n",
       "    </tr>\n",
       "    <tr>\n",
       "      <th>50%</th>\n",
       "      <td>0.576843</td>\n",
       "      <td>0.491245</td>\n",
       "      <td>0.445434</td>\n",
       "      <td>0.424284</td>\n",
       "      <td>0.421981</td>\n",
       "      <td>0.442456</td>\n",
       "    </tr>\n",
       "    <tr>\n",
       "      <th>75%</th>\n",
       "      <td>0.827261</td>\n",
       "      <td>0.790966</td>\n",
       "      <td>0.622452</td>\n",
       "      <td>0.618778</td>\n",
       "      <td>0.708198</td>\n",
       "      <td>0.750206</td>\n",
       "    </tr>\n",
       "    <tr>\n",
       "      <th>max</th>\n",
       "      <td>0.962317</td>\n",
       "      <td>0.999453</td>\n",
       "      <td>0.916643</td>\n",
       "      <td>0.840232</td>\n",
       "      <td>0.897828</td>\n",
       "      <td>0.939124</td>\n",
       "    </tr>\n",
       "  </tbody>\n",
       "</table>\n",
       "</div>"
      ],
      "text/plain": [
       "               0          1          2          3          4          5\n",
       "count  20.000000  20.000000  20.000000  20.000000  20.000000  20.000000\n",
       "mean    0.534037   0.517258   0.464520   0.435915   0.469388   0.482514\n",
       "std     0.316124   0.291046   0.251012   0.256457   0.289966   0.300395\n",
       "min     0.036514   0.083870   0.042855   0.032190   0.022856   0.053272\n",
       "25%     0.248305   0.280032   0.279936   0.214744   0.218726   0.218224\n",
       "50%     0.576843   0.491245   0.445434   0.424284   0.421981   0.442456\n",
       "75%     0.827261   0.790966   0.622452   0.618778   0.708198   0.750206\n",
       "max     0.962317   0.999453   0.916643   0.840232   0.897828   0.939124"
      ]
     },
     "execution_count": 89,
     "metadata": {},
     "output_type": "execute_result"
    }
   ],
   "source": [
    "s2.describe()"
   ]
  },
  {
   "cell_type": "markdown",
   "metadata": {},
   "source": [
    "### 按轴排序"
   ]
  },
  {
   "cell_type": "code",
   "execution_count": 90,
   "metadata": {
    "collapsed": true
   },
   "outputs": [],
   "source": [
    "s2.columns=['a','b','c','d','e','f']"
   ]
  },
  {
   "cell_type": "code",
   "execution_count": 91,
   "metadata": {},
   "outputs": [
    {
     "data": {
      "text/html": [
       "<div>\n",
       "<style>\n",
       "    .dataframe thead tr:only-child th {\n",
       "        text-align: right;\n",
       "    }\n",
       "\n",
       "    .dataframe thead th {\n",
       "        text-align: left;\n",
       "    }\n",
       "\n",
       "    .dataframe tbody tr th {\n",
       "        vertical-align: top;\n",
       "    }\n",
       "</style>\n",
       "<table border=\"1\" class=\"dataframe\">\n",
       "  <thead>\n",
       "    <tr style=\"text-align: right;\">\n",
       "      <th></th>\n",
       "      <th>a</th>\n",
       "      <th>b</th>\n",
       "      <th>c</th>\n",
       "      <th>d</th>\n",
       "      <th>e</th>\n",
       "      <th>f</th>\n",
       "    </tr>\n",
       "  </thead>\n",
       "  <tbody>\n",
       "    <tr>\n",
       "      <th>0</th>\n",
       "      <td>0.130861</td>\n",
       "      <td>0.608967</td>\n",
       "      <td>0.354778</td>\n",
       "      <td>0.444175</td>\n",
       "      <td>0.897828</td>\n",
       "      <td>0.864571</td>\n",
       "    </tr>\n",
       "    <tr>\n",
       "      <th>1</th>\n",
       "      <td>0.909209</td>\n",
       "      <td>0.451438</td>\n",
       "      <td>0.870167</td>\n",
       "      <td>0.256350</td>\n",
       "      <td>0.762493</td>\n",
       "      <td>0.508872</td>\n",
       "    </tr>\n",
       "    <tr>\n",
       "      <th>2</th>\n",
       "      <td>0.574966</td>\n",
       "      <td>0.700153</td>\n",
       "      <td>0.743195</td>\n",
       "      <td>0.194658</td>\n",
       "      <td>0.145866</td>\n",
       "      <td>0.053272</td>\n",
       "    </tr>\n",
       "    <tr>\n",
       "      <th>3</th>\n",
       "      <td>0.962317</td>\n",
       "      <td>0.846010</td>\n",
       "      <td>0.264511</td>\n",
       "      <td>0.612034</td>\n",
       "      <td>0.397991</td>\n",
       "      <td>0.438498</td>\n",
       "    </tr>\n",
       "    <tr>\n",
       "      <th>4</th>\n",
       "      <td>0.852607</td>\n",
       "      <td>0.280385</td>\n",
       "      <td>0.285077</td>\n",
       "      <td>0.836417</td>\n",
       "      <td>0.098982</td>\n",
       "      <td>0.179859</td>\n",
       "    </tr>\n",
       "    <tr>\n",
       "      <th>5</th>\n",
       "      <td>0.915303</td>\n",
       "      <td>0.999453</td>\n",
       "      <td>0.207615</td>\n",
       "      <td>0.812667</td>\n",
       "      <td>0.445971</td>\n",
       "      <td>0.898004</td>\n",
       "    </tr>\n",
       "    <tr>\n",
       "      <th>6</th>\n",
       "      <td>0.578720</td>\n",
       "      <td>0.875084</td>\n",
       "      <td>0.916643</td>\n",
       "      <td>0.639012</td>\n",
       "      <td>0.842631</td>\n",
       "      <td>0.939124</td>\n",
       "    </tr>\n",
       "    <tr>\n",
       "      <th>7</th>\n",
       "      <td>0.084235</td>\n",
       "      <td>0.538655</td>\n",
       "      <td>0.575204</td>\n",
       "      <td>0.723118</td>\n",
       "      <td>0.592949</td>\n",
       "      <td>0.285705</td>\n",
       "    </tr>\n",
       "    <tr>\n",
       "      <th>8</th>\n",
       "      <td>0.203978</td>\n",
       "      <td>0.446714</td>\n",
       "      <td>0.446219</td>\n",
       "      <td>0.572212</td>\n",
       "      <td>0.829765</td>\n",
       "      <td>0.396672</td>\n",
       "    </tr>\n",
       "    <tr>\n",
       "      <th>9</th>\n",
       "      <td>0.821850</td>\n",
       "      <td>0.327375</td>\n",
       "      <td>0.516201</td>\n",
       "      <td>0.213658</td>\n",
       "      <td>0.383463</td>\n",
       "      <td>0.857646</td>\n",
       "    </tr>\n",
       "    <tr>\n",
       "      <th>10</th>\n",
       "      <td>0.345244</td>\n",
       "      <td>0.182446</td>\n",
       "      <td>0.726670</td>\n",
       "      <td>0.101198</td>\n",
       "      <td>0.690100</td>\n",
       "      <td>0.714393</td>\n",
       "    </tr>\n",
       "    <tr>\n",
       "      <th>11</th>\n",
       "      <td>0.263081</td>\n",
       "      <td>0.278974</td>\n",
       "      <td>0.178218</td>\n",
       "      <td>0.228060</td>\n",
       "      <td>0.344035</td>\n",
       "      <td>0.229634</td>\n",
       "    </tr>\n",
       "    <tr>\n",
       "      <th>12</th>\n",
       "      <td>0.317022</td>\n",
       "      <td>0.192998</td>\n",
       "      <td>0.131538</td>\n",
       "      <td>0.404393</td>\n",
       "      <td>0.022856</td>\n",
       "      <td>0.173138</td>\n",
       "    </tr>\n",
       "    <tr>\n",
       "      <th>13</th>\n",
       "      <td>0.629659</td>\n",
       "      <td>0.772618</td>\n",
       "      <td>0.444650</td>\n",
       "      <td>0.215106</td>\n",
       "      <td>0.376171</td>\n",
       "      <td>0.446415</td>\n",
       "    </tr>\n",
       "    <tr>\n",
       "      <th>14</th>\n",
       "      <td>0.450455</td>\n",
       "      <td>0.531053</td>\n",
       "      <td>0.781466</td>\n",
       "      <td>0.610038</td>\n",
       "      <td>0.686281</td>\n",
       "      <td>0.183996</td>\n",
       "    </tr>\n",
       "    <tr>\n",
       "      <th>15</th>\n",
       "      <td>0.833681</td>\n",
       "      <td>0.083870</td>\n",
       "      <td>0.587713</td>\n",
       "      <td>0.840232</td>\n",
       "      <td>0.235971</td>\n",
       "      <td>0.259118</td>\n",
       "    </tr>\n",
       "    <tr>\n",
       "      <th>16</th>\n",
       "      <td>0.760720</td>\n",
       "      <td>0.927923</td>\n",
       "      <td>0.042855</td>\n",
       "      <td>0.475825</td>\n",
       "      <td>0.812414</td>\n",
       "      <td>0.617177</td>\n",
       "    </tr>\n",
       "    <tr>\n",
       "      <th>17</th>\n",
       "      <td>0.185196</td>\n",
       "      <td>0.328657</td>\n",
       "      <td>0.309027</td>\n",
       "      <td>0.208122</td>\n",
       "      <td>0.614992</td>\n",
       "      <td>0.892151</td>\n",
       "    </tr>\n",
       "    <tr>\n",
       "      <th>18</th>\n",
       "      <td>0.036514</td>\n",
       "      <td>0.123135</td>\n",
       "      <td>0.403208</td>\n",
       "      <td>0.032190</td>\n",
       "      <td>0.166991</td>\n",
       "      <td>0.081775</td>\n",
       "    </tr>\n",
       "    <tr>\n",
       "      <th>19</th>\n",
       "      <td>0.825121</td>\n",
       "      <td>0.849261</td>\n",
       "      <td>0.505440</td>\n",
       "      <td>0.298830</td>\n",
       "      <td>0.040016</td>\n",
       "      <td>0.630253</td>\n",
       "    </tr>\n",
       "  </tbody>\n",
       "</table>\n",
       "</div>"
      ],
      "text/plain": [
       "           a         b         c         d         e         f\n",
       "0   0.130861  0.608967  0.354778  0.444175  0.897828  0.864571\n",
       "1   0.909209  0.451438  0.870167  0.256350  0.762493  0.508872\n",
       "2   0.574966  0.700153  0.743195  0.194658  0.145866  0.053272\n",
       "3   0.962317  0.846010  0.264511  0.612034  0.397991  0.438498\n",
       "4   0.852607  0.280385  0.285077  0.836417  0.098982  0.179859\n",
       "5   0.915303  0.999453  0.207615  0.812667  0.445971  0.898004\n",
       "6   0.578720  0.875084  0.916643  0.639012  0.842631  0.939124\n",
       "7   0.084235  0.538655  0.575204  0.723118  0.592949  0.285705\n",
       "8   0.203978  0.446714  0.446219  0.572212  0.829765  0.396672\n",
       "9   0.821850  0.327375  0.516201  0.213658  0.383463  0.857646\n",
       "10  0.345244  0.182446  0.726670  0.101198  0.690100  0.714393\n",
       "11  0.263081  0.278974  0.178218  0.228060  0.344035  0.229634\n",
       "12  0.317022  0.192998  0.131538  0.404393  0.022856  0.173138\n",
       "13  0.629659  0.772618  0.444650  0.215106  0.376171  0.446415\n",
       "14  0.450455  0.531053  0.781466  0.610038  0.686281  0.183996\n",
       "15  0.833681  0.083870  0.587713  0.840232  0.235971  0.259118\n",
       "16  0.760720  0.927923  0.042855  0.475825  0.812414  0.617177\n",
       "17  0.185196  0.328657  0.309027  0.208122  0.614992  0.892151\n",
       "18  0.036514  0.123135  0.403208  0.032190  0.166991  0.081775\n",
       "19  0.825121  0.849261  0.505440  0.298830  0.040016  0.630253"
      ]
     },
     "execution_count": 91,
     "metadata": {},
     "output_type": "execute_result"
    }
   ],
   "source": [
    "s2"
   ]
  },
  {
   "cell_type": "code",
   "execution_count": 92,
   "metadata": {},
   "outputs": [
    {
     "data": {
      "text/html": [
       "<div>\n",
       "<style>\n",
       "    .dataframe thead tr:only-child th {\n",
       "        text-align: right;\n",
       "    }\n",
       "\n",
       "    .dataframe thead th {\n",
       "        text-align: left;\n",
       "    }\n",
       "\n",
       "    .dataframe tbody tr th {\n",
       "        vertical-align: top;\n",
       "    }\n",
       "</style>\n",
       "<table border=\"1\" class=\"dataframe\">\n",
       "  <thead>\n",
       "    <tr style=\"text-align: right;\">\n",
       "      <th></th>\n",
       "      <th>f</th>\n",
       "      <th>e</th>\n",
       "      <th>d</th>\n",
       "      <th>c</th>\n",
       "      <th>b</th>\n",
       "      <th>a</th>\n",
       "    </tr>\n",
       "  </thead>\n",
       "  <tbody>\n",
       "    <tr>\n",
       "      <th>0</th>\n",
       "      <td>0.864571</td>\n",
       "      <td>0.897828</td>\n",
       "      <td>0.444175</td>\n",
       "      <td>0.354778</td>\n",
       "      <td>0.608967</td>\n",
       "      <td>0.130861</td>\n",
       "    </tr>\n",
       "    <tr>\n",
       "      <th>1</th>\n",
       "      <td>0.508872</td>\n",
       "      <td>0.762493</td>\n",
       "      <td>0.256350</td>\n",
       "      <td>0.870167</td>\n",
       "      <td>0.451438</td>\n",
       "      <td>0.909209</td>\n",
       "    </tr>\n",
       "    <tr>\n",
       "      <th>2</th>\n",
       "      <td>0.053272</td>\n",
       "      <td>0.145866</td>\n",
       "      <td>0.194658</td>\n",
       "      <td>0.743195</td>\n",
       "      <td>0.700153</td>\n",
       "      <td>0.574966</td>\n",
       "    </tr>\n",
       "    <tr>\n",
       "      <th>3</th>\n",
       "      <td>0.438498</td>\n",
       "      <td>0.397991</td>\n",
       "      <td>0.612034</td>\n",
       "      <td>0.264511</td>\n",
       "      <td>0.846010</td>\n",
       "      <td>0.962317</td>\n",
       "    </tr>\n",
       "    <tr>\n",
       "      <th>4</th>\n",
       "      <td>0.179859</td>\n",
       "      <td>0.098982</td>\n",
       "      <td>0.836417</td>\n",
       "      <td>0.285077</td>\n",
       "      <td>0.280385</td>\n",
       "      <td>0.852607</td>\n",
       "    </tr>\n",
       "    <tr>\n",
       "      <th>5</th>\n",
       "      <td>0.898004</td>\n",
       "      <td>0.445971</td>\n",
       "      <td>0.812667</td>\n",
       "      <td>0.207615</td>\n",
       "      <td>0.999453</td>\n",
       "      <td>0.915303</td>\n",
       "    </tr>\n",
       "    <tr>\n",
       "      <th>6</th>\n",
       "      <td>0.939124</td>\n",
       "      <td>0.842631</td>\n",
       "      <td>0.639012</td>\n",
       "      <td>0.916643</td>\n",
       "      <td>0.875084</td>\n",
       "      <td>0.578720</td>\n",
       "    </tr>\n",
       "    <tr>\n",
       "      <th>7</th>\n",
       "      <td>0.285705</td>\n",
       "      <td>0.592949</td>\n",
       "      <td>0.723118</td>\n",
       "      <td>0.575204</td>\n",
       "      <td>0.538655</td>\n",
       "      <td>0.084235</td>\n",
       "    </tr>\n",
       "    <tr>\n",
       "      <th>8</th>\n",
       "      <td>0.396672</td>\n",
       "      <td>0.829765</td>\n",
       "      <td>0.572212</td>\n",
       "      <td>0.446219</td>\n",
       "      <td>0.446714</td>\n",
       "      <td>0.203978</td>\n",
       "    </tr>\n",
       "    <tr>\n",
       "      <th>9</th>\n",
       "      <td>0.857646</td>\n",
       "      <td>0.383463</td>\n",
       "      <td>0.213658</td>\n",
       "      <td>0.516201</td>\n",
       "      <td>0.327375</td>\n",
       "      <td>0.821850</td>\n",
       "    </tr>\n",
       "    <tr>\n",
       "      <th>10</th>\n",
       "      <td>0.714393</td>\n",
       "      <td>0.690100</td>\n",
       "      <td>0.101198</td>\n",
       "      <td>0.726670</td>\n",
       "      <td>0.182446</td>\n",
       "      <td>0.345244</td>\n",
       "    </tr>\n",
       "    <tr>\n",
       "      <th>11</th>\n",
       "      <td>0.229634</td>\n",
       "      <td>0.344035</td>\n",
       "      <td>0.228060</td>\n",
       "      <td>0.178218</td>\n",
       "      <td>0.278974</td>\n",
       "      <td>0.263081</td>\n",
       "    </tr>\n",
       "    <tr>\n",
       "      <th>12</th>\n",
       "      <td>0.173138</td>\n",
       "      <td>0.022856</td>\n",
       "      <td>0.404393</td>\n",
       "      <td>0.131538</td>\n",
       "      <td>0.192998</td>\n",
       "      <td>0.317022</td>\n",
       "    </tr>\n",
       "    <tr>\n",
       "      <th>13</th>\n",
       "      <td>0.446415</td>\n",
       "      <td>0.376171</td>\n",
       "      <td>0.215106</td>\n",
       "      <td>0.444650</td>\n",
       "      <td>0.772618</td>\n",
       "      <td>0.629659</td>\n",
       "    </tr>\n",
       "    <tr>\n",
       "      <th>14</th>\n",
       "      <td>0.183996</td>\n",
       "      <td>0.686281</td>\n",
       "      <td>0.610038</td>\n",
       "      <td>0.781466</td>\n",
       "      <td>0.531053</td>\n",
       "      <td>0.450455</td>\n",
       "    </tr>\n",
       "    <tr>\n",
       "      <th>15</th>\n",
       "      <td>0.259118</td>\n",
       "      <td>0.235971</td>\n",
       "      <td>0.840232</td>\n",
       "      <td>0.587713</td>\n",
       "      <td>0.083870</td>\n",
       "      <td>0.833681</td>\n",
       "    </tr>\n",
       "    <tr>\n",
       "      <th>16</th>\n",
       "      <td>0.617177</td>\n",
       "      <td>0.812414</td>\n",
       "      <td>0.475825</td>\n",
       "      <td>0.042855</td>\n",
       "      <td>0.927923</td>\n",
       "      <td>0.760720</td>\n",
       "    </tr>\n",
       "    <tr>\n",
       "      <th>17</th>\n",
       "      <td>0.892151</td>\n",
       "      <td>0.614992</td>\n",
       "      <td>0.208122</td>\n",
       "      <td>0.309027</td>\n",
       "      <td>0.328657</td>\n",
       "      <td>0.185196</td>\n",
       "    </tr>\n",
       "    <tr>\n",
       "      <th>18</th>\n",
       "      <td>0.081775</td>\n",
       "      <td>0.166991</td>\n",
       "      <td>0.032190</td>\n",
       "      <td>0.403208</td>\n",
       "      <td>0.123135</td>\n",
       "      <td>0.036514</td>\n",
       "    </tr>\n",
       "    <tr>\n",
       "      <th>19</th>\n",
       "      <td>0.630253</td>\n",
       "      <td>0.040016</td>\n",
       "      <td>0.298830</td>\n",
       "      <td>0.505440</td>\n",
       "      <td>0.849261</td>\n",
       "      <td>0.825121</td>\n",
       "    </tr>\n",
       "  </tbody>\n",
       "</table>\n",
       "</div>"
      ],
      "text/plain": [
       "           f         e         d         c         b         a\n",
       "0   0.864571  0.897828  0.444175  0.354778  0.608967  0.130861\n",
       "1   0.508872  0.762493  0.256350  0.870167  0.451438  0.909209\n",
       "2   0.053272  0.145866  0.194658  0.743195  0.700153  0.574966\n",
       "3   0.438498  0.397991  0.612034  0.264511  0.846010  0.962317\n",
       "4   0.179859  0.098982  0.836417  0.285077  0.280385  0.852607\n",
       "5   0.898004  0.445971  0.812667  0.207615  0.999453  0.915303\n",
       "6   0.939124  0.842631  0.639012  0.916643  0.875084  0.578720\n",
       "7   0.285705  0.592949  0.723118  0.575204  0.538655  0.084235\n",
       "8   0.396672  0.829765  0.572212  0.446219  0.446714  0.203978\n",
       "9   0.857646  0.383463  0.213658  0.516201  0.327375  0.821850\n",
       "10  0.714393  0.690100  0.101198  0.726670  0.182446  0.345244\n",
       "11  0.229634  0.344035  0.228060  0.178218  0.278974  0.263081\n",
       "12  0.173138  0.022856  0.404393  0.131538  0.192998  0.317022\n",
       "13  0.446415  0.376171  0.215106  0.444650  0.772618  0.629659\n",
       "14  0.183996  0.686281  0.610038  0.781466  0.531053  0.450455\n",
       "15  0.259118  0.235971  0.840232  0.587713  0.083870  0.833681\n",
       "16  0.617177  0.812414  0.475825  0.042855  0.927923  0.760720\n",
       "17  0.892151  0.614992  0.208122  0.309027  0.328657  0.185196\n",
       "18  0.081775  0.166991  0.032190  0.403208  0.123135  0.036514\n",
       "19  0.630253  0.040016  0.298830  0.505440  0.849261  0.825121"
      ]
     },
     "execution_count": 92,
     "metadata": {},
     "output_type": "execute_result"
    }
   ],
   "source": [
    "s2.sort_index(axis=1,ascending=False)\n",
    "#axis代表轴，0为行轴，1为列轴\n",
    "#ascending 排序的方式，默认为True，表示升序，False为降序"
   ]
  },
  {
   "cell_type": "markdown",
   "metadata": {},
   "source": [
    "### 按值排序"
   ]
  },
  {
   "cell_type": "code",
   "execution_count": 94,
   "metadata": {},
   "outputs": [
    {
     "ename": "AttributeError",
     "evalue": "'DataFrame' object has no attribute 'sort'",
     "output_type": "error",
     "traceback": [
      "\u001b[1;31m---------------------------------------------------------------------------\u001b[0m",
      "\u001b[1;31mAttributeError\u001b[0m                            Traceback (most recent call last)",
      "\u001b[1;32m<ipython-input-94-876d1e41e4c8>\u001b[0m in \u001b[0;36m<module>\u001b[1;34m()\u001b[0m\n\u001b[1;32m----> 1\u001b[1;33m \u001b[0ms2\u001b[0m\u001b[1;33m.\u001b[0m\u001b[0msort\u001b[0m\u001b[1;33m(\u001b[0m\u001b[0mcolumns\u001b[0m\u001b[1;33m=\u001b[0m\u001b[1;34m'b'\u001b[0m\u001b[1;33m)\u001b[0m\u001b[1;33m\u001b[0m\u001b[0m\n\u001b[0m",
      "\u001b[1;32mC:\\Users\\syph\\Anaconda2\\lib\\site-packages\\pandas\\core\\generic.pyc\u001b[0m in \u001b[0;36m__getattr__\u001b[1;34m(self, name)\u001b[0m\n\u001b[0;32m   3079\u001b[0m             \u001b[1;32mif\u001b[0m \u001b[0mname\u001b[0m \u001b[1;32min\u001b[0m \u001b[0mself\u001b[0m\u001b[1;33m.\u001b[0m\u001b[0m_info_axis\u001b[0m\u001b[1;33m:\u001b[0m\u001b[1;33m\u001b[0m\u001b[0m\n\u001b[0;32m   3080\u001b[0m                 \u001b[1;32mreturn\u001b[0m \u001b[0mself\u001b[0m\u001b[1;33m[\u001b[0m\u001b[0mname\u001b[0m\u001b[1;33m]\u001b[0m\u001b[1;33m\u001b[0m\u001b[0m\n\u001b[1;32m-> 3081\u001b[1;33m             \u001b[1;32mreturn\u001b[0m \u001b[0mobject\u001b[0m\u001b[1;33m.\u001b[0m\u001b[0m__getattribute__\u001b[0m\u001b[1;33m(\u001b[0m\u001b[0mself\u001b[0m\u001b[1;33m,\u001b[0m \u001b[0mname\u001b[0m\u001b[1;33m)\u001b[0m\u001b[1;33m\u001b[0m\u001b[0m\n\u001b[0m\u001b[0;32m   3082\u001b[0m \u001b[1;33m\u001b[0m\u001b[0m\n\u001b[0;32m   3083\u001b[0m     \u001b[1;32mdef\u001b[0m \u001b[0m__setattr__\u001b[0m\u001b[1;33m(\u001b[0m\u001b[0mself\u001b[0m\u001b[1;33m,\u001b[0m \u001b[0mname\u001b[0m\u001b[1;33m,\u001b[0m \u001b[0mvalue\u001b[0m\u001b[1;33m)\u001b[0m\u001b[1;33m:\u001b[0m\u001b[1;33m\u001b[0m\u001b[0m\n",
      "\u001b[1;31mAttributeError\u001b[0m: 'DataFrame' object has no attribute 'sort'"
     ]
    }
   ],
   "source": [
    "s2.sort(columns='b')"
   ]
  },
  {
   "cell_type": "markdown",
   "metadata": {},
   "source": [
    "### 按照标签来获取一个交叉的区域"
   ]
  },
  {
   "cell_type": "code",
   "execution_count": 95,
   "metadata": {
    "collapsed": true
   },
   "outputs": [],
   "source": [
    "datas=[0,20,30]"
   ]
  },
  {
   "cell_type": "code",
   "execution_count": 96,
   "metadata": {},
   "outputs": [
    {
     "data": {
      "text/html": [
       "<div>\n",
       "<style>\n",
       "    .dataframe thead tr:only-child th {\n",
       "        text-align: right;\n",
       "    }\n",
       "\n",
       "    .dataframe thead th {\n",
       "        text-align: left;\n",
       "    }\n",
       "\n",
       "    .dataframe tbody tr th {\n",
       "        vertical-align: top;\n",
       "    }\n",
       "</style>\n",
       "<table border=\"1\" class=\"dataframe\">\n",
       "  <thead>\n",
       "    <tr style=\"text-align: right;\">\n",
       "      <th></th>\n",
       "      <th>a</th>\n",
       "    </tr>\n",
       "  </thead>\n",
       "  <tbody>\n",
       "    <tr>\n",
       "      <th>0</th>\n",
       "      <td>0.130861</td>\n",
       "    </tr>\n",
       "    <tr>\n",
       "      <th>1</th>\n",
       "      <td>0.909209</td>\n",
       "    </tr>\n",
       "    <tr>\n",
       "      <th>2</th>\n",
       "      <td>0.574966</td>\n",
       "    </tr>\n",
       "    <tr>\n",
       "      <th>3</th>\n",
       "      <td>0.962317</td>\n",
       "    </tr>\n",
       "    <tr>\n",
       "      <th>4</th>\n",
       "      <td>0.852607</td>\n",
       "    </tr>\n",
       "    <tr>\n",
       "      <th>5</th>\n",
       "      <td>0.915303</td>\n",
       "    </tr>\n",
       "  </tbody>\n",
       "</table>\n",
       "</div>"
      ],
      "text/plain": [
       "          a\n",
       "0  0.130861\n",
       "1  0.909209\n",
       "2  0.574966\n",
       "3  0.962317\n",
       "4  0.852607\n",
       "5  0.915303"
      ]
     },
     "execution_count": 96,
     "metadata": {},
     "output_type": "execute_result"
    }
   ],
   "source": [
    "s2.loc[0:5,['a']]   #提取0~5行的数据，再提取a列的数据\n",
    "#标签的切片"
   ]
  },
  {
   "cell_type": "code",
   "execution_count": 97,
   "metadata": {},
   "outputs": [
    {
     "data": {
      "text/plain": [
       "a    0.909209\n",
       "Name: 1, dtype: float64"
      ]
     },
     "execution_count": 97,
     "metadata": {},
     "output_type": "execute_result"
    }
   ],
   "source": [
    "s2.loc[1,['a']]   #对于返回的对象进行维度缩减"
   ]
  },
  {
   "cell_type": "code",
   "execution_count": 98,
   "metadata": {},
   "outputs": [
    {
     "data": {
      "text/plain": [
       "0.13086085288390759"
      ]
     },
     "execution_count": 98,
     "metadata": {},
     "output_type": "execute_result"
    }
   ],
   "source": [
    "s2.loc[0,'a']    #等同于如下效果,先行后列"
   ]
  },
  {
   "cell_type": "code",
   "execution_count": 99,
   "metadata": {},
   "outputs": [
    {
     "data": {
      "text/plain": [
       "0.13086085288390759"
      ]
     },
     "execution_count": 99,
     "metadata": {},
     "output_type": "execute_result"
    }
   ],
   "source": [
    "s2['a'][0]  #先列后行"
   ]
  },
  {
   "cell_type": "markdown",
   "metadata": {},
   "source": [
    "## 通过位置选择"
   ]
  },
  {
   "cell_type": "markdown",
   "metadata": {},
   "source": [
    "### 通过传递数值进行位置选择（选择的是行）"
   ]
  },
  {
   "cell_type": "code",
   "execution_count": 100,
   "metadata": {},
   "outputs": [
    {
     "data": {
      "text/plain": [
       "a    0.962317\n",
       "b    0.846010\n",
       "c    0.264511\n",
       "d    0.612034\n",
       "e    0.397991\n",
       "f    0.438498\n",
       "Name: 3, dtype: float64"
      ]
     },
     "execution_count": 100,
     "metadata": {},
     "output_type": "execute_result"
    }
   ],
   "source": [
    "s2.iloc[3]   #iloc选择行轴"
   ]
  },
  {
   "cell_type": "markdown",
   "metadata": {},
   "source": [
    "### 通过数值进行切片"
   ]
  },
  {
   "cell_type": "code",
   "execution_count": 101,
   "metadata": {},
   "outputs": [
    {
     "data": {
      "text/html": [
       "<div>\n",
       "<style>\n",
       "    .dataframe thead tr:only-child th {\n",
       "        text-align: right;\n",
       "    }\n",
       "\n",
       "    .dataframe thead th {\n",
       "        text-align: left;\n",
       "    }\n",
       "\n",
       "    .dataframe tbody tr th {\n",
       "        vertical-align: top;\n",
       "    }\n",
       "</style>\n",
       "<table border=\"1\" class=\"dataframe\">\n",
       "  <thead>\n",
       "    <tr style=\"text-align: right;\">\n",
       "      <th></th>\n",
       "      <th>a</th>\n",
       "      <th>b</th>\n",
       "      <th>c</th>\n",
       "      <th>d</th>\n",
       "      <th>e</th>\n",
       "      <th>f</th>\n",
       "    </tr>\n",
       "  </thead>\n",
       "  <tbody>\n",
       "    <tr>\n",
       "      <th>1</th>\n",
       "      <td>0.909209</td>\n",
       "      <td>0.451438</td>\n",
       "      <td>0.870167</td>\n",
       "      <td>0.256350</td>\n",
       "      <td>0.762493</td>\n",
       "      <td>0.508872</td>\n",
       "    </tr>\n",
       "    <tr>\n",
       "      <th>2</th>\n",
       "      <td>0.574966</td>\n",
       "      <td>0.700153</td>\n",
       "      <td>0.743195</td>\n",
       "      <td>0.194658</td>\n",
       "      <td>0.145866</td>\n",
       "      <td>0.053272</td>\n",
       "    </tr>\n",
       "  </tbody>\n",
       "</table>\n",
       "</div>"
      ],
      "text/plain": [
       "          a         b         c         d         e         f\n",
       "1  0.909209  0.451438  0.870167  0.256350  0.762493  0.508872\n",
       "2  0.574966  0.700153  0.743195  0.194658  0.145866  0.053272"
      ]
     },
     "execution_count": 101,
     "metadata": {},
     "output_type": "execute_result"
    }
   ],
   "source": [
    "s2.iloc[1:3]   #切片 行  1~3行 [1,3)"
   ]
  },
  {
   "cell_type": "code",
   "execution_count": 102,
   "metadata": {},
   "outputs": [
    {
     "data": {
      "text/html": [
       "<div>\n",
       "<style>\n",
       "    .dataframe thead tr:only-child th {\n",
       "        text-align: right;\n",
       "    }\n",
       "\n",
       "    .dataframe thead th {\n",
       "        text-align: left;\n",
       "    }\n",
       "\n",
       "    .dataframe tbody tr th {\n",
       "        vertical-align: top;\n",
       "    }\n",
       "</style>\n",
       "<table border=\"1\" class=\"dataframe\">\n",
       "  <thead>\n",
       "    <tr style=\"text-align: right;\">\n",
       "      <th></th>\n",
       "      <th>c</th>\n",
       "      <th>d</th>\n",
       "    </tr>\n",
       "  </thead>\n",
       "  <tbody>\n",
       "    <tr>\n",
       "      <th>1</th>\n",
       "      <td>0.870167</td>\n",
       "      <td>0.256350</td>\n",
       "    </tr>\n",
       "    <tr>\n",
       "      <th>2</th>\n",
       "      <td>0.743195</td>\n",
       "      <td>0.194658</td>\n",
       "    </tr>\n",
       "  </tbody>\n",
       "</table>\n",
       "</div>"
      ],
      "text/plain": [
       "          c         d\n",
       "1  0.870167  0.256350\n",
       "2  0.743195  0.194658"
      ]
     },
     "execution_count": 102,
     "metadata": {},
     "output_type": "execute_result"
    }
   ],
   "source": [
    "s2.iloc[1:3,2:4]  #切片  行和列  "
   ]
  },
  {
   "cell_type": "markdown",
   "metadata": {},
   "source": [
    "### 通知指定一个位置"
   ]
  },
  {
   "cell_type": "code",
   "execution_count": 103,
   "metadata": {},
   "outputs": [
    {
     "data": {
      "text/html": [
       "<div>\n",
       "<style>\n",
       "    .dataframe thead tr:only-child th {\n",
       "        text-align: right;\n",
       "    }\n",
       "\n",
       "    .dataframe thead th {\n",
       "        text-align: left;\n",
       "    }\n",
       "\n",
       "    .dataframe tbody tr th {\n",
       "        vertical-align: top;\n",
       "    }\n",
       "</style>\n",
       "<table border=\"1\" class=\"dataframe\">\n",
       "  <thead>\n",
       "    <tr style=\"text-align: right;\">\n",
       "      <th></th>\n",
       "      <th>c</th>\n",
       "      <th>e</th>\n",
       "    </tr>\n",
       "  </thead>\n",
       "  <tbody>\n",
       "    <tr>\n",
       "      <th>1</th>\n",
       "      <td>0.870167</td>\n",
       "      <td>0.762493</td>\n",
       "    </tr>\n",
       "    <tr>\n",
       "      <th>2</th>\n",
       "      <td>0.743195</td>\n",
       "      <td>0.145866</td>\n",
       "    </tr>\n",
       "    <tr>\n",
       "      <th>3</th>\n",
       "      <td>0.264511</td>\n",
       "      <td>0.397991</td>\n",
       "    </tr>\n",
       "  </tbody>\n",
       "</table>\n",
       "</div>"
      ],
      "text/plain": [
       "          c         e\n",
       "1  0.870167  0.762493\n",
       "2  0.743195  0.145866\n",
       "3  0.264511  0.397991"
      ]
     },
     "execution_count": 103,
     "metadata": {},
     "output_type": "execute_result"
    }
   ],
   "source": [
    "s2.iloc[[1,2,3],[2,4]]   #切片，1，2，3行，2，4列"
   ]
  },
  {
   "cell_type": "markdown",
   "metadata": {},
   "source": [
    "### 行切片"
   ]
  },
  {
   "cell_type": "code",
   "execution_count": 104,
   "metadata": {},
   "outputs": [
    {
     "data": {
      "text/html": [
       "<div>\n",
       "<style>\n",
       "    .dataframe thead tr:only-child th {\n",
       "        text-align: right;\n",
       "    }\n",
       "\n",
       "    .dataframe thead th {\n",
       "        text-align: left;\n",
       "    }\n",
       "\n",
       "    .dataframe tbody tr th {\n",
       "        vertical-align: top;\n",
       "    }\n",
       "</style>\n",
       "<table border=\"1\" class=\"dataframe\">\n",
       "  <thead>\n",
       "    <tr style=\"text-align: right;\">\n",
       "      <th></th>\n",
       "      <th>a</th>\n",
       "      <th>b</th>\n",
       "      <th>c</th>\n",
       "      <th>d</th>\n",
       "      <th>e</th>\n",
       "      <th>f</th>\n",
       "    </tr>\n",
       "  </thead>\n",
       "  <tbody>\n",
       "    <tr>\n",
       "      <th>1</th>\n",
       "      <td>0.909209</td>\n",
       "      <td>0.451438</td>\n",
       "      <td>0.870167</td>\n",
       "      <td>0.256350</td>\n",
       "      <td>0.762493</td>\n",
       "      <td>0.508872</td>\n",
       "    </tr>\n",
       "    <tr>\n",
       "      <th>2</th>\n",
       "      <td>0.574966</td>\n",
       "      <td>0.700153</td>\n",
       "      <td>0.743195</td>\n",
       "      <td>0.194658</td>\n",
       "      <td>0.145866</td>\n",
       "      <td>0.053272</td>\n",
       "    </tr>\n",
       "  </tbody>\n",
       "</table>\n",
       "</div>"
      ],
      "text/plain": [
       "          a         b         c         d         e         f\n",
       "1  0.909209  0.451438  0.870167  0.256350  0.762493  0.508872\n",
       "2  0.574966  0.700153  0.743195  0.194658  0.145866  0.053272"
      ]
     },
     "execution_count": 104,
     "metadata": {},
     "output_type": "execute_result"
    }
   ],
   "source": [
    "s2.iloc[1:3,:]"
   ]
  },
  {
   "cell_type": "markdown",
   "metadata": {},
   "source": [
    "### 列切片"
   ]
  },
  {
   "cell_type": "code",
   "execution_count": 105,
   "metadata": {},
   "outputs": [
    {
     "data": {
      "text/html": [
       "<div>\n",
       "<style>\n",
       "    .dataframe thead tr:only-child th {\n",
       "        text-align: right;\n",
       "    }\n",
       "\n",
       "    .dataframe thead th {\n",
       "        text-align: left;\n",
       "    }\n",
       "\n",
       "    .dataframe tbody tr th {\n",
       "        vertical-align: top;\n",
       "    }\n",
       "</style>\n",
       "<table border=\"1\" class=\"dataframe\">\n",
       "  <thead>\n",
       "    <tr style=\"text-align: right;\">\n",
       "      <th></th>\n",
       "      <th>b</th>\n",
       "      <th>c</th>\n",
       "    </tr>\n",
       "  </thead>\n",
       "  <tbody>\n",
       "    <tr>\n",
       "      <th>0</th>\n",
       "      <td>0.608967</td>\n",
       "      <td>0.354778</td>\n",
       "    </tr>\n",
       "    <tr>\n",
       "      <th>1</th>\n",
       "      <td>0.451438</td>\n",
       "      <td>0.870167</td>\n",
       "    </tr>\n",
       "    <tr>\n",
       "      <th>2</th>\n",
       "      <td>0.700153</td>\n",
       "      <td>0.743195</td>\n",
       "    </tr>\n",
       "    <tr>\n",
       "      <th>3</th>\n",
       "      <td>0.846010</td>\n",
       "      <td>0.264511</td>\n",
       "    </tr>\n",
       "    <tr>\n",
       "      <th>4</th>\n",
       "      <td>0.280385</td>\n",
       "      <td>0.285077</td>\n",
       "    </tr>\n",
       "    <tr>\n",
       "      <th>5</th>\n",
       "      <td>0.999453</td>\n",
       "      <td>0.207615</td>\n",
       "    </tr>\n",
       "    <tr>\n",
       "      <th>6</th>\n",
       "      <td>0.875084</td>\n",
       "      <td>0.916643</td>\n",
       "    </tr>\n",
       "    <tr>\n",
       "      <th>7</th>\n",
       "      <td>0.538655</td>\n",
       "      <td>0.575204</td>\n",
       "    </tr>\n",
       "    <tr>\n",
       "      <th>8</th>\n",
       "      <td>0.446714</td>\n",
       "      <td>0.446219</td>\n",
       "    </tr>\n",
       "    <tr>\n",
       "      <th>9</th>\n",
       "      <td>0.327375</td>\n",
       "      <td>0.516201</td>\n",
       "    </tr>\n",
       "    <tr>\n",
       "      <th>10</th>\n",
       "      <td>0.182446</td>\n",
       "      <td>0.726670</td>\n",
       "    </tr>\n",
       "    <tr>\n",
       "      <th>11</th>\n",
       "      <td>0.278974</td>\n",
       "      <td>0.178218</td>\n",
       "    </tr>\n",
       "    <tr>\n",
       "      <th>12</th>\n",
       "      <td>0.192998</td>\n",
       "      <td>0.131538</td>\n",
       "    </tr>\n",
       "    <tr>\n",
       "      <th>13</th>\n",
       "      <td>0.772618</td>\n",
       "      <td>0.444650</td>\n",
       "    </tr>\n",
       "    <tr>\n",
       "      <th>14</th>\n",
       "      <td>0.531053</td>\n",
       "      <td>0.781466</td>\n",
       "    </tr>\n",
       "    <tr>\n",
       "      <th>15</th>\n",
       "      <td>0.083870</td>\n",
       "      <td>0.587713</td>\n",
       "    </tr>\n",
       "    <tr>\n",
       "      <th>16</th>\n",
       "      <td>0.927923</td>\n",
       "      <td>0.042855</td>\n",
       "    </tr>\n",
       "    <tr>\n",
       "      <th>17</th>\n",
       "      <td>0.328657</td>\n",
       "      <td>0.309027</td>\n",
       "    </tr>\n",
       "    <tr>\n",
       "      <th>18</th>\n",
       "      <td>0.123135</td>\n",
       "      <td>0.403208</td>\n",
       "    </tr>\n",
       "    <tr>\n",
       "      <th>19</th>\n",
       "      <td>0.849261</td>\n",
       "      <td>0.505440</td>\n",
       "    </tr>\n",
       "  </tbody>\n",
       "</table>\n",
       "</div>"
      ],
      "text/plain": [
       "           b         c\n",
       "0   0.608967  0.354778\n",
       "1   0.451438  0.870167\n",
       "2   0.700153  0.743195\n",
       "3   0.846010  0.264511\n",
       "4   0.280385  0.285077\n",
       "5   0.999453  0.207615\n",
       "6   0.875084  0.916643\n",
       "7   0.538655  0.575204\n",
       "8   0.446714  0.446219\n",
       "9   0.327375  0.516201\n",
       "10  0.182446  0.726670\n",
       "11  0.278974  0.178218\n",
       "12  0.192998  0.131538\n",
       "13  0.772618  0.444650\n",
       "14  0.531053  0.781466\n",
       "15  0.083870  0.587713\n",
       "16  0.927923  0.042855\n",
       "17  0.328657  0.309027\n",
       "18  0.123135  0.403208\n",
       "19  0.849261  0.505440"
      ]
     },
     "execution_count": 105,
     "metadata": {},
     "output_type": "execute_result"
    }
   ],
   "source": [
    "s2.iloc[:,1:3]"
   ]
  },
  {
   "cell_type": "markdown",
   "metadata": {},
   "source": [
    "### 获取指定位置的值"
   ]
  },
  {
   "cell_type": "code",
   "execution_count": 106,
   "metadata": {},
   "outputs": [
    {
     "data": {
      "text/plain": [
       "0.74319464292447379"
      ]
     },
     "execution_count": 106,
     "metadata": {},
     "output_type": "execute_result"
    }
   ],
   "source": [
    "s2.iloc[2,2]   #获取第3行第3列的值"
   ]
  },
  {
   "cell_type": "code",
   "execution_count": 107,
   "metadata": {},
   "outputs": [
    {
     "data": {
      "text/plain": [
       "0.74319464292447379"
      ]
     },
     "execution_count": 107,
     "metadata": {},
     "output_type": "execute_result"
    }
   ],
   "source": [
    "s2.iat[2,2]    #快速获取指定位置的数据"
   ]
  },
  {
   "cell_type": "markdown",
   "metadata": {},
   "source": [
    "### 布尔索引"
   ]
  },
  {
   "cell_type": "markdown",
   "metadata": {},
   "source": [
    "#### 使用一个单独列的值来选择数据"
   ]
  },
  {
   "cell_type": "code",
   "execution_count": 108,
   "metadata": {},
   "outputs": [
    {
     "data": {
      "text/html": [
       "<div>\n",
       "<style>\n",
       "    .dataframe thead tr:only-child th {\n",
       "        text-align: right;\n",
       "    }\n",
       "\n",
       "    .dataframe thead th {\n",
       "        text-align: left;\n",
       "    }\n",
       "\n",
       "    .dataframe tbody tr th {\n",
       "        vertical-align: top;\n",
       "    }\n",
       "</style>\n",
       "<table border=\"1\" class=\"dataframe\">\n",
       "  <thead>\n",
       "    <tr style=\"text-align: right;\">\n",
       "      <th></th>\n",
       "      <th>a</th>\n",
       "      <th>b</th>\n",
       "      <th>c</th>\n",
       "      <th>d</th>\n",
       "      <th>e</th>\n",
       "      <th>f</th>\n",
       "    </tr>\n",
       "  </thead>\n",
       "  <tbody>\n",
       "    <tr>\n",
       "      <th>1</th>\n",
       "      <td>0.909209</td>\n",
       "      <td>0.451438</td>\n",
       "      <td>0.870167</td>\n",
       "      <td>0.256350</td>\n",
       "      <td>0.762493</td>\n",
       "      <td>0.508872</td>\n",
       "    </tr>\n",
       "    <tr>\n",
       "      <th>2</th>\n",
       "      <td>0.574966</td>\n",
       "      <td>0.700153</td>\n",
       "      <td>0.743195</td>\n",
       "      <td>0.194658</td>\n",
       "      <td>0.145866</td>\n",
       "      <td>0.053272</td>\n",
       "    </tr>\n",
       "    <tr>\n",
       "      <th>3</th>\n",
       "      <td>0.962317</td>\n",
       "      <td>0.846010</td>\n",
       "      <td>0.264511</td>\n",
       "      <td>0.612034</td>\n",
       "      <td>0.397991</td>\n",
       "      <td>0.438498</td>\n",
       "    </tr>\n",
       "    <tr>\n",
       "      <th>4</th>\n",
       "      <td>0.852607</td>\n",
       "      <td>0.280385</td>\n",
       "      <td>0.285077</td>\n",
       "      <td>0.836417</td>\n",
       "      <td>0.098982</td>\n",
       "      <td>0.179859</td>\n",
       "    </tr>\n",
       "    <tr>\n",
       "      <th>5</th>\n",
       "      <td>0.915303</td>\n",
       "      <td>0.999453</td>\n",
       "      <td>0.207615</td>\n",
       "      <td>0.812667</td>\n",
       "      <td>0.445971</td>\n",
       "      <td>0.898004</td>\n",
       "    </tr>\n",
       "    <tr>\n",
       "      <th>6</th>\n",
       "      <td>0.578720</td>\n",
       "      <td>0.875084</td>\n",
       "      <td>0.916643</td>\n",
       "      <td>0.639012</td>\n",
       "      <td>0.842631</td>\n",
       "      <td>0.939124</td>\n",
       "    </tr>\n",
       "    <tr>\n",
       "      <th>9</th>\n",
       "      <td>0.821850</td>\n",
       "      <td>0.327375</td>\n",
       "      <td>0.516201</td>\n",
       "      <td>0.213658</td>\n",
       "      <td>0.383463</td>\n",
       "      <td>0.857646</td>\n",
       "    </tr>\n",
       "    <tr>\n",
       "      <th>13</th>\n",
       "      <td>0.629659</td>\n",
       "      <td>0.772618</td>\n",
       "      <td>0.444650</td>\n",
       "      <td>0.215106</td>\n",
       "      <td>0.376171</td>\n",
       "      <td>0.446415</td>\n",
       "    </tr>\n",
       "    <tr>\n",
       "      <th>15</th>\n",
       "      <td>0.833681</td>\n",
       "      <td>0.083870</td>\n",
       "      <td>0.587713</td>\n",
       "      <td>0.840232</td>\n",
       "      <td>0.235971</td>\n",
       "      <td>0.259118</td>\n",
       "    </tr>\n",
       "    <tr>\n",
       "      <th>16</th>\n",
       "      <td>0.760720</td>\n",
       "      <td>0.927923</td>\n",
       "      <td>0.042855</td>\n",
       "      <td>0.475825</td>\n",
       "      <td>0.812414</td>\n",
       "      <td>0.617177</td>\n",
       "    </tr>\n",
       "    <tr>\n",
       "      <th>19</th>\n",
       "      <td>0.825121</td>\n",
       "      <td>0.849261</td>\n",
       "      <td>0.505440</td>\n",
       "      <td>0.298830</td>\n",
       "      <td>0.040016</td>\n",
       "      <td>0.630253</td>\n",
       "    </tr>\n",
       "  </tbody>\n",
       "</table>\n",
       "</div>"
      ],
      "text/plain": [
       "           a         b         c         d         e         f\n",
       "1   0.909209  0.451438  0.870167  0.256350  0.762493  0.508872\n",
       "2   0.574966  0.700153  0.743195  0.194658  0.145866  0.053272\n",
       "3   0.962317  0.846010  0.264511  0.612034  0.397991  0.438498\n",
       "4   0.852607  0.280385  0.285077  0.836417  0.098982  0.179859\n",
       "5   0.915303  0.999453  0.207615  0.812667  0.445971  0.898004\n",
       "6   0.578720  0.875084  0.916643  0.639012  0.842631  0.939124\n",
       "9   0.821850  0.327375  0.516201  0.213658  0.383463  0.857646\n",
       "13  0.629659  0.772618  0.444650  0.215106  0.376171  0.446415\n",
       "15  0.833681  0.083870  0.587713  0.840232  0.235971  0.259118\n",
       "16  0.760720  0.927923  0.042855  0.475825  0.812414  0.617177\n",
       "19  0.825121  0.849261  0.505440  0.298830  0.040016  0.630253"
      ]
     },
     "execution_count": 108,
     "metadata": {},
     "output_type": "execute_result"
    }
   ],
   "source": [
    "s2[s2.a>0.5]"
   ]
  },
  {
   "cell_type": "markdown",
   "metadata": {},
   "source": [
    "#### 整体过滤"
   ]
  },
  {
   "cell_type": "code",
   "execution_count": 109,
   "metadata": {},
   "outputs": [
    {
     "data": {
      "text/html": [
       "<div>\n",
       "<style>\n",
       "    .dataframe thead tr:only-child th {\n",
       "        text-align: right;\n",
       "    }\n",
       "\n",
       "    .dataframe thead th {\n",
       "        text-align: left;\n",
       "    }\n",
       "\n",
       "    .dataframe tbody tr th {\n",
       "        vertical-align: top;\n",
       "    }\n",
       "</style>\n",
       "<table border=\"1\" class=\"dataframe\">\n",
       "  <thead>\n",
       "    <tr style=\"text-align: right;\">\n",
       "      <th></th>\n",
       "      <th>a</th>\n",
       "      <th>b</th>\n",
       "      <th>c</th>\n",
       "      <th>d</th>\n",
       "      <th>e</th>\n",
       "      <th>f</th>\n",
       "    </tr>\n",
       "  </thead>\n",
       "  <tbody>\n",
       "    <tr>\n",
       "      <th>0</th>\n",
       "      <td>NaN</td>\n",
       "      <td>0.608967</td>\n",
       "      <td>NaN</td>\n",
       "      <td>NaN</td>\n",
       "      <td>0.897828</td>\n",
       "      <td>0.864571</td>\n",
       "    </tr>\n",
       "    <tr>\n",
       "      <th>1</th>\n",
       "      <td>0.909209</td>\n",
       "      <td>NaN</td>\n",
       "      <td>0.870167</td>\n",
       "      <td>NaN</td>\n",
       "      <td>0.762493</td>\n",
       "      <td>0.508872</td>\n",
       "    </tr>\n",
       "    <tr>\n",
       "      <th>2</th>\n",
       "      <td>0.574966</td>\n",
       "      <td>0.700153</td>\n",
       "      <td>0.743195</td>\n",
       "      <td>NaN</td>\n",
       "      <td>NaN</td>\n",
       "      <td>NaN</td>\n",
       "    </tr>\n",
       "    <tr>\n",
       "      <th>3</th>\n",
       "      <td>0.962317</td>\n",
       "      <td>0.846010</td>\n",
       "      <td>NaN</td>\n",
       "      <td>0.612034</td>\n",
       "      <td>NaN</td>\n",
       "      <td>NaN</td>\n",
       "    </tr>\n",
       "    <tr>\n",
       "      <th>4</th>\n",
       "      <td>0.852607</td>\n",
       "      <td>NaN</td>\n",
       "      <td>NaN</td>\n",
       "      <td>0.836417</td>\n",
       "      <td>NaN</td>\n",
       "      <td>NaN</td>\n",
       "    </tr>\n",
       "    <tr>\n",
       "      <th>5</th>\n",
       "      <td>0.915303</td>\n",
       "      <td>0.999453</td>\n",
       "      <td>NaN</td>\n",
       "      <td>0.812667</td>\n",
       "      <td>NaN</td>\n",
       "      <td>0.898004</td>\n",
       "    </tr>\n",
       "    <tr>\n",
       "      <th>6</th>\n",
       "      <td>0.578720</td>\n",
       "      <td>0.875084</td>\n",
       "      <td>0.916643</td>\n",
       "      <td>0.639012</td>\n",
       "      <td>0.842631</td>\n",
       "      <td>0.939124</td>\n",
       "    </tr>\n",
       "    <tr>\n",
       "      <th>7</th>\n",
       "      <td>NaN</td>\n",
       "      <td>0.538655</td>\n",
       "      <td>0.575204</td>\n",
       "      <td>0.723118</td>\n",
       "      <td>0.592949</td>\n",
       "      <td>NaN</td>\n",
       "    </tr>\n",
       "    <tr>\n",
       "      <th>8</th>\n",
       "      <td>NaN</td>\n",
       "      <td>NaN</td>\n",
       "      <td>NaN</td>\n",
       "      <td>0.572212</td>\n",
       "      <td>0.829765</td>\n",
       "      <td>NaN</td>\n",
       "    </tr>\n",
       "    <tr>\n",
       "      <th>9</th>\n",
       "      <td>0.821850</td>\n",
       "      <td>NaN</td>\n",
       "      <td>0.516201</td>\n",
       "      <td>NaN</td>\n",
       "      <td>NaN</td>\n",
       "      <td>0.857646</td>\n",
       "    </tr>\n",
       "    <tr>\n",
       "      <th>10</th>\n",
       "      <td>NaN</td>\n",
       "      <td>NaN</td>\n",
       "      <td>0.726670</td>\n",
       "      <td>NaN</td>\n",
       "      <td>0.690100</td>\n",
       "      <td>0.714393</td>\n",
       "    </tr>\n",
       "    <tr>\n",
       "      <th>11</th>\n",
       "      <td>NaN</td>\n",
       "      <td>NaN</td>\n",
       "      <td>NaN</td>\n",
       "      <td>NaN</td>\n",
       "      <td>NaN</td>\n",
       "      <td>NaN</td>\n",
       "    </tr>\n",
       "    <tr>\n",
       "      <th>12</th>\n",
       "      <td>NaN</td>\n",
       "      <td>NaN</td>\n",
       "      <td>NaN</td>\n",
       "      <td>NaN</td>\n",
       "      <td>NaN</td>\n",
       "      <td>NaN</td>\n",
       "    </tr>\n",
       "    <tr>\n",
       "      <th>13</th>\n",
       "      <td>0.629659</td>\n",
       "      <td>0.772618</td>\n",
       "      <td>NaN</td>\n",
       "      <td>NaN</td>\n",
       "      <td>NaN</td>\n",
       "      <td>NaN</td>\n",
       "    </tr>\n",
       "    <tr>\n",
       "      <th>14</th>\n",
       "      <td>NaN</td>\n",
       "      <td>0.531053</td>\n",
       "      <td>0.781466</td>\n",
       "      <td>0.610038</td>\n",
       "      <td>0.686281</td>\n",
       "      <td>NaN</td>\n",
       "    </tr>\n",
       "    <tr>\n",
       "      <th>15</th>\n",
       "      <td>0.833681</td>\n",
       "      <td>NaN</td>\n",
       "      <td>0.587713</td>\n",
       "      <td>0.840232</td>\n",
       "      <td>NaN</td>\n",
       "      <td>NaN</td>\n",
       "    </tr>\n",
       "    <tr>\n",
       "      <th>16</th>\n",
       "      <td>0.760720</td>\n",
       "      <td>0.927923</td>\n",
       "      <td>NaN</td>\n",
       "      <td>NaN</td>\n",
       "      <td>0.812414</td>\n",
       "      <td>0.617177</td>\n",
       "    </tr>\n",
       "    <tr>\n",
       "      <th>17</th>\n",
       "      <td>NaN</td>\n",
       "      <td>NaN</td>\n",
       "      <td>NaN</td>\n",
       "      <td>NaN</td>\n",
       "      <td>0.614992</td>\n",
       "      <td>0.892151</td>\n",
       "    </tr>\n",
       "    <tr>\n",
       "      <th>18</th>\n",
       "      <td>NaN</td>\n",
       "      <td>NaN</td>\n",
       "      <td>NaN</td>\n",
       "      <td>NaN</td>\n",
       "      <td>NaN</td>\n",
       "      <td>NaN</td>\n",
       "    </tr>\n",
       "    <tr>\n",
       "      <th>19</th>\n",
       "      <td>0.825121</td>\n",
       "      <td>0.849261</td>\n",
       "      <td>0.505440</td>\n",
       "      <td>NaN</td>\n",
       "      <td>NaN</td>\n",
       "      <td>0.630253</td>\n",
       "    </tr>\n",
       "  </tbody>\n",
       "</table>\n",
       "</div>"
      ],
      "text/plain": [
       "           a         b         c         d         e         f\n",
       "0        NaN  0.608967       NaN       NaN  0.897828  0.864571\n",
       "1   0.909209       NaN  0.870167       NaN  0.762493  0.508872\n",
       "2   0.574966  0.700153  0.743195       NaN       NaN       NaN\n",
       "3   0.962317  0.846010       NaN  0.612034       NaN       NaN\n",
       "4   0.852607       NaN       NaN  0.836417       NaN       NaN\n",
       "5   0.915303  0.999453       NaN  0.812667       NaN  0.898004\n",
       "6   0.578720  0.875084  0.916643  0.639012  0.842631  0.939124\n",
       "7        NaN  0.538655  0.575204  0.723118  0.592949       NaN\n",
       "8        NaN       NaN       NaN  0.572212  0.829765       NaN\n",
       "9   0.821850       NaN  0.516201       NaN       NaN  0.857646\n",
       "10       NaN       NaN  0.726670       NaN  0.690100  0.714393\n",
       "11       NaN       NaN       NaN       NaN       NaN       NaN\n",
       "12       NaN       NaN       NaN       NaN       NaN       NaN\n",
       "13  0.629659  0.772618       NaN       NaN       NaN       NaN\n",
       "14       NaN  0.531053  0.781466  0.610038  0.686281       NaN\n",
       "15  0.833681       NaN  0.587713  0.840232       NaN       NaN\n",
       "16  0.760720  0.927923       NaN       NaN  0.812414  0.617177\n",
       "17       NaN       NaN       NaN       NaN  0.614992  0.892151\n",
       "18       NaN       NaN       NaN       NaN       NaN       NaN\n",
       "19  0.825121  0.849261  0.505440       NaN       NaN  0.630253"
      ]
     },
     "execution_count": 109,
     "metadata": {},
     "output_type": "execute_result"
    }
   ],
   "source": [
    "s2[s2>0.5]    #把所有不满足条件的全部置空"
   ]
  },
  {
   "cell_type": "markdown",
   "metadata": {},
   "source": [
    "#### isin()  过滤数据"
   ]
  },
  {
   "cell_type": "code",
   "execution_count": 110,
   "metadata": {},
   "outputs": [
    {
     "data": {
      "text/html": [
       "<div>\n",
       "<style>\n",
       "    .dataframe thead tr:only-child th {\n",
       "        text-align: right;\n",
       "    }\n",
       "\n",
       "    .dataframe thead th {\n",
       "        text-align: left;\n",
       "    }\n",
       "\n",
       "    .dataframe tbody tr th {\n",
       "        vertical-align: top;\n",
       "    }\n",
       "</style>\n",
       "<table border=\"1\" class=\"dataframe\">\n",
       "  <thead>\n",
       "    <tr style=\"text-align: right;\">\n",
       "      <th></th>\n",
       "      <th>a</th>\n",
       "      <th>b</th>\n",
       "      <th>c</th>\n",
       "      <th>d</th>\n",
       "      <th>e</th>\n",
       "      <th>f</th>\n",
       "    </tr>\n",
       "  </thead>\n",
       "  <tbody>\n",
       "    <tr>\n",
       "      <th>0</th>\n",
       "      <td>0.130861</td>\n",
       "      <td>0.608967</td>\n",
       "      <td>0.354778</td>\n",
       "      <td>0.444175</td>\n",
       "      <td>0.897828</td>\n",
       "      <td>0.864571</td>\n",
       "    </tr>\n",
       "    <tr>\n",
       "      <th>1</th>\n",
       "      <td>0.909209</td>\n",
       "      <td>0.451438</td>\n",
       "      <td>0.870167</td>\n",
       "      <td>0.256350</td>\n",
       "      <td>0.762493</td>\n",
       "      <td>0.508872</td>\n",
       "    </tr>\n",
       "    <tr>\n",
       "      <th>2</th>\n",
       "      <td>0.574966</td>\n",
       "      <td>0.700153</td>\n",
       "      <td>0.743195</td>\n",
       "      <td>0.194658</td>\n",
       "      <td>0.145866</td>\n",
       "      <td>0.053272</td>\n",
       "    </tr>\n",
       "    <tr>\n",
       "      <th>3</th>\n",
       "      <td>0.962317</td>\n",
       "      <td>0.846010</td>\n",
       "      <td>0.264511</td>\n",
       "      <td>0.612034</td>\n",
       "      <td>0.397991</td>\n",
       "      <td>0.438498</td>\n",
       "    </tr>\n",
       "    <tr>\n",
       "      <th>4</th>\n",
       "      <td>0.852607</td>\n",
       "      <td>0.280385</td>\n",
       "      <td>0.285077</td>\n",
       "      <td>0.836417</td>\n",
       "      <td>0.098982</td>\n",
       "      <td>0.179859</td>\n",
       "    </tr>\n",
       "    <tr>\n",
       "      <th>5</th>\n",
       "      <td>0.915303</td>\n",
       "      <td>0.999453</td>\n",
       "      <td>0.207615</td>\n",
       "      <td>0.812667</td>\n",
       "      <td>0.445971</td>\n",
       "      <td>0.898004</td>\n",
       "    </tr>\n",
       "    <tr>\n",
       "      <th>6</th>\n",
       "      <td>0.578720</td>\n",
       "      <td>0.875084</td>\n",
       "      <td>0.916643</td>\n",
       "      <td>0.639012</td>\n",
       "      <td>0.842631</td>\n",
       "      <td>0.939124</td>\n",
       "    </tr>\n",
       "    <tr>\n",
       "      <th>7</th>\n",
       "      <td>0.084235</td>\n",
       "      <td>0.538655</td>\n",
       "      <td>0.575204</td>\n",
       "      <td>0.723118</td>\n",
       "      <td>0.592949</td>\n",
       "      <td>0.285705</td>\n",
       "    </tr>\n",
       "    <tr>\n",
       "      <th>8</th>\n",
       "      <td>0.203978</td>\n",
       "      <td>0.446714</td>\n",
       "      <td>0.446219</td>\n",
       "      <td>0.572212</td>\n",
       "      <td>0.829765</td>\n",
       "      <td>0.396672</td>\n",
       "    </tr>\n",
       "    <tr>\n",
       "      <th>9</th>\n",
       "      <td>0.821850</td>\n",
       "      <td>0.327375</td>\n",
       "      <td>0.516201</td>\n",
       "      <td>0.213658</td>\n",
       "      <td>0.383463</td>\n",
       "      <td>0.857646</td>\n",
       "    </tr>\n",
       "    <tr>\n",
       "      <th>10</th>\n",
       "      <td>0.345244</td>\n",
       "      <td>0.182446</td>\n",
       "      <td>0.726670</td>\n",
       "      <td>0.101198</td>\n",
       "      <td>0.690100</td>\n",
       "      <td>0.714393</td>\n",
       "    </tr>\n",
       "    <tr>\n",
       "      <th>11</th>\n",
       "      <td>0.263081</td>\n",
       "      <td>0.278974</td>\n",
       "      <td>0.178218</td>\n",
       "      <td>0.228060</td>\n",
       "      <td>0.344035</td>\n",
       "      <td>0.229634</td>\n",
       "    </tr>\n",
       "    <tr>\n",
       "      <th>12</th>\n",
       "      <td>0.317022</td>\n",
       "      <td>0.192998</td>\n",
       "      <td>0.131538</td>\n",
       "      <td>0.404393</td>\n",
       "      <td>0.022856</td>\n",
       "      <td>0.173138</td>\n",
       "    </tr>\n",
       "    <tr>\n",
       "      <th>13</th>\n",
       "      <td>0.629659</td>\n",
       "      <td>0.772618</td>\n",
       "      <td>0.444650</td>\n",
       "      <td>0.215106</td>\n",
       "      <td>0.376171</td>\n",
       "      <td>0.446415</td>\n",
       "    </tr>\n",
       "    <tr>\n",
       "      <th>14</th>\n",
       "      <td>0.450455</td>\n",
       "      <td>0.531053</td>\n",
       "      <td>0.781466</td>\n",
       "      <td>0.610038</td>\n",
       "      <td>0.686281</td>\n",
       "      <td>0.183996</td>\n",
       "    </tr>\n",
       "    <tr>\n",
       "      <th>15</th>\n",
       "      <td>0.833681</td>\n",
       "      <td>0.083870</td>\n",
       "      <td>0.587713</td>\n",
       "      <td>0.840232</td>\n",
       "      <td>0.235971</td>\n",
       "      <td>0.259118</td>\n",
       "    </tr>\n",
       "    <tr>\n",
       "      <th>16</th>\n",
       "      <td>0.760720</td>\n",
       "      <td>0.927923</td>\n",
       "      <td>0.042855</td>\n",
       "      <td>0.475825</td>\n",
       "      <td>0.812414</td>\n",
       "      <td>0.617177</td>\n",
       "    </tr>\n",
       "    <tr>\n",
       "      <th>17</th>\n",
       "      <td>0.185196</td>\n",
       "      <td>0.328657</td>\n",
       "      <td>0.309027</td>\n",
       "      <td>0.208122</td>\n",
       "      <td>0.614992</td>\n",
       "      <td>0.892151</td>\n",
       "    </tr>\n",
       "    <tr>\n",
       "      <th>18</th>\n",
       "      <td>0.036514</td>\n",
       "      <td>0.123135</td>\n",
       "      <td>0.403208</td>\n",
       "      <td>0.032190</td>\n",
       "      <td>0.166991</td>\n",
       "      <td>0.081775</td>\n",
       "    </tr>\n",
       "    <tr>\n",
       "      <th>19</th>\n",
       "      <td>0.825121</td>\n",
       "      <td>0.849261</td>\n",
       "      <td>0.505440</td>\n",
       "      <td>0.298830</td>\n",
       "      <td>0.040016</td>\n",
       "      <td>0.630253</td>\n",
       "    </tr>\n",
       "  </tbody>\n",
       "</table>\n",
       "</div>"
      ],
      "text/plain": [
       "           a         b         c         d         e         f\n",
       "0   0.130861  0.608967  0.354778  0.444175  0.897828  0.864571\n",
       "1   0.909209  0.451438  0.870167  0.256350  0.762493  0.508872\n",
       "2   0.574966  0.700153  0.743195  0.194658  0.145866  0.053272\n",
       "3   0.962317  0.846010  0.264511  0.612034  0.397991  0.438498\n",
       "4   0.852607  0.280385  0.285077  0.836417  0.098982  0.179859\n",
       "5   0.915303  0.999453  0.207615  0.812667  0.445971  0.898004\n",
       "6   0.578720  0.875084  0.916643  0.639012  0.842631  0.939124\n",
       "7   0.084235  0.538655  0.575204  0.723118  0.592949  0.285705\n",
       "8   0.203978  0.446714  0.446219  0.572212  0.829765  0.396672\n",
       "9   0.821850  0.327375  0.516201  0.213658  0.383463  0.857646\n",
       "10  0.345244  0.182446  0.726670  0.101198  0.690100  0.714393\n",
       "11  0.263081  0.278974  0.178218  0.228060  0.344035  0.229634\n",
       "12  0.317022  0.192998  0.131538  0.404393  0.022856  0.173138\n",
       "13  0.629659  0.772618  0.444650  0.215106  0.376171  0.446415\n",
       "14  0.450455  0.531053  0.781466  0.610038  0.686281  0.183996\n",
       "15  0.833681  0.083870  0.587713  0.840232  0.235971  0.259118\n",
       "16  0.760720  0.927923  0.042855  0.475825  0.812414  0.617177\n",
       "17  0.185196  0.328657  0.309027  0.208122  0.614992  0.892151\n",
       "18  0.036514  0.123135  0.403208  0.032190  0.166991  0.081775\n",
       "19  0.825121  0.849261  0.505440  0.298830  0.040016  0.630253"
      ]
     },
     "execution_count": 110,
     "metadata": {},
     "output_type": "execute_result"
    }
   ],
   "source": [
    "s3=s2.copy()\n",
    "s3"
   ]
  },
  {
   "cell_type": "code",
   "execution_count": 111,
   "metadata": {},
   "outputs": [
    {
     "name": "stderr",
     "output_type": "stream",
     "text": [
      "C:\\Users\\syph\\Anaconda2\\lib\\site-packages\\ipykernel_launcher.py:1: DeprecationWarning: \n",
      ".ix is deprecated. Please use\n",
      ".loc for label based indexing or\n",
      ".iloc for positional indexing\n",
      "\n",
      "See the documentation here:\n",
      "http://pandas.pydata.org/pandas-docs/stable/indexing.html#ix-indexer-is-deprecated\n",
      "  \"\"\"Entry point for launching an IPython kernel.\n"
     ]
    }
   ],
   "source": [
    "s3.ix[21]=[1.23,2.34,3.45,5.6,4,8.1]"
   ]
  },
  {
   "cell_type": "code",
   "execution_count": 112,
   "metadata": {
    "collapsed": true
   },
   "outputs": [],
   "source": [
    "s3.ix[20]=[1,2,3,4,5,6]"
   ]
  },
  {
   "cell_type": "code",
   "execution_count": 113,
   "metadata": {},
   "outputs": [
    {
     "data": {
      "text/html": [
       "<div>\n",
       "<style>\n",
       "    .dataframe thead tr:only-child th {\n",
       "        text-align: right;\n",
       "    }\n",
       "\n",
       "    .dataframe thead th {\n",
       "        text-align: left;\n",
       "    }\n",
       "\n",
       "    .dataframe tbody tr th {\n",
       "        vertical-align: top;\n",
       "    }\n",
       "</style>\n",
       "<table border=\"1\" class=\"dataframe\">\n",
       "  <thead>\n",
       "    <tr style=\"text-align: right;\">\n",
       "      <th></th>\n",
       "      <th>a</th>\n",
       "      <th>b</th>\n",
       "      <th>c</th>\n",
       "      <th>d</th>\n",
       "      <th>e</th>\n",
       "      <th>f</th>\n",
       "    </tr>\n",
       "  </thead>\n",
       "  <tbody>\n",
       "    <tr>\n",
       "      <th>0</th>\n",
       "      <td>0.130861</td>\n",
       "      <td>0.608967</td>\n",
       "      <td>0.354778</td>\n",
       "      <td>0.444175</td>\n",
       "      <td>0.897828</td>\n",
       "      <td>0.864571</td>\n",
       "    </tr>\n",
       "    <tr>\n",
       "      <th>1</th>\n",
       "      <td>0.909209</td>\n",
       "      <td>0.451438</td>\n",
       "      <td>0.870167</td>\n",
       "      <td>0.256350</td>\n",
       "      <td>0.762493</td>\n",
       "      <td>0.508872</td>\n",
       "    </tr>\n",
       "    <tr>\n",
       "      <th>2</th>\n",
       "      <td>0.574966</td>\n",
       "      <td>0.700153</td>\n",
       "      <td>0.743195</td>\n",
       "      <td>0.194658</td>\n",
       "      <td>0.145866</td>\n",
       "      <td>0.053272</td>\n",
       "    </tr>\n",
       "    <tr>\n",
       "      <th>3</th>\n",
       "      <td>0.962317</td>\n",
       "      <td>0.846010</td>\n",
       "      <td>0.264511</td>\n",
       "      <td>0.612034</td>\n",
       "      <td>0.397991</td>\n",
       "      <td>0.438498</td>\n",
       "    </tr>\n",
       "    <tr>\n",
       "      <th>4</th>\n",
       "      <td>0.852607</td>\n",
       "      <td>0.280385</td>\n",
       "      <td>0.285077</td>\n",
       "      <td>0.836417</td>\n",
       "      <td>0.098982</td>\n",
       "      <td>0.179859</td>\n",
       "    </tr>\n",
       "    <tr>\n",
       "      <th>5</th>\n",
       "      <td>0.915303</td>\n",
       "      <td>0.999453</td>\n",
       "      <td>0.207615</td>\n",
       "      <td>0.812667</td>\n",
       "      <td>0.445971</td>\n",
       "      <td>0.898004</td>\n",
       "    </tr>\n",
       "    <tr>\n",
       "      <th>6</th>\n",
       "      <td>0.578720</td>\n",
       "      <td>0.875084</td>\n",
       "      <td>0.916643</td>\n",
       "      <td>0.639012</td>\n",
       "      <td>0.842631</td>\n",
       "      <td>0.939124</td>\n",
       "    </tr>\n",
       "    <tr>\n",
       "      <th>7</th>\n",
       "      <td>0.084235</td>\n",
       "      <td>0.538655</td>\n",
       "      <td>0.575204</td>\n",
       "      <td>0.723118</td>\n",
       "      <td>0.592949</td>\n",
       "      <td>0.285705</td>\n",
       "    </tr>\n",
       "    <tr>\n",
       "      <th>8</th>\n",
       "      <td>0.203978</td>\n",
       "      <td>0.446714</td>\n",
       "      <td>0.446219</td>\n",
       "      <td>0.572212</td>\n",
       "      <td>0.829765</td>\n",
       "      <td>0.396672</td>\n",
       "    </tr>\n",
       "    <tr>\n",
       "      <th>9</th>\n",
       "      <td>0.821850</td>\n",
       "      <td>0.327375</td>\n",
       "      <td>0.516201</td>\n",
       "      <td>0.213658</td>\n",
       "      <td>0.383463</td>\n",
       "      <td>0.857646</td>\n",
       "    </tr>\n",
       "    <tr>\n",
       "      <th>10</th>\n",
       "      <td>0.345244</td>\n",
       "      <td>0.182446</td>\n",
       "      <td>0.726670</td>\n",
       "      <td>0.101198</td>\n",
       "      <td>0.690100</td>\n",
       "      <td>0.714393</td>\n",
       "    </tr>\n",
       "    <tr>\n",
       "      <th>11</th>\n",
       "      <td>0.263081</td>\n",
       "      <td>0.278974</td>\n",
       "      <td>0.178218</td>\n",
       "      <td>0.228060</td>\n",
       "      <td>0.344035</td>\n",
       "      <td>0.229634</td>\n",
       "    </tr>\n",
       "    <tr>\n",
       "      <th>12</th>\n",
       "      <td>0.317022</td>\n",
       "      <td>0.192998</td>\n",
       "      <td>0.131538</td>\n",
       "      <td>0.404393</td>\n",
       "      <td>0.022856</td>\n",
       "      <td>0.173138</td>\n",
       "    </tr>\n",
       "    <tr>\n",
       "      <th>13</th>\n",
       "      <td>0.629659</td>\n",
       "      <td>0.772618</td>\n",
       "      <td>0.444650</td>\n",
       "      <td>0.215106</td>\n",
       "      <td>0.376171</td>\n",
       "      <td>0.446415</td>\n",
       "    </tr>\n",
       "    <tr>\n",
       "      <th>14</th>\n",
       "      <td>0.450455</td>\n",
       "      <td>0.531053</td>\n",
       "      <td>0.781466</td>\n",
       "      <td>0.610038</td>\n",
       "      <td>0.686281</td>\n",
       "      <td>0.183996</td>\n",
       "    </tr>\n",
       "    <tr>\n",
       "      <th>15</th>\n",
       "      <td>0.833681</td>\n",
       "      <td>0.083870</td>\n",
       "      <td>0.587713</td>\n",
       "      <td>0.840232</td>\n",
       "      <td>0.235971</td>\n",
       "      <td>0.259118</td>\n",
       "    </tr>\n",
       "    <tr>\n",
       "      <th>16</th>\n",
       "      <td>0.760720</td>\n",
       "      <td>0.927923</td>\n",
       "      <td>0.042855</td>\n",
       "      <td>0.475825</td>\n",
       "      <td>0.812414</td>\n",
       "      <td>0.617177</td>\n",
       "    </tr>\n",
       "    <tr>\n",
       "      <th>17</th>\n",
       "      <td>0.185196</td>\n",
       "      <td>0.328657</td>\n",
       "      <td>0.309027</td>\n",
       "      <td>0.208122</td>\n",
       "      <td>0.614992</td>\n",
       "      <td>0.892151</td>\n",
       "    </tr>\n",
       "    <tr>\n",
       "      <th>18</th>\n",
       "      <td>0.036514</td>\n",
       "      <td>0.123135</td>\n",
       "      <td>0.403208</td>\n",
       "      <td>0.032190</td>\n",
       "      <td>0.166991</td>\n",
       "      <td>0.081775</td>\n",
       "    </tr>\n",
       "    <tr>\n",
       "      <th>19</th>\n",
       "      <td>0.825121</td>\n",
       "      <td>0.849261</td>\n",
       "      <td>0.505440</td>\n",
       "      <td>0.298830</td>\n",
       "      <td>0.040016</td>\n",
       "      <td>0.630253</td>\n",
       "    </tr>\n",
       "    <tr>\n",
       "      <th>21</th>\n",
       "      <td>1.230000</td>\n",
       "      <td>2.340000</td>\n",
       "      <td>3.450000</td>\n",
       "      <td>5.600000</td>\n",
       "      <td>4.000000</td>\n",
       "      <td>8.100000</td>\n",
       "    </tr>\n",
       "    <tr>\n",
       "      <th>20</th>\n",
       "      <td>1.000000</td>\n",
       "      <td>2.000000</td>\n",
       "      <td>3.000000</td>\n",
       "      <td>4.000000</td>\n",
       "      <td>5.000000</td>\n",
       "      <td>6.000000</td>\n",
       "    </tr>\n",
       "  </tbody>\n",
       "</table>\n",
       "</div>"
      ],
      "text/plain": [
       "           a         b         c         d         e         f\n",
       "0   0.130861  0.608967  0.354778  0.444175  0.897828  0.864571\n",
       "1   0.909209  0.451438  0.870167  0.256350  0.762493  0.508872\n",
       "2   0.574966  0.700153  0.743195  0.194658  0.145866  0.053272\n",
       "3   0.962317  0.846010  0.264511  0.612034  0.397991  0.438498\n",
       "4   0.852607  0.280385  0.285077  0.836417  0.098982  0.179859\n",
       "5   0.915303  0.999453  0.207615  0.812667  0.445971  0.898004\n",
       "6   0.578720  0.875084  0.916643  0.639012  0.842631  0.939124\n",
       "7   0.084235  0.538655  0.575204  0.723118  0.592949  0.285705\n",
       "8   0.203978  0.446714  0.446219  0.572212  0.829765  0.396672\n",
       "9   0.821850  0.327375  0.516201  0.213658  0.383463  0.857646\n",
       "10  0.345244  0.182446  0.726670  0.101198  0.690100  0.714393\n",
       "11  0.263081  0.278974  0.178218  0.228060  0.344035  0.229634\n",
       "12  0.317022  0.192998  0.131538  0.404393  0.022856  0.173138\n",
       "13  0.629659  0.772618  0.444650  0.215106  0.376171  0.446415\n",
       "14  0.450455  0.531053  0.781466  0.610038  0.686281  0.183996\n",
       "15  0.833681  0.083870  0.587713  0.840232  0.235971  0.259118\n",
       "16  0.760720  0.927923  0.042855  0.475825  0.812414  0.617177\n",
       "17  0.185196  0.328657  0.309027  0.208122  0.614992  0.892151\n",
       "18  0.036514  0.123135  0.403208  0.032190  0.166991  0.081775\n",
       "19  0.825121  0.849261  0.505440  0.298830  0.040016  0.630253\n",
       "21  1.230000  2.340000  3.450000  5.600000  4.000000  8.100000\n",
       "20  1.000000  2.000000  3.000000  4.000000  5.000000  6.000000"
      ]
     },
     "execution_count": 113,
     "metadata": {},
     "output_type": "execute_result"
    }
   ],
   "source": [
    "s3"
   ]
  },
  {
   "cell_type": "code",
   "execution_count": 114,
   "metadata": {},
   "outputs": [
    {
     "data": {
      "text/html": [
       "<div>\n",
       "<style>\n",
       "    .dataframe thead tr:only-child th {\n",
       "        text-align: right;\n",
       "    }\n",
       "\n",
       "    .dataframe thead th {\n",
       "        text-align: left;\n",
       "    }\n",
       "\n",
       "    .dataframe tbody tr th {\n",
       "        vertical-align: top;\n",
       "    }\n",
       "</style>\n",
       "<table border=\"1\" class=\"dataframe\">\n",
       "  <thead>\n",
       "    <tr style=\"text-align: right;\">\n",
       "      <th></th>\n",
       "      <th>a</th>\n",
       "      <th>b</th>\n",
       "      <th>c</th>\n",
       "      <th>d</th>\n",
       "      <th>e</th>\n",
       "      <th>f</th>\n",
       "    </tr>\n",
       "  </thead>\n",
       "  <tbody>\n",
       "    <tr>\n",
       "      <th>21</th>\n",
       "      <td>1.23</td>\n",
       "      <td>2.34</td>\n",
       "      <td>3.45</td>\n",
       "      <td>5.6</td>\n",
       "      <td>4.0</td>\n",
       "      <td>8.1</td>\n",
       "    </tr>\n",
       "    <tr>\n",
       "      <th>20</th>\n",
       "      <td>1.00</td>\n",
       "      <td>2.00</td>\n",
       "      <td>3.00</td>\n",
       "      <td>4.0</td>\n",
       "      <td>5.0</td>\n",
       "      <td>6.0</td>\n",
       "    </tr>\n",
       "  </tbody>\n",
       "</table>\n",
       "</div>"
      ],
      "text/plain": [
       "       a     b     c    d    e    f\n",
       "21  1.23  2.34  3.45  5.6  4.0  8.1\n",
       "20  1.00  2.00  3.00  4.0  5.0  6.0"
      ]
     },
     "execution_count": 114,
     "metadata": {},
     "output_type": "execute_result"
    }
   ],
   "source": [
    "s3[s3['a'].isin([1.0,1.23])]"
   ]
  },
  {
   "cell_type": "markdown",
   "metadata": {},
   "source": [
    "### 设置"
   ]
  },
  {
   "cell_type": "markdown",
   "metadata": {},
   "source": [
    "### 新增一个列"
   ]
  },
  {
   "cell_type": "code",
   "execution_count": 115,
   "metadata": {
    "collapsed": true
   },
   "outputs": [],
   "source": [
    "s1=Series([i for i in range(20)])"
   ]
  },
  {
   "cell_type": "code",
   "execution_count": 116,
   "metadata": {},
   "outputs": [
    {
     "data": {
      "text/plain": [
       "0      0\n",
       "1      1\n",
       "2      2\n",
       "3      3\n",
       "4      4\n",
       "5      5\n",
       "6      6\n",
       "7      7\n",
       "8      8\n",
       "9      9\n",
       "10    10\n",
       "11    11\n",
       "12    12\n",
       "13    13\n",
       "14    14\n",
       "15    15\n",
       "16    16\n",
       "17    17\n",
       "18    18\n",
       "19    19\n",
       "dtype: int64"
      ]
     },
     "execution_count": 116,
     "metadata": {},
     "output_type": "execute_result"
    }
   ],
   "source": [
    "s1"
   ]
  },
  {
   "cell_type": "code",
   "execution_count": 117,
   "metadata": {
    "collapsed": true
   },
   "outputs": [],
   "source": [
    "s2.f=s1"
   ]
  },
  {
   "cell_type": "code",
   "execution_count": 118,
   "metadata": {},
   "outputs": [
    {
     "data": {
      "text/html": [
       "<div>\n",
       "<style>\n",
       "    .dataframe thead tr:only-child th {\n",
       "        text-align: right;\n",
       "    }\n",
       "\n",
       "    .dataframe thead th {\n",
       "        text-align: left;\n",
       "    }\n",
       "\n",
       "    .dataframe tbody tr th {\n",
       "        vertical-align: top;\n",
       "    }\n",
       "</style>\n",
       "<table border=\"1\" class=\"dataframe\">\n",
       "  <thead>\n",
       "    <tr style=\"text-align: right;\">\n",
       "      <th></th>\n",
       "      <th>a</th>\n",
       "      <th>b</th>\n",
       "      <th>c</th>\n",
       "      <th>d</th>\n",
       "      <th>e</th>\n",
       "      <th>f</th>\n",
       "    </tr>\n",
       "  </thead>\n",
       "  <tbody>\n",
       "    <tr>\n",
       "      <th>0</th>\n",
       "      <td>0.130861</td>\n",
       "      <td>0.608967</td>\n",
       "      <td>0.354778</td>\n",
       "      <td>0.444175</td>\n",
       "      <td>0.897828</td>\n",
       "      <td>0</td>\n",
       "    </tr>\n",
       "    <tr>\n",
       "      <th>1</th>\n",
       "      <td>0.909209</td>\n",
       "      <td>0.451438</td>\n",
       "      <td>0.870167</td>\n",
       "      <td>0.256350</td>\n",
       "      <td>0.762493</td>\n",
       "      <td>1</td>\n",
       "    </tr>\n",
       "    <tr>\n",
       "      <th>2</th>\n",
       "      <td>0.574966</td>\n",
       "      <td>0.700153</td>\n",
       "      <td>0.743195</td>\n",
       "      <td>0.194658</td>\n",
       "      <td>0.145866</td>\n",
       "      <td>2</td>\n",
       "    </tr>\n",
       "    <tr>\n",
       "      <th>3</th>\n",
       "      <td>0.962317</td>\n",
       "      <td>0.846010</td>\n",
       "      <td>0.264511</td>\n",
       "      <td>0.612034</td>\n",
       "      <td>0.397991</td>\n",
       "      <td>3</td>\n",
       "    </tr>\n",
       "    <tr>\n",
       "      <th>4</th>\n",
       "      <td>0.852607</td>\n",
       "      <td>0.280385</td>\n",
       "      <td>0.285077</td>\n",
       "      <td>0.836417</td>\n",
       "      <td>0.098982</td>\n",
       "      <td>4</td>\n",
       "    </tr>\n",
       "    <tr>\n",
       "      <th>5</th>\n",
       "      <td>0.915303</td>\n",
       "      <td>0.999453</td>\n",
       "      <td>0.207615</td>\n",
       "      <td>0.812667</td>\n",
       "      <td>0.445971</td>\n",
       "      <td>5</td>\n",
       "    </tr>\n",
       "    <tr>\n",
       "      <th>6</th>\n",
       "      <td>0.578720</td>\n",
       "      <td>0.875084</td>\n",
       "      <td>0.916643</td>\n",
       "      <td>0.639012</td>\n",
       "      <td>0.842631</td>\n",
       "      <td>6</td>\n",
       "    </tr>\n",
       "    <tr>\n",
       "      <th>7</th>\n",
       "      <td>0.084235</td>\n",
       "      <td>0.538655</td>\n",
       "      <td>0.575204</td>\n",
       "      <td>0.723118</td>\n",
       "      <td>0.592949</td>\n",
       "      <td>7</td>\n",
       "    </tr>\n",
       "    <tr>\n",
       "      <th>8</th>\n",
       "      <td>0.203978</td>\n",
       "      <td>0.446714</td>\n",
       "      <td>0.446219</td>\n",
       "      <td>0.572212</td>\n",
       "      <td>0.829765</td>\n",
       "      <td>8</td>\n",
       "    </tr>\n",
       "    <tr>\n",
       "      <th>9</th>\n",
       "      <td>0.821850</td>\n",
       "      <td>0.327375</td>\n",
       "      <td>0.516201</td>\n",
       "      <td>0.213658</td>\n",
       "      <td>0.383463</td>\n",
       "      <td>9</td>\n",
       "    </tr>\n",
       "    <tr>\n",
       "      <th>10</th>\n",
       "      <td>0.345244</td>\n",
       "      <td>0.182446</td>\n",
       "      <td>0.726670</td>\n",
       "      <td>0.101198</td>\n",
       "      <td>0.690100</td>\n",
       "      <td>10</td>\n",
       "    </tr>\n",
       "    <tr>\n",
       "      <th>11</th>\n",
       "      <td>0.263081</td>\n",
       "      <td>0.278974</td>\n",
       "      <td>0.178218</td>\n",
       "      <td>0.228060</td>\n",
       "      <td>0.344035</td>\n",
       "      <td>11</td>\n",
       "    </tr>\n",
       "    <tr>\n",
       "      <th>12</th>\n",
       "      <td>0.317022</td>\n",
       "      <td>0.192998</td>\n",
       "      <td>0.131538</td>\n",
       "      <td>0.404393</td>\n",
       "      <td>0.022856</td>\n",
       "      <td>12</td>\n",
       "    </tr>\n",
       "    <tr>\n",
       "      <th>13</th>\n",
       "      <td>0.629659</td>\n",
       "      <td>0.772618</td>\n",
       "      <td>0.444650</td>\n",
       "      <td>0.215106</td>\n",
       "      <td>0.376171</td>\n",
       "      <td>13</td>\n",
       "    </tr>\n",
       "    <tr>\n",
       "      <th>14</th>\n",
       "      <td>0.450455</td>\n",
       "      <td>0.531053</td>\n",
       "      <td>0.781466</td>\n",
       "      <td>0.610038</td>\n",
       "      <td>0.686281</td>\n",
       "      <td>14</td>\n",
       "    </tr>\n",
       "    <tr>\n",
       "      <th>15</th>\n",
       "      <td>0.833681</td>\n",
       "      <td>0.083870</td>\n",
       "      <td>0.587713</td>\n",
       "      <td>0.840232</td>\n",
       "      <td>0.235971</td>\n",
       "      <td>15</td>\n",
       "    </tr>\n",
       "    <tr>\n",
       "      <th>16</th>\n",
       "      <td>0.760720</td>\n",
       "      <td>0.927923</td>\n",
       "      <td>0.042855</td>\n",
       "      <td>0.475825</td>\n",
       "      <td>0.812414</td>\n",
       "      <td>16</td>\n",
       "    </tr>\n",
       "    <tr>\n",
       "      <th>17</th>\n",
       "      <td>0.185196</td>\n",
       "      <td>0.328657</td>\n",
       "      <td>0.309027</td>\n",
       "      <td>0.208122</td>\n",
       "      <td>0.614992</td>\n",
       "      <td>17</td>\n",
       "    </tr>\n",
       "    <tr>\n",
       "      <th>18</th>\n",
       "      <td>0.036514</td>\n",
       "      <td>0.123135</td>\n",
       "      <td>0.403208</td>\n",
       "      <td>0.032190</td>\n",
       "      <td>0.166991</td>\n",
       "      <td>18</td>\n",
       "    </tr>\n",
       "    <tr>\n",
       "      <th>19</th>\n",
       "      <td>0.825121</td>\n",
       "      <td>0.849261</td>\n",
       "      <td>0.505440</td>\n",
       "      <td>0.298830</td>\n",
       "      <td>0.040016</td>\n",
       "      <td>19</td>\n",
       "    </tr>\n",
       "  </tbody>\n",
       "</table>\n",
       "</div>"
      ],
      "text/plain": [
       "           a         b         c         d         e   f\n",
       "0   0.130861  0.608967  0.354778  0.444175  0.897828   0\n",
       "1   0.909209  0.451438  0.870167  0.256350  0.762493   1\n",
       "2   0.574966  0.700153  0.743195  0.194658  0.145866   2\n",
       "3   0.962317  0.846010  0.264511  0.612034  0.397991   3\n",
       "4   0.852607  0.280385  0.285077  0.836417  0.098982   4\n",
       "5   0.915303  0.999453  0.207615  0.812667  0.445971   5\n",
       "6   0.578720  0.875084  0.916643  0.639012  0.842631   6\n",
       "7   0.084235  0.538655  0.575204  0.723118  0.592949   7\n",
       "8   0.203978  0.446714  0.446219  0.572212  0.829765   8\n",
       "9   0.821850  0.327375  0.516201  0.213658  0.383463   9\n",
       "10  0.345244  0.182446  0.726670  0.101198  0.690100  10\n",
       "11  0.263081  0.278974  0.178218  0.228060  0.344035  11\n",
       "12  0.317022  0.192998  0.131538  0.404393  0.022856  12\n",
       "13  0.629659  0.772618  0.444650  0.215106  0.376171  13\n",
       "14  0.450455  0.531053  0.781466  0.610038  0.686281  14\n",
       "15  0.833681  0.083870  0.587713  0.840232  0.235971  15\n",
       "16  0.760720  0.927923  0.042855  0.475825  0.812414  16\n",
       "17  0.185196  0.328657  0.309027  0.208122  0.614992  17\n",
       "18  0.036514  0.123135  0.403208  0.032190  0.166991  18\n",
       "19  0.825121  0.849261  0.505440  0.298830  0.040016  19"
      ]
     },
     "execution_count": 118,
     "metadata": {},
     "output_type": "execute_result"
    }
   ],
   "source": [
    "s2"
   ]
  },
  {
   "cell_type": "markdown",
   "metadata": {},
   "source": [
    "### 通过标签设置值"
   ]
  },
  {
   "cell_type": "code",
   "execution_count": 119,
   "metadata": {
    "collapsed": true
   },
   "outputs": [],
   "source": [
    "s2.loc[20,'f']=13"
   ]
  },
  {
   "cell_type": "code",
   "execution_count": 120,
   "metadata": {},
   "outputs": [
    {
     "data": {
      "text/html": [
       "<div>\n",
       "<style>\n",
       "    .dataframe thead tr:only-child th {\n",
       "        text-align: right;\n",
       "    }\n",
       "\n",
       "    .dataframe thead th {\n",
       "        text-align: left;\n",
       "    }\n",
       "\n",
       "    .dataframe tbody tr th {\n",
       "        vertical-align: top;\n",
       "    }\n",
       "</style>\n",
       "<table border=\"1\" class=\"dataframe\">\n",
       "  <thead>\n",
       "    <tr style=\"text-align: right;\">\n",
       "      <th></th>\n",
       "      <th>a</th>\n",
       "      <th>b</th>\n",
       "      <th>c</th>\n",
       "      <th>d</th>\n",
       "      <th>e</th>\n",
       "      <th>f</th>\n",
       "    </tr>\n",
       "  </thead>\n",
       "  <tbody>\n",
       "    <tr>\n",
       "      <th>0</th>\n",
       "      <td>0.130861</td>\n",
       "      <td>0.608967</td>\n",
       "      <td>0.354778</td>\n",
       "      <td>0.444175</td>\n",
       "      <td>0.897828</td>\n",
       "      <td>0.0</td>\n",
       "    </tr>\n",
       "    <tr>\n",
       "      <th>1</th>\n",
       "      <td>0.909209</td>\n",
       "      <td>0.451438</td>\n",
       "      <td>0.870167</td>\n",
       "      <td>0.256350</td>\n",
       "      <td>0.762493</td>\n",
       "      <td>1.0</td>\n",
       "    </tr>\n",
       "    <tr>\n",
       "      <th>2</th>\n",
       "      <td>0.574966</td>\n",
       "      <td>0.700153</td>\n",
       "      <td>0.743195</td>\n",
       "      <td>0.194658</td>\n",
       "      <td>0.145866</td>\n",
       "      <td>2.0</td>\n",
       "    </tr>\n",
       "    <tr>\n",
       "      <th>3</th>\n",
       "      <td>0.962317</td>\n",
       "      <td>0.846010</td>\n",
       "      <td>0.264511</td>\n",
       "      <td>0.612034</td>\n",
       "      <td>0.397991</td>\n",
       "      <td>3.0</td>\n",
       "    </tr>\n",
       "    <tr>\n",
       "      <th>4</th>\n",
       "      <td>0.852607</td>\n",
       "      <td>0.280385</td>\n",
       "      <td>0.285077</td>\n",
       "      <td>0.836417</td>\n",
       "      <td>0.098982</td>\n",
       "      <td>4.0</td>\n",
       "    </tr>\n",
       "    <tr>\n",
       "      <th>5</th>\n",
       "      <td>0.915303</td>\n",
       "      <td>0.999453</td>\n",
       "      <td>0.207615</td>\n",
       "      <td>0.812667</td>\n",
       "      <td>0.445971</td>\n",
       "      <td>5.0</td>\n",
       "    </tr>\n",
       "    <tr>\n",
       "      <th>6</th>\n",
       "      <td>0.578720</td>\n",
       "      <td>0.875084</td>\n",
       "      <td>0.916643</td>\n",
       "      <td>0.639012</td>\n",
       "      <td>0.842631</td>\n",
       "      <td>6.0</td>\n",
       "    </tr>\n",
       "    <tr>\n",
       "      <th>7</th>\n",
       "      <td>0.084235</td>\n",
       "      <td>0.538655</td>\n",
       "      <td>0.575204</td>\n",
       "      <td>0.723118</td>\n",
       "      <td>0.592949</td>\n",
       "      <td>7.0</td>\n",
       "    </tr>\n",
       "    <tr>\n",
       "      <th>8</th>\n",
       "      <td>0.203978</td>\n",
       "      <td>0.446714</td>\n",
       "      <td>0.446219</td>\n",
       "      <td>0.572212</td>\n",
       "      <td>0.829765</td>\n",
       "      <td>8.0</td>\n",
       "    </tr>\n",
       "    <tr>\n",
       "      <th>9</th>\n",
       "      <td>0.821850</td>\n",
       "      <td>0.327375</td>\n",
       "      <td>0.516201</td>\n",
       "      <td>0.213658</td>\n",
       "      <td>0.383463</td>\n",
       "      <td>9.0</td>\n",
       "    </tr>\n",
       "    <tr>\n",
       "      <th>10</th>\n",
       "      <td>0.345244</td>\n",
       "      <td>0.182446</td>\n",
       "      <td>0.726670</td>\n",
       "      <td>0.101198</td>\n",
       "      <td>0.690100</td>\n",
       "      <td>10.0</td>\n",
       "    </tr>\n",
       "    <tr>\n",
       "      <th>11</th>\n",
       "      <td>0.263081</td>\n",
       "      <td>0.278974</td>\n",
       "      <td>0.178218</td>\n",
       "      <td>0.228060</td>\n",
       "      <td>0.344035</td>\n",
       "      <td>11.0</td>\n",
       "    </tr>\n",
       "    <tr>\n",
       "      <th>12</th>\n",
       "      <td>0.317022</td>\n",
       "      <td>0.192998</td>\n",
       "      <td>0.131538</td>\n",
       "      <td>0.404393</td>\n",
       "      <td>0.022856</td>\n",
       "      <td>12.0</td>\n",
       "    </tr>\n",
       "    <tr>\n",
       "      <th>13</th>\n",
       "      <td>0.629659</td>\n",
       "      <td>0.772618</td>\n",
       "      <td>0.444650</td>\n",
       "      <td>0.215106</td>\n",
       "      <td>0.376171</td>\n",
       "      <td>13.0</td>\n",
       "    </tr>\n",
       "    <tr>\n",
       "      <th>14</th>\n",
       "      <td>0.450455</td>\n",
       "      <td>0.531053</td>\n",
       "      <td>0.781466</td>\n",
       "      <td>0.610038</td>\n",
       "      <td>0.686281</td>\n",
       "      <td>14.0</td>\n",
       "    </tr>\n",
       "    <tr>\n",
       "      <th>15</th>\n",
       "      <td>0.833681</td>\n",
       "      <td>0.083870</td>\n",
       "      <td>0.587713</td>\n",
       "      <td>0.840232</td>\n",
       "      <td>0.235971</td>\n",
       "      <td>15.0</td>\n",
       "    </tr>\n",
       "    <tr>\n",
       "      <th>16</th>\n",
       "      <td>0.760720</td>\n",
       "      <td>0.927923</td>\n",
       "      <td>0.042855</td>\n",
       "      <td>0.475825</td>\n",
       "      <td>0.812414</td>\n",
       "      <td>16.0</td>\n",
       "    </tr>\n",
       "    <tr>\n",
       "      <th>17</th>\n",
       "      <td>0.185196</td>\n",
       "      <td>0.328657</td>\n",
       "      <td>0.309027</td>\n",
       "      <td>0.208122</td>\n",
       "      <td>0.614992</td>\n",
       "      <td>17.0</td>\n",
       "    </tr>\n",
       "    <tr>\n",
       "      <th>18</th>\n",
       "      <td>0.036514</td>\n",
       "      <td>0.123135</td>\n",
       "      <td>0.403208</td>\n",
       "      <td>0.032190</td>\n",
       "      <td>0.166991</td>\n",
       "      <td>18.0</td>\n",
       "    </tr>\n",
       "    <tr>\n",
       "      <th>19</th>\n",
       "      <td>0.825121</td>\n",
       "      <td>0.849261</td>\n",
       "      <td>0.505440</td>\n",
       "      <td>0.298830</td>\n",
       "      <td>0.040016</td>\n",
       "      <td>19.0</td>\n",
       "    </tr>\n",
       "    <tr>\n",
       "      <th>20</th>\n",
       "      <td>NaN</td>\n",
       "      <td>NaN</td>\n",
       "      <td>NaN</td>\n",
       "      <td>NaN</td>\n",
       "      <td>NaN</td>\n",
       "      <td>13.0</td>\n",
       "    </tr>\n",
       "  </tbody>\n",
       "</table>\n",
       "</div>"
      ],
      "text/plain": [
       "           a         b         c         d         e     f\n",
       "0   0.130861  0.608967  0.354778  0.444175  0.897828   0.0\n",
       "1   0.909209  0.451438  0.870167  0.256350  0.762493   1.0\n",
       "2   0.574966  0.700153  0.743195  0.194658  0.145866   2.0\n",
       "3   0.962317  0.846010  0.264511  0.612034  0.397991   3.0\n",
       "4   0.852607  0.280385  0.285077  0.836417  0.098982   4.0\n",
       "5   0.915303  0.999453  0.207615  0.812667  0.445971   5.0\n",
       "6   0.578720  0.875084  0.916643  0.639012  0.842631   6.0\n",
       "7   0.084235  0.538655  0.575204  0.723118  0.592949   7.0\n",
       "8   0.203978  0.446714  0.446219  0.572212  0.829765   8.0\n",
       "9   0.821850  0.327375  0.516201  0.213658  0.383463   9.0\n",
       "10  0.345244  0.182446  0.726670  0.101198  0.690100  10.0\n",
       "11  0.263081  0.278974  0.178218  0.228060  0.344035  11.0\n",
       "12  0.317022  0.192998  0.131538  0.404393  0.022856  12.0\n",
       "13  0.629659  0.772618  0.444650  0.215106  0.376171  13.0\n",
       "14  0.450455  0.531053  0.781466  0.610038  0.686281  14.0\n",
       "15  0.833681  0.083870  0.587713  0.840232  0.235971  15.0\n",
       "16  0.760720  0.927923  0.042855  0.475825  0.812414  16.0\n",
       "17  0.185196  0.328657  0.309027  0.208122  0.614992  17.0\n",
       "18  0.036514  0.123135  0.403208  0.032190  0.166991  18.0\n",
       "19  0.825121  0.849261  0.505440  0.298830  0.040016  19.0\n",
       "20       NaN       NaN       NaN       NaN       NaN  13.0"
      ]
     },
     "execution_count": 120,
     "metadata": {},
     "output_type": "execute_result"
    }
   ],
   "source": [
    "s2"
   ]
  },
  {
   "cell_type": "markdown",
   "metadata": {},
   "source": [
    "### 通过位置"
   ]
  },
  {
   "cell_type": "code",
   "execution_count": 121,
   "metadata": {
    "collapsed": true
   },
   "outputs": [],
   "source": [
    "s2.iloc[20:20,5:6]=13"
   ]
  },
  {
   "cell_type": "code",
   "execution_count": 122,
   "metadata": {},
   "outputs": [
    {
     "data": {
      "text/html": [
       "<div>\n",
       "<style>\n",
       "    .dataframe thead tr:only-child th {\n",
       "        text-align: right;\n",
       "    }\n",
       "\n",
       "    .dataframe thead th {\n",
       "        text-align: left;\n",
       "    }\n",
       "\n",
       "    .dataframe tbody tr th {\n",
       "        vertical-align: top;\n",
       "    }\n",
       "</style>\n",
       "<table border=\"1\" class=\"dataframe\">\n",
       "  <thead>\n",
       "    <tr style=\"text-align: right;\">\n",
       "      <th></th>\n",
       "      <th>a</th>\n",
       "      <th>b</th>\n",
       "      <th>c</th>\n",
       "      <th>d</th>\n",
       "      <th>e</th>\n",
       "      <th>f</th>\n",
       "    </tr>\n",
       "  </thead>\n",
       "  <tbody>\n",
       "    <tr>\n",
       "      <th>0</th>\n",
       "      <td>0.130861</td>\n",
       "      <td>0.608967</td>\n",
       "      <td>0.354778</td>\n",
       "      <td>0.444175</td>\n",
       "      <td>0.897828</td>\n",
       "      <td>0.0</td>\n",
       "    </tr>\n",
       "    <tr>\n",
       "      <th>1</th>\n",
       "      <td>0.909209</td>\n",
       "      <td>0.451438</td>\n",
       "      <td>0.870167</td>\n",
       "      <td>0.256350</td>\n",
       "      <td>0.762493</td>\n",
       "      <td>1.0</td>\n",
       "    </tr>\n",
       "    <tr>\n",
       "      <th>2</th>\n",
       "      <td>0.574966</td>\n",
       "      <td>0.700153</td>\n",
       "      <td>0.743195</td>\n",
       "      <td>0.194658</td>\n",
       "      <td>0.145866</td>\n",
       "      <td>2.0</td>\n",
       "    </tr>\n",
       "    <tr>\n",
       "      <th>3</th>\n",
       "      <td>0.962317</td>\n",
       "      <td>0.846010</td>\n",
       "      <td>0.264511</td>\n",
       "      <td>0.612034</td>\n",
       "      <td>0.397991</td>\n",
       "      <td>3.0</td>\n",
       "    </tr>\n",
       "    <tr>\n",
       "      <th>4</th>\n",
       "      <td>0.852607</td>\n",
       "      <td>0.280385</td>\n",
       "      <td>0.285077</td>\n",
       "      <td>0.836417</td>\n",
       "      <td>0.098982</td>\n",
       "      <td>4.0</td>\n",
       "    </tr>\n",
       "    <tr>\n",
       "      <th>5</th>\n",
       "      <td>0.915303</td>\n",
       "      <td>0.999453</td>\n",
       "      <td>0.207615</td>\n",
       "      <td>0.812667</td>\n",
       "      <td>0.445971</td>\n",
       "      <td>5.0</td>\n",
       "    </tr>\n",
       "    <tr>\n",
       "      <th>6</th>\n",
       "      <td>0.578720</td>\n",
       "      <td>0.875084</td>\n",
       "      <td>0.916643</td>\n",
       "      <td>0.639012</td>\n",
       "      <td>0.842631</td>\n",
       "      <td>6.0</td>\n",
       "    </tr>\n",
       "    <tr>\n",
       "      <th>7</th>\n",
       "      <td>0.084235</td>\n",
       "      <td>0.538655</td>\n",
       "      <td>0.575204</td>\n",
       "      <td>0.723118</td>\n",
       "      <td>0.592949</td>\n",
       "      <td>7.0</td>\n",
       "    </tr>\n",
       "    <tr>\n",
       "      <th>8</th>\n",
       "      <td>0.203978</td>\n",
       "      <td>0.446714</td>\n",
       "      <td>0.446219</td>\n",
       "      <td>0.572212</td>\n",
       "      <td>0.829765</td>\n",
       "      <td>8.0</td>\n",
       "    </tr>\n",
       "    <tr>\n",
       "      <th>9</th>\n",
       "      <td>0.821850</td>\n",
       "      <td>0.327375</td>\n",
       "      <td>0.516201</td>\n",
       "      <td>0.213658</td>\n",
       "      <td>0.383463</td>\n",
       "      <td>9.0</td>\n",
       "    </tr>\n",
       "    <tr>\n",
       "      <th>10</th>\n",
       "      <td>0.345244</td>\n",
       "      <td>0.182446</td>\n",
       "      <td>0.726670</td>\n",
       "      <td>0.101198</td>\n",
       "      <td>0.690100</td>\n",
       "      <td>10.0</td>\n",
       "    </tr>\n",
       "    <tr>\n",
       "      <th>11</th>\n",
       "      <td>0.263081</td>\n",
       "      <td>0.278974</td>\n",
       "      <td>0.178218</td>\n",
       "      <td>0.228060</td>\n",
       "      <td>0.344035</td>\n",
       "      <td>11.0</td>\n",
       "    </tr>\n",
       "    <tr>\n",
       "      <th>12</th>\n",
       "      <td>0.317022</td>\n",
       "      <td>0.192998</td>\n",
       "      <td>0.131538</td>\n",
       "      <td>0.404393</td>\n",
       "      <td>0.022856</td>\n",
       "      <td>12.0</td>\n",
       "    </tr>\n",
       "    <tr>\n",
       "      <th>13</th>\n",
       "      <td>0.629659</td>\n",
       "      <td>0.772618</td>\n",
       "      <td>0.444650</td>\n",
       "      <td>0.215106</td>\n",
       "      <td>0.376171</td>\n",
       "      <td>13.0</td>\n",
       "    </tr>\n",
       "    <tr>\n",
       "      <th>14</th>\n",
       "      <td>0.450455</td>\n",
       "      <td>0.531053</td>\n",
       "      <td>0.781466</td>\n",
       "      <td>0.610038</td>\n",
       "      <td>0.686281</td>\n",
       "      <td>14.0</td>\n",
       "    </tr>\n",
       "    <tr>\n",
       "      <th>15</th>\n",
       "      <td>0.833681</td>\n",
       "      <td>0.083870</td>\n",
       "      <td>0.587713</td>\n",
       "      <td>0.840232</td>\n",
       "      <td>0.235971</td>\n",
       "      <td>15.0</td>\n",
       "    </tr>\n",
       "    <tr>\n",
       "      <th>16</th>\n",
       "      <td>0.760720</td>\n",
       "      <td>0.927923</td>\n",
       "      <td>0.042855</td>\n",
       "      <td>0.475825</td>\n",
       "      <td>0.812414</td>\n",
       "      <td>16.0</td>\n",
       "    </tr>\n",
       "    <tr>\n",
       "      <th>17</th>\n",
       "      <td>0.185196</td>\n",
       "      <td>0.328657</td>\n",
       "      <td>0.309027</td>\n",
       "      <td>0.208122</td>\n",
       "      <td>0.614992</td>\n",
       "      <td>17.0</td>\n",
       "    </tr>\n",
       "    <tr>\n",
       "      <th>18</th>\n",
       "      <td>0.036514</td>\n",
       "      <td>0.123135</td>\n",
       "      <td>0.403208</td>\n",
       "      <td>0.032190</td>\n",
       "      <td>0.166991</td>\n",
       "      <td>18.0</td>\n",
       "    </tr>\n",
       "    <tr>\n",
       "      <th>19</th>\n",
       "      <td>0.825121</td>\n",
       "      <td>0.849261</td>\n",
       "      <td>0.505440</td>\n",
       "      <td>0.298830</td>\n",
       "      <td>0.040016</td>\n",
       "      <td>19.0</td>\n",
       "    </tr>\n",
       "    <tr>\n",
       "      <th>20</th>\n",
       "      <td>NaN</td>\n",
       "      <td>NaN</td>\n",
       "      <td>NaN</td>\n",
       "      <td>NaN</td>\n",
       "      <td>NaN</td>\n",
       "      <td>13.0</td>\n",
       "    </tr>\n",
       "  </tbody>\n",
       "</table>\n",
       "</div>"
      ],
      "text/plain": [
       "           a         b         c         d         e     f\n",
       "0   0.130861  0.608967  0.354778  0.444175  0.897828   0.0\n",
       "1   0.909209  0.451438  0.870167  0.256350  0.762493   1.0\n",
       "2   0.574966  0.700153  0.743195  0.194658  0.145866   2.0\n",
       "3   0.962317  0.846010  0.264511  0.612034  0.397991   3.0\n",
       "4   0.852607  0.280385  0.285077  0.836417  0.098982   4.0\n",
       "5   0.915303  0.999453  0.207615  0.812667  0.445971   5.0\n",
       "6   0.578720  0.875084  0.916643  0.639012  0.842631   6.0\n",
       "7   0.084235  0.538655  0.575204  0.723118  0.592949   7.0\n",
       "8   0.203978  0.446714  0.446219  0.572212  0.829765   8.0\n",
       "9   0.821850  0.327375  0.516201  0.213658  0.383463   9.0\n",
       "10  0.345244  0.182446  0.726670  0.101198  0.690100  10.0\n",
       "11  0.263081  0.278974  0.178218  0.228060  0.344035  11.0\n",
       "12  0.317022  0.192998  0.131538  0.404393  0.022856  12.0\n",
       "13  0.629659  0.772618  0.444650  0.215106  0.376171  13.0\n",
       "14  0.450455  0.531053  0.781466  0.610038  0.686281  14.0\n",
       "15  0.833681  0.083870  0.587713  0.840232  0.235971  15.0\n",
       "16  0.760720  0.927923  0.042855  0.475825  0.812414  16.0\n",
       "17  0.185196  0.328657  0.309027  0.208122  0.614992  17.0\n",
       "18  0.036514  0.123135  0.403208  0.032190  0.166991  18.0\n",
       "19  0.825121  0.849261  0.505440  0.298830  0.040016  19.0\n",
       "20       NaN       NaN       NaN       NaN       NaN  13.0"
      ]
     },
     "execution_count": 122,
     "metadata": {},
     "output_type": "execute_result"
    }
   ],
   "source": [
    "s2"
   ]
  },
  {
   "cell_type": "code",
   "execution_count": 123,
   "metadata": {
    "collapsed": true
   },
   "outputs": [],
   "source": [
    "s2[s2>0.5]=0"
   ]
  },
  {
   "cell_type": "code",
   "execution_count": 124,
   "metadata": {},
   "outputs": [
    {
     "data": {
      "text/html": [
       "<div>\n",
       "<style>\n",
       "    .dataframe thead tr:only-child th {\n",
       "        text-align: right;\n",
       "    }\n",
       "\n",
       "    .dataframe thead th {\n",
       "        text-align: left;\n",
       "    }\n",
       "\n",
       "    .dataframe tbody tr th {\n",
       "        vertical-align: top;\n",
       "    }\n",
       "</style>\n",
       "<table border=\"1\" class=\"dataframe\">\n",
       "  <thead>\n",
       "    <tr style=\"text-align: right;\">\n",
       "      <th></th>\n",
       "      <th>a</th>\n",
       "      <th>b</th>\n",
       "      <th>c</th>\n",
       "      <th>d</th>\n",
       "      <th>e</th>\n",
       "      <th>f</th>\n",
       "    </tr>\n",
       "  </thead>\n",
       "  <tbody>\n",
       "    <tr>\n",
       "      <th>0</th>\n",
       "      <td>0.130861</td>\n",
       "      <td>0.000000</td>\n",
       "      <td>0.354778</td>\n",
       "      <td>0.444175</td>\n",
       "      <td>0.000000</td>\n",
       "      <td>0.0</td>\n",
       "    </tr>\n",
       "    <tr>\n",
       "      <th>1</th>\n",
       "      <td>0.000000</td>\n",
       "      <td>0.451438</td>\n",
       "      <td>0.000000</td>\n",
       "      <td>0.256350</td>\n",
       "      <td>0.000000</td>\n",
       "      <td>0.0</td>\n",
       "    </tr>\n",
       "    <tr>\n",
       "      <th>2</th>\n",
       "      <td>0.000000</td>\n",
       "      <td>0.000000</td>\n",
       "      <td>0.000000</td>\n",
       "      <td>0.194658</td>\n",
       "      <td>0.145866</td>\n",
       "      <td>0.0</td>\n",
       "    </tr>\n",
       "    <tr>\n",
       "      <th>3</th>\n",
       "      <td>0.000000</td>\n",
       "      <td>0.000000</td>\n",
       "      <td>0.264511</td>\n",
       "      <td>0.000000</td>\n",
       "      <td>0.397991</td>\n",
       "      <td>0.0</td>\n",
       "    </tr>\n",
       "    <tr>\n",
       "      <th>4</th>\n",
       "      <td>0.000000</td>\n",
       "      <td>0.280385</td>\n",
       "      <td>0.285077</td>\n",
       "      <td>0.000000</td>\n",
       "      <td>0.098982</td>\n",
       "      <td>0.0</td>\n",
       "    </tr>\n",
       "    <tr>\n",
       "      <th>5</th>\n",
       "      <td>0.000000</td>\n",
       "      <td>0.000000</td>\n",
       "      <td>0.207615</td>\n",
       "      <td>0.000000</td>\n",
       "      <td>0.445971</td>\n",
       "      <td>0.0</td>\n",
       "    </tr>\n",
       "    <tr>\n",
       "      <th>6</th>\n",
       "      <td>0.000000</td>\n",
       "      <td>0.000000</td>\n",
       "      <td>0.000000</td>\n",
       "      <td>0.000000</td>\n",
       "      <td>0.000000</td>\n",
       "      <td>0.0</td>\n",
       "    </tr>\n",
       "    <tr>\n",
       "      <th>7</th>\n",
       "      <td>0.084235</td>\n",
       "      <td>0.000000</td>\n",
       "      <td>0.000000</td>\n",
       "      <td>0.000000</td>\n",
       "      <td>0.000000</td>\n",
       "      <td>0.0</td>\n",
       "    </tr>\n",
       "    <tr>\n",
       "      <th>8</th>\n",
       "      <td>0.203978</td>\n",
       "      <td>0.446714</td>\n",
       "      <td>0.446219</td>\n",
       "      <td>0.000000</td>\n",
       "      <td>0.000000</td>\n",
       "      <td>0.0</td>\n",
       "    </tr>\n",
       "    <tr>\n",
       "      <th>9</th>\n",
       "      <td>0.000000</td>\n",
       "      <td>0.327375</td>\n",
       "      <td>0.000000</td>\n",
       "      <td>0.213658</td>\n",
       "      <td>0.383463</td>\n",
       "      <td>0.0</td>\n",
       "    </tr>\n",
       "    <tr>\n",
       "      <th>10</th>\n",
       "      <td>0.345244</td>\n",
       "      <td>0.182446</td>\n",
       "      <td>0.000000</td>\n",
       "      <td>0.101198</td>\n",
       "      <td>0.000000</td>\n",
       "      <td>0.0</td>\n",
       "    </tr>\n",
       "    <tr>\n",
       "      <th>11</th>\n",
       "      <td>0.263081</td>\n",
       "      <td>0.278974</td>\n",
       "      <td>0.178218</td>\n",
       "      <td>0.228060</td>\n",
       "      <td>0.344035</td>\n",
       "      <td>0.0</td>\n",
       "    </tr>\n",
       "    <tr>\n",
       "      <th>12</th>\n",
       "      <td>0.317022</td>\n",
       "      <td>0.192998</td>\n",
       "      <td>0.131538</td>\n",
       "      <td>0.404393</td>\n",
       "      <td>0.022856</td>\n",
       "      <td>0.0</td>\n",
       "    </tr>\n",
       "    <tr>\n",
       "      <th>13</th>\n",
       "      <td>0.000000</td>\n",
       "      <td>0.000000</td>\n",
       "      <td>0.444650</td>\n",
       "      <td>0.215106</td>\n",
       "      <td>0.376171</td>\n",
       "      <td>0.0</td>\n",
       "    </tr>\n",
       "    <tr>\n",
       "      <th>14</th>\n",
       "      <td>0.450455</td>\n",
       "      <td>0.000000</td>\n",
       "      <td>0.000000</td>\n",
       "      <td>0.000000</td>\n",
       "      <td>0.000000</td>\n",
       "      <td>0.0</td>\n",
       "    </tr>\n",
       "    <tr>\n",
       "      <th>15</th>\n",
       "      <td>0.000000</td>\n",
       "      <td>0.083870</td>\n",
       "      <td>0.000000</td>\n",
       "      <td>0.000000</td>\n",
       "      <td>0.235971</td>\n",
       "      <td>0.0</td>\n",
       "    </tr>\n",
       "    <tr>\n",
       "      <th>16</th>\n",
       "      <td>0.000000</td>\n",
       "      <td>0.000000</td>\n",
       "      <td>0.042855</td>\n",
       "      <td>0.475825</td>\n",
       "      <td>0.000000</td>\n",
       "      <td>0.0</td>\n",
       "    </tr>\n",
       "    <tr>\n",
       "      <th>17</th>\n",
       "      <td>0.185196</td>\n",
       "      <td>0.328657</td>\n",
       "      <td>0.309027</td>\n",
       "      <td>0.208122</td>\n",
       "      <td>0.000000</td>\n",
       "      <td>0.0</td>\n",
       "    </tr>\n",
       "    <tr>\n",
       "      <th>18</th>\n",
       "      <td>0.036514</td>\n",
       "      <td>0.123135</td>\n",
       "      <td>0.403208</td>\n",
       "      <td>0.032190</td>\n",
       "      <td>0.166991</td>\n",
       "      <td>0.0</td>\n",
       "    </tr>\n",
       "    <tr>\n",
       "      <th>19</th>\n",
       "      <td>0.000000</td>\n",
       "      <td>0.000000</td>\n",
       "      <td>0.000000</td>\n",
       "      <td>0.298830</td>\n",
       "      <td>0.040016</td>\n",
       "      <td>0.0</td>\n",
       "    </tr>\n",
       "    <tr>\n",
       "      <th>20</th>\n",
       "      <td>NaN</td>\n",
       "      <td>NaN</td>\n",
       "      <td>NaN</td>\n",
       "      <td>NaN</td>\n",
       "      <td>NaN</td>\n",
       "      <td>0.0</td>\n",
       "    </tr>\n",
       "  </tbody>\n",
       "</table>\n",
       "</div>"
      ],
      "text/plain": [
       "           a         b         c         d         e    f\n",
       "0   0.130861  0.000000  0.354778  0.444175  0.000000  0.0\n",
       "1   0.000000  0.451438  0.000000  0.256350  0.000000  0.0\n",
       "2   0.000000  0.000000  0.000000  0.194658  0.145866  0.0\n",
       "3   0.000000  0.000000  0.264511  0.000000  0.397991  0.0\n",
       "4   0.000000  0.280385  0.285077  0.000000  0.098982  0.0\n",
       "5   0.000000  0.000000  0.207615  0.000000  0.445971  0.0\n",
       "6   0.000000  0.000000  0.000000  0.000000  0.000000  0.0\n",
       "7   0.084235  0.000000  0.000000  0.000000  0.000000  0.0\n",
       "8   0.203978  0.446714  0.446219  0.000000  0.000000  0.0\n",
       "9   0.000000  0.327375  0.000000  0.213658  0.383463  0.0\n",
       "10  0.345244  0.182446  0.000000  0.101198  0.000000  0.0\n",
       "11  0.263081  0.278974  0.178218  0.228060  0.344035  0.0\n",
       "12  0.317022  0.192998  0.131538  0.404393  0.022856  0.0\n",
       "13  0.000000  0.000000  0.444650  0.215106  0.376171  0.0\n",
       "14  0.450455  0.000000  0.000000  0.000000  0.000000  0.0\n",
       "15  0.000000  0.083870  0.000000  0.000000  0.235971  0.0\n",
       "16  0.000000  0.000000  0.042855  0.475825  0.000000  0.0\n",
       "17  0.185196  0.328657  0.309027  0.208122  0.000000  0.0\n",
       "18  0.036514  0.123135  0.403208  0.032190  0.166991  0.0\n",
       "19  0.000000  0.000000  0.000000  0.298830  0.040016  0.0\n",
       "20       NaN       NaN       NaN       NaN       NaN  0.0"
      ]
     },
     "execution_count": 124,
     "metadata": {},
     "output_type": "execute_result"
    }
   ],
   "source": [
    "s2"
   ]
  },
  {
   "cell_type": "code",
   "execution_count": 125,
   "metadata": {},
   "outputs": [],
   "source": [
    "s3=s2[s2.a<0.06]"
   ]
  },
  {
   "cell_type": "code",
   "execution_count": 126,
   "metadata": {},
   "outputs": [
    {
     "data": {
      "text/html": [
       "<div>\n",
       "<style>\n",
       "    .dataframe thead tr:only-child th {\n",
       "        text-align: right;\n",
       "    }\n",
       "\n",
       "    .dataframe thead th {\n",
       "        text-align: left;\n",
       "    }\n",
       "\n",
       "    .dataframe tbody tr th {\n",
       "        vertical-align: top;\n",
       "    }\n",
       "</style>\n",
       "<table border=\"1\" class=\"dataframe\">\n",
       "  <thead>\n",
       "    <tr style=\"text-align: right;\">\n",
       "      <th></th>\n",
       "      <th>a</th>\n",
       "      <th>b</th>\n",
       "      <th>c</th>\n",
       "      <th>d</th>\n",
       "      <th>e</th>\n",
       "      <th>f</th>\n",
       "    </tr>\n",
       "  </thead>\n",
       "  <tbody>\n",
       "    <tr>\n",
       "      <th>1</th>\n",
       "      <td>0.000000</td>\n",
       "      <td>0.451438</td>\n",
       "      <td>0.000000</td>\n",
       "      <td>0.256350</td>\n",
       "      <td>0.000000</td>\n",
       "      <td>0.0</td>\n",
       "    </tr>\n",
       "    <tr>\n",
       "      <th>2</th>\n",
       "      <td>0.000000</td>\n",
       "      <td>0.000000</td>\n",
       "      <td>0.000000</td>\n",
       "      <td>0.194658</td>\n",
       "      <td>0.145866</td>\n",
       "      <td>0.0</td>\n",
       "    </tr>\n",
       "    <tr>\n",
       "      <th>3</th>\n",
       "      <td>0.000000</td>\n",
       "      <td>0.000000</td>\n",
       "      <td>0.264511</td>\n",
       "      <td>0.000000</td>\n",
       "      <td>0.397991</td>\n",
       "      <td>0.0</td>\n",
       "    </tr>\n",
       "    <tr>\n",
       "      <th>4</th>\n",
       "      <td>0.000000</td>\n",
       "      <td>0.280385</td>\n",
       "      <td>0.285077</td>\n",
       "      <td>0.000000</td>\n",
       "      <td>0.098982</td>\n",
       "      <td>0.0</td>\n",
       "    </tr>\n",
       "    <tr>\n",
       "      <th>5</th>\n",
       "      <td>0.000000</td>\n",
       "      <td>0.000000</td>\n",
       "      <td>0.207615</td>\n",
       "      <td>0.000000</td>\n",
       "      <td>0.445971</td>\n",
       "      <td>0.0</td>\n",
       "    </tr>\n",
       "    <tr>\n",
       "      <th>6</th>\n",
       "      <td>0.000000</td>\n",
       "      <td>0.000000</td>\n",
       "      <td>0.000000</td>\n",
       "      <td>0.000000</td>\n",
       "      <td>0.000000</td>\n",
       "      <td>0.0</td>\n",
       "    </tr>\n",
       "    <tr>\n",
       "      <th>9</th>\n",
       "      <td>0.000000</td>\n",
       "      <td>0.327375</td>\n",
       "      <td>0.000000</td>\n",
       "      <td>0.213658</td>\n",
       "      <td>0.383463</td>\n",
       "      <td>0.0</td>\n",
       "    </tr>\n",
       "    <tr>\n",
       "      <th>13</th>\n",
       "      <td>0.000000</td>\n",
       "      <td>0.000000</td>\n",
       "      <td>0.444650</td>\n",
       "      <td>0.215106</td>\n",
       "      <td>0.376171</td>\n",
       "      <td>0.0</td>\n",
       "    </tr>\n",
       "    <tr>\n",
       "      <th>15</th>\n",
       "      <td>0.000000</td>\n",
       "      <td>0.083870</td>\n",
       "      <td>0.000000</td>\n",
       "      <td>0.000000</td>\n",
       "      <td>0.235971</td>\n",
       "      <td>0.0</td>\n",
       "    </tr>\n",
       "    <tr>\n",
       "      <th>16</th>\n",
       "      <td>0.000000</td>\n",
       "      <td>0.000000</td>\n",
       "      <td>0.042855</td>\n",
       "      <td>0.475825</td>\n",
       "      <td>0.000000</td>\n",
       "      <td>0.0</td>\n",
       "    </tr>\n",
       "    <tr>\n",
       "      <th>18</th>\n",
       "      <td>0.036514</td>\n",
       "      <td>0.123135</td>\n",
       "      <td>0.403208</td>\n",
       "      <td>0.032190</td>\n",
       "      <td>0.166991</td>\n",
       "      <td>0.0</td>\n",
       "    </tr>\n",
       "    <tr>\n",
       "      <th>19</th>\n",
       "      <td>0.000000</td>\n",
       "      <td>0.000000</td>\n",
       "      <td>0.000000</td>\n",
       "      <td>0.298830</td>\n",
       "      <td>0.040016</td>\n",
       "      <td>0.0</td>\n",
       "    </tr>\n",
       "  </tbody>\n",
       "</table>\n",
       "</div>"
      ],
      "text/plain": [
       "           a         b         c         d         e    f\n",
       "1   0.000000  0.451438  0.000000  0.256350  0.000000  0.0\n",
       "2   0.000000  0.000000  0.000000  0.194658  0.145866  0.0\n",
       "3   0.000000  0.000000  0.264511  0.000000  0.397991  0.0\n",
       "4   0.000000  0.280385  0.285077  0.000000  0.098982  0.0\n",
       "5   0.000000  0.000000  0.207615  0.000000  0.445971  0.0\n",
       "6   0.000000  0.000000  0.000000  0.000000  0.000000  0.0\n",
       "9   0.000000  0.327375  0.000000  0.213658  0.383463  0.0\n",
       "13  0.000000  0.000000  0.444650  0.215106  0.376171  0.0\n",
       "15  0.000000  0.083870  0.000000  0.000000  0.235971  0.0\n",
       "16  0.000000  0.000000  0.042855  0.475825  0.000000  0.0\n",
       "18  0.036514  0.123135  0.403208  0.032190  0.166991  0.0\n",
       "19  0.000000  0.000000  0.000000  0.298830  0.040016  0.0"
      ]
     },
     "execution_count": 126,
     "metadata": {},
     "output_type": "execute_result"
    }
   ],
   "source": [
    "s3"
   ]
  },
  {
   "cell_type": "markdown",
   "metadata": {},
   "source": [
    "### 缺失值的处理"
   ]
  },
  {
   "cell_type": "markdown",
   "metadata": {},
   "source": [
    "#### reindex() 方法可以对指定的轴上的索引进行修改（增加/删除）"
   ]
  },
  {
   "cell_type": "code",
   "execution_count": 136,
   "metadata": {
    "collapsed": true
   },
   "outputs": [],
   "source": [
    "s4=s2.reindex(index=[i for i in range(10)],columns=list(s2.columns)+['a'])"
   ]
  },
  {
   "cell_type": "code",
   "execution_count": 137,
   "metadata": {},
   "outputs": [
    {
     "data": {
      "text/html": [
       "<div>\n",
       "<style>\n",
       "    .dataframe thead tr:only-child th {\n",
       "        text-align: right;\n",
       "    }\n",
       "\n",
       "    .dataframe thead th {\n",
       "        text-align: left;\n",
       "    }\n",
       "\n",
       "    .dataframe tbody tr th {\n",
       "        vertical-align: top;\n",
       "    }\n",
       "</style>\n",
       "<table border=\"1\" class=\"dataframe\">\n",
       "  <thead>\n",
       "    <tr style=\"text-align: right;\">\n",
       "      <th></th>\n",
       "      <th>a</th>\n",
       "      <th>b</th>\n",
       "      <th>c</th>\n",
       "      <th>d</th>\n",
       "      <th>e</th>\n",
       "      <th>f</th>\n",
       "      <th>a</th>\n",
       "    </tr>\n",
       "  </thead>\n",
       "  <tbody>\n",
       "    <tr>\n",
       "      <th>0</th>\n",
       "      <td>0.130861</td>\n",
       "      <td>0.000000</td>\n",
       "      <td>0.354778</td>\n",
       "      <td>0.444175</td>\n",
       "      <td>0.000000</td>\n",
       "      <td>0.0</td>\n",
       "      <td>0.130861</td>\n",
       "    </tr>\n",
       "    <tr>\n",
       "      <th>1</th>\n",
       "      <td>0.000000</td>\n",
       "      <td>0.451438</td>\n",
       "      <td>0.000000</td>\n",
       "      <td>0.256350</td>\n",
       "      <td>0.000000</td>\n",
       "      <td>0.0</td>\n",
       "      <td>0.000000</td>\n",
       "    </tr>\n",
       "    <tr>\n",
       "      <th>2</th>\n",
       "      <td>0.000000</td>\n",
       "      <td>0.000000</td>\n",
       "      <td>0.000000</td>\n",
       "      <td>0.194658</td>\n",
       "      <td>0.145866</td>\n",
       "      <td>0.0</td>\n",
       "      <td>0.000000</td>\n",
       "    </tr>\n",
       "    <tr>\n",
       "      <th>3</th>\n",
       "      <td>0.000000</td>\n",
       "      <td>0.000000</td>\n",
       "      <td>0.264511</td>\n",
       "      <td>0.000000</td>\n",
       "      <td>0.397991</td>\n",
       "      <td>0.0</td>\n",
       "      <td>0.000000</td>\n",
       "    </tr>\n",
       "    <tr>\n",
       "      <th>4</th>\n",
       "      <td>0.000000</td>\n",
       "      <td>0.280385</td>\n",
       "      <td>0.285077</td>\n",
       "      <td>0.000000</td>\n",
       "      <td>0.098982</td>\n",
       "      <td>0.0</td>\n",
       "      <td>0.000000</td>\n",
       "    </tr>\n",
       "    <tr>\n",
       "      <th>5</th>\n",
       "      <td>0.000000</td>\n",
       "      <td>0.000000</td>\n",
       "      <td>0.207615</td>\n",
       "      <td>0.000000</td>\n",
       "      <td>0.445971</td>\n",
       "      <td>0.0</td>\n",
       "      <td>0.000000</td>\n",
       "    </tr>\n",
       "    <tr>\n",
       "      <th>6</th>\n",
       "      <td>0.000000</td>\n",
       "      <td>0.000000</td>\n",
       "      <td>0.000000</td>\n",
       "      <td>0.000000</td>\n",
       "      <td>0.000000</td>\n",
       "      <td>0.0</td>\n",
       "      <td>0.000000</td>\n",
       "    </tr>\n",
       "    <tr>\n",
       "      <th>7</th>\n",
       "      <td>0.084235</td>\n",
       "      <td>0.000000</td>\n",
       "      <td>0.000000</td>\n",
       "      <td>0.000000</td>\n",
       "      <td>0.000000</td>\n",
       "      <td>0.0</td>\n",
       "      <td>0.084235</td>\n",
       "    </tr>\n",
       "    <tr>\n",
       "      <th>8</th>\n",
       "      <td>0.203978</td>\n",
       "      <td>0.446714</td>\n",
       "      <td>0.446219</td>\n",
       "      <td>0.000000</td>\n",
       "      <td>0.000000</td>\n",
       "      <td>0.0</td>\n",
       "      <td>0.203978</td>\n",
       "    </tr>\n",
       "    <tr>\n",
       "      <th>9</th>\n",
       "      <td>0.000000</td>\n",
       "      <td>0.327375</td>\n",
       "      <td>0.000000</td>\n",
       "      <td>0.213658</td>\n",
       "      <td>0.383463</td>\n",
       "      <td>0.0</td>\n",
       "      <td>0.000000</td>\n",
       "    </tr>\n",
       "  </tbody>\n",
       "</table>\n",
       "</div>"
      ],
      "text/plain": [
       "          a         b         c         d         e    f         a\n",
       "0  0.130861  0.000000  0.354778  0.444175  0.000000  0.0  0.130861\n",
       "1  0.000000  0.451438  0.000000  0.256350  0.000000  0.0  0.000000\n",
       "2  0.000000  0.000000  0.000000  0.194658  0.145866  0.0  0.000000\n",
       "3  0.000000  0.000000  0.264511  0.000000  0.397991  0.0  0.000000\n",
       "4  0.000000  0.280385  0.285077  0.000000  0.098982  0.0  0.000000\n",
       "5  0.000000  0.000000  0.207615  0.000000  0.445971  0.0  0.000000\n",
       "6  0.000000  0.000000  0.000000  0.000000  0.000000  0.0  0.000000\n",
       "7  0.084235  0.000000  0.000000  0.000000  0.000000  0.0  0.084235\n",
       "8  0.203978  0.446714  0.446219  0.000000  0.000000  0.0  0.203978\n",
       "9  0.000000  0.327375  0.000000  0.213658  0.383463  0.0  0.000000"
      ]
     },
     "execution_count": 137,
     "metadata": {},
     "output_type": "execute_result"
    }
   ],
   "source": [
    "s4"
   ]
  },
  {
   "cell_type": "code",
   "execution_count": 140,
   "metadata": {
    "collapsed": true
   },
   "outputs": [],
   "source": [
    "s4=DataFrame(np.array(\n",
    "[\n",
    "    [1,np.NaN,2,3,4],\n",
    "    [1,2,3,4,np.NaN]\n",
    "]))"
   ]
  },
  {
   "cell_type": "code",
   "execution_count": 141,
   "metadata": {},
   "outputs": [
    {
     "data": {
      "text/html": [
       "<div>\n",
       "<style>\n",
       "    .dataframe thead tr:only-child th {\n",
       "        text-align: right;\n",
       "    }\n",
       "\n",
       "    .dataframe thead th {\n",
       "        text-align: left;\n",
       "    }\n",
       "\n",
       "    .dataframe tbody tr th {\n",
       "        vertical-align: top;\n",
       "    }\n",
       "</style>\n",
       "<table border=\"1\" class=\"dataframe\">\n",
       "  <thead>\n",
       "    <tr style=\"text-align: right;\">\n",
       "      <th></th>\n",
       "      <th>0</th>\n",
       "      <th>1</th>\n",
       "      <th>2</th>\n",
       "      <th>3</th>\n",
       "      <th>4</th>\n",
       "    </tr>\n",
       "  </thead>\n",
       "  <tbody>\n",
       "    <tr>\n",
       "      <th>0</th>\n",
       "      <td>1.0</td>\n",
       "      <td>NaN</td>\n",
       "      <td>2.0</td>\n",
       "      <td>3.0</td>\n",
       "      <td>4.0</td>\n",
       "    </tr>\n",
       "    <tr>\n",
       "      <th>1</th>\n",
       "      <td>1.0</td>\n",
       "      <td>2.0</td>\n",
       "      <td>3.0</td>\n",
       "      <td>4.0</td>\n",
       "      <td>NaN</td>\n",
       "    </tr>\n",
       "  </tbody>\n",
       "</table>\n",
       "</div>"
      ],
      "text/plain": [
       "     0    1    2    3    4\n",
       "0  1.0  NaN  2.0  3.0  4.0\n",
       "1  1.0  2.0  3.0  4.0  NaN"
      ]
     },
     "execution_count": 141,
     "metadata": {},
     "output_type": "execute_result"
    }
   ],
   "source": [
    "s4"
   ]
  },
  {
   "cell_type": "code",
   "execution_count": 143,
   "metadata": {},
   "outputs": [
    {
     "data": {
      "text/plain": [
       "0    1.0\n",
       "1    2.0\n",
       "2    3.0\n",
       "3    4.0\n",
       "4    NaN\n",
       "Name: 1, dtype: float64"
      ]
     },
     "execution_count": 143,
     "metadata": {},
     "output_type": "execute_result"
    }
   ],
   "source": [
    "s4.ix[1]"
   ]
  },
  {
   "cell_type": "code",
   "execution_count": 144,
   "metadata": {
    "collapsed": true
   },
   "outputs": [],
   "source": [
    "s4.ix[2]=[1,2,3,4,5]"
   ]
  },
  {
   "cell_type": "code",
   "execution_count": 145,
   "metadata": {},
   "outputs": [
    {
     "data": {
      "text/html": [
       "<div>\n",
       "<style>\n",
       "    .dataframe thead tr:only-child th {\n",
       "        text-align: right;\n",
       "    }\n",
       "\n",
       "    .dataframe thead th {\n",
       "        text-align: left;\n",
       "    }\n",
       "\n",
       "    .dataframe tbody tr th {\n",
       "        vertical-align: top;\n",
       "    }\n",
       "</style>\n",
       "<table border=\"1\" class=\"dataframe\">\n",
       "  <thead>\n",
       "    <tr style=\"text-align: right;\">\n",
       "      <th></th>\n",
       "      <th>0</th>\n",
       "      <th>1</th>\n",
       "      <th>2</th>\n",
       "      <th>3</th>\n",
       "      <th>4</th>\n",
       "    </tr>\n",
       "  </thead>\n",
       "  <tbody>\n",
       "    <tr>\n",
       "      <th>0</th>\n",
       "      <td>1.0</td>\n",
       "      <td>NaN</td>\n",
       "      <td>2.0</td>\n",
       "      <td>3.0</td>\n",
       "      <td>4.0</td>\n",
       "    </tr>\n",
       "    <tr>\n",
       "      <th>1</th>\n",
       "      <td>1.0</td>\n",
       "      <td>2.0</td>\n",
       "      <td>3.0</td>\n",
       "      <td>4.0</td>\n",
       "      <td>NaN</td>\n",
       "    </tr>\n",
       "    <tr>\n",
       "      <th>2</th>\n",
       "      <td>1.0</td>\n",
       "      <td>2.0</td>\n",
       "      <td>3.0</td>\n",
       "      <td>4.0</td>\n",
       "      <td>5.0</td>\n",
       "    </tr>\n",
       "  </tbody>\n",
       "</table>\n",
       "</div>"
      ],
      "text/plain": [
       "     0    1    2    3    4\n",
       "0  1.0  NaN  2.0  3.0  4.0\n",
       "1  1.0  2.0  3.0  4.0  NaN\n",
       "2  1.0  2.0  3.0  4.0  5.0"
      ]
     },
     "execution_count": 145,
     "metadata": {},
     "output_type": "execute_result"
    }
   ],
   "source": [
    "s4"
   ]
  },
  {
   "cell_type": "markdown",
   "metadata": {},
   "source": [
    "#### 去除包含缺失值的行"
   ]
  },
  {
   "cell_type": "code",
   "execution_count": 146,
   "metadata": {},
   "outputs": [
    {
     "data": {
      "text/plain": [
       "<bound method DataFrame.dropna of      0    1    2    3    4\n",
       "0  1.0  NaN  2.0  3.0  4.0\n",
       "1  1.0  2.0  3.0  4.0  NaN\n",
       "2  1.0  2.0  3.0  4.0  5.0>"
      ]
     },
     "execution_count": 146,
     "metadata": {},
     "output_type": "execute_result"
    }
   ],
   "source": [
    "s4.dropna"
   ]
  },
  {
   "cell_type": "markdown",
   "metadata": {},
   "source": [
    "#### 对缺失值的替换"
   ]
  },
  {
   "cell_type": "code",
   "execution_count": 147,
   "metadata": {},
   "outputs": [
    {
     "data": {
      "text/html": [
       "<div>\n",
       "<style>\n",
       "    .dataframe thead tr:only-child th {\n",
       "        text-align: right;\n",
       "    }\n",
       "\n",
       "    .dataframe thead th {\n",
       "        text-align: left;\n",
       "    }\n",
       "\n",
       "    .dataframe tbody tr th {\n",
       "        vertical-align: top;\n",
       "    }\n",
       "</style>\n",
       "<table border=\"1\" class=\"dataframe\">\n",
       "  <thead>\n",
       "    <tr style=\"text-align: right;\">\n",
       "      <th></th>\n",
       "      <th>0</th>\n",
       "      <th>1</th>\n",
       "      <th>2</th>\n",
       "      <th>3</th>\n",
       "      <th>4</th>\n",
       "    </tr>\n",
       "  </thead>\n",
       "  <tbody>\n",
       "    <tr>\n",
       "      <th>0</th>\n",
       "      <td>1.0</td>\n",
       "      <td>NaN</td>\n",
       "      <td>2.0</td>\n",
       "      <td>3.0</td>\n",
       "      <td>4.0</td>\n",
       "    </tr>\n",
       "    <tr>\n",
       "      <th>1</th>\n",
       "      <td>1.0</td>\n",
       "      <td>2.0</td>\n",
       "      <td>3.0</td>\n",
       "      <td>4.0</td>\n",
       "      <td>NaN</td>\n",
       "    </tr>\n",
       "    <tr>\n",
       "      <th>2</th>\n",
       "      <td>1.0</td>\n",
       "      <td>2.0</td>\n",
       "      <td>3.0</td>\n",
       "      <td>4.0</td>\n",
       "      <td>5.0</td>\n",
       "    </tr>\n",
       "  </tbody>\n",
       "</table>\n",
       "</div>"
      ],
      "text/plain": [
       "     0    1    2    3    4\n",
       "0  1.0  NaN  2.0  3.0  4.0\n",
       "1  1.0  2.0  3.0  4.0  NaN\n",
       "2  1.0  2.0  3.0  4.0  5.0"
      ]
     },
     "execution_count": 147,
     "metadata": {},
     "output_type": "execute_result"
    }
   ],
   "source": [
    "s4"
   ]
  },
  {
   "cell_type": "code",
   "execution_count": 148,
   "metadata": {},
   "outputs": [
    {
     "data": {
      "text/html": [
       "<div>\n",
       "<style>\n",
       "    .dataframe thead tr:only-child th {\n",
       "        text-align: right;\n",
       "    }\n",
       "\n",
       "    .dataframe thead th {\n",
       "        text-align: left;\n",
       "    }\n",
       "\n",
       "    .dataframe tbody tr th {\n",
       "        vertical-align: top;\n",
       "    }\n",
       "</style>\n",
       "<table border=\"1\" class=\"dataframe\">\n",
       "  <thead>\n",
       "    <tr style=\"text-align: right;\">\n",
       "      <th></th>\n",
       "      <th>0</th>\n",
       "      <th>1</th>\n",
       "      <th>2</th>\n",
       "      <th>3</th>\n",
       "      <th>4</th>\n",
       "    </tr>\n",
       "  </thead>\n",
       "  <tbody>\n",
       "    <tr>\n",
       "      <th>0</th>\n",
       "      <td>1.0</td>\n",
       "      <td>0.0</td>\n",
       "      <td>2.0</td>\n",
       "      <td>3.0</td>\n",
       "      <td>4.0</td>\n",
       "    </tr>\n",
       "    <tr>\n",
       "      <th>1</th>\n",
       "      <td>1.0</td>\n",
       "      <td>2.0</td>\n",
       "      <td>3.0</td>\n",
       "      <td>4.0</td>\n",
       "      <td>0.0</td>\n",
       "    </tr>\n",
       "    <tr>\n",
       "      <th>2</th>\n",
       "      <td>1.0</td>\n",
       "      <td>2.0</td>\n",
       "      <td>3.0</td>\n",
       "      <td>4.0</td>\n",
       "      <td>5.0</td>\n",
       "    </tr>\n",
       "  </tbody>\n",
       "</table>\n",
       "</div>"
      ],
      "text/plain": [
       "     0    1    2    3    4\n",
       "0  1.0  0.0  2.0  3.0  4.0\n",
       "1  1.0  2.0  3.0  4.0  0.0\n",
       "2  1.0  2.0  3.0  4.0  5.0"
      ]
     },
     "execution_count": 148,
     "metadata": {},
     "output_type": "execute_result"
    }
   ],
   "source": [
    "s4.fillna(value=0)"
   ]
  },
  {
   "cell_type": "code",
   "execution_count": 152,
   "metadata": {},
   "outputs": [],
   "source": [
    "s5=DataFrame(np.array(\n",
    "[\n",
    "    [1,np.NaN,2,3,4],\n",
    "    [1,2,3,4,np.NaN],\n",
    "    [1,2,3,5,6]\n",
    "]))"
   ]
  },
  {
   "cell_type": "markdown",
   "metadata": {},
   "source": [
    "### 对数据进行布尔填充，空值的判断"
   ]
  },
  {
   "cell_type": "code",
   "execution_count": 153,
   "metadata": {},
   "outputs": [
    {
     "data": {
      "text/html": [
       "<div>\n",
       "<style>\n",
       "    .dataframe thead tr:only-child th {\n",
       "        text-align: right;\n",
       "    }\n",
       "\n",
       "    .dataframe thead th {\n",
       "        text-align: left;\n",
       "    }\n",
       "\n",
       "    .dataframe tbody tr th {\n",
       "        vertical-align: top;\n",
       "    }\n",
       "</style>\n",
       "<table border=\"1\" class=\"dataframe\">\n",
       "  <thead>\n",
       "    <tr style=\"text-align: right;\">\n",
       "      <th></th>\n",
       "      <th>0</th>\n",
       "      <th>1</th>\n",
       "      <th>2</th>\n",
       "      <th>3</th>\n",
       "      <th>4</th>\n",
       "    </tr>\n",
       "  </thead>\n",
       "  <tbody>\n",
       "    <tr>\n",
       "      <th>0</th>\n",
       "      <td>False</td>\n",
       "      <td>True</td>\n",
       "      <td>False</td>\n",
       "      <td>False</td>\n",
       "      <td>False</td>\n",
       "    </tr>\n",
       "    <tr>\n",
       "      <th>1</th>\n",
       "      <td>False</td>\n",
       "      <td>False</td>\n",
       "      <td>False</td>\n",
       "      <td>False</td>\n",
       "      <td>True</td>\n",
       "    </tr>\n",
       "    <tr>\n",
       "      <th>2</th>\n",
       "      <td>False</td>\n",
       "      <td>False</td>\n",
       "      <td>False</td>\n",
       "      <td>False</td>\n",
       "      <td>False</td>\n",
       "    </tr>\n",
       "  </tbody>\n",
       "</table>\n",
       "</div>"
      ],
      "text/plain": [
       "       0      1      2      3      4\n",
       "0  False   True  False  False  False\n",
       "1  False  False  False  False   True\n",
       "2  False  False  False  False  False"
      ]
     },
     "execution_count": 153,
     "metadata": {},
     "output_type": "execute_result"
    }
   ],
   "source": [
    "pd.isnull(s5)"
   ]
  },
  {
   "cell_type": "markdown",
   "metadata": {},
   "source": [
    "### 其他操作"
   ]
  },
  {
   "cell_type": "markdown",
   "metadata": {},
   "source": [
    "#### 数据描述性统计"
   ]
  },
  {
   "cell_type": "code",
   "execution_count": 159,
   "metadata": {},
   "outputs": [
    {
     "data": {
      "text/plain": [
       "0    0.154969\n",
       "1    0.117965\n",
       "2    0.056754\n",
       "3    0.110417\n",
       "4    0.110741\n",
       "5    0.108931\n",
       "6    0.000000\n",
       "7    0.014039\n",
       "8    0.182819\n",
       "9    0.154083\n",
       "dtype: float64"
      ]
     },
     "execution_count": 159,
     "metadata": {},
     "output_type": "execute_result"
    }
   ],
   "source": [
    "s3.mean(1)   #对固定的轴进行统计操作"
   ]
  },
  {
   "cell_type": "code",
   "execution_count": 155,
   "metadata": {},
   "outputs": [
    {
     "data": {
      "text/html": [
       "<div>\n",
       "<style>\n",
       "    .dataframe thead tr:only-child th {\n",
       "        text-align: right;\n",
       "    }\n",
       "\n",
       "    .dataframe thead th {\n",
       "        text-align: left;\n",
       "    }\n",
       "\n",
       "    .dataframe tbody tr th {\n",
       "        vertical-align: top;\n",
       "    }\n",
       "</style>\n",
       "<table border=\"1\" class=\"dataframe\">\n",
       "  <thead>\n",
       "    <tr style=\"text-align: right;\">\n",
       "      <th></th>\n",
       "      <th>a</th>\n",
       "      <th>b</th>\n",
       "      <th>c</th>\n",
       "      <th>d</th>\n",
       "      <th>e</th>\n",
       "      <th>f</th>\n",
       "    </tr>\n",
       "  </thead>\n",
       "  <tbody>\n",
       "    <tr>\n",
       "      <th>0</th>\n",
       "      <td>0.130861</td>\n",
       "      <td>0.000000</td>\n",
       "      <td>0.354778</td>\n",
       "      <td>0.444175</td>\n",
       "      <td>0.000000</td>\n",
       "      <td>0.0</td>\n",
       "    </tr>\n",
       "    <tr>\n",
       "      <th>1</th>\n",
       "      <td>0.000000</td>\n",
       "      <td>0.451438</td>\n",
       "      <td>0.000000</td>\n",
       "      <td>0.256350</td>\n",
       "      <td>0.000000</td>\n",
       "      <td>0.0</td>\n",
       "    </tr>\n",
       "    <tr>\n",
       "      <th>2</th>\n",
       "      <td>0.000000</td>\n",
       "      <td>0.000000</td>\n",
       "      <td>0.000000</td>\n",
       "      <td>0.194658</td>\n",
       "      <td>0.145866</td>\n",
       "      <td>0.0</td>\n",
       "    </tr>\n",
       "    <tr>\n",
       "      <th>3</th>\n",
       "      <td>0.000000</td>\n",
       "      <td>0.000000</td>\n",
       "      <td>0.264511</td>\n",
       "      <td>0.000000</td>\n",
       "      <td>0.397991</td>\n",
       "      <td>0.0</td>\n",
       "    </tr>\n",
       "    <tr>\n",
       "      <th>4</th>\n",
       "      <td>0.000000</td>\n",
       "      <td>0.280385</td>\n",
       "      <td>0.285077</td>\n",
       "      <td>0.000000</td>\n",
       "      <td>0.098982</td>\n",
       "      <td>0.0</td>\n",
       "    </tr>\n",
       "    <tr>\n",
       "      <th>5</th>\n",
       "      <td>0.000000</td>\n",
       "      <td>0.000000</td>\n",
       "      <td>0.207615</td>\n",
       "      <td>0.000000</td>\n",
       "      <td>0.445971</td>\n",
       "      <td>0.0</td>\n",
       "    </tr>\n",
       "    <tr>\n",
       "      <th>6</th>\n",
       "      <td>0.000000</td>\n",
       "      <td>0.000000</td>\n",
       "      <td>0.000000</td>\n",
       "      <td>0.000000</td>\n",
       "      <td>0.000000</td>\n",
       "      <td>0.0</td>\n",
       "    </tr>\n",
       "    <tr>\n",
       "      <th>7</th>\n",
       "      <td>0.084235</td>\n",
       "      <td>0.000000</td>\n",
       "      <td>0.000000</td>\n",
       "      <td>0.000000</td>\n",
       "      <td>0.000000</td>\n",
       "      <td>0.0</td>\n",
       "    </tr>\n",
       "    <tr>\n",
       "      <th>8</th>\n",
       "      <td>0.203978</td>\n",
       "      <td>0.446714</td>\n",
       "      <td>0.446219</td>\n",
       "      <td>0.000000</td>\n",
       "      <td>0.000000</td>\n",
       "      <td>0.0</td>\n",
       "    </tr>\n",
       "    <tr>\n",
       "      <th>9</th>\n",
       "      <td>0.000000</td>\n",
       "      <td>0.327375</td>\n",
       "      <td>0.000000</td>\n",
       "      <td>0.213658</td>\n",
       "      <td>0.383463</td>\n",
       "      <td>0.0</td>\n",
       "    </tr>\n",
       "  </tbody>\n",
       "</table>\n",
       "</div>"
      ],
      "text/plain": [
       "          a         b         c         d         e    f\n",
       "0  0.130861  0.000000  0.354778  0.444175  0.000000  0.0\n",
       "1  0.000000  0.451438  0.000000  0.256350  0.000000  0.0\n",
       "2  0.000000  0.000000  0.000000  0.194658  0.145866  0.0\n",
       "3  0.000000  0.000000  0.264511  0.000000  0.397991  0.0\n",
       "4  0.000000  0.280385  0.285077  0.000000  0.098982  0.0\n",
       "5  0.000000  0.000000  0.207615  0.000000  0.445971  0.0\n",
       "6  0.000000  0.000000  0.000000  0.000000  0.000000  0.0\n",
       "7  0.084235  0.000000  0.000000  0.000000  0.000000  0.0\n",
       "8  0.203978  0.446714  0.446219  0.000000  0.000000  0.0\n",
       "9  0.000000  0.327375  0.000000  0.213658  0.383463  0.0"
      ]
     },
     "execution_count": 155,
     "metadata": {},
     "output_type": "execute_result"
    }
   ],
   "source": [
    "s3"
   ]
  },
  {
   "cell_type": "code",
   "execution_count": 156,
   "metadata": {},
   "outputs": [
    {
     "data": {
      "text/html": [
       "<div>\n",
       "<style>\n",
       "    .dataframe thead tr:only-child th {\n",
       "        text-align: right;\n",
       "    }\n",
       "\n",
       "    .dataframe thead th {\n",
       "        text-align: left;\n",
       "    }\n",
       "\n",
       "    .dataframe tbody tr th {\n",
       "        vertical-align: top;\n",
       "    }\n",
       "</style>\n",
       "<table border=\"1\" class=\"dataframe\">\n",
       "  <thead>\n",
       "    <tr style=\"text-align: right;\">\n",
       "      <th></th>\n",
       "      <th>a</th>\n",
       "      <th>b</th>\n",
       "      <th>c</th>\n",
       "      <th>d</th>\n",
       "      <th>e</th>\n",
       "      <th>f</th>\n",
       "    </tr>\n",
       "  </thead>\n",
       "  <tbody>\n",
       "    <tr>\n",
       "      <th>count</th>\n",
       "      <td>10.000000</td>\n",
       "      <td>10.000000</td>\n",
       "      <td>10.000000</td>\n",
       "      <td>10.000000</td>\n",
       "      <td>10.000000</td>\n",
       "      <td>10.0</td>\n",
       "    </tr>\n",
       "    <tr>\n",
       "      <th>mean</th>\n",
       "      <td>0.041907</td>\n",
       "      <td>0.150591</td>\n",
       "      <td>0.155820</td>\n",
       "      <td>0.110884</td>\n",
       "      <td>0.147227</td>\n",
       "      <td>0.0</td>\n",
       "    </tr>\n",
       "    <tr>\n",
       "      <th>std</th>\n",
       "      <td>0.073231</td>\n",
       "      <td>0.200655</td>\n",
       "      <td>0.175284</td>\n",
       "      <td>0.157619</td>\n",
       "      <td>0.188163</td>\n",
       "      <td>0.0</td>\n",
       "    </tr>\n",
       "    <tr>\n",
       "      <th>min</th>\n",
       "      <td>0.000000</td>\n",
       "      <td>0.000000</td>\n",
       "      <td>0.000000</td>\n",
       "      <td>0.000000</td>\n",
       "      <td>0.000000</td>\n",
       "      <td>0.0</td>\n",
       "    </tr>\n",
       "    <tr>\n",
       "      <th>25%</th>\n",
       "      <td>0.000000</td>\n",
       "      <td>0.000000</td>\n",
       "      <td>0.000000</td>\n",
       "      <td>0.000000</td>\n",
       "      <td>0.000000</td>\n",
       "      <td>0.0</td>\n",
       "    </tr>\n",
       "    <tr>\n",
       "      <th>50%</th>\n",
       "      <td>0.000000</td>\n",
       "      <td>0.000000</td>\n",
       "      <td>0.103808</td>\n",
       "      <td>0.000000</td>\n",
       "      <td>0.049491</td>\n",
       "      <td>0.0</td>\n",
       "    </tr>\n",
       "    <tr>\n",
       "      <th>75%</th>\n",
       "      <td>0.063176</td>\n",
       "      <td>0.315627</td>\n",
       "      <td>0.279936</td>\n",
       "      <td>0.208908</td>\n",
       "      <td>0.324064</td>\n",
       "      <td>0.0</td>\n",
       "    </tr>\n",
       "    <tr>\n",
       "      <th>max</th>\n",
       "      <td>0.203978</td>\n",
       "      <td>0.451438</td>\n",
       "      <td>0.446219</td>\n",
       "      <td>0.444175</td>\n",
       "      <td>0.445971</td>\n",
       "      <td>0.0</td>\n",
       "    </tr>\n",
       "  </tbody>\n",
       "</table>\n",
       "</div>"
      ],
      "text/plain": [
       "               a          b          c          d          e     f\n",
       "count  10.000000  10.000000  10.000000  10.000000  10.000000  10.0\n",
       "mean    0.041907   0.150591   0.155820   0.110884   0.147227   0.0\n",
       "std     0.073231   0.200655   0.175284   0.157619   0.188163   0.0\n",
       "min     0.000000   0.000000   0.000000   0.000000   0.000000   0.0\n",
       "25%     0.000000   0.000000   0.000000   0.000000   0.000000   0.0\n",
       "50%     0.000000   0.000000   0.103808   0.000000   0.049491   0.0\n",
       "75%     0.063176   0.315627   0.279936   0.208908   0.324064   0.0\n",
       "max     0.203978   0.451438   0.446219   0.444175   0.445971   0.0"
      ]
     },
     "execution_count": 156,
     "metadata": {},
     "output_type": "execute_result"
    }
   ],
   "source": [
    "s3.describe()"
   ]
  },
  {
   "cell_type": "code",
   "execution_count": 160,
   "metadata": {},
   "outputs": [
    {
     "name": "stdout",
     "output_type": "stream",
     "text": [
      "Help on method mean in module pandas.core.generic:\n",
      "\n",
      "mean(self, axis=None, skipna=None, level=None, numeric_only=None, **kwargs) method of pandas.core.frame.DataFrame instance\n",
      "    Return the mean of the values for the requested axis\n",
      "    \n",
      "    Parameters\n",
      "    ----------\n",
      "    axis : {index (0), columns (1)}\n",
      "    skipna : boolean, default True\n",
      "        Exclude NA/null values. If an entire row/column is NA, the result\n",
      "        will be NA\n",
      "    level : int or level name, default None\n",
      "        If the axis is a MultiIndex (hierarchical), count along a\n",
      "        particular level, collapsing into a Series\n",
      "    numeric_only : boolean, default None\n",
      "        Include only float, int, boolean columns. If None, will attempt to use\n",
      "        everything, then use only numeric data. Not implemented for Series.\n",
      "    \n",
      "    Returns\n",
      "    -------\n",
      "    mean : Series or DataFrame (if level specified)\n",
      "\n"
     ]
    }
   ],
   "source": [
    "help(s3.mean)"
   ]
  },
  {
   "cell_type": "code",
   "execution_count": 161,
   "metadata": {},
   "outputs": [
    {
     "data": {
      "text/html": [
       "<div>\n",
       "<style>\n",
       "    .dataframe thead tr:only-child th {\n",
       "        text-align: right;\n",
       "    }\n",
       "\n",
       "    .dataframe thead th {\n",
       "        text-align: left;\n",
       "    }\n",
       "\n",
       "    .dataframe tbody tr th {\n",
       "        vertical-align: top;\n",
       "    }\n",
       "</style>\n",
       "<table border=\"1\" class=\"dataframe\">\n",
       "  <thead>\n",
       "    <tr style=\"text-align: right;\">\n",
       "      <th></th>\n",
       "      <th>0</th>\n",
       "      <th>1</th>\n",
       "      <th>2</th>\n",
       "      <th>3</th>\n",
       "      <th>4</th>\n",
       "    </tr>\n",
       "  </thead>\n",
       "  <tbody>\n",
       "    <tr>\n",
       "      <th>0</th>\n",
       "      <td>1.0</td>\n",
       "      <td>NaN</td>\n",
       "      <td>2.0</td>\n",
       "      <td>3.0</td>\n",
       "      <td>4.0</td>\n",
       "    </tr>\n",
       "    <tr>\n",
       "      <th>1</th>\n",
       "      <td>2.0</td>\n",
       "      <td>2.0</td>\n",
       "      <td>5.0</td>\n",
       "      <td>7.0</td>\n",
       "      <td>NaN</td>\n",
       "    </tr>\n",
       "    <tr>\n",
       "      <th>2</th>\n",
       "      <td>3.0</td>\n",
       "      <td>4.0</td>\n",
       "      <td>8.0</td>\n",
       "      <td>11.0</td>\n",
       "      <td>9.0</td>\n",
       "    </tr>\n",
       "  </tbody>\n",
       "</table>\n",
       "</div>"
      ],
      "text/plain": [
       "     0    1    2     3    4\n",
       "0  1.0  NaN  2.0   3.0  4.0\n",
       "1  2.0  2.0  5.0   7.0  NaN\n",
       "2  3.0  4.0  8.0  11.0  9.0"
      ]
     },
     "execution_count": 161,
     "metadata": {},
     "output_type": "execute_result"
    }
   ],
   "source": [
    "s4.apply(np.cumsum)"
   ]
  },
  {
   "cell_type": "code",
   "execution_count": 162,
   "metadata": {},
   "outputs": [
    {
     "data": {
      "text/html": [
       "<div>\n",
       "<style>\n",
       "    .dataframe thead tr:only-child th {\n",
       "        text-align: right;\n",
       "    }\n",
       "\n",
       "    .dataframe thead th {\n",
       "        text-align: left;\n",
       "    }\n",
       "\n",
       "    .dataframe tbody tr th {\n",
       "        vertical-align: top;\n",
       "    }\n",
       "</style>\n",
       "<table border=\"1\" class=\"dataframe\">\n",
       "  <thead>\n",
       "    <tr style=\"text-align: right;\">\n",
       "      <th></th>\n",
       "      <th>0</th>\n",
       "      <th>1</th>\n",
       "      <th>2</th>\n",
       "      <th>3</th>\n",
       "      <th>4</th>\n",
       "    </tr>\n",
       "  </thead>\n",
       "  <tbody>\n",
       "    <tr>\n",
       "      <th>0</th>\n",
       "      <td>1.0</td>\n",
       "      <td>NaN</td>\n",
       "      <td>2.0</td>\n",
       "      <td>3.0</td>\n",
       "      <td>4.0</td>\n",
       "    </tr>\n",
       "    <tr>\n",
       "      <th>1</th>\n",
       "      <td>1.0</td>\n",
       "      <td>2.0</td>\n",
       "      <td>3.0</td>\n",
       "      <td>4.0</td>\n",
       "      <td>NaN</td>\n",
       "    </tr>\n",
       "    <tr>\n",
       "      <th>2</th>\n",
       "      <td>1.0</td>\n",
       "      <td>2.0</td>\n",
       "      <td>3.0</td>\n",
       "      <td>4.0</td>\n",
       "      <td>5.0</td>\n",
       "    </tr>\n",
       "  </tbody>\n",
       "</table>\n",
       "</div>"
      ],
      "text/plain": [
       "     0    1    2    3    4\n",
       "0  1.0  NaN  2.0  3.0  4.0\n",
       "1  1.0  2.0  3.0  4.0  NaN\n",
       "2  1.0  2.0  3.0  4.0  5.0"
      ]
     },
     "execution_count": 162,
     "metadata": {},
     "output_type": "execute_result"
    }
   ],
   "source": [
    "s4"
   ]
  },
  {
   "cell_type": "code",
   "execution_count": 164,
   "metadata": {},
   "outputs": [
    {
     "data": {
      "text/plain": [
       "0    0.0\n",
       "1    0.0\n",
       "2    1.0\n",
       "3    1.0\n",
       "4    1.0\n",
       "dtype: float64"
      ]
     },
     "execution_count": 164,
     "metadata": {},
     "output_type": "execute_result"
    }
   ],
   "source": [
    "s4.apply(lambda x:x.max()-x.min())    #列上的最大值减最小值"
   ]
  },
  {
   "cell_type": "code",
   "execution_count": 163,
   "metadata": {},
   "outputs": [
    {
     "name": "stdout",
     "output_type": "stream",
     "text": [
      "Help on function cumsum in module numpy.core.fromnumeric:\n",
      "\n",
      "cumsum(a, axis=None, dtype=None, out=None)\n",
      "    Return the cumulative sum of the elements along a given axis.\n",
      "    \n",
      "    Parameters\n",
      "    ----------\n",
      "    a : array_like\n",
      "        Input array.\n",
      "    axis : int, optional\n",
      "        Axis along which the cumulative sum is computed. The default\n",
      "        (None) is to compute the cumsum over the flattened array.\n",
      "    dtype : dtype, optional\n",
      "        Type of the returned array and of the accumulator in which the\n",
      "        elements are summed.  If `dtype` is not specified, it defaults\n",
      "        to the dtype of `a`, unless `a` has an integer dtype with a\n",
      "        precision less than that of the default platform integer.  In\n",
      "        that case, the default platform integer is used.\n",
      "    out : ndarray, optional\n",
      "        Alternative output array in which to place the result. It must\n",
      "        have the same shape and buffer length as the expected output\n",
      "        but the type will be cast if necessary. See `doc.ufuncs`\n",
      "        (Section \"Output arguments\") for more details.\n",
      "    \n",
      "    Returns\n",
      "    -------\n",
      "    cumsum_along_axis : ndarray.\n",
      "        A new array holding the result is returned unless `out` is\n",
      "        specified, in which case a reference to `out` is returned. The\n",
      "        result has the same size as `a`, and the same shape as `a` if\n",
      "        `axis` is not None or `a` is a 1-d array.\n",
      "    \n",
      "    \n",
      "    See Also\n",
      "    --------\n",
      "    sum : Sum array elements.\n",
      "    \n",
      "    trapz : Integration of array values using the composite trapezoidal rule.\n",
      "    \n",
      "    diff :  Calculate the n-th discrete difference along given axis.\n",
      "    \n",
      "    Notes\n",
      "    -----\n",
      "    Arithmetic is modular when using integer types, and no error is\n",
      "    raised on overflow.\n",
      "    \n",
      "    Examples\n",
      "    --------\n",
      "    >>> a = np.array([[1,2,3], [4,5,6]])\n",
      "    >>> a\n",
      "    array([[1, 2, 3],\n",
      "           [4, 5, 6]])\n",
      "    >>> np.cumsum(a)\n",
      "    array([ 1,  3,  6, 10, 15, 21])\n",
      "    >>> np.cumsum(a, dtype=float)     # specifies type of output value(s)\n",
      "    array([  1.,   3.,   6.,  10.,  15.,  21.])\n",
      "    \n",
      "    >>> np.cumsum(a,axis=0)      # sum over rows for each of the 3 columns\n",
      "    array([[1, 2, 3],\n",
      "           [5, 7, 9]])\n",
      "    >>> np.cumsum(a,axis=1)      # sum over columns for each of the 2 rows\n",
      "    array([[ 1,  3,  6],\n",
      "           [ 4,  9, 15]])\n",
      "\n"
     ]
    }
   ],
   "source": [
    "help(np.cumsum)"
   ]
  },
  {
   "cell_type": "markdown",
   "metadata": {},
   "source": [
    "## 制图"
   ]
  },
  {
   "cell_type": "markdown",
   "metadata": {},
   "source": [
    "### 直方图"
   ]
  },
  {
   "cell_type": "code",
   "execution_count": 165,
   "metadata": {
    "collapsed": true
   },
   "outputs": [],
   "source": [
    "n1=np.random.randint(0,7,size=10)"
   ]
  },
  {
   "cell_type": "code",
   "execution_count": 167,
   "metadata": {},
   "outputs": [
    {
     "data": {
      "text/plain": [
       "array([1, 0, 4, 2, 2, 4, 0, 6, 6, 2])"
      ]
     },
     "execution_count": 167,
     "metadata": {},
     "output_type": "execute_result"
    }
   ],
   "source": [
    "n1"
   ]
  },
  {
   "cell_type": "code",
   "execution_count": 169,
   "metadata": {},
   "outputs": [],
   "source": [
    "s1=pd.Series(n1)"
   ]
  },
  {
   "cell_type": "code",
   "execution_count": null,
   "metadata": {
    "collapsed": true
   },
   "outputs": [],
   "source": []
  }
 ],
 "metadata": {
  "kernelspec": {
   "display_name": "Python 2",
   "language": "python",
   "name": "python2"
  },
  "language_info": {
   "codemirror_mode": {
    "name": "ipython",
    "version": 2
   },
   "file_extension": ".py",
   "mimetype": "text/x-python",
   "name": "python",
   "nbconvert_exporter": "python",
   "pygments_lexer": "ipython2",
   "version": "2.7.14"
  }
 },
 "nbformat": 4,
 "nbformat_minor": 2
}
