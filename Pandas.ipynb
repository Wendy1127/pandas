{
 "cells": [
  {
   "cell_type": "markdown",
   "metadata": {},
   "source": [
    "# Pandas"
   ]
  },
  {
   "cell_type": "markdown",
   "metadata": {},
   "source": [
    "## 引入约定"
   ]
  },
  {
   "cell_type": "code",
   "execution_count": 4,
   "metadata": {
    "collapsed": true
   },
   "outputs": [],
   "source": [
    "import pandas as pd\n",
    "import numpy as np"
   ]
  },
  {
   "cell_type": "code",
   "execution_count": 5,
   "metadata": {
    "collapsed": true
   },
   "outputs": [],
   "source": [
    "from pandas import DataFrame,Series    #数据框、一维数组"
   ]
  },
  {
   "cell_type": "markdown",
   "metadata": {},
   "source": [
    "## Series  一维数组"
   ]
  },
  {
   "cell_type": "markdown",
   "metadata": {},
   "source": [
    "### 通过一维数组创建series"
   ]
  },
  {
   "cell_type": "code",
   "execution_count": 6,
   "metadata": {
    "collapsed": true
   },
   "outputs": [],
   "source": [
    "arr=np.arange(1,21)"
   ]
  },
  {
   "cell_type": "code",
   "execution_count": 7,
   "metadata": {
    "collapsed": true
   },
   "outputs": [],
   "source": [
    "series=Series(arr)  #创建一个一维数组对象"
   ]
  },
  {
   "cell_type": "code",
   "execution_count": 8,
   "metadata": {},
   "outputs": [
    {
     "data": {
      "text/plain": [
       "0      1\n",
       "1      2\n",
       "2      3\n",
       "3      4\n",
       "4      5\n",
       "5      6\n",
       "6      7\n",
       "7      8\n",
       "8      9\n",
       "9     10\n",
       "10    11\n",
       "11    12\n",
       "12    13\n",
       "13    14\n",
       "14    15\n",
       "15    16\n",
       "16    17\n",
       "17    18\n",
       "18    19\n",
       "19    20\n",
       "dtype: int32"
      ]
     },
     "execution_count": 8,
     "metadata": {},
     "output_type": "execute_result"
    }
   ],
   "source": [
    "series"
   ]
  },
  {
   "cell_type": "markdown",
   "metadata": {},
   "source": [
    "### 查看索引"
   ]
  },
  {
   "cell_type": "code",
   "execution_count": 9,
   "metadata": {},
   "outputs": [
    {
     "data": {
      "text/plain": [
       "RangeIndex(start=0, stop=20, step=1)"
      ]
     },
     "execution_count": 9,
     "metadata": {},
     "output_type": "execute_result"
    }
   ],
   "source": [
    "series.index"
   ]
  },
  {
   "cell_type": "markdown",
   "metadata": {},
   "source": [
    "### 通过字典创建Series"
   ]
  },
  {
   "cell_type": "code",
   "execution_count": 10,
   "metadata": {
    "collapsed": true
   },
   "outputs": [],
   "source": [
    "a_dict={'20171128':1000,'20171009':1050,'20170910':500}"
   ]
  },
  {
   "cell_type": "code",
   "execution_count": 11,
   "metadata": {
    "collapsed": true
   },
   "outputs": [],
   "source": [
    "series01=Series(a_dict)"
   ]
  },
  {
   "cell_type": "code",
   "execution_count": 12,
   "metadata": {},
   "outputs": [
    {
     "data": {
      "text/plain": [
       "20170910     500\n",
       "20171009    1050\n",
       "20171128    1000\n",
       "dtype: int64"
      ]
     },
     "execution_count": 12,
     "metadata": {},
     "output_type": "execute_result"
    }
   ],
   "source": [
    "series01"
   ]
  },
  {
   "cell_type": "code",
   "execution_count": 13,
   "metadata": {},
   "outputs": [
    {
     "data": {
      "text/plain": [
       "Index([u'20170910', u'20171009', u'20171128'], dtype='object')"
      ]
     },
     "execution_count": 13,
     "metadata": {},
     "output_type": "execute_result"
    }
   ],
   "source": [
    "series01.index"
   ]
  },
  {
   "cell_type": "markdown",
   "metadata": {},
   "source": [
    "### 数据index绑定"
   ]
  },
  {
   "cell_type": "code",
   "execution_count": 14,
   "metadata": {
    "collapsed": true
   },
   "outputs": [],
   "source": [
    "series1=Series([70,89,67],index=['张三','李四','王五'])"
   ]
  },
  {
   "cell_type": "code",
   "execution_count": 15,
   "metadata": {},
   "outputs": [
    {
     "data": {
      "text/plain": [
       "张三    70\n",
       "李四    89\n",
       "王五    67\n",
       "dtype: int64"
      ]
     },
     "execution_count": 15,
     "metadata": {},
     "output_type": "execute_result"
    }
   ],
   "source": [
    "series1"
   ]
  },
  {
   "cell_type": "code",
   "execution_count": 16,
   "metadata": {},
   "outputs": [
    {
     "data": {
      "text/plain": [
       "array([70, 89, 67], dtype=int64)"
      ]
     },
     "execution_count": 16,
     "metadata": {},
     "output_type": "execute_result"
    }
   ],
   "source": [
    "series1.values  #查看数据列"
   ]
  },
  {
   "cell_type": "code",
   "execution_count": 17,
   "metadata": {},
   "outputs": [
    {
     "data": {
      "text/plain": [
       "dtype('int64')"
      ]
     },
     "execution_count": 17,
     "metadata": {},
     "output_type": "execute_result"
    }
   ],
   "source": [
    "series1.dtype"
   ]
  },
  {
   "cell_type": "markdown",
   "metadata": {},
   "source": [
    "### 缺失值的检测"
   ]
  },
  {
   "cell_type": "markdown",
   "metadata": {},
   "source": [
    "* isnull"
   ]
  },
  {
   "cell_type": "code",
   "execution_count": 18,
   "metadata": {
    "collapsed": true
   },
   "outputs": [],
   "source": [
    "series2=Series([1,2,3,4,np.NaN,5,6,7,8,9])"
   ]
  },
  {
   "cell_type": "code",
   "execution_count": 19,
   "metadata": {},
   "outputs": [
    {
     "data": {
      "text/plain": [
       "0    1.0\n",
       "1    2.0\n",
       "2    3.0\n",
       "3    4.0\n",
       "4    NaN\n",
       "5    5.0\n",
       "6    6.0\n",
       "7    7.0\n",
       "8    8.0\n",
       "9    9.0\n",
       "dtype: float64"
      ]
     },
     "execution_count": 19,
     "metadata": {},
     "output_type": "execute_result"
    }
   ],
   "source": [
    "series2"
   ]
  },
  {
   "cell_type": "code",
   "execution_count": 20,
   "metadata": {},
   "outputs": [
    {
     "data": {
      "text/plain": [
       "0    False\n",
       "1    False\n",
       "2    False\n",
       "3    False\n",
       "4     True\n",
       "5    False\n",
       "6    False\n",
       "7    False\n",
       "8    False\n",
       "9    False\n",
       "dtype: bool"
      ]
     },
     "execution_count": 20,
     "metadata": {},
     "output_type": "execute_result"
    }
   ],
   "source": [
    "series2.isnull()"
   ]
  },
  {
   "cell_type": "code",
   "execution_count": 21,
   "metadata": {},
   "outputs": [
    {
     "data": {
      "text/plain": [
       "0     True\n",
       "1     True\n",
       "2     True\n",
       "3     True\n",
       "4    False\n",
       "5     True\n",
       "6     True\n",
       "7     True\n",
       "8     True\n",
       "9     True\n",
       "dtype: bool"
      ]
     },
     "execution_count": 21,
     "metadata": {},
     "output_type": "execute_result"
    }
   ],
   "source": [
    "series2.notnull()"
   ]
  },
  {
   "cell_type": "markdown",
   "metadata": {},
   "source": [
    "* notnull"
   ]
  },
  {
   "cell_type": "code",
   "execution_count": 22,
   "metadata": {},
   "outputs": [
    {
     "data": {
      "text/plain": [
       "4   NaN\n",
       "dtype: float64"
      ]
     },
     "execution_count": 22,
     "metadata": {},
     "output_type": "execute_result"
    }
   ],
   "source": [
    "series2[pd.isnull(series2)]"
   ]
  },
  {
   "cell_type": "code",
   "execution_count": 23,
   "metadata": {},
   "outputs": [
    {
     "data": {
      "text/plain": [
       "0    1.0\n",
       "1    2.0\n",
       "2    3.0\n",
       "3    4.0\n",
       "5    5.0\n",
       "6    6.0\n",
       "7    7.0\n",
       "8    8.0\n",
       "9    9.0\n",
       "dtype: float64"
      ]
     },
     "execution_count": 23,
     "metadata": {},
     "output_type": "execute_result"
    }
   ],
   "source": [
    "series2[pd.notnull(series2)]"
   ]
  },
  {
   "cell_type": "code",
   "execution_count": 24,
   "metadata": {
    "collapsed": true
   },
   "outputs": [],
   "source": [
    "product_num=Series([23,45,67,89],index=['p3','p1','p2','p4'])"
   ]
  },
  {
   "cell_type": "code",
   "execution_count": 25,
   "metadata": {
    "collapsed": true
   },
   "outputs": [],
   "source": [
    "product_price_table=Series([9.83,8.13,2.43,5.61,4.89],index=['p1','p2','p3','p4','p5'])"
   ]
  },
  {
   "cell_type": "code",
   "execution_count": 26,
   "metadata": {
    "collapsed": true
   },
   "outputs": [],
   "source": [
    "product_sum=product_num*product_price_table"
   ]
  },
  {
   "cell_type": "code",
   "execution_count": 27,
   "metadata": {},
   "outputs": [
    {
     "data": {
      "text/plain": [
       "p1    442.35\n",
       "p2    544.71\n",
       "p3     55.89\n",
       "p4    499.29\n",
       "p5       NaN\n",
       "dtype: float64"
      ]
     },
     "execution_count": 27,
     "metadata": {},
     "output_type": "execute_result"
    }
   ],
   "source": [
    "product_sum"
   ]
  },
  {
   "cell_type": "code",
   "execution_count": 28,
   "metadata": {
    "collapsed": true
   },
   "outputs": [],
   "source": [
    "product_num.name='PN'"
   ]
  },
  {
   "cell_type": "code",
   "execution_count": 29,
   "metadata": {
    "collapsed": true
   },
   "outputs": [],
   "source": [
    "product_num.index.name='PT'"
   ]
  },
  {
   "cell_type": "code",
   "execution_count": 30,
   "metadata": {},
   "outputs": [
    {
     "data": {
      "text/plain": [
       "PT\n",
       "p3    23\n",
       "p1    45\n",
       "p2    67\n",
       "p4    89\n",
       "Name: PN, dtype: int64"
      ]
     },
     "execution_count": 30,
     "metadata": {},
     "output_type": "execute_result"
    }
   ],
   "source": [
    "product_num"
   ]
  },
  {
   "cell_type": "code",
   "execution_count": 31,
   "metadata": {},
   "outputs": [
    {
     "data": {
      "text/plain": [
       "45"
      ]
     },
     "execution_count": 31,
     "metadata": {},
     "output_type": "execute_result"
    }
   ],
   "source": [
    "product_num['p1']"
   ]
  },
  {
   "cell_type": "code",
   "execution_count": 32,
   "metadata": {},
   "outputs": [
    {
     "data": {
      "text/plain": [
       "PT\n",
       "p3    23\n",
       "Name: PN, dtype: int64"
      ]
     },
     "execution_count": 32,
     "metadata": {},
     "output_type": "execute_result"
    }
   ],
   "source": [
    "product_num[:'p3']"
   ]
  },
  {
   "cell_type": "code",
   "execution_count": 33,
   "metadata": {},
   "outputs": [
    {
     "data": {
      "text/plain": [
       "PT\n",
       "p3    23\n",
       "p1    45\n",
       "p2    67\n",
       "p4    89\n",
       "Name: PN, dtype: int64"
      ]
     },
     "execution_count": 33,
     "metadata": {},
     "output_type": "execute_result"
    }
   ],
   "source": [
    "product_num['p3':\n",
    "           ]"
   ]
  },
  {
   "cell_type": "code",
   "execution_count": 34,
   "metadata": {},
   "outputs": [
    {
     "data": {
      "text/plain": [
       "PT\n",
       "p3    23\n",
       "p1    45\n",
       "p2    67\n",
       "Name: PN, dtype: int64"
      ]
     },
     "execution_count": 34,
     "metadata": {},
     "output_type": "execute_result"
    }
   ],
   "source": [
    "product_num[:'p2']"
   ]
  },
  {
   "cell_type": "code",
   "execution_count": 35,
   "metadata": {},
   "outputs": [
    {
     "data": {
      "text/plain": [
       "PT\n",
       "p3    23\n",
       "p1    45\n",
       "p2    67\n",
       "Name: PN, dtype: int64"
      ]
     },
     "execution_count": 35,
     "metadata": {},
     "output_type": "execute_result"
    }
   ],
   "source": [
    "product_num['p3':'p2']"
   ]
  },
  {
   "cell_type": "markdown",
   "metadata": {},
   "source": [
    "### dataframe"
   ]
  },
  {
   "cell_type": "code",
   "execution_count": 36,
   "metadata": {
    "collapsed": true
   },
   "outputs": [],
   "source": [
    "df=DataFrame([[1,2,3],[3,4,5]])"
   ]
  },
  {
   "cell_type": "code",
   "execution_count": 37,
   "metadata": {},
   "outputs": [
    {
     "data": {
      "text/html": [
       "<div>\n",
       "<style>\n",
       "    .dataframe thead tr:only-child th {\n",
       "        text-align: right;\n",
       "    }\n",
       "\n",
       "    .dataframe thead th {\n",
       "        text-align: left;\n",
       "    }\n",
       "\n",
       "    .dataframe tbody tr th {\n",
       "        vertical-align: top;\n",
       "    }\n",
       "</style>\n",
       "<table border=\"1\" class=\"dataframe\">\n",
       "  <thead>\n",
       "    <tr style=\"text-align: right;\">\n",
       "      <th></th>\n",
       "      <th>0</th>\n",
       "      <th>1</th>\n",
       "      <th>2</th>\n",
       "    </tr>\n",
       "  </thead>\n",
       "  <tbody>\n",
       "    <tr>\n",
       "      <th>0</th>\n",
       "      <td>1</td>\n",
       "      <td>2</td>\n",
       "      <td>3</td>\n",
       "    </tr>\n",
       "    <tr>\n",
       "      <th>1</th>\n",
       "      <td>3</td>\n",
       "      <td>4</td>\n",
       "      <td>5</td>\n",
       "    </tr>\n",
       "  </tbody>\n",
       "</table>\n",
       "</div>"
      ],
      "text/plain": [
       "   0  1  2\n",
       "0  1  2  3\n",
       "1  3  4  5"
      ]
     },
     "execution_count": 37,
     "metadata": {},
     "output_type": "execute_result"
    }
   ],
   "source": [
    "df"
   ]
  },
  {
   "cell_type": "code",
   "execution_count": 38,
   "metadata": {
    "collapsed": true
   },
   "outputs": [],
   "source": [
    "df=DataFrame([[1,2,3],[3,4,5]],index=['a','b'])"
   ]
  },
  {
   "cell_type": "code",
   "execution_count": 39,
   "metadata": {},
   "outputs": [
    {
     "data": {
      "text/html": [
       "<div>\n",
       "<style>\n",
       "    .dataframe thead tr:only-child th {\n",
       "        text-align: right;\n",
       "    }\n",
       "\n",
       "    .dataframe thead th {\n",
       "        text-align: left;\n",
       "    }\n",
       "\n",
       "    .dataframe tbody tr th {\n",
       "        vertical-align: top;\n",
       "    }\n",
       "</style>\n",
       "<table border=\"1\" class=\"dataframe\">\n",
       "  <thead>\n",
       "    <tr style=\"text-align: right;\">\n",
       "      <th></th>\n",
       "      <th>0</th>\n",
       "      <th>1</th>\n",
       "      <th>2</th>\n",
       "    </tr>\n",
       "  </thead>\n",
       "  <tbody>\n",
       "    <tr>\n",
       "      <th>a</th>\n",
       "      <td>1</td>\n",
       "      <td>2</td>\n",
       "      <td>3</td>\n",
       "    </tr>\n",
       "    <tr>\n",
       "      <th>b</th>\n",
       "      <td>3</td>\n",
       "      <td>4</td>\n",
       "      <td>5</td>\n",
       "    </tr>\n",
       "  </tbody>\n",
       "</table>\n",
       "</div>"
      ],
      "text/plain": [
       "   0  1  2\n",
       "a  1  2  3\n",
       "b  3  4  5"
      ]
     },
     "execution_count": 39,
     "metadata": {},
     "output_type": "execute_result"
    }
   ],
   "source": [
    "df"
   ]
  },
  {
   "cell_type": "code",
   "execution_count": 40,
   "metadata": {},
   "outputs": [
    {
     "data": {
      "text/plain": [
       "a    1\n",
       "b    3\n",
       "Name: 0, dtype: int64"
      ]
     },
     "execution_count": 40,
     "metadata": {},
     "output_type": "execute_result"
    }
   ],
   "source": [
    "df[0]     #优先从列取值"
   ]
  },
  {
   "cell_type": "code",
   "execution_count": 41,
   "metadata": {},
   "outputs": [
    {
     "data": {
      "text/plain": [
       "1"
      ]
     },
     "execution_count": 41,
     "metadata": {},
     "output_type": "execute_result"
    }
   ],
   "source": [
    "df[0]['a']   #取出第一列，a行的数据"
   ]
  },
  {
   "cell_type": "code",
   "execution_count": 42,
   "metadata": {},
   "outputs": [
    {
     "data": {
      "text/html": [
       "<div>\n",
       "<style>\n",
       "    .dataframe thead tr:only-child th {\n",
       "        text-align: right;\n",
       "    }\n",
       "\n",
       "    .dataframe thead th {\n",
       "        text-align: left;\n",
       "    }\n",
       "\n",
       "    .dataframe tbody tr th {\n",
       "        vertical-align: top;\n",
       "    }\n",
       "</style>\n",
       "<table border=\"1\" class=\"dataframe\">\n",
       "  <thead>\n",
       "    <tr style=\"text-align: right;\">\n",
       "      <th></th>\n",
       "      <th>0</th>\n",
       "      <th>1</th>\n",
       "      <th>2</th>\n",
       "    </tr>\n",
       "  </thead>\n",
       "  <tbody>\n",
       "    <tr>\n",
       "      <th>b</th>\n",
       "      <td>3</td>\n",
       "      <td>4</td>\n",
       "      <td>5</td>\n",
       "    </tr>\n",
       "  </tbody>\n",
       "</table>\n",
       "</div>"
      ],
      "text/plain": [
       "   0  1  2\n",
       "b  3  4  5"
      ]
     },
     "execution_count": 42,
     "metadata": {},
     "output_type": "execute_result"
    }
   ],
   "source": [
    "df[1:]"
   ]
  },
  {
   "cell_type": "code",
   "execution_count": 43,
   "metadata": {},
   "outputs": [
    {
     "data": {
      "text/html": [
       "<div>\n",
       "<style>\n",
       "    .dataframe thead tr:only-child th {\n",
       "        text-align: right;\n",
       "    }\n",
       "\n",
       "    .dataframe thead th {\n",
       "        text-align: left;\n",
       "    }\n",
       "\n",
       "    .dataframe tbody tr th {\n",
       "        vertical-align: top;\n",
       "    }\n",
       "</style>\n",
       "<table border=\"1\" class=\"dataframe\">\n",
       "  <thead>\n",
       "    <tr style=\"text-align: right;\">\n",
       "      <th></th>\n",
       "      <th>0</th>\n",
       "      <th>1</th>\n",
       "      <th>2</th>\n",
       "    </tr>\n",
       "  </thead>\n",
       "  <tbody>\n",
       "    <tr>\n",
       "      <th>a</th>\n",
       "      <td>1</td>\n",
       "      <td>2</td>\n",
       "      <td>3</td>\n",
       "    </tr>\n",
       "    <tr>\n",
       "      <th>b</th>\n",
       "      <td>3</td>\n",
       "      <td>4</td>\n",
       "      <td>5</td>\n",
       "    </tr>\n",
       "  </tbody>\n",
       "</table>\n",
       "</div>"
      ],
      "text/plain": [
       "   0  1  2\n",
       "a  1  2  3\n",
       "b  3  4  5"
      ]
     },
     "execution_count": 43,
     "metadata": {},
     "output_type": "execute_result"
    }
   ],
   "source": [
    "df[0:]   #如果使用切片，优先取行的数据   ix_对列进行切片"
   ]
  },
  {
   "cell_type": "code",
   "execution_count": 44,
   "metadata": {},
   "outputs": [
    {
     "data": {
      "text/html": [
       "<div>\n",
       "<style>\n",
       "    .dataframe thead tr:only-child th {\n",
       "        text-align: right;\n",
       "    }\n",
       "\n",
       "    .dataframe thead th {\n",
       "        text-align: left;\n",
       "    }\n",
       "\n",
       "    .dataframe tbody tr th {\n",
       "        vertical-align: top;\n",
       "    }\n",
       "</style>\n",
       "<table border=\"1\" class=\"dataframe\">\n",
       "  <thead>\n",
       "    <tr style=\"text-align: right;\">\n",
       "      <th></th>\n",
       "      <th>0</th>\n",
       "      <th>1</th>\n",
       "      <th>2</th>\n",
       "    </tr>\n",
       "  </thead>\n",
       "  <tbody>\n",
       "    <tr>\n",
       "      <th>b</th>\n",
       "      <td>3</td>\n",
       "      <td>4</td>\n",
       "      <td>5</td>\n",
       "    </tr>\n",
       "  </tbody>\n",
       "</table>\n",
       "</div>"
      ],
      "text/plain": [
       "   0  1  2\n",
       "b  3  4  5"
      ]
     },
     "execution_count": 44,
     "metadata": {},
     "output_type": "execute_result"
    }
   ],
   "source": [
    "df[1:][0:]"
   ]
  },
  {
   "cell_type": "markdown",
   "metadata": {},
   "source": [
    "### 通过二维数组创建DataFrame"
   ]
  },
  {
   "cell_type": "code",
   "execution_count": 45,
   "metadata": {
    "collapsed": true
   },
   "outputs": [],
   "source": [
    "arr=np.array([['Tom',76],['Jane',45],['Merry',100]])"
   ]
  },
  {
   "cell_type": "code",
   "execution_count": 46,
   "metadata": {
    "collapsed": true
   },
   "outputs": [],
   "source": [
    "df3=DataFrame(arr,columns=['name','score'])"
   ]
  },
  {
   "cell_type": "code",
   "execution_count": 47,
   "metadata": {},
   "outputs": [
    {
     "data": {
      "text/html": [
       "<div>\n",
       "<style>\n",
       "    .dataframe thead tr:only-child th {\n",
       "        text-align: right;\n",
       "    }\n",
       "\n",
       "    .dataframe thead th {\n",
       "        text-align: left;\n",
       "    }\n",
       "\n",
       "    .dataframe tbody tr th {\n",
       "        vertical-align: top;\n",
       "    }\n",
       "</style>\n",
       "<table border=\"1\" class=\"dataframe\">\n",
       "  <thead>\n",
       "    <tr style=\"text-align: right;\">\n",
       "      <th></th>\n",
       "      <th>name</th>\n",
       "      <th>score</th>\n",
       "    </tr>\n",
       "  </thead>\n",
       "  <tbody>\n",
       "    <tr>\n",
       "      <th>0</th>\n",
       "      <td>Tom</td>\n",
       "      <td>76</td>\n",
       "    </tr>\n",
       "    <tr>\n",
       "      <th>1</th>\n",
       "      <td>Jane</td>\n",
       "      <td>45</td>\n",
       "    </tr>\n",
       "    <tr>\n",
       "      <th>2</th>\n",
       "      <td>Merry</td>\n",
       "      <td>100</td>\n",
       "    </tr>\n",
       "  </tbody>\n",
       "</table>\n",
       "</div>"
      ],
      "text/plain": [
       "    name score\n",
       "0    Tom    76\n",
       "1   Jane    45\n",
       "2  Merry   100"
      ]
     },
     "execution_count": 47,
     "metadata": {},
     "output_type": "execute_result"
    }
   ],
   "source": [
    "df3"
   ]
  },
  {
   "cell_type": "code",
   "execution_count": 48,
   "metadata": {
    "collapsed": true
   },
   "outputs": [],
   "source": [
    "df4=DataFrame(arr,index=['one','two','three'],columns=['name','score'])"
   ]
  },
  {
   "cell_type": "code",
   "execution_count": 49,
   "metadata": {},
   "outputs": [
    {
     "data": {
      "text/html": [
       "<div>\n",
       "<style>\n",
       "    .dataframe thead tr:only-child th {\n",
       "        text-align: right;\n",
       "    }\n",
       "\n",
       "    .dataframe thead th {\n",
       "        text-align: left;\n",
       "    }\n",
       "\n",
       "    .dataframe tbody tr th {\n",
       "        vertical-align: top;\n",
       "    }\n",
       "</style>\n",
       "<table border=\"1\" class=\"dataframe\">\n",
       "  <thead>\n",
       "    <tr style=\"text-align: right;\">\n",
       "      <th></th>\n",
       "      <th>name</th>\n",
       "      <th>score</th>\n",
       "    </tr>\n",
       "  </thead>\n",
       "  <tbody>\n",
       "    <tr>\n",
       "      <th>one</th>\n",
       "      <td>Tom</td>\n",
       "      <td>76</td>\n",
       "    </tr>\n",
       "    <tr>\n",
       "      <th>two</th>\n",
       "      <td>Jane</td>\n",
       "      <td>45</td>\n",
       "    </tr>\n",
       "    <tr>\n",
       "      <th>three</th>\n",
       "      <td>Merry</td>\n",
       "      <td>100</td>\n",
       "    </tr>\n",
       "  </tbody>\n",
       "</table>\n",
       "</div>"
      ],
      "text/plain": [
       "        name score\n",
       "one      Tom    76\n",
       "two     Jane    45\n",
       "three  Merry   100"
      ]
     },
     "execution_count": 49,
     "metadata": {},
     "output_type": "execute_result"
    }
   ],
   "source": [
    "df4"
   ]
  },
  {
   "cell_type": "markdown",
   "metadata": {},
   "source": [
    "### 通过字典创建DataFrame"
   ]
  },
  {
   "cell_type": "code",
   "execution_count": 50,
   "metadata": {
    "collapsed": true
   },
   "outputs": [],
   "source": [
    "data={'apart':[1001,1002,1004,1003],\n",
    "     'profile':[1000,2000,1500,3500],\n",
    "     'year':[2010,2011,2012,2013]}"
   ]
  },
  {
   "cell_type": "code",
   "execution_count": 51,
   "metadata": {
    "collapsed": true
   },
   "outputs": [],
   "source": [
    "df5=DataFrame(data)"
   ]
  },
  {
   "cell_type": "code",
   "execution_count": 52,
   "metadata": {},
   "outputs": [
    {
     "data": {
      "text/html": [
       "<div>\n",
       "<style>\n",
       "    .dataframe thead tr:only-child th {\n",
       "        text-align: right;\n",
       "    }\n",
       "\n",
       "    .dataframe thead th {\n",
       "        text-align: left;\n",
       "    }\n",
       "\n",
       "    .dataframe tbody tr th {\n",
       "        vertical-align: top;\n",
       "    }\n",
       "</style>\n",
       "<table border=\"1\" class=\"dataframe\">\n",
       "  <thead>\n",
       "    <tr style=\"text-align: right;\">\n",
       "      <th></th>\n",
       "      <th>apart</th>\n",
       "      <th>profile</th>\n",
       "      <th>year</th>\n",
       "    </tr>\n",
       "  </thead>\n",
       "  <tbody>\n",
       "    <tr>\n",
       "      <th>0</th>\n",
       "      <td>1001</td>\n",
       "      <td>1000</td>\n",
       "      <td>2010</td>\n",
       "    </tr>\n",
       "    <tr>\n",
       "      <th>1</th>\n",
       "      <td>1002</td>\n",
       "      <td>2000</td>\n",
       "      <td>2011</td>\n",
       "    </tr>\n",
       "    <tr>\n",
       "      <th>2</th>\n",
       "      <td>1004</td>\n",
       "      <td>1500</td>\n",
       "      <td>2012</td>\n",
       "    </tr>\n",
       "    <tr>\n",
       "      <th>3</th>\n",
       "      <td>1003</td>\n",
       "      <td>3500</td>\n",
       "      <td>2013</td>\n",
       "    </tr>\n",
       "  </tbody>\n",
       "</table>\n",
       "</div>"
      ],
      "text/plain": [
       "   apart  profile  year\n",
       "0   1001     1000  2010\n",
       "1   1002     2000  2011\n",
       "2   1004     1500  2012\n",
       "3   1003     3500  2013"
      ]
     },
     "execution_count": 52,
     "metadata": {},
     "output_type": "execute_result"
    }
   ],
   "source": [
    "df5"
   ]
  },
  {
   "cell_type": "code",
   "execution_count": 53,
   "metadata": {},
   "outputs": [
    {
     "data": {
      "text/plain": [
       "RangeIndex(start=0, stop=4, step=1)"
      ]
     },
     "execution_count": 53,
     "metadata": {},
     "output_type": "execute_result"
    }
   ],
   "source": [
    "df5.index"
   ]
  },
  {
   "cell_type": "code",
   "execution_count": 54,
   "metadata": {},
   "outputs": [
    {
     "data": {
      "text/plain": [
       "Index([u'apart', u'profile', u'year'], dtype='object')"
      ]
     },
     "execution_count": 54,
     "metadata": {},
     "output_type": "execute_result"
    }
   ],
   "source": [
    "df5.columns"
   ]
  },
  {
   "cell_type": "code",
   "execution_count": 55,
   "metadata": {},
   "outputs": [
    {
     "data": {
      "text/plain": [
       "array([[1001, 1000, 2010],\n",
       "       [1002, 2000, 2011],\n",
       "       [1004, 1500, 2012],\n",
       "       [1003, 3500, 2013]], dtype=int64)"
      ]
     },
     "execution_count": 55,
     "metadata": {},
     "output_type": "execute_result"
    }
   ],
   "source": [
    "df5.values"
   ]
  },
  {
   "cell_type": "code",
   "execution_count": 56,
   "metadata": {
    "collapsed": true
   },
   "outputs": [],
   "source": [
    "df6=DataFrame(data,index=['one','two','three','four'])"
   ]
  },
  {
   "cell_type": "code",
   "execution_count": 57,
   "metadata": {},
   "outputs": [
    {
     "data": {
      "text/html": [
       "<div>\n",
       "<style>\n",
       "    .dataframe thead tr:only-child th {\n",
       "        text-align: right;\n",
       "    }\n",
       "\n",
       "    .dataframe thead th {\n",
       "        text-align: left;\n",
       "    }\n",
       "\n",
       "    .dataframe tbody tr th {\n",
       "        vertical-align: top;\n",
       "    }\n",
       "</style>\n",
       "<table border=\"1\" class=\"dataframe\">\n",
       "  <thead>\n",
       "    <tr style=\"text-align: right;\">\n",
       "      <th></th>\n",
       "      <th>apart</th>\n",
       "      <th>profile</th>\n",
       "      <th>year</th>\n",
       "    </tr>\n",
       "  </thead>\n",
       "  <tbody>\n",
       "    <tr>\n",
       "      <th>one</th>\n",
       "      <td>1001</td>\n",
       "      <td>1000</td>\n",
       "      <td>2010</td>\n",
       "    </tr>\n",
       "    <tr>\n",
       "      <th>two</th>\n",
       "      <td>1002</td>\n",
       "      <td>2000</td>\n",
       "      <td>2011</td>\n",
       "    </tr>\n",
       "    <tr>\n",
       "      <th>three</th>\n",
       "      <td>1004</td>\n",
       "      <td>1500</td>\n",
       "      <td>2012</td>\n",
       "    </tr>\n",
       "    <tr>\n",
       "      <th>four</th>\n",
       "      <td>1003</td>\n",
       "      <td>3500</td>\n",
       "      <td>2013</td>\n",
       "    </tr>\n",
       "  </tbody>\n",
       "</table>\n",
       "</div>"
      ],
      "text/plain": [
       "       apart  profile  year\n",
       "one     1001     1000  2010\n",
       "two     1002     2000  2011\n",
       "three   1004     1500  2012\n",
       "four    1003     3500  2013"
      ]
     },
     "execution_count": 57,
     "metadata": {},
     "output_type": "execute_result"
    }
   ],
   "source": [
    "df6"
   ]
  },
  {
   "cell_type": "code",
   "execution_count": 58,
   "metadata": {},
   "outputs": [
    {
     "data": {
      "text/plain": [
       "Index([u'one', u'two', u'three', u'four'], dtype='object')"
      ]
     },
     "execution_count": 58,
     "metadata": {},
     "output_type": "execute_result"
    }
   ],
   "source": [
    "df6.index"
   ]
  },
  {
   "cell_type": "code",
   "execution_count": 59,
   "metadata": {
    "collapsed": true
   },
   "outputs": [],
   "source": [
    "dict={'C++':[50,50,20],'JAVA':[20,30,40],'python':[10,20,30]}"
   ]
  },
  {
   "cell_type": "code",
   "execution_count": 60,
   "metadata": {
    "collapsed": true
   },
   "outputs": [],
   "source": [
    "s1=DataFrame(dict)"
   ]
  },
  {
   "cell_type": "code",
   "execution_count": 61,
   "metadata": {},
   "outputs": [
    {
     "data": {
      "text/html": [
       "<div>\n",
       "<style>\n",
       "    .dataframe thead tr:only-child th {\n",
       "        text-align: right;\n",
       "    }\n",
       "\n",
       "    .dataframe thead th {\n",
       "        text-align: left;\n",
       "    }\n",
       "\n",
       "    .dataframe tbody tr th {\n",
       "        vertical-align: top;\n",
       "    }\n",
       "</style>\n",
       "<table border=\"1\" class=\"dataframe\">\n",
       "  <thead>\n",
       "    <tr style=\"text-align: right;\">\n",
       "      <th></th>\n",
       "      <th>C++</th>\n",
       "      <th>JAVA</th>\n",
       "      <th>python</th>\n",
       "    </tr>\n",
       "  </thead>\n",
       "  <tbody>\n",
       "    <tr>\n",
       "      <th>0</th>\n",
       "      <td>50</td>\n",
       "      <td>20</td>\n",
       "      <td>10</td>\n",
       "    </tr>\n",
       "    <tr>\n",
       "      <th>1</th>\n",
       "      <td>50</td>\n",
       "      <td>30</td>\n",
       "      <td>20</td>\n",
       "    </tr>\n",
       "    <tr>\n",
       "      <th>2</th>\n",
       "      <td>20</td>\n",
       "      <td>40</td>\n",
       "      <td>30</td>\n",
       "    </tr>\n",
       "  </tbody>\n",
       "</table>\n",
       "</div>"
      ],
      "text/plain": [
       "   C++  JAVA  python\n",
       "0   50    20      10\n",
       "1   50    30      20\n",
       "2   20    40      30"
      ]
     },
     "execution_count": 61,
     "metadata": {},
     "output_type": "execute_result"
    }
   ],
   "source": [
    "s1"
   ]
  },
  {
   "cell_type": "code",
   "execution_count": 62,
   "metadata": {
    "collapsed": true
   },
   "outputs": [],
   "source": [
    "s1.index=[2,3,4]"
   ]
  },
  {
   "cell_type": "code",
   "execution_count": 63,
   "metadata": {
    "collapsed": true
   },
   "outputs": [],
   "source": [
    "s1.columns=['Java','C++','Vb']"
   ]
  },
  {
   "cell_type": "code",
   "execution_count": 64,
   "metadata": {},
   "outputs": [
    {
     "data": {
      "text/html": [
       "<div>\n",
       "<style>\n",
       "    .dataframe thead tr:only-child th {\n",
       "        text-align: right;\n",
       "    }\n",
       "\n",
       "    .dataframe thead th {\n",
       "        text-align: left;\n",
       "    }\n",
       "\n",
       "    .dataframe tbody tr th {\n",
       "        vertical-align: top;\n",
       "    }\n",
       "</style>\n",
       "<table border=\"1\" class=\"dataframe\">\n",
       "  <thead>\n",
       "    <tr style=\"text-align: right;\">\n",
       "      <th></th>\n",
       "      <th>Java</th>\n",
       "      <th>C++</th>\n",
       "      <th>Vb</th>\n",
       "    </tr>\n",
       "  </thead>\n",
       "  <tbody>\n",
       "    <tr>\n",
       "      <th>2</th>\n",
       "      <td>50</td>\n",
       "      <td>20</td>\n",
       "      <td>10</td>\n",
       "    </tr>\n",
       "    <tr>\n",
       "      <th>3</th>\n",
       "      <td>50</td>\n",
       "      <td>30</td>\n",
       "      <td>20</td>\n",
       "    </tr>\n",
       "    <tr>\n",
       "      <th>4</th>\n",
       "      <td>20</td>\n",
       "      <td>40</td>\n",
       "      <td>30</td>\n",
       "    </tr>\n",
       "  </tbody>\n",
       "</table>\n",
       "</div>"
      ],
      "text/plain": [
       "   Java  C++  Vb\n",
       "2    50   20  10\n",
       "3    50   30  20\n",
       "4    20   40  30"
      ]
     },
     "execution_count": 64,
     "metadata": {},
     "output_type": "execute_result"
    }
   ],
   "source": [
    "s1"
   ]
  },
  {
   "cell_type": "code",
   "execution_count": 65,
   "metadata": {
    "collapsed": true
   },
   "outputs": [],
   "source": [
    "s1['C++']=np.NaN"
   ]
  },
  {
   "cell_type": "code",
   "execution_count": 66,
   "metadata": {},
   "outputs": [
    {
     "data": {
      "text/html": [
       "<div>\n",
       "<style>\n",
       "    .dataframe thead tr:only-child th {\n",
       "        text-align: right;\n",
       "    }\n",
       "\n",
       "    .dataframe thead th {\n",
       "        text-align: left;\n",
       "    }\n",
       "\n",
       "    .dataframe tbody tr th {\n",
       "        vertical-align: top;\n",
       "    }\n",
       "</style>\n",
       "<table border=\"1\" class=\"dataframe\">\n",
       "  <thead>\n",
       "    <tr style=\"text-align: right;\">\n",
       "      <th></th>\n",
       "      <th>Java</th>\n",
       "      <th>C++</th>\n",
       "      <th>Vb</th>\n",
       "    </tr>\n",
       "  </thead>\n",
       "  <tbody>\n",
       "    <tr>\n",
       "      <th>2</th>\n",
       "      <td>50</td>\n",
       "      <td>NaN</td>\n",
       "      <td>10</td>\n",
       "    </tr>\n",
       "    <tr>\n",
       "      <th>3</th>\n",
       "      <td>50</td>\n",
       "      <td>NaN</td>\n",
       "      <td>20</td>\n",
       "    </tr>\n",
       "    <tr>\n",
       "      <th>4</th>\n",
       "      <td>20</td>\n",
       "      <td>NaN</td>\n",
       "      <td>30</td>\n",
       "    </tr>\n",
       "  </tbody>\n",
       "</table>\n",
       "</div>"
      ],
      "text/plain": [
       "   Java  C++  Vb\n",
       "2    50  NaN  10\n",
       "3    50  NaN  20\n",
       "4    20  NaN  30"
      ]
     },
     "execution_count": 66,
     "metadata": {},
     "output_type": "execute_result"
    }
   ],
   "source": [
    "s1"
   ]
  },
  {
   "cell_type": "code",
   "execution_count": 67,
   "metadata": {
    "collapsed": true
   },
   "outputs": [],
   "source": [
    "n1=np.random.random((20,6))"
   ]
  },
  {
   "cell_type": "code",
   "execution_count": 68,
   "metadata": {
    "collapsed": true
   },
   "outputs": [],
   "source": [
    "s2=DataFrame(n1)"
   ]
  },
  {
   "cell_type": "code",
   "execution_count": 69,
   "metadata": {},
   "outputs": [
    {
     "data": {
      "text/html": [
       "<div>\n",
       "<style>\n",
       "    .dataframe thead tr:only-child th {\n",
       "        text-align: right;\n",
       "    }\n",
       "\n",
       "    .dataframe thead th {\n",
       "        text-align: left;\n",
       "    }\n",
       "\n",
       "    .dataframe tbody tr th {\n",
       "        vertical-align: top;\n",
       "    }\n",
       "</style>\n",
       "<table border=\"1\" class=\"dataframe\">\n",
       "  <thead>\n",
       "    <tr style=\"text-align: right;\">\n",
       "      <th></th>\n",
       "      <th>0</th>\n",
       "      <th>1</th>\n",
       "      <th>2</th>\n",
       "      <th>3</th>\n",
       "      <th>4</th>\n",
       "      <th>5</th>\n",
       "    </tr>\n",
       "  </thead>\n",
       "  <tbody>\n",
       "    <tr>\n",
       "      <th>0</th>\n",
       "      <td>0.301234</td>\n",
       "      <td>0.262496</td>\n",
       "      <td>0.143565</td>\n",
       "      <td>0.785605</td>\n",
       "      <td>0.506516</td>\n",
       "      <td>0.114317</td>\n",
       "    </tr>\n",
       "    <tr>\n",
       "      <th>1</th>\n",
       "      <td>0.437400</td>\n",
       "      <td>0.968999</td>\n",
       "      <td>0.283143</td>\n",
       "      <td>0.531271</td>\n",
       "      <td>0.487656</td>\n",
       "      <td>0.417371</td>\n",
       "    </tr>\n",
       "    <tr>\n",
       "      <th>2</th>\n",
       "      <td>0.575852</td>\n",
       "      <td>0.366192</td>\n",
       "      <td>0.274097</td>\n",
       "      <td>0.726994</td>\n",
       "      <td>0.497846</td>\n",
       "      <td>0.890383</td>\n",
       "    </tr>\n",
       "    <tr>\n",
       "      <th>3</th>\n",
       "      <td>0.848888</td>\n",
       "      <td>0.553066</td>\n",
       "      <td>0.558749</td>\n",
       "      <td>0.261751</td>\n",
       "      <td>0.038147</td>\n",
       "      <td>0.655448</td>\n",
       "    </tr>\n",
       "    <tr>\n",
       "      <th>4</th>\n",
       "      <td>0.194965</td>\n",
       "      <td>0.296101</td>\n",
       "      <td>0.714914</td>\n",
       "      <td>0.221390</td>\n",
       "      <td>0.955493</td>\n",
       "      <td>0.136874</td>\n",
       "    </tr>\n",
       "    <tr>\n",
       "      <th>5</th>\n",
       "      <td>0.404295</td>\n",
       "      <td>0.059218</td>\n",
       "      <td>0.553108</td>\n",
       "      <td>0.574481</td>\n",
       "      <td>0.659914</td>\n",
       "      <td>0.970351</td>\n",
       "    </tr>\n",
       "    <tr>\n",
       "      <th>6</th>\n",
       "      <td>0.283781</td>\n",
       "      <td>0.490543</td>\n",
       "      <td>0.771661</td>\n",
       "      <td>0.352689</td>\n",
       "      <td>0.767309</td>\n",
       "      <td>0.940892</td>\n",
       "    </tr>\n",
       "    <tr>\n",
       "      <th>7</th>\n",
       "      <td>0.659163</td>\n",
       "      <td>0.199789</td>\n",
       "      <td>0.241488</td>\n",
       "      <td>0.120836</td>\n",
       "      <td>0.469298</td>\n",
       "      <td>0.497078</td>\n",
       "    </tr>\n",
       "    <tr>\n",
       "      <th>8</th>\n",
       "      <td>0.293476</td>\n",
       "      <td>0.668386</td>\n",
       "      <td>0.068253</td>\n",
       "      <td>0.337998</td>\n",
       "      <td>0.994205</td>\n",
       "      <td>0.898762</td>\n",
       "    </tr>\n",
       "    <tr>\n",
       "      <th>9</th>\n",
       "      <td>0.251640</td>\n",
       "      <td>0.745799</td>\n",
       "      <td>0.327457</td>\n",
       "      <td>0.030349</td>\n",
       "      <td>0.306058</td>\n",
       "      <td>0.463053</td>\n",
       "    </tr>\n",
       "    <tr>\n",
       "      <th>10</th>\n",
       "      <td>0.531270</td>\n",
       "      <td>0.164523</td>\n",
       "      <td>0.902869</td>\n",
       "      <td>0.947906</td>\n",
       "      <td>0.496157</td>\n",
       "      <td>0.065043</td>\n",
       "    </tr>\n",
       "    <tr>\n",
       "      <th>11</th>\n",
       "      <td>0.687610</td>\n",
       "      <td>0.071960</td>\n",
       "      <td>0.040719</td>\n",
       "      <td>0.178836</td>\n",
       "      <td>0.185332</td>\n",
       "      <td>0.424641</td>\n",
       "    </tr>\n",
       "    <tr>\n",
       "      <th>12</th>\n",
       "      <td>0.022366</td>\n",
       "      <td>0.908083</td>\n",
       "      <td>0.456848</td>\n",
       "      <td>0.910560</td>\n",
       "      <td>0.287322</td>\n",
       "      <td>0.079461</td>\n",
       "    </tr>\n",
       "    <tr>\n",
       "      <th>13</th>\n",
       "      <td>0.484807</td>\n",
       "      <td>0.075417</td>\n",
       "      <td>0.340881</td>\n",
       "      <td>0.404363</td>\n",
       "      <td>0.002127</td>\n",
       "      <td>0.590652</td>\n",
       "    </tr>\n",
       "    <tr>\n",
       "      <th>14</th>\n",
       "      <td>0.815619</td>\n",
       "      <td>0.250676</td>\n",
       "      <td>0.514623</td>\n",
       "      <td>0.645525</td>\n",
       "      <td>0.228036</td>\n",
       "      <td>0.574069</td>\n",
       "    </tr>\n",
       "    <tr>\n",
       "      <th>15</th>\n",
       "      <td>0.786530</td>\n",
       "      <td>0.868534</td>\n",
       "      <td>0.233149</td>\n",
       "      <td>0.811540</td>\n",
       "      <td>0.507582</td>\n",
       "      <td>0.958471</td>\n",
       "    </tr>\n",
       "    <tr>\n",
       "      <th>16</th>\n",
       "      <td>0.592249</td>\n",
       "      <td>0.947405</td>\n",
       "      <td>0.364026</td>\n",
       "      <td>0.962173</td>\n",
       "      <td>0.087856</td>\n",
       "      <td>0.172483</td>\n",
       "    </tr>\n",
       "    <tr>\n",
       "      <th>17</th>\n",
       "      <td>0.625164</td>\n",
       "      <td>0.816300</td>\n",
       "      <td>0.730838</td>\n",
       "      <td>0.742707</td>\n",
       "      <td>0.549078</td>\n",
       "      <td>0.206656</td>\n",
       "    </tr>\n",
       "    <tr>\n",
       "      <th>18</th>\n",
       "      <td>0.926848</td>\n",
       "      <td>0.959606</td>\n",
       "      <td>0.898296</td>\n",
       "      <td>0.458441</td>\n",
       "      <td>0.851664</td>\n",
       "      <td>0.116786</td>\n",
       "    </tr>\n",
       "    <tr>\n",
       "      <th>19</th>\n",
       "      <td>0.912381</td>\n",
       "      <td>0.574920</td>\n",
       "      <td>0.393954</td>\n",
       "      <td>0.738190</td>\n",
       "      <td>0.803269</td>\n",
       "      <td>0.275192</td>\n",
       "    </tr>\n",
       "  </tbody>\n",
       "</table>\n",
       "</div>"
      ],
      "text/plain": [
       "           0         1         2         3         4         5\n",
       "0   0.301234  0.262496  0.143565  0.785605  0.506516  0.114317\n",
       "1   0.437400  0.968999  0.283143  0.531271  0.487656  0.417371\n",
       "2   0.575852  0.366192  0.274097  0.726994  0.497846  0.890383\n",
       "3   0.848888  0.553066  0.558749  0.261751  0.038147  0.655448\n",
       "4   0.194965  0.296101  0.714914  0.221390  0.955493  0.136874\n",
       "5   0.404295  0.059218  0.553108  0.574481  0.659914  0.970351\n",
       "6   0.283781  0.490543  0.771661  0.352689  0.767309  0.940892\n",
       "7   0.659163  0.199789  0.241488  0.120836  0.469298  0.497078\n",
       "8   0.293476  0.668386  0.068253  0.337998  0.994205  0.898762\n",
       "9   0.251640  0.745799  0.327457  0.030349  0.306058  0.463053\n",
       "10  0.531270  0.164523  0.902869  0.947906  0.496157  0.065043\n",
       "11  0.687610  0.071960  0.040719  0.178836  0.185332  0.424641\n",
       "12  0.022366  0.908083  0.456848  0.910560  0.287322  0.079461\n",
       "13  0.484807  0.075417  0.340881  0.404363  0.002127  0.590652\n",
       "14  0.815619  0.250676  0.514623  0.645525  0.228036  0.574069\n",
       "15  0.786530  0.868534  0.233149  0.811540  0.507582  0.958471\n",
       "16  0.592249  0.947405  0.364026  0.962173  0.087856  0.172483\n",
       "17  0.625164  0.816300  0.730838  0.742707  0.549078  0.206656\n",
       "18  0.926848  0.959606  0.898296  0.458441  0.851664  0.116786\n",
       "19  0.912381  0.574920  0.393954  0.738190  0.803269  0.275192"
      ]
     },
     "execution_count": 69,
     "metadata": {},
     "output_type": "execute_result"
    }
   ],
   "source": [
    "s2"
   ]
  },
  {
   "cell_type": "code",
   "execution_count": 70,
   "metadata": {},
   "outputs": [
    {
     "data": {
      "text/html": [
       "<div>\n",
       "<style>\n",
       "    .dataframe thead tr:only-child th {\n",
       "        text-align: right;\n",
       "    }\n",
       "\n",
       "    .dataframe thead th {\n",
       "        text-align: left;\n",
       "    }\n",
       "\n",
       "    .dataframe tbody tr th {\n",
       "        vertical-align: top;\n",
       "    }\n",
       "</style>\n",
       "<table border=\"1\" class=\"dataframe\">\n",
       "  <thead>\n",
       "    <tr style=\"text-align: right;\">\n",
       "      <th></th>\n",
       "      <th>0</th>\n",
       "      <th>1</th>\n",
       "      <th>2</th>\n",
       "      <th>3</th>\n",
       "      <th>4</th>\n",
       "      <th>5</th>\n",
       "    </tr>\n",
       "  </thead>\n",
       "  <tbody>\n",
       "    <tr>\n",
       "      <th>0</th>\n",
       "      <td>0.301234</td>\n",
       "      <td>0.262496</td>\n",
       "      <td>0.143565</td>\n",
       "      <td>0.785605</td>\n",
       "      <td>0.506516</td>\n",
       "      <td>0.114317</td>\n",
       "    </tr>\n",
       "    <tr>\n",
       "      <th>1</th>\n",
       "      <td>0.437400</td>\n",
       "      <td>0.968999</td>\n",
       "      <td>0.283143</td>\n",
       "      <td>0.531271</td>\n",
       "      <td>0.487656</td>\n",
       "      <td>0.417371</td>\n",
       "    </tr>\n",
       "    <tr>\n",
       "      <th>2</th>\n",
       "      <td>0.575852</td>\n",
       "      <td>0.366192</td>\n",
       "      <td>0.274097</td>\n",
       "      <td>0.726994</td>\n",
       "      <td>0.497846</td>\n",
       "      <td>0.890383</td>\n",
       "    </tr>\n",
       "    <tr>\n",
       "      <th>3</th>\n",
       "      <td>0.848888</td>\n",
       "      <td>0.553066</td>\n",
       "      <td>0.558749</td>\n",
       "      <td>0.261751</td>\n",
       "      <td>0.038147</td>\n",
       "      <td>0.655448</td>\n",
       "    </tr>\n",
       "    <tr>\n",
       "      <th>4</th>\n",
       "      <td>0.194965</td>\n",
       "      <td>0.296101</td>\n",
       "      <td>0.714914</td>\n",
       "      <td>0.221390</td>\n",
       "      <td>0.955493</td>\n",
       "      <td>0.136874</td>\n",
       "    </tr>\n",
       "  </tbody>\n",
       "</table>\n",
       "</div>"
      ],
      "text/plain": [
       "          0         1         2         3         4         5\n",
       "0  0.301234  0.262496  0.143565  0.785605  0.506516  0.114317\n",
       "1  0.437400  0.968999  0.283143  0.531271  0.487656  0.417371\n",
       "2  0.575852  0.366192  0.274097  0.726994  0.497846  0.890383\n",
       "3  0.848888  0.553066  0.558749  0.261751  0.038147  0.655448\n",
       "4  0.194965  0.296101  0.714914  0.221390  0.955493  0.136874"
      ]
     },
     "execution_count": 70,
     "metadata": {},
     "output_type": "execute_result"
    }
   ],
   "source": [
    "s2.head()   #默认为前5行数据，可以自定义显示行数"
   ]
  },
  {
   "cell_type": "code",
   "execution_count": 71,
   "metadata": {},
   "outputs": [
    {
     "data": {
      "text/html": [
       "<div>\n",
       "<style>\n",
       "    .dataframe thead tr:only-child th {\n",
       "        text-align: right;\n",
       "    }\n",
       "\n",
       "    .dataframe thead th {\n",
       "        text-align: left;\n",
       "    }\n",
       "\n",
       "    .dataframe tbody tr th {\n",
       "        vertical-align: top;\n",
       "    }\n",
       "</style>\n",
       "<table border=\"1\" class=\"dataframe\">\n",
       "  <thead>\n",
       "    <tr style=\"text-align: right;\">\n",
       "      <th></th>\n",
       "      <th>0</th>\n",
       "      <th>1</th>\n",
       "      <th>2</th>\n",
       "      <th>3</th>\n",
       "      <th>4</th>\n",
       "      <th>5</th>\n",
       "    </tr>\n",
       "  </thead>\n",
       "  <tbody>\n",
       "    <tr>\n",
       "      <th>15</th>\n",
       "      <td>0.786530</td>\n",
       "      <td>0.868534</td>\n",
       "      <td>0.233149</td>\n",
       "      <td>0.811540</td>\n",
       "      <td>0.507582</td>\n",
       "      <td>0.958471</td>\n",
       "    </tr>\n",
       "    <tr>\n",
       "      <th>16</th>\n",
       "      <td>0.592249</td>\n",
       "      <td>0.947405</td>\n",
       "      <td>0.364026</td>\n",
       "      <td>0.962173</td>\n",
       "      <td>0.087856</td>\n",
       "      <td>0.172483</td>\n",
       "    </tr>\n",
       "    <tr>\n",
       "      <th>17</th>\n",
       "      <td>0.625164</td>\n",
       "      <td>0.816300</td>\n",
       "      <td>0.730838</td>\n",
       "      <td>0.742707</td>\n",
       "      <td>0.549078</td>\n",
       "      <td>0.206656</td>\n",
       "    </tr>\n",
       "    <tr>\n",
       "      <th>18</th>\n",
       "      <td>0.926848</td>\n",
       "      <td>0.959606</td>\n",
       "      <td>0.898296</td>\n",
       "      <td>0.458441</td>\n",
       "      <td>0.851664</td>\n",
       "      <td>0.116786</td>\n",
       "    </tr>\n",
       "    <tr>\n",
       "      <th>19</th>\n",
       "      <td>0.912381</td>\n",
       "      <td>0.574920</td>\n",
       "      <td>0.393954</td>\n",
       "      <td>0.738190</td>\n",
       "      <td>0.803269</td>\n",
       "      <td>0.275192</td>\n",
       "    </tr>\n",
       "  </tbody>\n",
       "</table>\n",
       "</div>"
      ],
      "text/plain": [
       "           0         1         2         3         4         5\n",
       "15  0.786530  0.868534  0.233149  0.811540  0.507582  0.958471\n",
       "16  0.592249  0.947405  0.364026  0.962173  0.087856  0.172483\n",
       "17  0.625164  0.816300  0.730838  0.742707  0.549078  0.206656\n",
       "18  0.926848  0.959606  0.898296  0.458441  0.851664  0.116786\n",
       "19  0.912381  0.574920  0.393954  0.738190  0.803269  0.275192"
      ]
     },
     "execution_count": 71,
     "metadata": {},
     "output_type": "execute_result"
    }
   ],
   "source": [
    "s2.tail()  #默认为后5行，可自定义显示行数"
   ]
  },
  {
   "cell_type": "code",
   "execution_count": 72,
   "metadata": {},
   "outputs": [
    {
     "data": {
      "text/html": [
       "<div>\n",
       "<style>\n",
       "    .dataframe thead tr:only-child th {\n",
       "        text-align: right;\n",
       "    }\n",
       "\n",
       "    .dataframe thead th {\n",
       "        text-align: left;\n",
       "    }\n",
       "\n",
       "    .dataframe tbody tr th {\n",
       "        vertical-align: top;\n",
       "    }\n",
       "</style>\n",
       "<table border=\"1\" class=\"dataframe\">\n",
       "  <thead>\n",
       "    <tr style=\"text-align: right;\">\n",
       "      <th></th>\n",
       "      <th>0</th>\n",
       "      <th>1</th>\n",
       "      <th>2</th>\n",
       "      <th>3</th>\n",
       "      <th>4</th>\n",
       "      <th>5</th>\n",
       "    </tr>\n",
       "  </thead>\n",
       "  <tbody>\n",
       "    <tr>\n",
       "      <th>count</th>\n",
       "      <td>20.000000</td>\n",
       "      <td>20.000000</td>\n",
       "      <td>20.000000</td>\n",
       "      <td>20.000000</td>\n",
       "      <td>20.000000</td>\n",
       "      <td>20.000000</td>\n",
       "    </tr>\n",
       "    <tr>\n",
       "      <th>mean</th>\n",
       "      <td>0.531777</td>\n",
       "      <td>0.512401</td>\n",
       "      <td>0.440632</td>\n",
       "      <td>0.537180</td>\n",
       "      <td>0.484043</td>\n",
       "      <td>0.472399</td>\n",
       "    </tr>\n",
       "    <tr>\n",
       "      <th>std</th>\n",
       "      <td>0.256702</td>\n",
       "      <td>0.329791</td>\n",
       "      <td>0.259289</td>\n",
       "      <td>0.289221</td>\n",
       "      <td>0.294670</td>\n",
       "      <td>0.325342</td>\n",
       "    </tr>\n",
       "    <tr>\n",
       "      <th>min</th>\n",
       "      <td>0.022366</td>\n",
       "      <td>0.059218</td>\n",
       "      <td>0.040719</td>\n",
       "      <td>0.030349</td>\n",
       "      <td>0.002127</td>\n",
       "      <td>0.065043</td>\n",
       "    </tr>\n",
       "    <tr>\n",
       "      <th>25%</th>\n",
       "      <td>0.299294</td>\n",
       "      <td>0.237954</td>\n",
       "      <td>0.265945</td>\n",
       "      <td>0.318936</td>\n",
       "      <td>0.272501</td>\n",
       "      <td>0.163580</td>\n",
       "    </tr>\n",
       "    <tr>\n",
       "      <th>50%</th>\n",
       "      <td>0.553561</td>\n",
       "      <td>0.521805</td>\n",
       "      <td>0.378990</td>\n",
       "      <td>0.552876</td>\n",
       "      <td>0.497002</td>\n",
       "      <td>0.443847</td>\n",
       "    </tr>\n",
       "    <tr>\n",
       "      <th>75%</th>\n",
       "      <td>0.712340</td>\n",
       "      <td>0.829358</td>\n",
       "      <td>0.597791</td>\n",
       "      <td>0.753432</td>\n",
       "      <td>0.686763</td>\n",
       "      <td>0.714182</td>\n",
       "    </tr>\n",
       "    <tr>\n",
       "      <th>max</th>\n",
       "      <td>0.926848</td>\n",
       "      <td>0.968999</td>\n",
       "      <td>0.902869</td>\n",
       "      <td>0.962173</td>\n",
       "      <td>0.994205</td>\n",
       "      <td>0.970351</td>\n",
       "    </tr>\n",
       "  </tbody>\n",
       "</table>\n",
       "</div>"
      ],
      "text/plain": [
       "               0          1          2          3          4          5\n",
       "count  20.000000  20.000000  20.000000  20.000000  20.000000  20.000000\n",
       "mean    0.531777   0.512401   0.440632   0.537180   0.484043   0.472399\n",
       "std     0.256702   0.329791   0.259289   0.289221   0.294670   0.325342\n",
       "min     0.022366   0.059218   0.040719   0.030349   0.002127   0.065043\n",
       "25%     0.299294   0.237954   0.265945   0.318936   0.272501   0.163580\n",
       "50%     0.553561   0.521805   0.378990   0.552876   0.497002   0.443847\n",
       "75%     0.712340   0.829358   0.597791   0.753432   0.686763   0.714182\n",
       "max     0.926848   0.968999   0.902869   0.962173   0.994205   0.970351"
      ]
     },
     "execution_count": 72,
     "metadata": {},
     "output_type": "execute_result"
    }
   ],
   "source": [
    "s2.describe()"
   ]
  },
  {
   "cell_type": "markdown",
   "metadata": {},
   "source": [
    "### 按轴排序"
   ]
  },
  {
   "cell_type": "code",
   "execution_count": 73,
   "metadata": {
    "collapsed": true
   },
   "outputs": [],
   "source": [
    "s2.columns=['a','b','c','d','e','f']"
   ]
  },
  {
   "cell_type": "code",
   "execution_count": 74,
   "metadata": {},
   "outputs": [
    {
     "data": {
      "text/html": [
       "<div>\n",
       "<style>\n",
       "    .dataframe thead tr:only-child th {\n",
       "        text-align: right;\n",
       "    }\n",
       "\n",
       "    .dataframe thead th {\n",
       "        text-align: left;\n",
       "    }\n",
       "\n",
       "    .dataframe tbody tr th {\n",
       "        vertical-align: top;\n",
       "    }\n",
       "</style>\n",
       "<table border=\"1\" class=\"dataframe\">\n",
       "  <thead>\n",
       "    <tr style=\"text-align: right;\">\n",
       "      <th></th>\n",
       "      <th>a</th>\n",
       "      <th>b</th>\n",
       "      <th>c</th>\n",
       "      <th>d</th>\n",
       "      <th>e</th>\n",
       "      <th>f</th>\n",
       "    </tr>\n",
       "  </thead>\n",
       "  <tbody>\n",
       "    <tr>\n",
       "      <th>0</th>\n",
       "      <td>0.301234</td>\n",
       "      <td>0.262496</td>\n",
       "      <td>0.143565</td>\n",
       "      <td>0.785605</td>\n",
       "      <td>0.506516</td>\n",
       "      <td>0.114317</td>\n",
       "    </tr>\n",
       "    <tr>\n",
       "      <th>1</th>\n",
       "      <td>0.437400</td>\n",
       "      <td>0.968999</td>\n",
       "      <td>0.283143</td>\n",
       "      <td>0.531271</td>\n",
       "      <td>0.487656</td>\n",
       "      <td>0.417371</td>\n",
       "    </tr>\n",
       "    <tr>\n",
       "      <th>2</th>\n",
       "      <td>0.575852</td>\n",
       "      <td>0.366192</td>\n",
       "      <td>0.274097</td>\n",
       "      <td>0.726994</td>\n",
       "      <td>0.497846</td>\n",
       "      <td>0.890383</td>\n",
       "    </tr>\n",
       "    <tr>\n",
       "      <th>3</th>\n",
       "      <td>0.848888</td>\n",
       "      <td>0.553066</td>\n",
       "      <td>0.558749</td>\n",
       "      <td>0.261751</td>\n",
       "      <td>0.038147</td>\n",
       "      <td>0.655448</td>\n",
       "    </tr>\n",
       "    <tr>\n",
       "      <th>4</th>\n",
       "      <td>0.194965</td>\n",
       "      <td>0.296101</td>\n",
       "      <td>0.714914</td>\n",
       "      <td>0.221390</td>\n",
       "      <td>0.955493</td>\n",
       "      <td>0.136874</td>\n",
       "    </tr>\n",
       "    <tr>\n",
       "      <th>5</th>\n",
       "      <td>0.404295</td>\n",
       "      <td>0.059218</td>\n",
       "      <td>0.553108</td>\n",
       "      <td>0.574481</td>\n",
       "      <td>0.659914</td>\n",
       "      <td>0.970351</td>\n",
       "    </tr>\n",
       "    <tr>\n",
       "      <th>6</th>\n",
       "      <td>0.283781</td>\n",
       "      <td>0.490543</td>\n",
       "      <td>0.771661</td>\n",
       "      <td>0.352689</td>\n",
       "      <td>0.767309</td>\n",
       "      <td>0.940892</td>\n",
       "    </tr>\n",
       "    <tr>\n",
       "      <th>7</th>\n",
       "      <td>0.659163</td>\n",
       "      <td>0.199789</td>\n",
       "      <td>0.241488</td>\n",
       "      <td>0.120836</td>\n",
       "      <td>0.469298</td>\n",
       "      <td>0.497078</td>\n",
       "    </tr>\n",
       "    <tr>\n",
       "      <th>8</th>\n",
       "      <td>0.293476</td>\n",
       "      <td>0.668386</td>\n",
       "      <td>0.068253</td>\n",
       "      <td>0.337998</td>\n",
       "      <td>0.994205</td>\n",
       "      <td>0.898762</td>\n",
       "    </tr>\n",
       "    <tr>\n",
       "      <th>9</th>\n",
       "      <td>0.251640</td>\n",
       "      <td>0.745799</td>\n",
       "      <td>0.327457</td>\n",
       "      <td>0.030349</td>\n",
       "      <td>0.306058</td>\n",
       "      <td>0.463053</td>\n",
       "    </tr>\n",
       "    <tr>\n",
       "      <th>10</th>\n",
       "      <td>0.531270</td>\n",
       "      <td>0.164523</td>\n",
       "      <td>0.902869</td>\n",
       "      <td>0.947906</td>\n",
       "      <td>0.496157</td>\n",
       "      <td>0.065043</td>\n",
       "    </tr>\n",
       "    <tr>\n",
       "      <th>11</th>\n",
       "      <td>0.687610</td>\n",
       "      <td>0.071960</td>\n",
       "      <td>0.040719</td>\n",
       "      <td>0.178836</td>\n",
       "      <td>0.185332</td>\n",
       "      <td>0.424641</td>\n",
       "    </tr>\n",
       "    <tr>\n",
       "      <th>12</th>\n",
       "      <td>0.022366</td>\n",
       "      <td>0.908083</td>\n",
       "      <td>0.456848</td>\n",
       "      <td>0.910560</td>\n",
       "      <td>0.287322</td>\n",
       "      <td>0.079461</td>\n",
       "    </tr>\n",
       "    <tr>\n",
       "      <th>13</th>\n",
       "      <td>0.484807</td>\n",
       "      <td>0.075417</td>\n",
       "      <td>0.340881</td>\n",
       "      <td>0.404363</td>\n",
       "      <td>0.002127</td>\n",
       "      <td>0.590652</td>\n",
       "    </tr>\n",
       "    <tr>\n",
       "      <th>14</th>\n",
       "      <td>0.815619</td>\n",
       "      <td>0.250676</td>\n",
       "      <td>0.514623</td>\n",
       "      <td>0.645525</td>\n",
       "      <td>0.228036</td>\n",
       "      <td>0.574069</td>\n",
       "    </tr>\n",
       "    <tr>\n",
       "      <th>15</th>\n",
       "      <td>0.786530</td>\n",
       "      <td>0.868534</td>\n",
       "      <td>0.233149</td>\n",
       "      <td>0.811540</td>\n",
       "      <td>0.507582</td>\n",
       "      <td>0.958471</td>\n",
       "    </tr>\n",
       "    <tr>\n",
       "      <th>16</th>\n",
       "      <td>0.592249</td>\n",
       "      <td>0.947405</td>\n",
       "      <td>0.364026</td>\n",
       "      <td>0.962173</td>\n",
       "      <td>0.087856</td>\n",
       "      <td>0.172483</td>\n",
       "    </tr>\n",
       "    <tr>\n",
       "      <th>17</th>\n",
       "      <td>0.625164</td>\n",
       "      <td>0.816300</td>\n",
       "      <td>0.730838</td>\n",
       "      <td>0.742707</td>\n",
       "      <td>0.549078</td>\n",
       "      <td>0.206656</td>\n",
       "    </tr>\n",
       "    <tr>\n",
       "      <th>18</th>\n",
       "      <td>0.926848</td>\n",
       "      <td>0.959606</td>\n",
       "      <td>0.898296</td>\n",
       "      <td>0.458441</td>\n",
       "      <td>0.851664</td>\n",
       "      <td>0.116786</td>\n",
       "    </tr>\n",
       "    <tr>\n",
       "      <th>19</th>\n",
       "      <td>0.912381</td>\n",
       "      <td>0.574920</td>\n",
       "      <td>0.393954</td>\n",
       "      <td>0.738190</td>\n",
       "      <td>0.803269</td>\n",
       "      <td>0.275192</td>\n",
       "    </tr>\n",
       "  </tbody>\n",
       "</table>\n",
       "</div>"
      ],
      "text/plain": [
       "           a         b         c         d         e         f\n",
       "0   0.301234  0.262496  0.143565  0.785605  0.506516  0.114317\n",
       "1   0.437400  0.968999  0.283143  0.531271  0.487656  0.417371\n",
       "2   0.575852  0.366192  0.274097  0.726994  0.497846  0.890383\n",
       "3   0.848888  0.553066  0.558749  0.261751  0.038147  0.655448\n",
       "4   0.194965  0.296101  0.714914  0.221390  0.955493  0.136874\n",
       "5   0.404295  0.059218  0.553108  0.574481  0.659914  0.970351\n",
       "6   0.283781  0.490543  0.771661  0.352689  0.767309  0.940892\n",
       "7   0.659163  0.199789  0.241488  0.120836  0.469298  0.497078\n",
       "8   0.293476  0.668386  0.068253  0.337998  0.994205  0.898762\n",
       "9   0.251640  0.745799  0.327457  0.030349  0.306058  0.463053\n",
       "10  0.531270  0.164523  0.902869  0.947906  0.496157  0.065043\n",
       "11  0.687610  0.071960  0.040719  0.178836  0.185332  0.424641\n",
       "12  0.022366  0.908083  0.456848  0.910560  0.287322  0.079461\n",
       "13  0.484807  0.075417  0.340881  0.404363  0.002127  0.590652\n",
       "14  0.815619  0.250676  0.514623  0.645525  0.228036  0.574069\n",
       "15  0.786530  0.868534  0.233149  0.811540  0.507582  0.958471\n",
       "16  0.592249  0.947405  0.364026  0.962173  0.087856  0.172483\n",
       "17  0.625164  0.816300  0.730838  0.742707  0.549078  0.206656\n",
       "18  0.926848  0.959606  0.898296  0.458441  0.851664  0.116786\n",
       "19  0.912381  0.574920  0.393954  0.738190  0.803269  0.275192"
      ]
     },
     "execution_count": 74,
     "metadata": {},
     "output_type": "execute_result"
    }
   ],
   "source": [
    "s2"
   ]
  },
  {
   "cell_type": "code",
   "execution_count": 75,
   "metadata": {},
   "outputs": [
    {
     "data": {
      "text/html": [
       "<div>\n",
       "<style>\n",
       "    .dataframe thead tr:only-child th {\n",
       "        text-align: right;\n",
       "    }\n",
       "\n",
       "    .dataframe thead th {\n",
       "        text-align: left;\n",
       "    }\n",
       "\n",
       "    .dataframe tbody tr th {\n",
       "        vertical-align: top;\n",
       "    }\n",
       "</style>\n",
       "<table border=\"1\" class=\"dataframe\">\n",
       "  <thead>\n",
       "    <tr style=\"text-align: right;\">\n",
       "      <th></th>\n",
       "      <th>f</th>\n",
       "      <th>e</th>\n",
       "      <th>d</th>\n",
       "      <th>c</th>\n",
       "      <th>b</th>\n",
       "      <th>a</th>\n",
       "    </tr>\n",
       "  </thead>\n",
       "  <tbody>\n",
       "    <tr>\n",
       "      <th>0</th>\n",
       "      <td>0.114317</td>\n",
       "      <td>0.506516</td>\n",
       "      <td>0.785605</td>\n",
       "      <td>0.143565</td>\n",
       "      <td>0.262496</td>\n",
       "      <td>0.301234</td>\n",
       "    </tr>\n",
       "    <tr>\n",
       "      <th>1</th>\n",
       "      <td>0.417371</td>\n",
       "      <td>0.487656</td>\n",
       "      <td>0.531271</td>\n",
       "      <td>0.283143</td>\n",
       "      <td>0.968999</td>\n",
       "      <td>0.437400</td>\n",
       "    </tr>\n",
       "    <tr>\n",
       "      <th>2</th>\n",
       "      <td>0.890383</td>\n",
       "      <td>0.497846</td>\n",
       "      <td>0.726994</td>\n",
       "      <td>0.274097</td>\n",
       "      <td>0.366192</td>\n",
       "      <td>0.575852</td>\n",
       "    </tr>\n",
       "    <tr>\n",
       "      <th>3</th>\n",
       "      <td>0.655448</td>\n",
       "      <td>0.038147</td>\n",
       "      <td>0.261751</td>\n",
       "      <td>0.558749</td>\n",
       "      <td>0.553066</td>\n",
       "      <td>0.848888</td>\n",
       "    </tr>\n",
       "    <tr>\n",
       "      <th>4</th>\n",
       "      <td>0.136874</td>\n",
       "      <td>0.955493</td>\n",
       "      <td>0.221390</td>\n",
       "      <td>0.714914</td>\n",
       "      <td>0.296101</td>\n",
       "      <td>0.194965</td>\n",
       "    </tr>\n",
       "    <tr>\n",
       "      <th>5</th>\n",
       "      <td>0.970351</td>\n",
       "      <td>0.659914</td>\n",
       "      <td>0.574481</td>\n",
       "      <td>0.553108</td>\n",
       "      <td>0.059218</td>\n",
       "      <td>0.404295</td>\n",
       "    </tr>\n",
       "    <tr>\n",
       "      <th>6</th>\n",
       "      <td>0.940892</td>\n",
       "      <td>0.767309</td>\n",
       "      <td>0.352689</td>\n",
       "      <td>0.771661</td>\n",
       "      <td>0.490543</td>\n",
       "      <td>0.283781</td>\n",
       "    </tr>\n",
       "    <tr>\n",
       "      <th>7</th>\n",
       "      <td>0.497078</td>\n",
       "      <td>0.469298</td>\n",
       "      <td>0.120836</td>\n",
       "      <td>0.241488</td>\n",
       "      <td>0.199789</td>\n",
       "      <td>0.659163</td>\n",
       "    </tr>\n",
       "    <tr>\n",
       "      <th>8</th>\n",
       "      <td>0.898762</td>\n",
       "      <td>0.994205</td>\n",
       "      <td>0.337998</td>\n",
       "      <td>0.068253</td>\n",
       "      <td>0.668386</td>\n",
       "      <td>0.293476</td>\n",
       "    </tr>\n",
       "    <tr>\n",
       "      <th>9</th>\n",
       "      <td>0.463053</td>\n",
       "      <td>0.306058</td>\n",
       "      <td>0.030349</td>\n",
       "      <td>0.327457</td>\n",
       "      <td>0.745799</td>\n",
       "      <td>0.251640</td>\n",
       "    </tr>\n",
       "    <tr>\n",
       "      <th>10</th>\n",
       "      <td>0.065043</td>\n",
       "      <td>0.496157</td>\n",
       "      <td>0.947906</td>\n",
       "      <td>0.902869</td>\n",
       "      <td>0.164523</td>\n",
       "      <td>0.531270</td>\n",
       "    </tr>\n",
       "    <tr>\n",
       "      <th>11</th>\n",
       "      <td>0.424641</td>\n",
       "      <td>0.185332</td>\n",
       "      <td>0.178836</td>\n",
       "      <td>0.040719</td>\n",
       "      <td>0.071960</td>\n",
       "      <td>0.687610</td>\n",
       "    </tr>\n",
       "    <tr>\n",
       "      <th>12</th>\n",
       "      <td>0.079461</td>\n",
       "      <td>0.287322</td>\n",
       "      <td>0.910560</td>\n",
       "      <td>0.456848</td>\n",
       "      <td>0.908083</td>\n",
       "      <td>0.022366</td>\n",
       "    </tr>\n",
       "    <tr>\n",
       "      <th>13</th>\n",
       "      <td>0.590652</td>\n",
       "      <td>0.002127</td>\n",
       "      <td>0.404363</td>\n",
       "      <td>0.340881</td>\n",
       "      <td>0.075417</td>\n",
       "      <td>0.484807</td>\n",
       "    </tr>\n",
       "    <tr>\n",
       "      <th>14</th>\n",
       "      <td>0.574069</td>\n",
       "      <td>0.228036</td>\n",
       "      <td>0.645525</td>\n",
       "      <td>0.514623</td>\n",
       "      <td>0.250676</td>\n",
       "      <td>0.815619</td>\n",
       "    </tr>\n",
       "    <tr>\n",
       "      <th>15</th>\n",
       "      <td>0.958471</td>\n",
       "      <td>0.507582</td>\n",
       "      <td>0.811540</td>\n",
       "      <td>0.233149</td>\n",
       "      <td>0.868534</td>\n",
       "      <td>0.786530</td>\n",
       "    </tr>\n",
       "    <tr>\n",
       "      <th>16</th>\n",
       "      <td>0.172483</td>\n",
       "      <td>0.087856</td>\n",
       "      <td>0.962173</td>\n",
       "      <td>0.364026</td>\n",
       "      <td>0.947405</td>\n",
       "      <td>0.592249</td>\n",
       "    </tr>\n",
       "    <tr>\n",
       "      <th>17</th>\n",
       "      <td>0.206656</td>\n",
       "      <td>0.549078</td>\n",
       "      <td>0.742707</td>\n",
       "      <td>0.730838</td>\n",
       "      <td>0.816300</td>\n",
       "      <td>0.625164</td>\n",
       "    </tr>\n",
       "    <tr>\n",
       "      <th>18</th>\n",
       "      <td>0.116786</td>\n",
       "      <td>0.851664</td>\n",
       "      <td>0.458441</td>\n",
       "      <td>0.898296</td>\n",
       "      <td>0.959606</td>\n",
       "      <td>0.926848</td>\n",
       "    </tr>\n",
       "    <tr>\n",
       "      <th>19</th>\n",
       "      <td>0.275192</td>\n",
       "      <td>0.803269</td>\n",
       "      <td>0.738190</td>\n",
       "      <td>0.393954</td>\n",
       "      <td>0.574920</td>\n",
       "      <td>0.912381</td>\n",
       "    </tr>\n",
       "  </tbody>\n",
       "</table>\n",
       "</div>"
      ],
      "text/plain": [
       "           f         e         d         c         b         a\n",
       "0   0.114317  0.506516  0.785605  0.143565  0.262496  0.301234\n",
       "1   0.417371  0.487656  0.531271  0.283143  0.968999  0.437400\n",
       "2   0.890383  0.497846  0.726994  0.274097  0.366192  0.575852\n",
       "3   0.655448  0.038147  0.261751  0.558749  0.553066  0.848888\n",
       "4   0.136874  0.955493  0.221390  0.714914  0.296101  0.194965\n",
       "5   0.970351  0.659914  0.574481  0.553108  0.059218  0.404295\n",
       "6   0.940892  0.767309  0.352689  0.771661  0.490543  0.283781\n",
       "7   0.497078  0.469298  0.120836  0.241488  0.199789  0.659163\n",
       "8   0.898762  0.994205  0.337998  0.068253  0.668386  0.293476\n",
       "9   0.463053  0.306058  0.030349  0.327457  0.745799  0.251640\n",
       "10  0.065043  0.496157  0.947906  0.902869  0.164523  0.531270\n",
       "11  0.424641  0.185332  0.178836  0.040719  0.071960  0.687610\n",
       "12  0.079461  0.287322  0.910560  0.456848  0.908083  0.022366\n",
       "13  0.590652  0.002127  0.404363  0.340881  0.075417  0.484807\n",
       "14  0.574069  0.228036  0.645525  0.514623  0.250676  0.815619\n",
       "15  0.958471  0.507582  0.811540  0.233149  0.868534  0.786530\n",
       "16  0.172483  0.087856  0.962173  0.364026  0.947405  0.592249\n",
       "17  0.206656  0.549078  0.742707  0.730838  0.816300  0.625164\n",
       "18  0.116786  0.851664  0.458441  0.898296  0.959606  0.926848\n",
       "19  0.275192  0.803269  0.738190  0.393954  0.574920  0.912381"
      ]
     },
     "execution_count": 75,
     "metadata": {},
     "output_type": "execute_result"
    }
   ],
   "source": [
    "s2.sort_index(axis=1,ascending=False)\n",
    "#axis代表轴，0为行轴，1为列轴\n",
    "#ascending 排序的方式，默认为True，表示升序，False为降序"
   ]
  },
  {
   "cell_type": "markdown",
   "metadata": {},
   "source": [
    "### 按值排序"
   ]
  },
  {
   "cell_type": "code",
   "execution_count": 76,
   "metadata": {},
   "outputs": [
    {
     "ename": "AttributeError",
     "evalue": "'DataFrame' object has no attribute 'sort'",
     "output_type": "error",
     "traceback": [
      "\u001b[1;31m---------------------------------------------------------------------------\u001b[0m",
      "\u001b[1;31mAttributeError\u001b[0m                            Traceback (most recent call last)",
      "\u001b[1;32m<ipython-input-76-876d1e41e4c8>\u001b[0m in \u001b[0;36m<module>\u001b[1;34m()\u001b[0m\n\u001b[1;32m----> 1\u001b[1;33m \u001b[0ms2\u001b[0m\u001b[1;33m.\u001b[0m\u001b[0msort\u001b[0m\u001b[1;33m(\u001b[0m\u001b[0mcolumns\u001b[0m\u001b[1;33m=\u001b[0m\u001b[1;34m'b'\u001b[0m\u001b[1;33m)\u001b[0m\u001b[1;33m\u001b[0m\u001b[0m\n\u001b[0m",
      "\u001b[1;32mC:\\Users\\syph\\Anaconda2\\lib\\site-packages\\pandas\\core\\generic.pyc\u001b[0m in \u001b[0;36m__getattr__\u001b[1;34m(self, name)\u001b[0m\n\u001b[0;32m   3079\u001b[0m             \u001b[1;32mif\u001b[0m \u001b[0mname\u001b[0m \u001b[1;32min\u001b[0m \u001b[0mself\u001b[0m\u001b[1;33m.\u001b[0m\u001b[0m_info_axis\u001b[0m\u001b[1;33m:\u001b[0m\u001b[1;33m\u001b[0m\u001b[0m\n\u001b[0;32m   3080\u001b[0m                 \u001b[1;32mreturn\u001b[0m \u001b[0mself\u001b[0m\u001b[1;33m[\u001b[0m\u001b[0mname\u001b[0m\u001b[1;33m]\u001b[0m\u001b[1;33m\u001b[0m\u001b[0m\n\u001b[1;32m-> 3081\u001b[1;33m             \u001b[1;32mreturn\u001b[0m \u001b[0mobject\u001b[0m\u001b[1;33m.\u001b[0m\u001b[0m__getattribute__\u001b[0m\u001b[1;33m(\u001b[0m\u001b[0mself\u001b[0m\u001b[1;33m,\u001b[0m \u001b[0mname\u001b[0m\u001b[1;33m)\u001b[0m\u001b[1;33m\u001b[0m\u001b[0m\n\u001b[0m\u001b[0;32m   3082\u001b[0m \u001b[1;33m\u001b[0m\u001b[0m\n\u001b[0;32m   3083\u001b[0m     \u001b[1;32mdef\u001b[0m \u001b[0m__setattr__\u001b[0m\u001b[1;33m(\u001b[0m\u001b[0mself\u001b[0m\u001b[1;33m,\u001b[0m \u001b[0mname\u001b[0m\u001b[1;33m,\u001b[0m \u001b[0mvalue\u001b[0m\u001b[1;33m)\u001b[0m\u001b[1;33m:\u001b[0m\u001b[1;33m\u001b[0m\u001b[0m\n",
      "\u001b[1;31mAttributeError\u001b[0m: 'DataFrame' object has no attribute 'sort'"
     ]
    }
   ],
   "source": [
    "s2.sort(columns='b')"
   ]
  },
  {
   "cell_type": "markdown",
   "metadata": {},
   "source": [
    "### 按照标签来获取一个交叉的区域"
   ]
  },
  {
   "cell_type": "code",
   "execution_count": 77,
   "metadata": {
    "collapsed": true
   },
   "outputs": [],
   "source": [
    "datas=[0,20,30]"
   ]
  },
  {
   "cell_type": "code",
   "execution_count": 78,
   "metadata": {},
   "outputs": [
    {
     "data": {
      "text/html": [
       "<div>\n",
       "<style>\n",
       "    .dataframe thead tr:only-child th {\n",
       "        text-align: right;\n",
       "    }\n",
       "\n",
       "    .dataframe thead th {\n",
       "        text-align: left;\n",
       "    }\n",
       "\n",
       "    .dataframe tbody tr th {\n",
       "        vertical-align: top;\n",
       "    }\n",
       "</style>\n",
       "<table border=\"1\" class=\"dataframe\">\n",
       "  <thead>\n",
       "    <tr style=\"text-align: right;\">\n",
       "      <th></th>\n",
       "      <th>a</th>\n",
       "    </tr>\n",
       "  </thead>\n",
       "  <tbody>\n",
       "    <tr>\n",
       "      <th>0</th>\n",
       "      <td>0.301234</td>\n",
       "    </tr>\n",
       "    <tr>\n",
       "      <th>1</th>\n",
       "      <td>0.437400</td>\n",
       "    </tr>\n",
       "    <tr>\n",
       "      <th>2</th>\n",
       "      <td>0.575852</td>\n",
       "    </tr>\n",
       "    <tr>\n",
       "      <th>3</th>\n",
       "      <td>0.848888</td>\n",
       "    </tr>\n",
       "    <tr>\n",
       "      <th>4</th>\n",
       "      <td>0.194965</td>\n",
       "    </tr>\n",
       "    <tr>\n",
       "      <th>5</th>\n",
       "      <td>0.404295</td>\n",
       "    </tr>\n",
       "  </tbody>\n",
       "</table>\n",
       "</div>"
      ],
      "text/plain": [
       "          a\n",
       "0  0.301234\n",
       "1  0.437400\n",
       "2  0.575852\n",
       "3  0.848888\n",
       "4  0.194965\n",
       "5  0.404295"
      ]
     },
     "execution_count": 78,
     "metadata": {},
     "output_type": "execute_result"
    }
   ],
   "source": [
    "s2.loc[0:5,['a']]   #提取0~5行的数据，再提取a列的数据\n",
    "#标签的切片"
   ]
  },
  {
   "cell_type": "code",
   "execution_count": 79,
   "metadata": {},
   "outputs": [
    {
     "data": {
      "text/plain": [
       "a    0.4374\n",
       "Name: 1, dtype: float64"
      ]
     },
     "execution_count": 79,
     "metadata": {},
     "output_type": "execute_result"
    }
   ],
   "source": [
    "s2.loc[1,['a']]   #对于返回的对象进行维度缩减"
   ]
  },
  {
   "cell_type": "code",
   "execution_count": 80,
   "metadata": {},
   "outputs": [
    {
     "data": {
      "text/plain": [
       "0.30123398027307735"
      ]
     },
     "execution_count": 80,
     "metadata": {},
     "output_type": "execute_result"
    }
   ],
   "source": [
    "s2.loc[0,'a']    #等同于如下效果,先行后列"
   ]
  },
  {
   "cell_type": "code",
   "execution_count": 81,
   "metadata": {},
   "outputs": [
    {
     "data": {
      "text/plain": [
       "0.30123398027307735"
      ]
     },
     "execution_count": 81,
     "metadata": {},
     "output_type": "execute_result"
    }
   ],
   "source": [
    "s2['a'][0]  #先列后行"
   ]
  },
  {
   "cell_type": "markdown",
   "metadata": {},
   "source": [
    "## 通过位置选择"
   ]
  },
  {
   "cell_type": "markdown",
   "metadata": {},
   "source": [
    "### 通过传递数值进行位置选择（选择的是行）"
   ]
  },
  {
   "cell_type": "code",
   "execution_count": 82,
   "metadata": {},
   "outputs": [
    {
     "data": {
      "text/plain": [
       "a    0.848888\n",
       "b    0.553066\n",
       "c    0.558749\n",
       "d    0.261751\n",
       "e    0.038147\n",
       "f    0.655448\n",
       "Name: 3, dtype: float64"
      ]
     },
     "execution_count": 82,
     "metadata": {},
     "output_type": "execute_result"
    }
   ],
   "source": [
    "s2.iloc[3]   #iloc选择行轴"
   ]
  },
  {
   "cell_type": "markdown",
   "metadata": {},
   "source": [
    "### 通过数值进行切片"
   ]
  },
  {
   "cell_type": "code",
   "execution_count": 83,
   "metadata": {},
   "outputs": [
    {
     "data": {
      "text/html": [
       "<div>\n",
       "<style>\n",
       "    .dataframe thead tr:only-child th {\n",
       "        text-align: right;\n",
       "    }\n",
       "\n",
       "    .dataframe thead th {\n",
       "        text-align: left;\n",
       "    }\n",
       "\n",
       "    .dataframe tbody tr th {\n",
       "        vertical-align: top;\n",
       "    }\n",
       "</style>\n",
       "<table border=\"1\" class=\"dataframe\">\n",
       "  <thead>\n",
       "    <tr style=\"text-align: right;\">\n",
       "      <th></th>\n",
       "      <th>a</th>\n",
       "      <th>b</th>\n",
       "      <th>c</th>\n",
       "      <th>d</th>\n",
       "      <th>e</th>\n",
       "      <th>f</th>\n",
       "    </tr>\n",
       "  </thead>\n",
       "  <tbody>\n",
       "    <tr>\n",
       "      <th>1</th>\n",
       "      <td>0.437400</td>\n",
       "      <td>0.968999</td>\n",
       "      <td>0.283143</td>\n",
       "      <td>0.531271</td>\n",
       "      <td>0.487656</td>\n",
       "      <td>0.417371</td>\n",
       "    </tr>\n",
       "    <tr>\n",
       "      <th>2</th>\n",
       "      <td>0.575852</td>\n",
       "      <td>0.366192</td>\n",
       "      <td>0.274097</td>\n",
       "      <td>0.726994</td>\n",
       "      <td>0.497846</td>\n",
       "      <td>0.890383</td>\n",
       "    </tr>\n",
       "  </tbody>\n",
       "</table>\n",
       "</div>"
      ],
      "text/plain": [
       "          a         b         c         d         e         f\n",
       "1  0.437400  0.968999  0.283143  0.531271  0.487656  0.417371\n",
       "2  0.575852  0.366192  0.274097  0.726994  0.497846  0.890383"
      ]
     },
     "execution_count": 83,
     "metadata": {},
     "output_type": "execute_result"
    }
   ],
   "source": [
    "s2.iloc[1:3]   #切片 行  1~3行 [1,3)"
   ]
  },
  {
   "cell_type": "code",
   "execution_count": 84,
   "metadata": {},
   "outputs": [
    {
     "data": {
      "text/html": [
       "<div>\n",
       "<style>\n",
       "    .dataframe thead tr:only-child th {\n",
       "        text-align: right;\n",
       "    }\n",
       "\n",
       "    .dataframe thead th {\n",
       "        text-align: left;\n",
       "    }\n",
       "\n",
       "    .dataframe tbody tr th {\n",
       "        vertical-align: top;\n",
       "    }\n",
       "</style>\n",
       "<table border=\"1\" class=\"dataframe\">\n",
       "  <thead>\n",
       "    <tr style=\"text-align: right;\">\n",
       "      <th></th>\n",
       "      <th>c</th>\n",
       "      <th>d</th>\n",
       "    </tr>\n",
       "  </thead>\n",
       "  <tbody>\n",
       "    <tr>\n",
       "      <th>1</th>\n",
       "      <td>0.283143</td>\n",
       "      <td>0.531271</td>\n",
       "    </tr>\n",
       "    <tr>\n",
       "      <th>2</th>\n",
       "      <td>0.274097</td>\n",
       "      <td>0.726994</td>\n",
       "    </tr>\n",
       "  </tbody>\n",
       "</table>\n",
       "</div>"
      ],
      "text/plain": [
       "          c         d\n",
       "1  0.283143  0.531271\n",
       "2  0.274097  0.726994"
      ]
     },
     "execution_count": 84,
     "metadata": {},
     "output_type": "execute_result"
    }
   ],
   "source": [
    "s2.iloc[1:3,2:4]  #切片  行和列  "
   ]
  },
  {
   "cell_type": "markdown",
   "metadata": {},
   "source": [
    "### 通知指定一个位置"
   ]
  },
  {
   "cell_type": "code",
   "execution_count": 85,
   "metadata": {},
   "outputs": [
    {
     "data": {
      "text/html": [
       "<div>\n",
       "<style>\n",
       "    .dataframe thead tr:only-child th {\n",
       "        text-align: right;\n",
       "    }\n",
       "\n",
       "    .dataframe thead th {\n",
       "        text-align: left;\n",
       "    }\n",
       "\n",
       "    .dataframe tbody tr th {\n",
       "        vertical-align: top;\n",
       "    }\n",
       "</style>\n",
       "<table border=\"1\" class=\"dataframe\">\n",
       "  <thead>\n",
       "    <tr style=\"text-align: right;\">\n",
       "      <th></th>\n",
       "      <th>c</th>\n",
       "      <th>e</th>\n",
       "    </tr>\n",
       "  </thead>\n",
       "  <tbody>\n",
       "    <tr>\n",
       "      <th>1</th>\n",
       "      <td>0.283143</td>\n",
       "      <td>0.487656</td>\n",
       "    </tr>\n",
       "    <tr>\n",
       "      <th>2</th>\n",
       "      <td>0.274097</td>\n",
       "      <td>0.497846</td>\n",
       "    </tr>\n",
       "    <tr>\n",
       "      <th>3</th>\n",
       "      <td>0.558749</td>\n",
       "      <td>0.038147</td>\n",
       "    </tr>\n",
       "  </tbody>\n",
       "</table>\n",
       "</div>"
      ],
      "text/plain": [
       "          c         e\n",
       "1  0.283143  0.487656\n",
       "2  0.274097  0.497846\n",
       "3  0.558749  0.038147"
      ]
     },
     "execution_count": 85,
     "metadata": {},
     "output_type": "execute_result"
    }
   ],
   "source": [
    "s2.iloc[[1,2,3],[2,4]]   #切片，1，2，3行，2，4列"
   ]
  },
  {
   "cell_type": "markdown",
   "metadata": {},
   "source": [
    "### 行切片"
   ]
  },
  {
   "cell_type": "code",
   "execution_count": 86,
   "metadata": {},
   "outputs": [
    {
     "data": {
      "text/html": [
       "<div>\n",
       "<style>\n",
       "    .dataframe thead tr:only-child th {\n",
       "        text-align: right;\n",
       "    }\n",
       "\n",
       "    .dataframe thead th {\n",
       "        text-align: left;\n",
       "    }\n",
       "\n",
       "    .dataframe tbody tr th {\n",
       "        vertical-align: top;\n",
       "    }\n",
       "</style>\n",
       "<table border=\"1\" class=\"dataframe\">\n",
       "  <thead>\n",
       "    <tr style=\"text-align: right;\">\n",
       "      <th></th>\n",
       "      <th>a</th>\n",
       "      <th>b</th>\n",
       "      <th>c</th>\n",
       "      <th>d</th>\n",
       "      <th>e</th>\n",
       "      <th>f</th>\n",
       "    </tr>\n",
       "  </thead>\n",
       "  <tbody>\n",
       "    <tr>\n",
       "      <th>1</th>\n",
       "      <td>0.437400</td>\n",
       "      <td>0.968999</td>\n",
       "      <td>0.283143</td>\n",
       "      <td>0.531271</td>\n",
       "      <td>0.487656</td>\n",
       "      <td>0.417371</td>\n",
       "    </tr>\n",
       "    <tr>\n",
       "      <th>2</th>\n",
       "      <td>0.575852</td>\n",
       "      <td>0.366192</td>\n",
       "      <td>0.274097</td>\n",
       "      <td>0.726994</td>\n",
       "      <td>0.497846</td>\n",
       "      <td>0.890383</td>\n",
       "    </tr>\n",
       "  </tbody>\n",
       "</table>\n",
       "</div>"
      ],
      "text/plain": [
       "          a         b         c         d         e         f\n",
       "1  0.437400  0.968999  0.283143  0.531271  0.487656  0.417371\n",
       "2  0.575852  0.366192  0.274097  0.726994  0.497846  0.890383"
      ]
     },
     "execution_count": 86,
     "metadata": {},
     "output_type": "execute_result"
    }
   ],
   "source": [
    "s2.iloc[1:3,:]"
   ]
  },
  {
   "cell_type": "markdown",
   "metadata": {},
   "source": [
    "### 列切片"
   ]
  },
  {
   "cell_type": "code",
   "execution_count": 87,
   "metadata": {},
   "outputs": [
    {
     "data": {
      "text/html": [
       "<div>\n",
       "<style>\n",
       "    .dataframe thead tr:only-child th {\n",
       "        text-align: right;\n",
       "    }\n",
       "\n",
       "    .dataframe thead th {\n",
       "        text-align: left;\n",
       "    }\n",
       "\n",
       "    .dataframe tbody tr th {\n",
       "        vertical-align: top;\n",
       "    }\n",
       "</style>\n",
       "<table border=\"1\" class=\"dataframe\">\n",
       "  <thead>\n",
       "    <tr style=\"text-align: right;\">\n",
       "      <th></th>\n",
       "      <th>b</th>\n",
       "      <th>c</th>\n",
       "    </tr>\n",
       "  </thead>\n",
       "  <tbody>\n",
       "    <tr>\n",
       "      <th>0</th>\n",
       "      <td>0.262496</td>\n",
       "      <td>0.143565</td>\n",
       "    </tr>\n",
       "    <tr>\n",
       "      <th>1</th>\n",
       "      <td>0.968999</td>\n",
       "      <td>0.283143</td>\n",
       "    </tr>\n",
       "    <tr>\n",
       "      <th>2</th>\n",
       "      <td>0.366192</td>\n",
       "      <td>0.274097</td>\n",
       "    </tr>\n",
       "    <tr>\n",
       "      <th>3</th>\n",
       "      <td>0.553066</td>\n",
       "      <td>0.558749</td>\n",
       "    </tr>\n",
       "    <tr>\n",
       "      <th>4</th>\n",
       "      <td>0.296101</td>\n",
       "      <td>0.714914</td>\n",
       "    </tr>\n",
       "    <tr>\n",
       "      <th>5</th>\n",
       "      <td>0.059218</td>\n",
       "      <td>0.553108</td>\n",
       "    </tr>\n",
       "    <tr>\n",
       "      <th>6</th>\n",
       "      <td>0.490543</td>\n",
       "      <td>0.771661</td>\n",
       "    </tr>\n",
       "    <tr>\n",
       "      <th>7</th>\n",
       "      <td>0.199789</td>\n",
       "      <td>0.241488</td>\n",
       "    </tr>\n",
       "    <tr>\n",
       "      <th>8</th>\n",
       "      <td>0.668386</td>\n",
       "      <td>0.068253</td>\n",
       "    </tr>\n",
       "    <tr>\n",
       "      <th>9</th>\n",
       "      <td>0.745799</td>\n",
       "      <td>0.327457</td>\n",
       "    </tr>\n",
       "    <tr>\n",
       "      <th>10</th>\n",
       "      <td>0.164523</td>\n",
       "      <td>0.902869</td>\n",
       "    </tr>\n",
       "    <tr>\n",
       "      <th>11</th>\n",
       "      <td>0.071960</td>\n",
       "      <td>0.040719</td>\n",
       "    </tr>\n",
       "    <tr>\n",
       "      <th>12</th>\n",
       "      <td>0.908083</td>\n",
       "      <td>0.456848</td>\n",
       "    </tr>\n",
       "    <tr>\n",
       "      <th>13</th>\n",
       "      <td>0.075417</td>\n",
       "      <td>0.340881</td>\n",
       "    </tr>\n",
       "    <tr>\n",
       "      <th>14</th>\n",
       "      <td>0.250676</td>\n",
       "      <td>0.514623</td>\n",
       "    </tr>\n",
       "    <tr>\n",
       "      <th>15</th>\n",
       "      <td>0.868534</td>\n",
       "      <td>0.233149</td>\n",
       "    </tr>\n",
       "    <tr>\n",
       "      <th>16</th>\n",
       "      <td>0.947405</td>\n",
       "      <td>0.364026</td>\n",
       "    </tr>\n",
       "    <tr>\n",
       "      <th>17</th>\n",
       "      <td>0.816300</td>\n",
       "      <td>0.730838</td>\n",
       "    </tr>\n",
       "    <tr>\n",
       "      <th>18</th>\n",
       "      <td>0.959606</td>\n",
       "      <td>0.898296</td>\n",
       "    </tr>\n",
       "    <tr>\n",
       "      <th>19</th>\n",
       "      <td>0.574920</td>\n",
       "      <td>0.393954</td>\n",
       "    </tr>\n",
       "  </tbody>\n",
       "</table>\n",
       "</div>"
      ],
      "text/plain": [
       "           b         c\n",
       "0   0.262496  0.143565\n",
       "1   0.968999  0.283143\n",
       "2   0.366192  0.274097\n",
       "3   0.553066  0.558749\n",
       "4   0.296101  0.714914\n",
       "5   0.059218  0.553108\n",
       "6   0.490543  0.771661\n",
       "7   0.199789  0.241488\n",
       "8   0.668386  0.068253\n",
       "9   0.745799  0.327457\n",
       "10  0.164523  0.902869\n",
       "11  0.071960  0.040719\n",
       "12  0.908083  0.456848\n",
       "13  0.075417  0.340881\n",
       "14  0.250676  0.514623\n",
       "15  0.868534  0.233149\n",
       "16  0.947405  0.364026\n",
       "17  0.816300  0.730838\n",
       "18  0.959606  0.898296\n",
       "19  0.574920  0.393954"
      ]
     },
     "execution_count": 87,
     "metadata": {},
     "output_type": "execute_result"
    }
   ],
   "source": [
    "s2.iloc[:,1:3]"
   ]
  },
  {
   "cell_type": "markdown",
   "metadata": {},
   "source": [
    "### 获取指定位置的值"
   ]
  },
  {
   "cell_type": "code",
   "execution_count": 88,
   "metadata": {},
   "outputs": [
    {
     "data": {
      "text/plain": [
       "0.27409701007287668"
      ]
     },
     "execution_count": 88,
     "metadata": {},
     "output_type": "execute_result"
    }
   ],
   "source": [
    "s2.iloc[2,2]   #获取第3行第3列的值"
   ]
  },
  {
   "cell_type": "code",
   "execution_count": 89,
   "metadata": {},
   "outputs": [
    {
     "data": {
      "text/plain": [
       "0.27409701007287668"
      ]
     },
     "execution_count": 89,
     "metadata": {},
     "output_type": "execute_result"
    }
   ],
   "source": [
    "s2.iat[2,2]    #快速获取指定位置的数据"
   ]
  },
  {
   "cell_type": "markdown",
   "metadata": {},
   "source": [
    "### 布尔索引"
   ]
  },
  {
   "cell_type": "markdown",
   "metadata": {},
   "source": [
    "#### 使用一个单独列的值来选择数据"
   ]
  },
  {
   "cell_type": "code",
   "execution_count": 90,
   "metadata": {},
   "outputs": [
    {
     "data": {
      "text/html": [
       "<div>\n",
       "<style>\n",
       "    .dataframe thead tr:only-child th {\n",
       "        text-align: right;\n",
       "    }\n",
       "\n",
       "    .dataframe thead th {\n",
       "        text-align: left;\n",
       "    }\n",
       "\n",
       "    .dataframe tbody tr th {\n",
       "        vertical-align: top;\n",
       "    }\n",
       "</style>\n",
       "<table border=\"1\" class=\"dataframe\">\n",
       "  <thead>\n",
       "    <tr style=\"text-align: right;\">\n",
       "      <th></th>\n",
       "      <th>a</th>\n",
       "      <th>b</th>\n",
       "      <th>c</th>\n",
       "      <th>d</th>\n",
       "      <th>e</th>\n",
       "      <th>f</th>\n",
       "    </tr>\n",
       "  </thead>\n",
       "  <tbody>\n",
       "    <tr>\n",
       "      <th>2</th>\n",
       "      <td>0.575852</td>\n",
       "      <td>0.366192</td>\n",
       "      <td>0.274097</td>\n",
       "      <td>0.726994</td>\n",
       "      <td>0.497846</td>\n",
       "      <td>0.890383</td>\n",
       "    </tr>\n",
       "    <tr>\n",
       "      <th>3</th>\n",
       "      <td>0.848888</td>\n",
       "      <td>0.553066</td>\n",
       "      <td>0.558749</td>\n",
       "      <td>0.261751</td>\n",
       "      <td>0.038147</td>\n",
       "      <td>0.655448</td>\n",
       "    </tr>\n",
       "    <tr>\n",
       "      <th>7</th>\n",
       "      <td>0.659163</td>\n",
       "      <td>0.199789</td>\n",
       "      <td>0.241488</td>\n",
       "      <td>0.120836</td>\n",
       "      <td>0.469298</td>\n",
       "      <td>0.497078</td>\n",
       "    </tr>\n",
       "    <tr>\n",
       "      <th>10</th>\n",
       "      <td>0.531270</td>\n",
       "      <td>0.164523</td>\n",
       "      <td>0.902869</td>\n",
       "      <td>0.947906</td>\n",
       "      <td>0.496157</td>\n",
       "      <td>0.065043</td>\n",
       "    </tr>\n",
       "    <tr>\n",
       "      <th>11</th>\n",
       "      <td>0.687610</td>\n",
       "      <td>0.071960</td>\n",
       "      <td>0.040719</td>\n",
       "      <td>0.178836</td>\n",
       "      <td>0.185332</td>\n",
       "      <td>0.424641</td>\n",
       "    </tr>\n",
       "    <tr>\n",
       "      <th>14</th>\n",
       "      <td>0.815619</td>\n",
       "      <td>0.250676</td>\n",
       "      <td>0.514623</td>\n",
       "      <td>0.645525</td>\n",
       "      <td>0.228036</td>\n",
       "      <td>0.574069</td>\n",
       "    </tr>\n",
       "    <tr>\n",
       "      <th>15</th>\n",
       "      <td>0.786530</td>\n",
       "      <td>0.868534</td>\n",
       "      <td>0.233149</td>\n",
       "      <td>0.811540</td>\n",
       "      <td>0.507582</td>\n",
       "      <td>0.958471</td>\n",
       "    </tr>\n",
       "    <tr>\n",
       "      <th>16</th>\n",
       "      <td>0.592249</td>\n",
       "      <td>0.947405</td>\n",
       "      <td>0.364026</td>\n",
       "      <td>0.962173</td>\n",
       "      <td>0.087856</td>\n",
       "      <td>0.172483</td>\n",
       "    </tr>\n",
       "    <tr>\n",
       "      <th>17</th>\n",
       "      <td>0.625164</td>\n",
       "      <td>0.816300</td>\n",
       "      <td>0.730838</td>\n",
       "      <td>0.742707</td>\n",
       "      <td>0.549078</td>\n",
       "      <td>0.206656</td>\n",
       "    </tr>\n",
       "    <tr>\n",
       "      <th>18</th>\n",
       "      <td>0.926848</td>\n",
       "      <td>0.959606</td>\n",
       "      <td>0.898296</td>\n",
       "      <td>0.458441</td>\n",
       "      <td>0.851664</td>\n",
       "      <td>0.116786</td>\n",
       "    </tr>\n",
       "    <tr>\n",
       "      <th>19</th>\n",
       "      <td>0.912381</td>\n",
       "      <td>0.574920</td>\n",
       "      <td>0.393954</td>\n",
       "      <td>0.738190</td>\n",
       "      <td>0.803269</td>\n",
       "      <td>0.275192</td>\n",
       "    </tr>\n",
       "  </tbody>\n",
       "</table>\n",
       "</div>"
      ],
      "text/plain": [
       "           a         b         c         d         e         f\n",
       "2   0.575852  0.366192  0.274097  0.726994  0.497846  0.890383\n",
       "3   0.848888  0.553066  0.558749  0.261751  0.038147  0.655448\n",
       "7   0.659163  0.199789  0.241488  0.120836  0.469298  0.497078\n",
       "10  0.531270  0.164523  0.902869  0.947906  0.496157  0.065043\n",
       "11  0.687610  0.071960  0.040719  0.178836  0.185332  0.424641\n",
       "14  0.815619  0.250676  0.514623  0.645525  0.228036  0.574069\n",
       "15  0.786530  0.868534  0.233149  0.811540  0.507582  0.958471\n",
       "16  0.592249  0.947405  0.364026  0.962173  0.087856  0.172483\n",
       "17  0.625164  0.816300  0.730838  0.742707  0.549078  0.206656\n",
       "18  0.926848  0.959606  0.898296  0.458441  0.851664  0.116786\n",
       "19  0.912381  0.574920  0.393954  0.738190  0.803269  0.275192"
      ]
     },
     "execution_count": 90,
     "metadata": {},
     "output_type": "execute_result"
    }
   ],
   "source": [
    "s2[s2.a>0.5]"
   ]
  },
  {
   "cell_type": "markdown",
   "metadata": {},
   "source": [
    "#### 整体过滤"
   ]
  },
  {
   "cell_type": "code",
   "execution_count": 91,
   "metadata": {},
   "outputs": [
    {
     "data": {
      "text/html": [
       "<div>\n",
       "<style>\n",
       "    .dataframe thead tr:only-child th {\n",
       "        text-align: right;\n",
       "    }\n",
       "\n",
       "    .dataframe thead th {\n",
       "        text-align: left;\n",
       "    }\n",
       "\n",
       "    .dataframe tbody tr th {\n",
       "        vertical-align: top;\n",
       "    }\n",
       "</style>\n",
       "<table border=\"1\" class=\"dataframe\">\n",
       "  <thead>\n",
       "    <tr style=\"text-align: right;\">\n",
       "      <th></th>\n",
       "      <th>a</th>\n",
       "      <th>b</th>\n",
       "      <th>c</th>\n",
       "      <th>d</th>\n",
       "      <th>e</th>\n",
       "      <th>f</th>\n",
       "    </tr>\n",
       "  </thead>\n",
       "  <tbody>\n",
       "    <tr>\n",
       "      <th>0</th>\n",
       "      <td>NaN</td>\n",
       "      <td>NaN</td>\n",
       "      <td>NaN</td>\n",
       "      <td>0.785605</td>\n",
       "      <td>0.506516</td>\n",
       "      <td>NaN</td>\n",
       "    </tr>\n",
       "    <tr>\n",
       "      <th>1</th>\n",
       "      <td>NaN</td>\n",
       "      <td>0.968999</td>\n",
       "      <td>NaN</td>\n",
       "      <td>0.531271</td>\n",
       "      <td>NaN</td>\n",
       "      <td>NaN</td>\n",
       "    </tr>\n",
       "    <tr>\n",
       "      <th>2</th>\n",
       "      <td>0.575852</td>\n",
       "      <td>NaN</td>\n",
       "      <td>NaN</td>\n",
       "      <td>0.726994</td>\n",
       "      <td>NaN</td>\n",
       "      <td>0.890383</td>\n",
       "    </tr>\n",
       "    <tr>\n",
       "      <th>3</th>\n",
       "      <td>0.848888</td>\n",
       "      <td>0.553066</td>\n",
       "      <td>0.558749</td>\n",
       "      <td>NaN</td>\n",
       "      <td>NaN</td>\n",
       "      <td>0.655448</td>\n",
       "    </tr>\n",
       "    <tr>\n",
       "      <th>4</th>\n",
       "      <td>NaN</td>\n",
       "      <td>NaN</td>\n",
       "      <td>0.714914</td>\n",
       "      <td>NaN</td>\n",
       "      <td>0.955493</td>\n",
       "      <td>NaN</td>\n",
       "    </tr>\n",
       "    <tr>\n",
       "      <th>5</th>\n",
       "      <td>NaN</td>\n",
       "      <td>NaN</td>\n",
       "      <td>0.553108</td>\n",
       "      <td>0.574481</td>\n",
       "      <td>0.659914</td>\n",
       "      <td>0.970351</td>\n",
       "    </tr>\n",
       "    <tr>\n",
       "      <th>6</th>\n",
       "      <td>NaN</td>\n",
       "      <td>NaN</td>\n",
       "      <td>0.771661</td>\n",
       "      <td>NaN</td>\n",
       "      <td>0.767309</td>\n",
       "      <td>0.940892</td>\n",
       "    </tr>\n",
       "    <tr>\n",
       "      <th>7</th>\n",
       "      <td>0.659163</td>\n",
       "      <td>NaN</td>\n",
       "      <td>NaN</td>\n",
       "      <td>NaN</td>\n",
       "      <td>NaN</td>\n",
       "      <td>NaN</td>\n",
       "    </tr>\n",
       "    <tr>\n",
       "      <th>8</th>\n",
       "      <td>NaN</td>\n",
       "      <td>0.668386</td>\n",
       "      <td>NaN</td>\n",
       "      <td>NaN</td>\n",
       "      <td>0.994205</td>\n",
       "      <td>0.898762</td>\n",
       "    </tr>\n",
       "    <tr>\n",
       "      <th>9</th>\n",
       "      <td>NaN</td>\n",
       "      <td>0.745799</td>\n",
       "      <td>NaN</td>\n",
       "      <td>NaN</td>\n",
       "      <td>NaN</td>\n",
       "      <td>NaN</td>\n",
       "    </tr>\n",
       "    <tr>\n",
       "      <th>10</th>\n",
       "      <td>0.531270</td>\n",
       "      <td>NaN</td>\n",
       "      <td>0.902869</td>\n",
       "      <td>0.947906</td>\n",
       "      <td>NaN</td>\n",
       "      <td>NaN</td>\n",
       "    </tr>\n",
       "    <tr>\n",
       "      <th>11</th>\n",
       "      <td>0.687610</td>\n",
       "      <td>NaN</td>\n",
       "      <td>NaN</td>\n",
       "      <td>NaN</td>\n",
       "      <td>NaN</td>\n",
       "      <td>NaN</td>\n",
       "    </tr>\n",
       "    <tr>\n",
       "      <th>12</th>\n",
       "      <td>NaN</td>\n",
       "      <td>0.908083</td>\n",
       "      <td>NaN</td>\n",
       "      <td>0.910560</td>\n",
       "      <td>NaN</td>\n",
       "      <td>NaN</td>\n",
       "    </tr>\n",
       "    <tr>\n",
       "      <th>13</th>\n",
       "      <td>NaN</td>\n",
       "      <td>NaN</td>\n",
       "      <td>NaN</td>\n",
       "      <td>NaN</td>\n",
       "      <td>NaN</td>\n",
       "      <td>0.590652</td>\n",
       "    </tr>\n",
       "    <tr>\n",
       "      <th>14</th>\n",
       "      <td>0.815619</td>\n",
       "      <td>NaN</td>\n",
       "      <td>0.514623</td>\n",
       "      <td>0.645525</td>\n",
       "      <td>NaN</td>\n",
       "      <td>0.574069</td>\n",
       "    </tr>\n",
       "    <tr>\n",
       "      <th>15</th>\n",
       "      <td>0.786530</td>\n",
       "      <td>0.868534</td>\n",
       "      <td>NaN</td>\n",
       "      <td>0.811540</td>\n",
       "      <td>0.507582</td>\n",
       "      <td>0.958471</td>\n",
       "    </tr>\n",
       "    <tr>\n",
       "      <th>16</th>\n",
       "      <td>0.592249</td>\n",
       "      <td>0.947405</td>\n",
       "      <td>NaN</td>\n",
       "      <td>0.962173</td>\n",
       "      <td>NaN</td>\n",
       "      <td>NaN</td>\n",
       "    </tr>\n",
       "    <tr>\n",
       "      <th>17</th>\n",
       "      <td>0.625164</td>\n",
       "      <td>0.816300</td>\n",
       "      <td>0.730838</td>\n",
       "      <td>0.742707</td>\n",
       "      <td>0.549078</td>\n",
       "      <td>NaN</td>\n",
       "    </tr>\n",
       "    <tr>\n",
       "      <th>18</th>\n",
       "      <td>0.926848</td>\n",
       "      <td>0.959606</td>\n",
       "      <td>0.898296</td>\n",
       "      <td>NaN</td>\n",
       "      <td>0.851664</td>\n",
       "      <td>NaN</td>\n",
       "    </tr>\n",
       "    <tr>\n",
       "      <th>19</th>\n",
       "      <td>0.912381</td>\n",
       "      <td>0.574920</td>\n",
       "      <td>NaN</td>\n",
       "      <td>0.738190</td>\n",
       "      <td>0.803269</td>\n",
       "      <td>NaN</td>\n",
       "    </tr>\n",
       "  </tbody>\n",
       "</table>\n",
       "</div>"
      ],
      "text/plain": [
       "           a         b         c         d         e         f\n",
       "0        NaN       NaN       NaN  0.785605  0.506516       NaN\n",
       "1        NaN  0.968999       NaN  0.531271       NaN       NaN\n",
       "2   0.575852       NaN       NaN  0.726994       NaN  0.890383\n",
       "3   0.848888  0.553066  0.558749       NaN       NaN  0.655448\n",
       "4        NaN       NaN  0.714914       NaN  0.955493       NaN\n",
       "5        NaN       NaN  0.553108  0.574481  0.659914  0.970351\n",
       "6        NaN       NaN  0.771661       NaN  0.767309  0.940892\n",
       "7   0.659163       NaN       NaN       NaN       NaN       NaN\n",
       "8        NaN  0.668386       NaN       NaN  0.994205  0.898762\n",
       "9        NaN  0.745799       NaN       NaN       NaN       NaN\n",
       "10  0.531270       NaN  0.902869  0.947906       NaN       NaN\n",
       "11  0.687610       NaN       NaN       NaN       NaN       NaN\n",
       "12       NaN  0.908083       NaN  0.910560       NaN       NaN\n",
       "13       NaN       NaN       NaN       NaN       NaN  0.590652\n",
       "14  0.815619       NaN  0.514623  0.645525       NaN  0.574069\n",
       "15  0.786530  0.868534       NaN  0.811540  0.507582  0.958471\n",
       "16  0.592249  0.947405       NaN  0.962173       NaN       NaN\n",
       "17  0.625164  0.816300  0.730838  0.742707  0.549078       NaN\n",
       "18  0.926848  0.959606  0.898296       NaN  0.851664       NaN\n",
       "19  0.912381  0.574920       NaN  0.738190  0.803269       NaN"
      ]
     },
     "execution_count": 91,
     "metadata": {},
     "output_type": "execute_result"
    }
   ],
   "source": [
    "s2[s2>0.5]    #把所有不满足条件的全部置空"
   ]
  },
  {
   "cell_type": "markdown",
   "metadata": {},
   "source": [
    "#### isin()  过滤数据"
   ]
  },
  {
   "cell_type": "code",
   "execution_count": 92,
   "metadata": {},
   "outputs": [
    {
     "data": {
      "text/html": [
       "<div>\n",
       "<style>\n",
       "    .dataframe thead tr:only-child th {\n",
       "        text-align: right;\n",
       "    }\n",
       "\n",
       "    .dataframe thead th {\n",
       "        text-align: left;\n",
       "    }\n",
       "\n",
       "    .dataframe tbody tr th {\n",
       "        vertical-align: top;\n",
       "    }\n",
       "</style>\n",
       "<table border=\"1\" class=\"dataframe\">\n",
       "  <thead>\n",
       "    <tr style=\"text-align: right;\">\n",
       "      <th></th>\n",
       "      <th>a</th>\n",
       "      <th>b</th>\n",
       "      <th>c</th>\n",
       "      <th>d</th>\n",
       "      <th>e</th>\n",
       "      <th>f</th>\n",
       "    </tr>\n",
       "  </thead>\n",
       "  <tbody>\n",
       "    <tr>\n",
       "      <th>0</th>\n",
       "      <td>0.301234</td>\n",
       "      <td>0.262496</td>\n",
       "      <td>0.143565</td>\n",
       "      <td>0.785605</td>\n",
       "      <td>0.506516</td>\n",
       "      <td>0.114317</td>\n",
       "    </tr>\n",
       "    <tr>\n",
       "      <th>1</th>\n",
       "      <td>0.437400</td>\n",
       "      <td>0.968999</td>\n",
       "      <td>0.283143</td>\n",
       "      <td>0.531271</td>\n",
       "      <td>0.487656</td>\n",
       "      <td>0.417371</td>\n",
       "    </tr>\n",
       "    <tr>\n",
       "      <th>2</th>\n",
       "      <td>0.575852</td>\n",
       "      <td>0.366192</td>\n",
       "      <td>0.274097</td>\n",
       "      <td>0.726994</td>\n",
       "      <td>0.497846</td>\n",
       "      <td>0.890383</td>\n",
       "    </tr>\n",
       "    <tr>\n",
       "      <th>3</th>\n",
       "      <td>0.848888</td>\n",
       "      <td>0.553066</td>\n",
       "      <td>0.558749</td>\n",
       "      <td>0.261751</td>\n",
       "      <td>0.038147</td>\n",
       "      <td>0.655448</td>\n",
       "    </tr>\n",
       "    <tr>\n",
       "      <th>4</th>\n",
       "      <td>0.194965</td>\n",
       "      <td>0.296101</td>\n",
       "      <td>0.714914</td>\n",
       "      <td>0.221390</td>\n",
       "      <td>0.955493</td>\n",
       "      <td>0.136874</td>\n",
       "    </tr>\n",
       "    <tr>\n",
       "      <th>5</th>\n",
       "      <td>0.404295</td>\n",
       "      <td>0.059218</td>\n",
       "      <td>0.553108</td>\n",
       "      <td>0.574481</td>\n",
       "      <td>0.659914</td>\n",
       "      <td>0.970351</td>\n",
       "    </tr>\n",
       "    <tr>\n",
       "      <th>6</th>\n",
       "      <td>0.283781</td>\n",
       "      <td>0.490543</td>\n",
       "      <td>0.771661</td>\n",
       "      <td>0.352689</td>\n",
       "      <td>0.767309</td>\n",
       "      <td>0.940892</td>\n",
       "    </tr>\n",
       "    <tr>\n",
       "      <th>7</th>\n",
       "      <td>0.659163</td>\n",
       "      <td>0.199789</td>\n",
       "      <td>0.241488</td>\n",
       "      <td>0.120836</td>\n",
       "      <td>0.469298</td>\n",
       "      <td>0.497078</td>\n",
       "    </tr>\n",
       "    <tr>\n",
       "      <th>8</th>\n",
       "      <td>0.293476</td>\n",
       "      <td>0.668386</td>\n",
       "      <td>0.068253</td>\n",
       "      <td>0.337998</td>\n",
       "      <td>0.994205</td>\n",
       "      <td>0.898762</td>\n",
       "    </tr>\n",
       "    <tr>\n",
       "      <th>9</th>\n",
       "      <td>0.251640</td>\n",
       "      <td>0.745799</td>\n",
       "      <td>0.327457</td>\n",
       "      <td>0.030349</td>\n",
       "      <td>0.306058</td>\n",
       "      <td>0.463053</td>\n",
       "    </tr>\n",
       "    <tr>\n",
       "      <th>10</th>\n",
       "      <td>0.531270</td>\n",
       "      <td>0.164523</td>\n",
       "      <td>0.902869</td>\n",
       "      <td>0.947906</td>\n",
       "      <td>0.496157</td>\n",
       "      <td>0.065043</td>\n",
       "    </tr>\n",
       "    <tr>\n",
       "      <th>11</th>\n",
       "      <td>0.687610</td>\n",
       "      <td>0.071960</td>\n",
       "      <td>0.040719</td>\n",
       "      <td>0.178836</td>\n",
       "      <td>0.185332</td>\n",
       "      <td>0.424641</td>\n",
       "    </tr>\n",
       "    <tr>\n",
       "      <th>12</th>\n",
       "      <td>0.022366</td>\n",
       "      <td>0.908083</td>\n",
       "      <td>0.456848</td>\n",
       "      <td>0.910560</td>\n",
       "      <td>0.287322</td>\n",
       "      <td>0.079461</td>\n",
       "    </tr>\n",
       "    <tr>\n",
       "      <th>13</th>\n",
       "      <td>0.484807</td>\n",
       "      <td>0.075417</td>\n",
       "      <td>0.340881</td>\n",
       "      <td>0.404363</td>\n",
       "      <td>0.002127</td>\n",
       "      <td>0.590652</td>\n",
       "    </tr>\n",
       "    <tr>\n",
       "      <th>14</th>\n",
       "      <td>0.815619</td>\n",
       "      <td>0.250676</td>\n",
       "      <td>0.514623</td>\n",
       "      <td>0.645525</td>\n",
       "      <td>0.228036</td>\n",
       "      <td>0.574069</td>\n",
       "    </tr>\n",
       "    <tr>\n",
       "      <th>15</th>\n",
       "      <td>0.786530</td>\n",
       "      <td>0.868534</td>\n",
       "      <td>0.233149</td>\n",
       "      <td>0.811540</td>\n",
       "      <td>0.507582</td>\n",
       "      <td>0.958471</td>\n",
       "    </tr>\n",
       "    <tr>\n",
       "      <th>16</th>\n",
       "      <td>0.592249</td>\n",
       "      <td>0.947405</td>\n",
       "      <td>0.364026</td>\n",
       "      <td>0.962173</td>\n",
       "      <td>0.087856</td>\n",
       "      <td>0.172483</td>\n",
       "    </tr>\n",
       "    <tr>\n",
       "      <th>17</th>\n",
       "      <td>0.625164</td>\n",
       "      <td>0.816300</td>\n",
       "      <td>0.730838</td>\n",
       "      <td>0.742707</td>\n",
       "      <td>0.549078</td>\n",
       "      <td>0.206656</td>\n",
       "    </tr>\n",
       "    <tr>\n",
       "      <th>18</th>\n",
       "      <td>0.926848</td>\n",
       "      <td>0.959606</td>\n",
       "      <td>0.898296</td>\n",
       "      <td>0.458441</td>\n",
       "      <td>0.851664</td>\n",
       "      <td>0.116786</td>\n",
       "    </tr>\n",
       "    <tr>\n",
       "      <th>19</th>\n",
       "      <td>0.912381</td>\n",
       "      <td>0.574920</td>\n",
       "      <td>0.393954</td>\n",
       "      <td>0.738190</td>\n",
       "      <td>0.803269</td>\n",
       "      <td>0.275192</td>\n",
       "    </tr>\n",
       "  </tbody>\n",
       "</table>\n",
       "</div>"
      ],
      "text/plain": [
       "           a         b         c         d         e         f\n",
       "0   0.301234  0.262496  0.143565  0.785605  0.506516  0.114317\n",
       "1   0.437400  0.968999  0.283143  0.531271  0.487656  0.417371\n",
       "2   0.575852  0.366192  0.274097  0.726994  0.497846  0.890383\n",
       "3   0.848888  0.553066  0.558749  0.261751  0.038147  0.655448\n",
       "4   0.194965  0.296101  0.714914  0.221390  0.955493  0.136874\n",
       "5   0.404295  0.059218  0.553108  0.574481  0.659914  0.970351\n",
       "6   0.283781  0.490543  0.771661  0.352689  0.767309  0.940892\n",
       "7   0.659163  0.199789  0.241488  0.120836  0.469298  0.497078\n",
       "8   0.293476  0.668386  0.068253  0.337998  0.994205  0.898762\n",
       "9   0.251640  0.745799  0.327457  0.030349  0.306058  0.463053\n",
       "10  0.531270  0.164523  0.902869  0.947906  0.496157  0.065043\n",
       "11  0.687610  0.071960  0.040719  0.178836  0.185332  0.424641\n",
       "12  0.022366  0.908083  0.456848  0.910560  0.287322  0.079461\n",
       "13  0.484807  0.075417  0.340881  0.404363  0.002127  0.590652\n",
       "14  0.815619  0.250676  0.514623  0.645525  0.228036  0.574069\n",
       "15  0.786530  0.868534  0.233149  0.811540  0.507582  0.958471\n",
       "16  0.592249  0.947405  0.364026  0.962173  0.087856  0.172483\n",
       "17  0.625164  0.816300  0.730838  0.742707  0.549078  0.206656\n",
       "18  0.926848  0.959606  0.898296  0.458441  0.851664  0.116786\n",
       "19  0.912381  0.574920  0.393954  0.738190  0.803269  0.275192"
      ]
     },
     "execution_count": 92,
     "metadata": {},
     "output_type": "execute_result"
    }
   ],
   "source": [
    "s3=s2.copy()\n",
    "s3"
   ]
  },
  {
   "cell_type": "code",
   "execution_count": 93,
   "metadata": {},
   "outputs": [
    {
     "name": "stderr",
     "output_type": "stream",
     "text": [
      "C:\\Users\\syph\\Anaconda2\\lib\\site-packages\\ipykernel_launcher.py:1: DeprecationWarning: \n",
      ".ix is deprecated. Please use\n",
      ".loc for label based indexing or\n",
      ".iloc for positional indexing\n",
      "\n",
      "See the documentation here:\n",
      "http://pandas.pydata.org/pandas-docs/stable/indexing.html#ix-indexer-is-deprecated\n",
      "  \"\"\"Entry point for launching an IPython kernel.\n"
     ]
    }
   ],
   "source": [
    "s3.ix[21]=[1.23,2.34,3.45,5.6,4,8.1]"
   ]
  },
  {
   "cell_type": "code",
   "execution_count": 94,
   "metadata": {
    "collapsed": true
   },
   "outputs": [],
   "source": [
    "s3.ix[20]=[1,2,3,4,5,6]"
   ]
  },
  {
   "cell_type": "code",
   "execution_count": 95,
   "metadata": {},
   "outputs": [
    {
     "data": {
      "text/html": [
       "<div>\n",
       "<style>\n",
       "    .dataframe thead tr:only-child th {\n",
       "        text-align: right;\n",
       "    }\n",
       "\n",
       "    .dataframe thead th {\n",
       "        text-align: left;\n",
       "    }\n",
       "\n",
       "    .dataframe tbody tr th {\n",
       "        vertical-align: top;\n",
       "    }\n",
       "</style>\n",
       "<table border=\"1\" class=\"dataframe\">\n",
       "  <thead>\n",
       "    <tr style=\"text-align: right;\">\n",
       "      <th></th>\n",
       "      <th>a</th>\n",
       "      <th>b</th>\n",
       "      <th>c</th>\n",
       "      <th>d</th>\n",
       "      <th>e</th>\n",
       "      <th>f</th>\n",
       "    </tr>\n",
       "  </thead>\n",
       "  <tbody>\n",
       "    <tr>\n",
       "      <th>0</th>\n",
       "      <td>0.301234</td>\n",
       "      <td>0.262496</td>\n",
       "      <td>0.143565</td>\n",
       "      <td>0.785605</td>\n",
       "      <td>0.506516</td>\n",
       "      <td>0.114317</td>\n",
       "    </tr>\n",
       "    <tr>\n",
       "      <th>1</th>\n",
       "      <td>0.437400</td>\n",
       "      <td>0.968999</td>\n",
       "      <td>0.283143</td>\n",
       "      <td>0.531271</td>\n",
       "      <td>0.487656</td>\n",
       "      <td>0.417371</td>\n",
       "    </tr>\n",
       "    <tr>\n",
       "      <th>2</th>\n",
       "      <td>0.575852</td>\n",
       "      <td>0.366192</td>\n",
       "      <td>0.274097</td>\n",
       "      <td>0.726994</td>\n",
       "      <td>0.497846</td>\n",
       "      <td>0.890383</td>\n",
       "    </tr>\n",
       "    <tr>\n",
       "      <th>3</th>\n",
       "      <td>0.848888</td>\n",
       "      <td>0.553066</td>\n",
       "      <td>0.558749</td>\n",
       "      <td>0.261751</td>\n",
       "      <td>0.038147</td>\n",
       "      <td>0.655448</td>\n",
       "    </tr>\n",
       "    <tr>\n",
       "      <th>4</th>\n",
       "      <td>0.194965</td>\n",
       "      <td>0.296101</td>\n",
       "      <td>0.714914</td>\n",
       "      <td>0.221390</td>\n",
       "      <td>0.955493</td>\n",
       "      <td>0.136874</td>\n",
       "    </tr>\n",
       "    <tr>\n",
       "      <th>5</th>\n",
       "      <td>0.404295</td>\n",
       "      <td>0.059218</td>\n",
       "      <td>0.553108</td>\n",
       "      <td>0.574481</td>\n",
       "      <td>0.659914</td>\n",
       "      <td>0.970351</td>\n",
       "    </tr>\n",
       "    <tr>\n",
       "      <th>6</th>\n",
       "      <td>0.283781</td>\n",
       "      <td>0.490543</td>\n",
       "      <td>0.771661</td>\n",
       "      <td>0.352689</td>\n",
       "      <td>0.767309</td>\n",
       "      <td>0.940892</td>\n",
       "    </tr>\n",
       "    <tr>\n",
       "      <th>7</th>\n",
       "      <td>0.659163</td>\n",
       "      <td>0.199789</td>\n",
       "      <td>0.241488</td>\n",
       "      <td>0.120836</td>\n",
       "      <td>0.469298</td>\n",
       "      <td>0.497078</td>\n",
       "    </tr>\n",
       "    <tr>\n",
       "      <th>8</th>\n",
       "      <td>0.293476</td>\n",
       "      <td>0.668386</td>\n",
       "      <td>0.068253</td>\n",
       "      <td>0.337998</td>\n",
       "      <td>0.994205</td>\n",
       "      <td>0.898762</td>\n",
       "    </tr>\n",
       "    <tr>\n",
       "      <th>9</th>\n",
       "      <td>0.251640</td>\n",
       "      <td>0.745799</td>\n",
       "      <td>0.327457</td>\n",
       "      <td>0.030349</td>\n",
       "      <td>0.306058</td>\n",
       "      <td>0.463053</td>\n",
       "    </tr>\n",
       "    <tr>\n",
       "      <th>10</th>\n",
       "      <td>0.531270</td>\n",
       "      <td>0.164523</td>\n",
       "      <td>0.902869</td>\n",
       "      <td>0.947906</td>\n",
       "      <td>0.496157</td>\n",
       "      <td>0.065043</td>\n",
       "    </tr>\n",
       "    <tr>\n",
       "      <th>11</th>\n",
       "      <td>0.687610</td>\n",
       "      <td>0.071960</td>\n",
       "      <td>0.040719</td>\n",
       "      <td>0.178836</td>\n",
       "      <td>0.185332</td>\n",
       "      <td>0.424641</td>\n",
       "    </tr>\n",
       "    <tr>\n",
       "      <th>12</th>\n",
       "      <td>0.022366</td>\n",
       "      <td>0.908083</td>\n",
       "      <td>0.456848</td>\n",
       "      <td>0.910560</td>\n",
       "      <td>0.287322</td>\n",
       "      <td>0.079461</td>\n",
       "    </tr>\n",
       "    <tr>\n",
       "      <th>13</th>\n",
       "      <td>0.484807</td>\n",
       "      <td>0.075417</td>\n",
       "      <td>0.340881</td>\n",
       "      <td>0.404363</td>\n",
       "      <td>0.002127</td>\n",
       "      <td>0.590652</td>\n",
       "    </tr>\n",
       "    <tr>\n",
       "      <th>14</th>\n",
       "      <td>0.815619</td>\n",
       "      <td>0.250676</td>\n",
       "      <td>0.514623</td>\n",
       "      <td>0.645525</td>\n",
       "      <td>0.228036</td>\n",
       "      <td>0.574069</td>\n",
       "    </tr>\n",
       "    <tr>\n",
       "      <th>15</th>\n",
       "      <td>0.786530</td>\n",
       "      <td>0.868534</td>\n",
       "      <td>0.233149</td>\n",
       "      <td>0.811540</td>\n",
       "      <td>0.507582</td>\n",
       "      <td>0.958471</td>\n",
       "    </tr>\n",
       "    <tr>\n",
       "      <th>16</th>\n",
       "      <td>0.592249</td>\n",
       "      <td>0.947405</td>\n",
       "      <td>0.364026</td>\n",
       "      <td>0.962173</td>\n",
       "      <td>0.087856</td>\n",
       "      <td>0.172483</td>\n",
       "    </tr>\n",
       "    <tr>\n",
       "      <th>17</th>\n",
       "      <td>0.625164</td>\n",
       "      <td>0.816300</td>\n",
       "      <td>0.730838</td>\n",
       "      <td>0.742707</td>\n",
       "      <td>0.549078</td>\n",
       "      <td>0.206656</td>\n",
       "    </tr>\n",
       "    <tr>\n",
       "      <th>18</th>\n",
       "      <td>0.926848</td>\n",
       "      <td>0.959606</td>\n",
       "      <td>0.898296</td>\n",
       "      <td>0.458441</td>\n",
       "      <td>0.851664</td>\n",
       "      <td>0.116786</td>\n",
       "    </tr>\n",
       "    <tr>\n",
       "      <th>19</th>\n",
       "      <td>0.912381</td>\n",
       "      <td>0.574920</td>\n",
       "      <td>0.393954</td>\n",
       "      <td>0.738190</td>\n",
       "      <td>0.803269</td>\n",
       "      <td>0.275192</td>\n",
       "    </tr>\n",
       "    <tr>\n",
       "      <th>21</th>\n",
       "      <td>1.230000</td>\n",
       "      <td>2.340000</td>\n",
       "      <td>3.450000</td>\n",
       "      <td>5.600000</td>\n",
       "      <td>4.000000</td>\n",
       "      <td>8.100000</td>\n",
       "    </tr>\n",
       "    <tr>\n",
       "      <th>20</th>\n",
       "      <td>1.000000</td>\n",
       "      <td>2.000000</td>\n",
       "      <td>3.000000</td>\n",
       "      <td>4.000000</td>\n",
       "      <td>5.000000</td>\n",
       "      <td>6.000000</td>\n",
       "    </tr>\n",
       "  </tbody>\n",
       "</table>\n",
       "</div>"
      ],
      "text/plain": [
       "           a         b         c         d         e         f\n",
       "0   0.301234  0.262496  0.143565  0.785605  0.506516  0.114317\n",
       "1   0.437400  0.968999  0.283143  0.531271  0.487656  0.417371\n",
       "2   0.575852  0.366192  0.274097  0.726994  0.497846  0.890383\n",
       "3   0.848888  0.553066  0.558749  0.261751  0.038147  0.655448\n",
       "4   0.194965  0.296101  0.714914  0.221390  0.955493  0.136874\n",
       "5   0.404295  0.059218  0.553108  0.574481  0.659914  0.970351\n",
       "6   0.283781  0.490543  0.771661  0.352689  0.767309  0.940892\n",
       "7   0.659163  0.199789  0.241488  0.120836  0.469298  0.497078\n",
       "8   0.293476  0.668386  0.068253  0.337998  0.994205  0.898762\n",
       "9   0.251640  0.745799  0.327457  0.030349  0.306058  0.463053\n",
       "10  0.531270  0.164523  0.902869  0.947906  0.496157  0.065043\n",
       "11  0.687610  0.071960  0.040719  0.178836  0.185332  0.424641\n",
       "12  0.022366  0.908083  0.456848  0.910560  0.287322  0.079461\n",
       "13  0.484807  0.075417  0.340881  0.404363  0.002127  0.590652\n",
       "14  0.815619  0.250676  0.514623  0.645525  0.228036  0.574069\n",
       "15  0.786530  0.868534  0.233149  0.811540  0.507582  0.958471\n",
       "16  0.592249  0.947405  0.364026  0.962173  0.087856  0.172483\n",
       "17  0.625164  0.816300  0.730838  0.742707  0.549078  0.206656\n",
       "18  0.926848  0.959606  0.898296  0.458441  0.851664  0.116786\n",
       "19  0.912381  0.574920  0.393954  0.738190  0.803269  0.275192\n",
       "21  1.230000  2.340000  3.450000  5.600000  4.000000  8.100000\n",
       "20  1.000000  2.000000  3.000000  4.000000  5.000000  6.000000"
      ]
     },
     "execution_count": 95,
     "metadata": {},
     "output_type": "execute_result"
    }
   ],
   "source": [
    "s3"
   ]
  },
  {
   "cell_type": "code",
   "execution_count": 96,
   "metadata": {},
   "outputs": [
    {
     "data": {
      "text/html": [
       "<div>\n",
       "<style>\n",
       "    .dataframe thead tr:only-child th {\n",
       "        text-align: right;\n",
       "    }\n",
       "\n",
       "    .dataframe thead th {\n",
       "        text-align: left;\n",
       "    }\n",
       "\n",
       "    .dataframe tbody tr th {\n",
       "        vertical-align: top;\n",
       "    }\n",
       "</style>\n",
       "<table border=\"1\" class=\"dataframe\">\n",
       "  <thead>\n",
       "    <tr style=\"text-align: right;\">\n",
       "      <th></th>\n",
       "      <th>a</th>\n",
       "      <th>b</th>\n",
       "      <th>c</th>\n",
       "      <th>d</th>\n",
       "      <th>e</th>\n",
       "      <th>f</th>\n",
       "    </tr>\n",
       "  </thead>\n",
       "  <tbody>\n",
       "    <tr>\n",
       "      <th>21</th>\n",
       "      <td>1.23</td>\n",
       "      <td>2.34</td>\n",
       "      <td>3.45</td>\n",
       "      <td>5.6</td>\n",
       "      <td>4.0</td>\n",
       "      <td>8.1</td>\n",
       "    </tr>\n",
       "    <tr>\n",
       "      <th>20</th>\n",
       "      <td>1.00</td>\n",
       "      <td>2.00</td>\n",
       "      <td>3.00</td>\n",
       "      <td>4.0</td>\n",
       "      <td>5.0</td>\n",
       "      <td>6.0</td>\n",
       "    </tr>\n",
       "  </tbody>\n",
       "</table>\n",
       "</div>"
      ],
      "text/plain": [
       "       a     b     c    d    e    f\n",
       "21  1.23  2.34  3.45  5.6  4.0  8.1\n",
       "20  1.00  2.00  3.00  4.0  5.0  6.0"
      ]
     },
     "execution_count": 96,
     "metadata": {},
     "output_type": "execute_result"
    }
   ],
   "source": [
    "s3[s3['a'].isin([1.0,1.23])]"
   ]
  },
  {
   "cell_type": "markdown",
   "metadata": {},
   "source": [
    "### 设置"
   ]
  },
  {
   "cell_type": "markdown",
   "metadata": {},
   "source": [
    "### 新增一个列"
   ]
  },
  {
   "cell_type": "code",
   "execution_count": 97,
   "metadata": {
    "collapsed": true
   },
   "outputs": [],
   "source": [
    "s1=Series([i for i in range(20)])"
   ]
  },
  {
   "cell_type": "code",
   "execution_count": 98,
   "metadata": {},
   "outputs": [
    {
     "data": {
      "text/plain": [
       "0      0\n",
       "1      1\n",
       "2      2\n",
       "3      3\n",
       "4      4\n",
       "5      5\n",
       "6      6\n",
       "7      7\n",
       "8      8\n",
       "9      9\n",
       "10    10\n",
       "11    11\n",
       "12    12\n",
       "13    13\n",
       "14    14\n",
       "15    15\n",
       "16    16\n",
       "17    17\n",
       "18    18\n",
       "19    19\n",
       "dtype: int64"
      ]
     },
     "execution_count": 98,
     "metadata": {},
     "output_type": "execute_result"
    }
   ],
   "source": [
    "s1"
   ]
  },
  {
   "cell_type": "code",
   "execution_count": 99,
   "metadata": {
    "collapsed": true
   },
   "outputs": [],
   "source": [
    "s2.f=s1"
   ]
  },
  {
   "cell_type": "code",
   "execution_count": 100,
   "metadata": {},
   "outputs": [
    {
     "data": {
      "text/html": [
       "<div>\n",
       "<style>\n",
       "    .dataframe thead tr:only-child th {\n",
       "        text-align: right;\n",
       "    }\n",
       "\n",
       "    .dataframe thead th {\n",
       "        text-align: left;\n",
       "    }\n",
       "\n",
       "    .dataframe tbody tr th {\n",
       "        vertical-align: top;\n",
       "    }\n",
       "</style>\n",
       "<table border=\"1\" class=\"dataframe\">\n",
       "  <thead>\n",
       "    <tr style=\"text-align: right;\">\n",
       "      <th></th>\n",
       "      <th>a</th>\n",
       "      <th>b</th>\n",
       "      <th>c</th>\n",
       "      <th>d</th>\n",
       "      <th>e</th>\n",
       "      <th>f</th>\n",
       "    </tr>\n",
       "  </thead>\n",
       "  <tbody>\n",
       "    <tr>\n",
       "      <th>0</th>\n",
       "      <td>0.301234</td>\n",
       "      <td>0.262496</td>\n",
       "      <td>0.143565</td>\n",
       "      <td>0.785605</td>\n",
       "      <td>0.506516</td>\n",
       "      <td>0</td>\n",
       "    </tr>\n",
       "    <tr>\n",
       "      <th>1</th>\n",
       "      <td>0.437400</td>\n",
       "      <td>0.968999</td>\n",
       "      <td>0.283143</td>\n",
       "      <td>0.531271</td>\n",
       "      <td>0.487656</td>\n",
       "      <td>1</td>\n",
       "    </tr>\n",
       "    <tr>\n",
       "      <th>2</th>\n",
       "      <td>0.575852</td>\n",
       "      <td>0.366192</td>\n",
       "      <td>0.274097</td>\n",
       "      <td>0.726994</td>\n",
       "      <td>0.497846</td>\n",
       "      <td>2</td>\n",
       "    </tr>\n",
       "    <tr>\n",
       "      <th>3</th>\n",
       "      <td>0.848888</td>\n",
       "      <td>0.553066</td>\n",
       "      <td>0.558749</td>\n",
       "      <td>0.261751</td>\n",
       "      <td>0.038147</td>\n",
       "      <td>3</td>\n",
       "    </tr>\n",
       "    <tr>\n",
       "      <th>4</th>\n",
       "      <td>0.194965</td>\n",
       "      <td>0.296101</td>\n",
       "      <td>0.714914</td>\n",
       "      <td>0.221390</td>\n",
       "      <td>0.955493</td>\n",
       "      <td>4</td>\n",
       "    </tr>\n",
       "    <tr>\n",
       "      <th>5</th>\n",
       "      <td>0.404295</td>\n",
       "      <td>0.059218</td>\n",
       "      <td>0.553108</td>\n",
       "      <td>0.574481</td>\n",
       "      <td>0.659914</td>\n",
       "      <td>5</td>\n",
       "    </tr>\n",
       "    <tr>\n",
       "      <th>6</th>\n",
       "      <td>0.283781</td>\n",
       "      <td>0.490543</td>\n",
       "      <td>0.771661</td>\n",
       "      <td>0.352689</td>\n",
       "      <td>0.767309</td>\n",
       "      <td>6</td>\n",
       "    </tr>\n",
       "    <tr>\n",
       "      <th>7</th>\n",
       "      <td>0.659163</td>\n",
       "      <td>0.199789</td>\n",
       "      <td>0.241488</td>\n",
       "      <td>0.120836</td>\n",
       "      <td>0.469298</td>\n",
       "      <td>7</td>\n",
       "    </tr>\n",
       "    <tr>\n",
       "      <th>8</th>\n",
       "      <td>0.293476</td>\n",
       "      <td>0.668386</td>\n",
       "      <td>0.068253</td>\n",
       "      <td>0.337998</td>\n",
       "      <td>0.994205</td>\n",
       "      <td>8</td>\n",
       "    </tr>\n",
       "    <tr>\n",
       "      <th>9</th>\n",
       "      <td>0.251640</td>\n",
       "      <td>0.745799</td>\n",
       "      <td>0.327457</td>\n",
       "      <td>0.030349</td>\n",
       "      <td>0.306058</td>\n",
       "      <td>9</td>\n",
       "    </tr>\n",
       "    <tr>\n",
       "      <th>10</th>\n",
       "      <td>0.531270</td>\n",
       "      <td>0.164523</td>\n",
       "      <td>0.902869</td>\n",
       "      <td>0.947906</td>\n",
       "      <td>0.496157</td>\n",
       "      <td>10</td>\n",
       "    </tr>\n",
       "    <tr>\n",
       "      <th>11</th>\n",
       "      <td>0.687610</td>\n",
       "      <td>0.071960</td>\n",
       "      <td>0.040719</td>\n",
       "      <td>0.178836</td>\n",
       "      <td>0.185332</td>\n",
       "      <td>11</td>\n",
       "    </tr>\n",
       "    <tr>\n",
       "      <th>12</th>\n",
       "      <td>0.022366</td>\n",
       "      <td>0.908083</td>\n",
       "      <td>0.456848</td>\n",
       "      <td>0.910560</td>\n",
       "      <td>0.287322</td>\n",
       "      <td>12</td>\n",
       "    </tr>\n",
       "    <tr>\n",
       "      <th>13</th>\n",
       "      <td>0.484807</td>\n",
       "      <td>0.075417</td>\n",
       "      <td>0.340881</td>\n",
       "      <td>0.404363</td>\n",
       "      <td>0.002127</td>\n",
       "      <td>13</td>\n",
       "    </tr>\n",
       "    <tr>\n",
       "      <th>14</th>\n",
       "      <td>0.815619</td>\n",
       "      <td>0.250676</td>\n",
       "      <td>0.514623</td>\n",
       "      <td>0.645525</td>\n",
       "      <td>0.228036</td>\n",
       "      <td>14</td>\n",
       "    </tr>\n",
       "    <tr>\n",
       "      <th>15</th>\n",
       "      <td>0.786530</td>\n",
       "      <td>0.868534</td>\n",
       "      <td>0.233149</td>\n",
       "      <td>0.811540</td>\n",
       "      <td>0.507582</td>\n",
       "      <td>15</td>\n",
       "    </tr>\n",
       "    <tr>\n",
       "      <th>16</th>\n",
       "      <td>0.592249</td>\n",
       "      <td>0.947405</td>\n",
       "      <td>0.364026</td>\n",
       "      <td>0.962173</td>\n",
       "      <td>0.087856</td>\n",
       "      <td>16</td>\n",
       "    </tr>\n",
       "    <tr>\n",
       "      <th>17</th>\n",
       "      <td>0.625164</td>\n",
       "      <td>0.816300</td>\n",
       "      <td>0.730838</td>\n",
       "      <td>0.742707</td>\n",
       "      <td>0.549078</td>\n",
       "      <td>17</td>\n",
       "    </tr>\n",
       "    <tr>\n",
       "      <th>18</th>\n",
       "      <td>0.926848</td>\n",
       "      <td>0.959606</td>\n",
       "      <td>0.898296</td>\n",
       "      <td>0.458441</td>\n",
       "      <td>0.851664</td>\n",
       "      <td>18</td>\n",
       "    </tr>\n",
       "    <tr>\n",
       "      <th>19</th>\n",
       "      <td>0.912381</td>\n",
       "      <td>0.574920</td>\n",
       "      <td>0.393954</td>\n",
       "      <td>0.738190</td>\n",
       "      <td>0.803269</td>\n",
       "      <td>19</td>\n",
       "    </tr>\n",
       "  </tbody>\n",
       "</table>\n",
       "</div>"
      ],
      "text/plain": [
       "           a         b         c         d         e   f\n",
       "0   0.301234  0.262496  0.143565  0.785605  0.506516   0\n",
       "1   0.437400  0.968999  0.283143  0.531271  0.487656   1\n",
       "2   0.575852  0.366192  0.274097  0.726994  0.497846   2\n",
       "3   0.848888  0.553066  0.558749  0.261751  0.038147   3\n",
       "4   0.194965  0.296101  0.714914  0.221390  0.955493   4\n",
       "5   0.404295  0.059218  0.553108  0.574481  0.659914   5\n",
       "6   0.283781  0.490543  0.771661  0.352689  0.767309   6\n",
       "7   0.659163  0.199789  0.241488  0.120836  0.469298   7\n",
       "8   0.293476  0.668386  0.068253  0.337998  0.994205   8\n",
       "9   0.251640  0.745799  0.327457  0.030349  0.306058   9\n",
       "10  0.531270  0.164523  0.902869  0.947906  0.496157  10\n",
       "11  0.687610  0.071960  0.040719  0.178836  0.185332  11\n",
       "12  0.022366  0.908083  0.456848  0.910560  0.287322  12\n",
       "13  0.484807  0.075417  0.340881  0.404363  0.002127  13\n",
       "14  0.815619  0.250676  0.514623  0.645525  0.228036  14\n",
       "15  0.786530  0.868534  0.233149  0.811540  0.507582  15\n",
       "16  0.592249  0.947405  0.364026  0.962173  0.087856  16\n",
       "17  0.625164  0.816300  0.730838  0.742707  0.549078  17\n",
       "18  0.926848  0.959606  0.898296  0.458441  0.851664  18\n",
       "19  0.912381  0.574920  0.393954  0.738190  0.803269  19"
      ]
     },
     "execution_count": 100,
     "metadata": {},
     "output_type": "execute_result"
    }
   ],
   "source": [
    "s2"
   ]
  },
  {
   "cell_type": "markdown",
   "metadata": {},
   "source": [
    "### 通过标签设置值"
   ]
  },
  {
   "cell_type": "code",
   "execution_count": 101,
   "metadata": {
    "collapsed": true
   },
   "outputs": [],
   "source": [
    "s2.loc[20,'f']=13"
   ]
  },
  {
   "cell_type": "code",
   "execution_count": 102,
   "metadata": {},
   "outputs": [
    {
     "data": {
      "text/html": [
       "<div>\n",
       "<style>\n",
       "    .dataframe thead tr:only-child th {\n",
       "        text-align: right;\n",
       "    }\n",
       "\n",
       "    .dataframe thead th {\n",
       "        text-align: left;\n",
       "    }\n",
       "\n",
       "    .dataframe tbody tr th {\n",
       "        vertical-align: top;\n",
       "    }\n",
       "</style>\n",
       "<table border=\"1\" class=\"dataframe\">\n",
       "  <thead>\n",
       "    <tr style=\"text-align: right;\">\n",
       "      <th></th>\n",
       "      <th>a</th>\n",
       "      <th>b</th>\n",
       "      <th>c</th>\n",
       "      <th>d</th>\n",
       "      <th>e</th>\n",
       "      <th>f</th>\n",
       "    </tr>\n",
       "  </thead>\n",
       "  <tbody>\n",
       "    <tr>\n",
       "      <th>0</th>\n",
       "      <td>0.301234</td>\n",
       "      <td>0.262496</td>\n",
       "      <td>0.143565</td>\n",
       "      <td>0.785605</td>\n",
       "      <td>0.506516</td>\n",
       "      <td>0.0</td>\n",
       "    </tr>\n",
       "    <tr>\n",
       "      <th>1</th>\n",
       "      <td>0.437400</td>\n",
       "      <td>0.968999</td>\n",
       "      <td>0.283143</td>\n",
       "      <td>0.531271</td>\n",
       "      <td>0.487656</td>\n",
       "      <td>1.0</td>\n",
       "    </tr>\n",
       "    <tr>\n",
       "      <th>2</th>\n",
       "      <td>0.575852</td>\n",
       "      <td>0.366192</td>\n",
       "      <td>0.274097</td>\n",
       "      <td>0.726994</td>\n",
       "      <td>0.497846</td>\n",
       "      <td>2.0</td>\n",
       "    </tr>\n",
       "    <tr>\n",
       "      <th>3</th>\n",
       "      <td>0.848888</td>\n",
       "      <td>0.553066</td>\n",
       "      <td>0.558749</td>\n",
       "      <td>0.261751</td>\n",
       "      <td>0.038147</td>\n",
       "      <td>3.0</td>\n",
       "    </tr>\n",
       "    <tr>\n",
       "      <th>4</th>\n",
       "      <td>0.194965</td>\n",
       "      <td>0.296101</td>\n",
       "      <td>0.714914</td>\n",
       "      <td>0.221390</td>\n",
       "      <td>0.955493</td>\n",
       "      <td>4.0</td>\n",
       "    </tr>\n",
       "    <tr>\n",
       "      <th>5</th>\n",
       "      <td>0.404295</td>\n",
       "      <td>0.059218</td>\n",
       "      <td>0.553108</td>\n",
       "      <td>0.574481</td>\n",
       "      <td>0.659914</td>\n",
       "      <td>5.0</td>\n",
       "    </tr>\n",
       "    <tr>\n",
       "      <th>6</th>\n",
       "      <td>0.283781</td>\n",
       "      <td>0.490543</td>\n",
       "      <td>0.771661</td>\n",
       "      <td>0.352689</td>\n",
       "      <td>0.767309</td>\n",
       "      <td>6.0</td>\n",
       "    </tr>\n",
       "    <tr>\n",
       "      <th>7</th>\n",
       "      <td>0.659163</td>\n",
       "      <td>0.199789</td>\n",
       "      <td>0.241488</td>\n",
       "      <td>0.120836</td>\n",
       "      <td>0.469298</td>\n",
       "      <td>7.0</td>\n",
       "    </tr>\n",
       "    <tr>\n",
       "      <th>8</th>\n",
       "      <td>0.293476</td>\n",
       "      <td>0.668386</td>\n",
       "      <td>0.068253</td>\n",
       "      <td>0.337998</td>\n",
       "      <td>0.994205</td>\n",
       "      <td>8.0</td>\n",
       "    </tr>\n",
       "    <tr>\n",
       "      <th>9</th>\n",
       "      <td>0.251640</td>\n",
       "      <td>0.745799</td>\n",
       "      <td>0.327457</td>\n",
       "      <td>0.030349</td>\n",
       "      <td>0.306058</td>\n",
       "      <td>9.0</td>\n",
       "    </tr>\n",
       "    <tr>\n",
       "      <th>10</th>\n",
       "      <td>0.531270</td>\n",
       "      <td>0.164523</td>\n",
       "      <td>0.902869</td>\n",
       "      <td>0.947906</td>\n",
       "      <td>0.496157</td>\n",
       "      <td>10.0</td>\n",
       "    </tr>\n",
       "    <tr>\n",
       "      <th>11</th>\n",
       "      <td>0.687610</td>\n",
       "      <td>0.071960</td>\n",
       "      <td>0.040719</td>\n",
       "      <td>0.178836</td>\n",
       "      <td>0.185332</td>\n",
       "      <td>11.0</td>\n",
       "    </tr>\n",
       "    <tr>\n",
       "      <th>12</th>\n",
       "      <td>0.022366</td>\n",
       "      <td>0.908083</td>\n",
       "      <td>0.456848</td>\n",
       "      <td>0.910560</td>\n",
       "      <td>0.287322</td>\n",
       "      <td>12.0</td>\n",
       "    </tr>\n",
       "    <tr>\n",
       "      <th>13</th>\n",
       "      <td>0.484807</td>\n",
       "      <td>0.075417</td>\n",
       "      <td>0.340881</td>\n",
       "      <td>0.404363</td>\n",
       "      <td>0.002127</td>\n",
       "      <td>13.0</td>\n",
       "    </tr>\n",
       "    <tr>\n",
       "      <th>14</th>\n",
       "      <td>0.815619</td>\n",
       "      <td>0.250676</td>\n",
       "      <td>0.514623</td>\n",
       "      <td>0.645525</td>\n",
       "      <td>0.228036</td>\n",
       "      <td>14.0</td>\n",
       "    </tr>\n",
       "    <tr>\n",
       "      <th>15</th>\n",
       "      <td>0.786530</td>\n",
       "      <td>0.868534</td>\n",
       "      <td>0.233149</td>\n",
       "      <td>0.811540</td>\n",
       "      <td>0.507582</td>\n",
       "      <td>15.0</td>\n",
       "    </tr>\n",
       "    <tr>\n",
       "      <th>16</th>\n",
       "      <td>0.592249</td>\n",
       "      <td>0.947405</td>\n",
       "      <td>0.364026</td>\n",
       "      <td>0.962173</td>\n",
       "      <td>0.087856</td>\n",
       "      <td>16.0</td>\n",
       "    </tr>\n",
       "    <tr>\n",
       "      <th>17</th>\n",
       "      <td>0.625164</td>\n",
       "      <td>0.816300</td>\n",
       "      <td>0.730838</td>\n",
       "      <td>0.742707</td>\n",
       "      <td>0.549078</td>\n",
       "      <td>17.0</td>\n",
       "    </tr>\n",
       "    <tr>\n",
       "      <th>18</th>\n",
       "      <td>0.926848</td>\n",
       "      <td>0.959606</td>\n",
       "      <td>0.898296</td>\n",
       "      <td>0.458441</td>\n",
       "      <td>0.851664</td>\n",
       "      <td>18.0</td>\n",
       "    </tr>\n",
       "    <tr>\n",
       "      <th>19</th>\n",
       "      <td>0.912381</td>\n",
       "      <td>0.574920</td>\n",
       "      <td>0.393954</td>\n",
       "      <td>0.738190</td>\n",
       "      <td>0.803269</td>\n",
       "      <td>19.0</td>\n",
       "    </tr>\n",
       "    <tr>\n",
       "      <th>20</th>\n",
       "      <td>NaN</td>\n",
       "      <td>NaN</td>\n",
       "      <td>NaN</td>\n",
       "      <td>NaN</td>\n",
       "      <td>NaN</td>\n",
       "      <td>13.0</td>\n",
       "    </tr>\n",
       "  </tbody>\n",
       "</table>\n",
       "</div>"
      ],
      "text/plain": [
       "           a         b         c         d         e     f\n",
       "0   0.301234  0.262496  0.143565  0.785605  0.506516   0.0\n",
       "1   0.437400  0.968999  0.283143  0.531271  0.487656   1.0\n",
       "2   0.575852  0.366192  0.274097  0.726994  0.497846   2.0\n",
       "3   0.848888  0.553066  0.558749  0.261751  0.038147   3.0\n",
       "4   0.194965  0.296101  0.714914  0.221390  0.955493   4.0\n",
       "5   0.404295  0.059218  0.553108  0.574481  0.659914   5.0\n",
       "6   0.283781  0.490543  0.771661  0.352689  0.767309   6.0\n",
       "7   0.659163  0.199789  0.241488  0.120836  0.469298   7.0\n",
       "8   0.293476  0.668386  0.068253  0.337998  0.994205   8.0\n",
       "9   0.251640  0.745799  0.327457  0.030349  0.306058   9.0\n",
       "10  0.531270  0.164523  0.902869  0.947906  0.496157  10.0\n",
       "11  0.687610  0.071960  0.040719  0.178836  0.185332  11.0\n",
       "12  0.022366  0.908083  0.456848  0.910560  0.287322  12.0\n",
       "13  0.484807  0.075417  0.340881  0.404363  0.002127  13.0\n",
       "14  0.815619  0.250676  0.514623  0.645525  0.228036  14.0\n",
       "15  0.786530  0.868534  0.233149  0.811540  0.507582  15.0\n",
       "16  0.592249  0.947405  0.364026  0.962173  0.087856  16.0\n",
       "17  0.625164  0.816300  0.730838  0.742707  0.549078  17.0\n",
       "18  0.926848  0.959606  0.898296  0.458441  0.851664  18.0\n",
       "19  0.912381  0.574920  0.393954  0.738190  0.803269  19.0\n",
       "20       NaN       NaN       NaN       NaN       NaN  13.0"
      ]
     },
     "execution_count": 102,
     "metadata": {},
     "output_type": "execute_result"
    }
   ],
   "source": [
    "s2"
   ]
  },
  {
   "cell_type": "markdown",
   "metadata": {},
   "source": [
    "### 通过位置"
   ]
  },
  {
   "cell_type": "code",
   "execution_count": 103,
   "metadata": {
    "collapsed": true
   },
   "outputs": [],
   "source": [
    "s2.iloc[20:20,5:6]=13"
   ]
  },
  {
   "cell_type": "code",
   "execution_count": 104,
   "metadata": {},
   "outputs": [
    {
     "data": {
      "text/html": [
       "<div>\n",
       "<style>\n",
       "    .dataframe thead tr:only-child th {\n",
       "        text-align: right;\n",
       "    }\n",
       "\n",
       "    .dataframe thead th {\n",
       "        text-align: left;\n",
       "    }\n",
       "\n",
       "    .dataframe tbody tr th {\n",
       "        vertical-align: top;\n",
       "    }\n",
       "</style>\n",
       "<table border=\"1\" class=\"dataframe\">\n",
       "  <thead>\n",
       "    <tr style=\"text-align: right;\">\n",
       "      <th></th>\n",
       "      <th>a</th>\n",
       "      <th>b</th>\n",
       "      <th>c</th>\n",
       "      <th>d</th>\n",
       "      <th>e</th>\n",
       "      <th>f</th>\n",
       "    </tr>\n",
       "  </thead>\n",
       "  <tbody>\n",
       "    <tr>\n",
       "      <th>0</th>\n",
       "      <td>0.301234</td>\n",
       "      <td>0.262496</td>\n",
       "      <td>0.143565</td>\n",
       "      <td>0.785605</td>\n",
       "      <td>0.506516</td>\n",
       "      <td>0.0</td>\n",
       "    </tr>\n",
       "    <tr>\n",
       "      <th>1</th>\n",
       "      <td>0.437400</td>\n",
       "      <td>0.968999</td>\n",
       "      <td>0.283143</td>\n",
       "      <td>0.531271</td>\n",
       "      <td>0.487656</td>\n",
       "      <td>1.0</td>\n",
       "    </tr>\n",
       "    <tr>\n",
       "      <th>2</th>\n",
       "      <td>0.575852</td>\n",
       "      <td>0.366192</td>\n",
       "      <td>0.274097</td>\n",
       "      <td>0.726994</td>\n",
       "      <td>0.497846</td>\n",
       "      <td>2.0</td>\n",
       "    </tr>\n",
       "    <tr>\n",
       "      <th>3</th>\n",
       "      <td>0.848888</td>\n",
       "      <td>0.553066</td>\n",
       "      <td>0.558749</td>\n",
       "      <td>0.261751</td>\n",
       "      <td>0.038147</td>\n",
       "      <td>3.0</td>\n",
       "    </tr>\n",
       "    <tr>\n",
       "      <th>4</th>\n",
       "      <td>0.194965</td>\n",
       "      <td>0.296101</td>\n",
       "      <td>0.714914</td>\n",
       "      <td>0.221390</td>\n",
       "      <td>0.955493</td>\n",
       "      <td>4.0</td>\n",
       "    </tr>\n",
       "    <tr>\n",
       "      <th>5</th>\n",
       "      <td>0.404295</td>\n",
       "      <td>0.059218</td>\n",
       "      <td>0.553108</td>\n",
       "      <td>0.574481</td>\n",
       "      <td>0.659914</td>\n",
       "      <td>5.0</td>\n",
       "    </tr>\n",
       "    <tr>\n",
       "      <th>6</th>\n",
       "      <td>0.283781</td>\n",
       "      <td>0.490543</td>\n",
       "      <td>0.771661</td>\n",
       "      <td>0.352689</td>\n",
       "      <td>0.767309</td>\n",
       "      <td>6.0</td>\n",
       "    </tr>\n",
       "    <tr>\n",
       "      <th>7</th>\n",
       "      <td>0.659163</td>\n",
       "      <td>0.199789</td>\n",
       "      <td>0.241488</td>\n",
       "      <td>0.120836</td>\n",
       "      <td>0.469298</td>\n",
       "      <td>7.0</td>\n",
       "    </tr>\n",
       "    <tr>\n",
       "      <th>8</th>\n",
       "      <td>0.293476</td>\n",
       "      <td>0.668386</td>\n",
       "      <td>0.068253</td>\n",
       "      <td>0.337998</td>\n",
       "      <td>0.994205</td>\n",
       "      <td>8.0</td>\n",
       "    </tr>\n",
       "    <tr>\n",
       "      <th>9</th>\n",
       "      <td>0.251640</td>\n",
       "      <td>0.745799</td>\n",
       "      <td>0.327457</td>\n",
       "      <td>0.030349</td>\n",
       "      <td>0.306058</td>\n",
       "      <td>9.0</td>\n",
       "    </tr>\n",
       "    <tr>\n",
       "      <th>10</th>\n",
       "      <td>0.531270</td>\n",
       "      <td>0.164523</td>\n",
       "      <td>0.902869</td>\n",
       "      <td>0.947906</td>\n",
       "      <td>0.496157</td>\n",
       "      <td>10.0</td>\n",
       "    </tr>\n",
       "    <tr>\n",
       "      <th>11</th>\n",
       "      <td>0.687610</td>\n",
       "      <td>0.071960</td>\n",
       "      <td>0.040719</td>\n",
       "      <td>0.178836</td>\n",
       "      <td>0.185332</td>\n",
       "      <td>11.0</td>\n",
       "    </tr>\n",
       "    <tr>\n",
       "      <th>12</th>\n",
       "      <td>0.022366</td>\n",
       "      <td>0.908083</td>\n",
       "      <td>0.456848</td>\n",
       "      <td>0.910560</td>\n",
       "      <td>0.287322</td>\n",
       "      <td>12.0</td>\n",
       "    </tr>\n",
       "    <tr>\n",
       "      <th>13</th>\n",
       "      <td>0.484807</td>\n",
       "      <td>0.075417</td>\n",
       "      <td>0.340881</td>\n",
       "      <td>0.404363</td>\n",
       "      <td>0.002127</td>\n",
       "      <td>13.0</td>\n",
       "    </tr>\n",
       "    <tr>\n",
       "      <th>14</th>\n",
       "      <td>0.815619</td>\n",
       "      <td>0.250676</td>\n",
       "      <td>0.514623</td>\n",
       "      <td>0.645525</td>\n",
       "      <td>0.228036</td>\n",
       "      <td>14.0</td>\n",
       "    </tr>\n",
       "    <tr>\n",
       "      <th>15</th>\n",
       "      <td>0.786530</td>\n",
       "      <td>0.868534</td>\n",
       "      <td>0.233149</td>\n",
       "      <td>0.811540</td>\n",
       "      <td>0.507582</td>\n",
       "      <td>15.0</td>\n",
       "    </tr>\n",
       "    <tr>\n",
       "      <th>16</th>\n",
       "      <td>0.592249</td>\n",
       "      <td>0.947405</td>\n",
       "      <td>0.364026</td>\n",
       "      <td>0.962173</td>\n",
       "      <td>0.087856</td>\n",
       "      <td>16.0</td>\n",
       "    </tr>\n",
       "    <tr>\n",
       "      <th>17</th>\n",
       "      <td>0.625164</td>\n",
       "      <td>0.816300</td>\n",
       "      <td>0.730838</td>\n",
       "      <td>0.742707</td>\n",
       "      <td>0.549078</td>\n",
       "      <td>17.0</td>\n",
       "    </tr>\n",
       "    <tr>\n",
       "      <th>18</th>\n",
       "      <td>0.926848</td>\n",
       "      <td>0.959606</td>\n",
       "      <td>0.898296</td>\n",
       "      <td>0.458441</td>\n",
       "      <td>0.851664</td>\n",
       "      <td>18.0</td>\n",
       "    </tr>\n",
       "    <tr>\n",
       "      <th>19</th>\n",
       "      <td>0.912381</td>\n",
       "      <td>0.574920</td>\n",
       "      <td>0.393954</td>\n",
       "      <td>0.738190</td>\n",
       "      <td>0.803269</td>\n",
       "      <td>19.0</td>\n",
       "    </tr>\n",
       "    <tr>\n",
       "      <th>20</th>\n",
       "      <td>NaN</td>\n",
       "      <td>NaN</td>\n",
       "      <td>NaN</td>\n",
       "      <td>NaN</td>\n",
       "      <td>NaN</td>\n",
       "      <td>13.0</td>\n",
       "    </tr>\n",
       "  </tbody>\n",
       "</table>\n",
       "</div>"
      ],
      "text/plain": [
       "           a         b         c         d         e     f\n",
       "0   0.301234  0.262496  0.143565  0.785605  0.506516   0.0\n",
       "1   0.437400  0.968999  0.283143  0.531271  0.487656   1.0\n",
       "2   0.575852  0.366192  0.274097  0.726994  0.497846   2.0\n",
       "3   0.848888  0.553066  0.558749  0.261751  0.038147   3.0\n",
       "4   0.194965  0.296101  0.714914  0.221390  0.955493   4.0\n",
       "5   0.404295  0.059218  0.553108  0.574481  0.659914   5.0\n",
       "6   0.283781  0.490543  0.771661  0.352689  0.767309   6.0\n",
       "7   0.659163  0.199789  0.241488  0.120836  0.469298   7.0\n",
       "8   0.293476  0.668386  0.068253  0.337998  0.994205   8.0\n",
       "9   0.251640  0.745799  0.327457  0.030349  0.306058   9.0\n",
       "10  0.531270  0.164523  0.902869  0.947906  0.496157  10.0\n",
       "11  0.687610  0.071960  0.040719  0.178836  0.185332  11.0\n",
       "12  0.022366  0.908083  0.456848  0.910560  0.287322  12.0\n",
       "13  0.484807  0.075417  0.340881  0.404363  0.002127  13.0\n",
       "14  0.815619  0.250676  0.514623  0.645525  0.228036  14.0\n",
       "15  0.786530  0.868534  0.233149  0.811540  0.507582  15.0\n",
       "16  0.592249  0.947405  0.364026  0.962173  0.087856  16.0\n",
       "17  0.625164  0.816300  0.730838  0.742707  0.549078  17.0\n",
       "18  0.926848  0.959606  0.898296  0.458441  0.851664  18.0\n",
       "19  0.912381  0.574920  0.393954  0.738190  0.803269  19.0\n",
       "20       NaN       NaN       NaN       NaN       NaN  13.0"
      ]
     },
     "execution_count": 104,
     "metadata": {},
     "output_type": "execute_result"
    }
   ],
   "source": [
    "s2"
   ]
  },
  {
   "cell_type": "code",
   "execution_count": 105,
   "metadata": {
    "collapsed": true
   },
   "outputs": [],
   "source": [
    "s2[s2>0.5]=0"
   ]
  },
  {
   "cell_type": "code",
   "execution_count": 106,
   "metadata": {},
   "outputs": [
    {
     "data": {
      "text/html": [
       "<div>\n",
       "<style>\n",
       "    .dataframe thead tr:only-child th {\n",
       "        text-align: right;\n",
       "    }\n",
       "\n",
       "    .dataframe thead th {\n",
       "        text-align: left;\n",
       "    }\n",
       "\n",
       "    .dataframe tbody tr th {\n",
       "        vertical-align: top;\n",
       "    }\n",
       "</style>\n",
       "<table border=\"1\" class=\"dataframe\">\n",
       "  <thead>\n",
       "    <tr style=\"text-align: right;\">\n",
       "      <th></th>\n",
       "      <th>a</th>\n",
       "      <th>b</th>\n",
       "      <th>c</th>\n",
       "      <th>d</th>\n",
       "      <th>e</th>\n",
       "      <th>f</th>\n",
       "    </tr>\n",
       "  </thead>\n",
       "  <tbody>\n",
       "    <tr>\n",
       "      <th>0</th>\n",
       "      <td>0.301234</td>\n",
       "      <td>0.262496</td>\n",
       "      <td>0.143565</td>\n",
       "      <td>0.000000</td>\n",
       "      <td>0.000000</td>\n",
       "      <td>0.0</td>\n",
       "    </tr>\n",
       "    <tr>\n",
       "      <th>1</th>\n",
       "      <td>0.437400</td>\n",
       "      <td>0.000000</td>\n",
       "      <td>0.283143</td>\n",
       "      <td>0.000000</td>\n",
       "      <td>0.487656</td>\n",
       "      <td>0.0</td>\n",
       "    </tr>\n",
       "    <tr>\n",
       "      <th>2</th>\n",
       "      <td>0.000000</td>\n",
       "      <td>0.366192</td>\n",
       "      <td>0.274097</td>\n",
       "      <td>0.000000</td>\n",
       "      <td>0.497846</td>\n",
       "      <td>0.0</td>\n",
       "    </tr>\n",
       "    <tr>\n",
       "      <th>3</th>\n",
       "      <td>0.000000</td>\n",
       "      <td>0.000000</td>\n",
       "      <td>0.000000</td>\n",
       "      <td>0.261751</td>\n",
       "      <td>0.038147</td>\n",
       "      <td>0.0</td>\n",
       "    </tr>\n",
       "    <tr>\n",
       "      <th>4</th>\n",
       "      <td>0.194965</td>\n",
       "      <td>0.296101</td>\n",
       "      <td>0.000000</td>\n",
       "      <td>0.221390</td>\n",
       "      <td>0.000000</td>\n",
       "      <td>0.0</td>\n",
       "    </tr>\n",
       "    <tr>\n",
       "      <th>5</th>\n",
       "      <td>0.404295</td>\n",
       "      <td>0.059218</td>\n",
       "      <td>0.000000</td>\n",
       "      <td>0.000000</td>\n",
       "      <td>0.000000</td>\n",
       "      <td>0.0</td>\n",
       "    </tr>\n",
       "    <tr>\n",
       "      <th>6</th>\n",
       "      <td>0.283781</td>\n",
       "      <td>0.490543</td>\n",
       "      <td>0.000000</td>\n",
       "      <td>0.352689</td>\n",
       "      <td>0.000000</td>\n",
       "      <td>0.0</td>\n",
       "    </tr>\n",
       "    <tr>\n",
       "      <th>7</th>\n",
       "      <td>0.000000</td>\n",
       "      <td>0.199789</td>\n",
       "      <td>0.241488</td>\n",
       "      <td>0.120836</td>\n",
       "      <td>0.469298</td>\n",
       "      <td>0.0</td>\n",
       "    </tr>\n",
       "    <tr>\n",
       "      <th>8</th>\n",
       "      <td>0.293476</td>\n",
       "      <td>0.000000</td>\n",
       "      <td>0.068253</td>\n",
       "      <td>0.337998</td>\n",
       "      <td>0.000000</td>\n",
       "      <td>0.0</td>\n",
       "    </tr>\n",
       "    <tr>\n",
       "      <th>9</th>\n",
       "      <td>0.251640</td>\n",
       "      <td>0.000000</td>\n",
       "      <td>0.327457</td>\n",
       "      <td>0.030349</td>\n",
       "      <td>0.306058</td>\n",
       "      <td>0.0</td>\n",
       "    </tr>\n",
       "    <tr>\n",
       "      <th>10</th>\n",
       "      <td>0.000000</td>\n",
       "      <td>0.164523</td>\n",
       "      <td>0.000000</td>\n",
       "      <td>0.000000</td>\n",
       "      <td>0.496157</td>\n",
       "      <td>0.0</td>\n",
       "    </tr>\n",
       "    <tr>\n",
       "      <th>11</th>\n",
       "      <td>0.000000</td>\n",
       "      <td>0.071960</td>\n",
       "      <td>0.040719</td>\n",
       "      <td>0.178836</td>\n",
       "      <td>0.185332</td>\n",
       "      <td>0.0</td>\n",
       "    </tr>\n",
       "    <tr>\n",
       "      <th>12</th>\n",
       "      <td>0.022366</td>\n",
       "      <td>0.000000</td>\n",
       "      <td>0.456848</td>\n",
       "      <td>0.000000</td>\n",
       "      <td>0.287322</td>\n",
       "      <td>0.0</td>\n",
       "    </tr>\n",
       "    <tr>\n",
       "      <th>13</th>\n",
       "      <td>0.484807</td>\n",
       "      <td>0.075417</td>\n",
       "      <td>0.340881</td>\n",
       "      <td>0.404363</td>\n",
       "      <td>0.002127</td>\n",
       "      <td>0.0</td>\n",
       "    </tr>\n",
       "    <tr>\n",
       "      <th>14</th>\n",
       "      <td>0.000000</td>\n",
       "      <td>0.250676</td>\n",
       "      <td>0.000000</td>\n",
       "      <td>0.000000</td>\n",
       "      <td>0.228036</td>\n",
       "      <td>0.0</td>\n",
       "    </tr>\n",
       "    <tr>\n",
       "      <th>15</th>\n",
       "      <td>0.000000</td>\n",
       "      <td>0.000000</td>\n",
       "      <td>0.233149</td>\n",
       "      <td>0.000000</td>\n",
       "      <td>0.000000</td>\n",
       "      <td>0.0</td>\n",
       "    </tr>\n",
       "    <tr>\n",
       "      <th>16</th>\n",
       "      <td>0.000000</td>\n",
       "      <td>0.000000</td>\n",
       "      <td>0.364026</td>\n",
       "      <td>0.000000</td>\n",
       "      <td>0.087856</td>\n",
       "      <td>0.0</td>\n",
       "    </tr>\n",
       "    <tr>\n",
       "      <th>17</th>\n",
       "      <td>0.000000</td>\n",
       "      <td>0.000000</td>\n",
       "      <td>0.000000</td>\n",
       "      <td>0.000000</td>\n",
       "      <td>0.000000</td>\n",
       "      <td>0.0</td>\n",
       "    </tr>\n",
       "    <tr>\n",
       "      <th>18</th>\n",
       "      <td>0.000000</td>\n",
       "      <td>0.000000</td>\n",
       "      <td>0.000000</td>\n",
       "      <td>0.458441</td>\n",
       "      <td>0.000000</td>\n",
       "      <td>0.0</td>\n",
       "    </tr>\n",
       "    <tr>\n",
       "      <th>19</th>\n",
       "      <td>0.000000</td>\n",
       "      <td>0.000000</td>\n",
       "      <td>0.393954</td>\n",
       "      <td>0.000000</td>\n",
       "      <td>0.000000</td>\n",
       "      <td>0.0</td>\n",
       "    </tr>\n",
       "    <tr>\n",
       "      <th>20</th>\n",
       "      <td>NaN</td>\n",
       "      <td>NaN</td>\n",
       "      <td>NaN</td>\n",
       "      <td>NaN</td>\n",
       "      <td>NaN</td>\n",
       "      <td>0.0</td>\n",
       "    </tr>\n",
       "  </tbody>\n",
       "</table>\n",
       "</div>"
      ],
      "text/plain": [
       "           a         b         c         d         e    f\n",
       "0   0.301234  0.262496  0.143565  0.000000  0.000000  0.0\n",
       "1   0.437400  0.000000  0.283143  0.000000  0.487656  0.0\n",
       "2   0.000000  0.366192  0.274097  0.000000  0.497846  0.0\n",
       "3   0.000000  0.000000  0.000000  0.261751  0.038147  0.0\n",
       "4   0.194965  0.296101  0.000000  0.221390  0.000000  0.0\n",
       "5   0.404295  0.059218  0.000000  0.000000  0.000000  0.0\n",
       "6   0.283781  0.490543  0.000000  0.352689  0.000000  0.0\n",
       "7   0.000000  0.199789  0.241488  0.120836  0.469298  0.0\n",
       "8   0.293476  0.000000  0.068253  0.337998  0.000000  0.0\n",
       "9   0.251640  0.000000  0.327457  0.030349  0.306058  0.0\n",
       "10  0.000000  0.164523  0.000000  0.000000  0.496157  0.0\n",
       "11  0.000000  0.071960  0.040719  0.178836  0.185332  0.0\n",
       "12  0.022366  0.000000  0.456848  0.000000  0.287322  0.0\n",
       "13  0.484807  0.075417  0.340881  0.404363  0.002127  0.0\n",
       "14  0.000000  0.250676  0.000000  0.000000  0.228036  0.0\n",
       "15  0.000000  0.000000  0.233149  0.000000  0.000000  0.0\n",
       "16  0.000000  0.000000  0.364026  0.000000  0.087856  0.0\n",
       "17  0.000000  0.000000  0.000000  0.000000  0.000000  0.0\n",
       "18  0.000000  0.000000  0.000000  0.458441  0.000000  0.0\n",
       "19  0.000000  0.000000  0.393954  0.000000  0.000000  0.0\n",
       "20       NaN       NaN       NaN       NaN       NaN  0.0"
      ]
     },
     "execution_count": 106,
     "metadata": {},
     "output_type": "execute_result"
    }
   ],
   "source": [
    "s2"
   ]
  },
  {
   "cell_type": "code",
   "execution_count": 107,
   "metadata": {
    "collapsed": true
   },
   "outputs": [],
   "source": [
    "s3=s2[s2.a<0.06]"
   ]
  },
  {
   "cell_type": "code",
   "execution_count": 108,
   "metadata": {},
   "outputs": [
    {
     "data": {
      "text/html": [
       "<div>\n",
       "<style>\n",
       "    .dataframe thead tr:only-child th {\n",
       "        text-align: right;\n",
       "    }\n",
       "\n",
       "    .dataframe thead th {\n",
       "        text-align: left;\n",
       "    }\n",
       "\n",
       "    .dataframe tbody tr th {\n",
       "        vertical-align: top;\n",
       "    }\n",
       "</style>\n",
       "<table border=\"1\" class=\"dataframe\">\n",
       "  <thead>\n",
       "    <tr style=\"text-align: right;\">\n",
       "      <th></th>\n",
       "      <th>a</th>\n",
       "      <th>b</th>\n",
       "      <th>c</th>\n",
       "      <th>d</th>\n",
       "      <th>e</th>\n",
       "      <th>f</th>\n",
       "    </tr>\n",
       "  </thead>\n",
       "  <tbody>\n",
       "    <tr>\n",
       "      <th>2</th>\n",
       "      <td>0.000000</td>\n",
       "      <td>0.366192</td>\n",
       "      <td>0.274097</td>\n",
       "      <td>0.000000</td>\n",
       "      <td>0.497846</td>\n",
       "      <td>0.0</td>\n",
       "    </tr>\n",
       "    <tr>\n",
       "      <th>3</th>\n",
       "      <td>0.000000</td>\n",
       "      <td>0.000000</td>\n",
       "      <td>0.000000</td>\n",
       "      <td>0.261751</td>\n",
       "      <td>0.038147</td>\n",
       "      <td>0.0</td>\n",
       "    </tr>\n",
       "    <tr>\n",
       "      <th>7</th>\n",
       "      <td>0.000000</td>\n",
       "      <td>0.199789</td>\n",
       "      <td>0.241488</td>\n",
       "      <td>0.120836</td>\n",
       "      <td>0.469298</td>\n",
       "      <td>0.0</td>\n",
       "    </tr>\n",
       "    <tr>\n",
       "      <th>10</th>\n",
       "      <td>0.000000</td>\n",
       "      <td>0.164523</td>\n",
       "      <td>0.000000</td>\n",
       "      <td>0.000000</td>\n",
       "      <td>0.496157</td>\n",
       "      <td>0.0</td>\n",
       "    </tr>\n",
       "    <tr>\n",
       "      <th>11</th>\n",
       "      <td>0.000000</td>\n",
       "      <td>0.071960</td>\n",
       "      <td>0.040719</td>\n",
       "      <td>0.178836</td>\n",
       "      <td>0.185332</td>\n",
       "      <td>0.0</td>\n",
       "    </tr>\n",
       "    <tr>\n",
       "      <th>12</th>\n",
       "      <td>0.022366</td>\n",
       "      <td>0.000000</td>\n",
       "      <td>0.456848</td>\n",
       "      <td>0.000000</td>\n",
       "      <td>0.287322</td>\n",
       "      <td>0.0</td>\n",
       "    </tr>\n",
       "    <tr>\n",
       "      <th>14</th>\n",
       "      <td>0.000000</td>\n",
       "      <td>0.250676</td>\n",
       "      <td>0.000000</td>\n",
       "      <td>0.000000</td>\n",
       "      <td>0.228036</td>\n",
       "      <td>0.0</td>\n",
       "    </tr>\n",
       "    <tr>\n",
       "      <th>15</th>\n",
       "      <td>0.000000</td>\n",
       "      <td>0.000000</td>\n",
       "      <td>0.233149</td>\n",
       "      <td>0.000000</td>\n",
       "      <td>0.000000</td>\n",
       "      <td>0.0</td>\n",
       "    </tr>\n",
       "    <tr>\n",
       "      <th>16</th>\n",
       "      <td>0.000000</td>\n",
       "      <td>0.000000</td>\n",
       "      <td>0.364026</td>\n",
       "      <td>0.000000</td>\n",
       "      <td>0.087856</td>\n",
       "      <td>0.0</td>\n",
       "    </tr>\n",
       "    <tr>\n",
       "      <th>17</th>\n",
       "      <td>0.000000</td>\n",
       "      <td>0.000000</td>\n",
       "      <td>0.000000</td>\n",
       "      <td>0.000000</td>\n",
       "      <td>0.000000</td>\n",
       "      <td>0.0</td>\n",
       "    </tr>\n",
       "    <tr>\n",
       "      <th>18</th>\n",
       "      <td>0.000000</td>\n",
       "      <td>0.000000</td>\n",
       "      <td>0.000000</td>\n",
       "      <td>0.458441</td>\n",
       "      <td>0.000000</td>\n",
       "      <td>0.0</td>\n",
       "    </tr>\n",
       "    <tr>\n",
       "      <th>19</th>\n",
       "      <td>0.000000</td>\n",
       "      <td>0.000000</td>\n",
       "      <td>0.393954</td>\n",
       "      <td>0.000000</td>\n",
       "      <td>0.000000</td>\n",
       "      <td>0.0</td>\n",
       "    </tr>\n",
       "  </tbody>\n",
       "</table>\n",
       "</div>"
      ],
      "text/plain": [
       "           a         b         c         d         e    f\n",
       "2   0.000000  0.366192  0.274097  0.000000  0.497846  0.0\n",
       "3   0.000000  0.000000  0.000000  0.261751  0.038147  0.0\n",
       "7   0.000000  0.199789  0.241488  0.120836  0.469298  0.0\n",
       "10  0.000000  0.164523  0.000000  0.000000  0.496157  0.0\n",
       "11  0.000000  0.071960  0.040719  0.178836  0.185332  0.0\n",
       "12  0.022366  0.000000  0.456848  0.000000  0.287322  0.0\n",
       "14  0.000000  0.250676  0.000000  0.000000  0.228036  0.0\n",
       "15  0.000000  0.000000  0.233149  0.000000  0.000000  0.0\n",
       "16  0.000000  0.000000  0.364026  0.000000  0.087856  0.0\n",
       "17  0.000000  0.000000  0.000000  0.000000  0.000000  0.0\n",
       "18  0.000000  0.000000  0.000000  0.458441  0.000000  0.0\n",
       "19  0.000000  0.000000  0.393954  0.000000  0.000000  0.0"
      ]
     },
     "execution_count": 108,
     "metadata": {},
     "output_type": "execute_result"
    }
   ],
   "source": [
    "s3"
   ]
  },
  {
   "cell_type": "markdown",
   "metadata": {},
   "source": [
    "### 缺失值的处理"
   ]
  },
  {
   "cell_type": "markdown",
   "metadata": {},
   "source": [
    "#### reindex() 方法可以对指定的轴上的索引进行修改（增加/删除）"
   ]
  },
  {
   "cell_type": "code",
   "execution_count": 109,
   "metadata": {
    "collapsed": true
   },
   "outputs": [],
   "source": [
    "s4=s2.reindex(index=[i for i in range(10)],columns=list(s2.columns)+['a'])"
   ]
  },
  {
   "cell_type": "code",
   "execution_count": 110,
   "metadata": {},
   "outputs": [
    {
     "data": {
      "text/html": [
       "<div>\n",
       "<style>\n",
       "    .dataframe thead tr:only-child th {\n",
       "        text-align: right;\n",
       "    }\n",
       "\n",
       "    .dataframe thead th {\n",
       "        text-align: left;\n",
       "    }\n",
       "\n",
       "    .dataframe tbody tr th {\n",
       "        vertical-align: top;\n",
       "    }\n",
       "</style>\n",
       "<table border=\"1\" class=\"dataframe\">\n",
       "  <thead>\n",
       "    <tr style=\"text-align: right;\">\n",
       "      <th></th>\n",
       "      <th>a</th>\n",
       "      <th>b</th>\n",
       "      <th>c</th>\n",
       "      <th>d</th>\n",
       "      <th>e</th>\n",
       "      <th>f</th>\n",
       "      <th>a</th>\n",
       "    </tr>\n",
       "  </thead>\n",
       "  <tbody>\n",
       "    <tr>\n",
       "      <th>0</th>\n",
       "      <td>0.301234</td>\n",
       "      <td>0.262496</td>\n",
       "      <td>0.143565</td>\n",
       "      <td>0.000000</td>\n",
       "      <td>0.000000</td>\n",
       "      <td>0.0</td>\n",
       "      <td>0.301234</td>\n",
       "    </tr>\n",
       "    <tr>\n",
       "      <th>1</th>\n",
       "      <td>0.437400</td>\n",
       "      <td>0.000000</td>\n",
       "      <td>0.283143</td>\n",
       "      <td>0.000000</td>\n",
       "      <td>0.487656</td>\n",
       "      <td>0.0</td>\n",
       "      <td>0.437400</td>\n",
       "    </tr>\n",
       "    <tr>\n",
       "      <th>2</th>\n",
       "      <td>0.000000</td>\n",
       "      <td>0.366192</td>\n",
       "      <td>0.274097</td>\n",
       "      <td>0.000000</td>\n",
       "      <td>0.497846</td>\n",
       "      <td>0.0</td>\n",
       "      <td>0.000000</td>\n",
       "    </tr>\n",
       "    <tr>\n",
       "      <th>3</th>\n",
       "      <td>0.000000</td>\n",
       "      <td>0.000000</td>\n",
       "      <td>0.000000</td>\n",
       "      <td>0.261751</td>\n",
       "      <td>0.038147</td>\n",
       "      <td>0.0</td>\n",
       "      <td>0.000000</td>\n",
       "    </tr>\n",
       "    <tr>\n",
       "      <th>4</th>\n",
       "      <td>0.194965</td>\n",
       "      <td>0.296101</td>\n",
       "      <td>0.000000</td>\n",
       "      <td>0.221390</td>\n",
       "      <td>0.000000</td>\n",
       "      <td>0.0</td>\n",
       "      <td>0.194965</td>\n",
       "    </tr>\n",
       "    <tr>\n",
       "      <th>5</th>\n",
       "      <td>0.404295</td>\n",
       "      <td>0.059218</td>\n",
       "      <td>0.000000</td>\n",
       "      <td>0.000000</td>\n",
       "      <td>0.000000</td>\n",
       "      <td>0.0</td>\n",
       "      <td>0.404295</td>\n",
       "    </tr>\n",
       "    <tr>\n",
       "      <th>6</th>\n",
       "      <td>0.283781</td>\n",
       "      <td>0.490543</td>\n",
       "      <td>0.000000</td>\n",
       "      <td>0.352689</td>\n",
       "      <td>0.000000</td>\n",
       "      <td>0.0</td>\n",
       "      <td>0.283781</td>\n",
       "    </tr>\n",
       "    <tr>\n",
       "      <th>7</th>\n",
       "      <td>0.000000</td>\n",
       "      <td>0.199789</td>\n",
       "      <td>0.241488</td>\n",
       "      <td>0.120836</td>\n",
       "      <td>0.469298</td>\n",
       "      <td>0.0</td>\n",
       "      <td>0.000000</td>\n",
       "    </tr>\n",
       "    <tr>\n",
       "      <th>8</th>\n",
       "      <td>0.293476</td>\n",
       "      <td>0.000000</td>\n",
       "      <td>0.068253</td>\n",
       "      <td>0.337998</td>\n",
       "      <td>0.000000</td>\n",
       "      <td>0.0</td>\n",
       "      <td>0.293476</td>\n",
       "    </tr>\n",
       "    <tr>\n",
       "      <th>9</th>\n",
       "      <td>0.251640</td>\n",
       "      <td>0.000000</td>\n",
       "      <td>0.327457</td>\n",
       "      <td>0.030349</td>\n",
       "      <td>0.306058</td>\n",
       "      <td>0.0</td>\n",
       "      <td>0.251640</td>\n",
       "    </tr>\n",
       "  </tbody>\n",
       "</table>\n",
       "</div>"
      ],
      "text/plain": [
       "          a         b         c         d         e    f         a\n",
       "0  0.301234  0.262496  0.143565  0.000000  0.000000  0.0  0.301234\n",
       "1  0.437400  0.000000  0.283143  0.000000  0.487656  0.0  0.437400\n",
       "2  0.000000  0.366192  0.274097  0.000000  0.497846  0.0  0.000000\n",
       "3  0.000000  0.000000  0.000000  0.261751  0.038147  0.0  0.000000\n",
       "4  0.194965  0.296101  0.000000  0.221390  0.000000  0.0  0.194965\n",
       "5  0.404295  0.059218  0.000000  0.000000  0.000000  0.0  0.404295\n",
       "6  0.283781  0.490543  0.000000  0.352689  0.000000  0.0  0.283781\n",
       "7  0.000000  0.199789  0.241488  0.120836  0.469298  0.0  0.000000\n",
       "8  0.293476  0.000000  0.068253  0.337998  0.000000  0.0  0.293476\n",
       "9  0.251640  0.000000  0.327457  0.030349  0.306058  0.0  0.251640"
      ]
     },
     "execution_count": 110,
     "metadata": {},
     "output_type": "execute_result"
    }
   ],
   "source": [
    "s4"
   ]
  },
  {
   "cell_type": "code",
   "execution_count": 111,
   "metadata": {
    "collapsed": true
   },
   "outputs": [],
   "source": [
    "s4=DataFrame(np.array(\n",
    "[\n",
    "    [1,np.NaN,2,3,4],\n",
    "    [1,2,3,4,np.NaN]\n",
    "]))"
   ]
  },
  {
   "cell_type": "code",
   "execution_count": 112,
   "metadata": {},
   "outputs": [
    {
     "data": {
      "text/html": [
       "<div>\n",
       "<style>\n",
       "    .dataframe thead tr:only-child th {\n",
       "        text-align: right;\n",
       "    }\n",
       "\n",
       "    .dataframe thead th {\n",
       "        text-align: left;\n",
       "    }\n",
       "\n",
       "    .dataframe tbody tr th {\n",
       "        vertical-align: top;\n",
       "    }\n",
       "</style>\n",
       "<table border=\"1\" class=\"dataframe\">\n",
       "  <thead>\n",
       "    <tr style=\"text-align: right;\">\n",
       "      <th></th>\n",
       "      <th>0</th>\n",
       "      <th>1</th>\n",
       "      <th>2</th>\n",
       "      <th>3</th>\n",
       "      <th>4</th>\n",
       "    </tr>\n",
       "  </thead>\n",
       "  <tbody>\n",
       "    <tr>\n",
       "      <th>0</th>\n",
       "      <td>1.0</td>\n",
       "      <td>NaN</td>\n",
       "      <td>2.0</td>\n",
       "      <td>3.0</td>\n",
       "      <td>4.0</td>\n",
       "    </tr>\n",
       "    <tr>\n",
       "      <th>1</th>\n",
       "      <td>1.0</td>\n",
       "      <td>2.0</td>\n",
       "      <td>3.0</td>\n",
       "      <td>4.0</td>\n",
       "      <td>NaN</td>\n",
       "    </tr>\n",
       "  </tbody>\n",
       "</table>\n",
       "</div>"
      ],
      "text/plain": [
       "     0    1    2    3    4\n",
       "0  1.0  NaN  2.0  3.0  4.0\n",
       "1  1.0  2.0  3.0  4.0  NaN"
      ]
     },
     "execution_count": 112,
     "metadata": {},
     "output_type": "execute_result"
    }
   ],
   "source": [
    "s4"
   ]
  },
  {
   "cell_type": "code",
   "execution_count": 113,
   "metadata": {},
   "outputs": [
    {
     "name": "stderr",
     "output_type": "stream",
     "text": [
      "C:\\Users\\syph\\Anaconda2\\lib\\site-packages\\ipykernel_launcher.py:1: DeprecationWarning: \n",
      ".ix is deprecated. Please use\n",
      ".loc for label based indexing or\n",
      ".iloc for positional indexing\n",
      "\n",
      "See the documentation here:\n",
      "http://pandas.pydata.org/pandas-docs/stable/indexing.html#ix-indexer-is-deprecated\n",
      "  \"\"\"Entry point for launching an IPython kernel.\n"
     ]
    },
    {
     "data": {
      "text/plain": [
       "0    1.0\n",
       "1    2.0\n",
       "2    3.0\n",
       "3    4.0\n",
       "4    NaN\n",
       "Name: 1, dtype: float64"
      ]
     },
     "execution_count": 113,
     "metadata": {},
     "output_type": "execute_result"
    }
   ],
   "source": [
    "s4.ix[1]"
   ]
  },
  {
   "cell_type": "code",
   "execution_count": 114,
   "metadata": {
    "collapsed": true
   },
   "outputs": [],
   "source": [
    "s4.ix[2]=[1,2,3,4,5]"
   ]
  },
  {
   "cell_type": "code",
   "execution_count": 115,
   "metadata": {},
   "outputs": [
    {
     "data": {
      "text/html": [
       "<div>\n",
       "<style>\n",
       "    .dataframe thead tr:only-child th {\n",
       "        text-align: right;\n",
       "    }\n",
       "\n",
       "    .dataframe thead th {\n",
       "        text-align: left;\n",
       "    }\n",
       "\n",
       "    .dataframe tbody tr th {\n",
       "        vertical-align: top;\n",
       "    }\n",
       "</style>\n",
       "<table border=\"1\" class=\"dataframe\">\n",
       "  <thead>\n",
       "    <tr style=\"text-align: right;\">\n",
       "      <th></th>\n",
       "      <th>0</th>\n",
       "      <th>1</th>\n",
       "      <th>2</th>\n",
       "      <th>3</th>\n",
       "      <th>4</th>\n",
       "    </tr>\n",
       "  </thead>\n",
       "  <tbody>\n",
       "    <tr>\n",
       "      <th>0</th>\n",
       "      <td>1.0</td>\n",
       "      <td>NaN</td>\n",
       "      <td>2.0</td>\n",
       "      <td>3.0</td>\n",
       "      <td>4.0</td>\n",
       "    </tr>\n",
       "    <tr>\n",
       "      <th>1</th>\n",
       "      <td>1.0</td>\n",
       "      <td>2.0</td>\n",
       "      <td>3.0</td>\n",
       "      <td>4.0</td>\n",
       "      <td>NaN</td>\n",
       "    </tr>\n",
       "    <tr>\n",
       "      <th>2</th>\n",
       "      <td>1.0</td>\n",
       "      <td>2.0</td>\n",
       "      <td>3.0</td>\n",
       "      <td>4.0</td>\n",
       "      <td>5.0</td>\n",
       "    </tr>\n",
       "  </tbody>\n",
       "</table>\n",
       "</div>"
      ],
      "text/plain": [
       "     0    1    2    3    4\n",
       "0  1.0  NaN  2.0  3.0  4.0\n",
       "1  1.0  2.0  3.0  4.0  NaN\n",
       "2  1.0  2.0  3.0  4.0  5.0"
      ]
     },
     "execution_count": 115,
     "metadata": {},
     "output_type": "execute_result"
    }
   ],
   "source": [
    "s4"
   ]
  },
  {
   "cell_type": "markdown",
   "metadata": {},
   "source": [
    "#### 去除包含缺失值的行"
   ]
  },
  {
   "cell_type": "code",
   "execution_count": 116,
   "metadata": {},
   "outputs": [
    {
     "data": {
      "text/plain": [
       "<bound method DataFrame.dropna of      0    1    2    3    4\n",
       "0  1.0  NaN  2.0  3.0  4.0\n",
       "1  1.0  2.0  3.0  4.0  NaN\n",
       "2  1.0  2.0  3.0  4.0  5.0>"
      ]
     },
     "execution_count": 116,
     "metadata": {},
     "output_type": "execute_result"
    }
   ],
   "source": [
    "s4.dropna"
   ]
  },
  {
   "cell_type": "markdown",
   "metadata": {},
   "source": [
    "#### 对缺失值的替换"
   ]
  },
  {
   "cell_type": "code",
   "execution_count": 117,
   "metadata": {},
   "outputs": [
    {
     "data": {
      "text/html": [
       "<div>\n",
       "<style>\n",
       "    .dataframe thead tr:only-child th {\n",
       "        text-align: right;\n",
       "    }\n",
       "\n",
       "    .dataframe thead th {\n",
       "        text-align: left;\n",
       "    }\n",
       "\n",
       "    .dataframe tbody tr th {\n",
       "        vertical-align: top;\n",
       "    }\n",
       "</style>\n",
       "<table border=\"1\" class=\"dataframe\">\n",
       "  <thead>\n",
       "    <tr style=\"text-align: right;\">\n",
       "      <th></th>\n",
       "      <th>0</th>\n",
       "      <th>1</th>\n",
       "      <th>2</th>\n",
       "      <th>3</th>\n",
       "      <th>4</th>\n",
       "    </tr>\n",
       "  </thead>\n",
       "  <tbody>\n",
       "    <tr>\n",
       "      <th>0</th>\n",
       "      <td>1.0</td>\n",
       "      <td>NaN</td>\n",
       "      <td>2.0</td>\n",
       "      <td>3.0</td>\n",
       "      <td>4.0</td>\n",
       "    </tr>\n",
       "    <tr>\n",
       "      <th>1</th>\n",
       "      <td>1.0</td>\n",
       "      <td>2.0</td>\n",
       "      <td>3.0</td>\n",
       "      <td>4.0</td>\n",
       "      <td>NaN</td>\n",
       "    </tr>\n",
       "    <tr>\n",
       "      <th>2</th>\n",
       "      <td>1.0</td>\n",
       "      <td>2.0</td>\n",
       "      <td>3.0</td>\n",
       "      <td>4.0</td>\n",
       "      <td>5.0</td>\n",
       "    </tr>\n",
       "  </tbody>\n",
       "</table>\n",
       "</div>"
      ],
      "text/plain": [
       "     0    1    2    3    4\n",
       "0  1.0  NaN  2.0  3.0  4.0\n",
       "1  1.0  2.0  3.0  4.0  NaN\n",
       "2  1.0  2.0  3.0  4.0  5.0"
      ]
     },
     "execution_count": 117,
     "metadata": {},
     "output_type": "execute_result"
    }
   ],
   "source": [
    "s4"
   ]
  },
  {
   "cell_type": "code",
   "execution_count": 118,
   "metadata": {},
   "outputs": [
    {
     "data": {
      "text/html": [
       "<div>\n",
       "<style>\n",
       "    .dataframe thead tr:only-child th {\n",
       "        text-align: right;\n",
       "    }\n",
       "\n",
       "    .dataframe thead th {\n",
       "        text-align: left;\n",
       "    }\n",
       "\n",
       "    .dataframe tbody tr th {\n",
       "        vertical-align: top;\n",
       "    }\n",
       "</style>\n",
       "<table border=\"1\" class=\"dataframe\">\n",
       "  <thead>\n",
       "    <tr style=\"text-align: right;\">\n",
       "      <th></th>\n",
       "      <th>0</th>\n",
       "      <th>1</th>\n",
       "      <th>2</th>\n",
       "      <th>3</th>\n",
       "      <th>4</th>\n",
       "    </tr>\n",
       "  </thead>\n",
       "  <tbody>\n",
       "    <tr>\n",
       "      <th>0</th>\n",
       "      <td>1.0</td>\n",
       "      <td>0.0</td>\n",
       "      <td>2.0</td>\n",
       "      <td>3.0</td>\n",
       "      <td>4.0</td>\n",
       "    </tr>\n",
       "    <tr>\n",
       "      <th>1</th>\n",
       "      <td>1.0</td>\n",
       "      <td>2.0</td>\n",
       "      <td>3.0</td>\n",
       "      <td>4.0</td>\n",
       "      <td>0.0</td>\n",
       "    </tr>\n",
       "    <tr>\n",
       "      <th>2</th>\n",
       "      <td>1.0</td>\n",
       "      <td>2.0</td>\n",
       "      <td>3.0</td>\n",
       "      <td>4.0</td>\n",
       "      <td>5.0</td>\n",
       "    </tr>\n",
       "  </tbody>\n",
       "</table>\n",
       "</div>"
      ],
      "text/plain": [
       "     0    1    2    3    4\n",
       "0  1.0  0.0  2.0  3.0  4.0\n",
       "1  1.0  2.0  3.0  4.0  0.0\n",
       "2  1.0  2.0  3.0  4.0  5.0"
      ]
     },
     "execution_count": 118,
     "metadata": {},
     "output_type": "execute_result"
    }
   ],
   "source": [
    "s4.fillna(value=0)"
   ]
  },
  {
   "cell_type": "code",
   "execution_count": 119,
   "metadata": {
    "collapsed": true
   },
   "outputs": [],
   "source": [
    "s5=DataFrame(np.array(\n",
    "[\n",
    "    [1,np.NaN,2,3,4],\n",
    "    [1,2,3,4,np.NaN],\n",
    "    [1,2,3,5,6]\n",
    "]))"
   ]
  },
  {
   "cell_type": "markdown",
   "metadata": {},
   "source": [
    "### 对数据进行布尔填充，空值的判断"
   ]
  },
  {
   "cell_type": "code",
   "execution_count": 120,
   "metadata": {},
   "outputs": [
    {
     "data": {
      "text/html": [
       "<div>\n",
       "<style>\n",
       "    .dataframe thead tr:only-child th {\n",
       "        text-align: right;\n",
       "    }\n",
       "\n",
       "    .dataframe thead th {\n",
       "        text-align: left;\n",
       "    }\n",
       "\n",
       "    .dataframe tbody tr th {\n",
       "        vertical-align: top;\n",
       "    }\n",
       "</style>\n",
       "<table border=\"1\" class=\"dataframe\">\n",
       "  <thead>\n",
       "    <tr style=\"text-align: right;\">\n",
       "      <th></th>\n",
       "      <th>0</th>\n",
       "      <th>1</th>\n",
       "      <th>2</th>\n",
       "      <th>3</th>\n",
       "      <th>4</th>\n",
       "    </tr>\n",
       "  </thead>\n",
       "  <tbody>\n",
       "    <tr>\n",
       "      <th>0</th>\n",
       "      <td>False</td>\n",
       "      <td>True</td>\n",
       "      <td>False</td>\n",
       "      <td>False</td>\n",
       "      <td>False</td>\n",
       "    </tr>\n",
       "    <tr>\n",
       "      <th>1</th>\n",
       "      <td>False</td>\n",
       "      <td>False</td>\n",
       "      <td>False</td>\n",
       "      <td>False</td>\n",
       "      <td>True</td>\n",
       "    </tr>\n",
       "    <tr>\n",
       "      <th>2</th>\n",
       "      <td>False</td>\n",
       "      <td>False</td>\n",
       "      <td>False</td>\n",
       "      <td>False</td>\n",
       "      <td>False</td>\n",
       "    </tr>\n",
       "  </tbody>\n",
       "</table>\n",
       "</div>"
      ],
      "text/plain": [
       "       0      1      2      3      4\n",
       "0  False   True  False  False  False\n",
       "1  False  False  False  False   True\n",
       "2  False  False  False  False  False"
      ]
     },
     "execution_count": 120,
     "metadata": {},
     "output_type": "execute_result"
    }
   ],
   "source": [
    "pd.isnull(s5)"
   ]
  },
  {
   "cell_type": "markdown",
   "metadata": {},
   "source": [
    "### 其他操作"
   ]
  },
  {
   "cell_type": "markdown",
   "metadata": {},
   "source": [
    "#### 数据描述性统计"
   ]
  },
  {
   "cell_type": "code",
   "execution_count": 121,
   "metadata": {},
   "outputs": [
    {
     "data": {
      "text/plain": [
       "2     0.189689\n",
       "3     0.049983\n",
       "7     0.171902\n",
       "10    0.110113\n",
       "11    0.079475\n",
       "12    0.127756\n",
       "14    0.079785\n",
       "15    0.038858\n",
       "16    0.075314\n",
       "17    0.000000\n",
       "18    0.076407\n",
       "19    0.065659\n",
       "dtype: float64"
      ]
     },
     "execution_count": 121,
     "metadata": {},
     "output_type": "execute_result"
    }
   ],
   "source": [
    "s3.mean(1)   #对固定的轴进行统计操作"
   ]
  },
  {
   "cell_type": "code",
   "execution_count": 122,
   "metadata": {},
   "outputs": [
    {
     "data": {
      "text/html": [
       "<div>\n",
       "<style>\n",
       "    .dataframe thead tr:only-child th {\n",
       "        text-align: right;\n",
       "    }\n",
       "\n",
       "    .dataframe thead th {\n",
       "        text-align: left;\n",
       "    }\n",
       "\n",
       "    .dataframe tbody tr th {\n",
       "        vertical-align: top;\n",
       "    }\n",
       "</style>\n",
       "<table border=\"1\" class=\"dataframe\">\n",
       "  <thead>\n",
       "    <tr style=\"text-align: right;\">\n",
       "      <th></th>\n",
       "      <th>a</th>\n",
       "      <th>b</th>\n",
       "      <th>c</th>\n",
       "      <th>d</th>\n",
       "      <th>e</th>\n",
       "      <th>f</th>\n",
       "    </tr>\n",
       "  </thead>\n",
       "  <tbody>\n",
       "    <tr>\n",
       "      <th>2</th>\n",
       "      <td>0.000000</td>\n",
       "      <td>0.366192</td>\n",
       "      <td>0.274097</td>\n",
       "      <td>0.000000</td>\n",
       "      <td>0.497846</td>\n",
       "      <td>0.0</td>\n",
       "    </tr>\n",
       "    <tr>\n",
       "      <th>3</th>\n",
       "      <td>0.000000</td>\n",
       "      <td>0.000000</td>\n",
       "      <td>0.000000</td>\n",
       "      <td>0.261751</td>\n",
       "      <td>0.038147</td>\n",
       "      <td>0.0</td>\n",
       "    </tr>\n",
       "    <tr>\n",
       "      <th>7</th>\n",
       "      <td>0.000000</td>\n",
       "      <td>0.199789</td>\n",
       "      <td>0.241488</td>\n",
       "      <td>0.120836</td>\n",
       "      <td>0.469298</td>\n",
       "      <td>0.0</td>\n",
       "    </tr>\n",
       "    <tr>\n",
       "      <th>10</th>\n",
       "      <td>0.000000</td>\n",
       "      <td>0.164523</td>\n",
       "      <td>0.000000</td>\n",
       "      <td>0.000000</td>\n",
       "      <td>0.496157</td>\n",
       "      <td>0.0</td>\n",
       "    </tr>\n",
       "    <tr>\n",
       "      <th>11</th>\n",
       "      <td>0.000000</td>\n",
       "      <td>0.071960</td>\n",
       "      <td>0.040719</td>\n",
       "      <td>0.178836</td>\n",
       "      <td>0.185332</td>\n",
       "      <td>0.0</td>\n",
       "    </tr>\n",
       "    <tr>\n",
       "      <th>12</th>\n",
       "      <td>0.022366</td>\n",
       "      <td>0.000000</td>\n",
       "      <td>0.456848</td>\n",
       "      <td>0.000000</td>\n",
       "      <td>0.287322</td>\n",
       "      <td>0.0</td>\n",
       "    </tr>\n",
       "    <tr>\n",
       "      <th>14</th>\n",
       "      <td>0.000000</td>\n",
       "      <td>0.250676</td>\n",
       "      <td>0.000000</td>\n",
       "      <td>0.000000</td>\n",
       "      <td>0.228036</td>\n",
       "      <td>0.0</td>\n",
       "    </tr>\n",
       "    <tr>\n",
       "      <th>15</th>\n",
       "      <td>0.000000</td>\n",
       "      <td>0.000000</td>\n",
       "      <td>0.233149</td>\n",
       "      <td>0.000000</td>\n",
       "      <td>0.000000</td>\n",
       "      <td>0.0</td>\n",
       "    </tr>\n",
       "    <tr>\n",
       "      <th>16</th>\n",
       "      <td>0.000000</td>\n",
       "      <td>0.000000</td>\n",
       "      <td>0.364026</td>\n",
       "      <td>0.000000</td>\n",
       "      <td>0.087856</td>\n",
       "      <td>0.0</td>\n",
       "    </tr>\n",
       "    <tr>\n",
       "      <th>17</th>\n",
       "      <td>0.000000</td>\n",
       "      <td>0.000000</td>\n",
       "      <td>0.000000</td>\n",
       "      <td>0.000000</td>\n",
       "      <td>0.000000</td>\n",
       "      <td>0.0</td>\n",
       "    </tr>\n",
       "    <tr>\n",
       "      <th>18</th>\n",
       "      <td>0.000000</td>\n",
       "      <td>0.000000</td>\n",
       "      <td>0.000000</td>\n",
       "      <td>0.458441</td>\n",
       "      <td>0.000000</td>\n",
       "      <td>0.0</td>\n",
       "    </tr>\n",
       "    <tr>\n",
       "      <th>19</th>\n",
       "      <td>0.000000</td>\n",
       "      <td>0.000000</td>\n",
       "      <td>0.393954</td>\n",
       "      <td>0.000000</td>\n",
       "      <td>0.000000</td>\n",
       "      <td>0.0</td>\n",
       "    </tr>\n",
       "  </tbody>\n",
       "</table>\n",
       "</div>"
      ],
      "text/plain": [
       "           a         b         c         d         e    f\n",
       "2   0.000000  0.366192  0.274097  0.000000  0.497846  0.0\n",
       "3   0.000000  0.000000  0.000000  0.261751  0.038147  0.0\n",
       "7   0.000000  0.199789  0.241488  0.120836  0.469298  0.0\n",
       "10  0.000000  0.164523  0.000000  0.000000  0.496157  0.0\n",
       "11  0.000000  0.071960  0.040719  0.178836  0.185332  0.0\n",
       "12  0.022366  0.000000  0.456848  0.000000  0.287322  0.0\n",
       "14  0.000000  0.250676  0.000000  0.000000  0.228036  0.0\n",
       "15  0.000000  0.000000  0.233149  0.000000  0.000000  0.0\n",
       "16  0.000000  0.000000  0.364026  0.000000  0.087856  0.0\n",
       "17  0.000000  0.000000  0.000000  0.000000  0.000000  0.0\n",
       "18  0.000000  0.000000  0.000000  0.458441  0.000000  0.0\n",
       "19  0.000000  0.000000  0.393954  0.000000  0.000000  0.0"
      ]
     },
     "execution_count": 122,
     "metadata": {},
     "output_type": "execute_result"
    }
   ],
   "source": [
    "s3"
   ]
  },
  {
   "cell_type": "code",
   "execution_count": 123,
   "metadata": {},
   "outputs": [
    {
     "data": {
      "text/html": [
       "<div>\n",
       "<style>\n",
       "    .dataframe thead tr:only-child th {\n",
       "        text-align: right;\n",
       "    }\n",
       "\n",
       "    .dataframe thead th {\n",
       "        text-align: left;\n",
       "    }\n",
       "\n",
       "    .dataframe tbody tr th {\n",
       "        vertical-align: top;\n",
       "    }\n",
       "</style>\n",
       "<table border=\"1\" class=\"dataframe\">\n",
       "  <thead>\n",
       "    <tr style=\"text-align: right;\">\n",
       "      <th></th>\n",
       "      <th>a</th>\n",
       "      <th>b</th>\n",
       "      <th>c</th>\n",
       "      <th>d</th>\n",
       "      <th>e</th>\n",
       "      <th>f</th>\n",
       "    </tr>\n",
       "  </thead>\n",
       "  <tbody>\n",
       "    <tr>\n",
       "      <th>count</th>\n",
       "      <td>12.000000</td>\n",
       "      <td>12.000000</td>\n",
       "      <td>12.000000</td>\n",
       "      <td>12.000000</td>\n",
       "      <td>12.000000</td>\n",
       "      <td>12.0</td>\n",
       "    </tr>\n",
       "    <tr>\n",
       "      <th>mean</th>\n",
       "      <td>0.001864</td>\n",
       "      <td>0.087762</td>\n",
       "      <td>0.167023</td>\n",
       "      <td>0.084989</td>\n",
       "      <td>0.190833</td>\n",
       "      <td>0.0</td>\n",
       "    </tr>\n",
       "    <tr>\n",
       "      <th>std</th>\n",
       "      <td>0.006457</td>\n",
       "      <td>0.126732</td>\n",
       "      <td>0.178663</td>\n",
       "      <td>0.147275</td>\n",
       "      <td>0.203455</td>\n",
       "      <td>0.0</td>\n",
       "    </tr>\n",
       "    <tr>\n",
       "      <th>min</th>\n",
       "      <td>0.000000</td>\n",
       "      <td>0.000000</td>\n",
       "      <td>0.000000</td>\n",
       "      <td>0.000000</td>\n",
       "      <td>0.000000</td>\n",
       "      <td>0.0</td>\n",
       "    </tr>\n",
       "    <tr>\n",
       "      <th>25%</th>\n",
       "      <td>0.000000</td>\n",
       "      <td>0.000000</td>\n",
       "      <td>0.000000</td>\n",
       "      <td>0.000000</td>\n",
       "      <td>0.000000</td>\n",
       "      <td>0.0</td>\n",
       "    </tr>\n",
       "    <tr>\n",
       "      <th>50%</th>\n",
       "      <td>0.000000</td>\n",
       "      <td>0.000000</td>\n",
       "      <td>0.136934</td>\n",
       "      <td>0.000000</td>\n",
       "      <td>0.136594</td>\n",
       "      <td>0.0</td>\n",
       "    </tr>\n",
       "    <tr>\n",
       "      <th>75%</th>\n",
       "      <td>0.000000</td>\n",
       "      <td>0.173339</td>\n",
       "      <td>0.296579</td>\n",
       "      <td>0.135336</td>\n",
       "      <td>0.332816</td>\n",
       "      <td>0.0</td>\n",
       "    </tr>\n",
       "    <tr>\n",
       "      <th>max</th>\n",
       "      <td>0.022366</td>\n",
       "      <td>0.366192</td>\n",
       "      <td>0.456848</td>\n",
       "      <td>0.458441</td>\n",
       "      <td>0.497846</td>\n",
       "      <td>0.0</td>\n",
       "    </tr>\n",
       "  </tbody>\n",
       "</table>\n",
       "</div>"
      ],
      "text/plain": [
       "               a          b          c          d          e     f\n",
       "count  12.000000  12.000000  12.000000  12.000000  12.000000  12.0\n",
       "mean    0.001864   0.087762   0.167023   0.084989   0.190833   0.0\n",
       "std     0.006457   0.126732   0.178663   0.147275   0.203455   0.0\n",
       "min     0.000000   0.000000   0.000000   0.000000   0.000000   0.0\n",
       "25%     0.000000   0.000000   0.000000   0.000000   0.000000   0.0\n",
       "50%     0.000000   0.000000   0.136934   0.000000   0.136594   0.0\n",
       "75%     0.000000   0.173339   0.296579   0.135336   0.332816   0.0\n",
       "max     0.022366   0.366192   0.456848   0.458441   0.497846   0.0"
      ]
     },
     "execution_count": 123,
     "metadata": {},
     "output_type": "execute_result"
    }
   ],
   "source": [
    "s3.describe()"
   ]
  },
  {
   "cell_type": "code",
   "execution_count": 124,
   "metadata": {},
   "outputs": [
    {
     "name": "stdout",
     "output_type": "stream",
     "text": [
      "Help on method mean in module pandas.core.generic:\n",
      "\n",
      "mean(self, axis=None, skipna=None, level=None, numeric_only=None, **kwargs) method of pandas.core.frame.DataFrame instance\n",
      "    Return the mean of the values for the requested axis\n",
      "    \n",
      "    Parameters\n",
      "    ----------\n",
      "    axis : {index (0), columns (1)}\n",
      "    skipna : boolean, default True\n",
      "        Exclude NA/null values. If an entire row/column is NA, the result\n",
      "        will be NA\n",
      "    level : int or level name, default None\n",
      "        If the axis is a MultiIndex (hierarchical), count along a\n",
      "        particular level, collapsing into a Series\n",
      "    numeric_only : boolean, default None\n",
      "        Include only float, int, boolean columns. If None, will attempt to use\n",
      "        everything, then use only numeric data. Not implemented for Series.\n",
      "    \n",
      "    Returns\n",
      "    -------\n",
      "    mean : Series or DataFrame (if level specified)\n",
      "\n"
     ]
    }
   ],
   "source": [
    "help(s3.mean)"
   ]
  },
  {
   "cell_type": "code",
   "execution_count": 125,
   "metadata": {},
   "outputs": [
    {
     "data": {
      "text/html": [
       "<div>\n",
       "<style>\n",
       "    .dataframe thead tr:only-child th {\n",
       "        text-align: right;\n",
       "    }\n",
       "\n",
       "    .dataframe thead th {\n",
       "        text-align: left;\n",
       "    }\n",
       "\n",
       "    .dataframe tbody tr th {\n",
       "        vertical-align: top;\n",
       "    }\n",
       "</style>\n",
       "<table border=\"1\" class=\"dataframe\">\n",
       "  <thead>\n",
       "    <tr style=\"text-align: right;\">\n",
       "      <th></th>\n",
       "      <th>0</th>\n",
       "      <th>1</th>\n",
       "      <th>2</th>\n",
       "      <th>3</th>\n",
       "      <th>4</th>\n",
       "    </tr>\n",
       "  </thead>\n",
       "  <tbody>\n",
       "    <tr>\n",
       "      <th>0</th>\n",
       "      <td>1.0</td>\n",
       "      <td>NaN</td>\n",
       "      <td>2.0</td>\n",
       "      <td>3.0</td>\n",
       "      <td>4.0</td>\n",
       "    </tr>\n",
       "    <tr>\n",
       "      <th>1</th>\n",
       "      <td>2.0</td>\n",
       "      <td>2.0</td>\n",
       "      <td>5.0</td>\n",
       "      <td>7.0</td>\n",
       "      <td>NaN</td>\n",
       "    </tr>\n",
       "    <tr>\n",
       "      <th>2</th>\n",
       "      <td>3.0</td>\n",
       "      <td>4.0</td>\n",
       "      <td>8.0</td>\n",
       "      <td>11.0</td>\n",
       "      <td>9.0</td>\n",
       "    </tr>\n",
       "  </tbody>\n",
       "</table>\n",
       "</div>"
      ],
      "text/plain": [
       "     0    1    2     3    4\n",
       "0  1.0  NaN  2.0   3.0  4.0\n",
       "1  2.0  2.0  5.0   7.0  NaN\n",
       "2  3.0  4.0  8.0  11.0  9.0"
      ]
     },
     "execution_count": 125,
     "metadata": {},
     "output_type": "execute_result"
    }
   ],
   "source": [
    "s4.apply(np.cumsum)"
   ]
  },
  {
   "cell_type": "code",
   "execution_count": 126,
   "metadata": {},
   "outputs": [
    {
     "data": {
      "text/html": [
       "<div>\n",
       "<style>\n",
       "    .dataframe thead tr:only-child th {\n",
       "        text-align: right;\n",
       "    }\n",
       "\n",
       "    .dataframe thead th {\n",
       "        text-align: left;\n",
       "    }\n",
       "\n",
       "    .dataframe tbody tr th {\n",
       "        vertical-align: top;\n",
       "    }\n",
       "</style>\n",
       "<table border=\"1\" class=\"dataframe\">\n",
       "  <thead>\n",
       "    <tr style=\"text-align: right;\">\n",
       "      <th></th>\n",
       "      <th>0</th>\n",
       "      <th>1</th>\n",
       "      <th>2</th>\n",
       "      <th>3</th>\n",
       "      <th>4</th>\n",
       "    </tr>\n",
       "  </thead>\n",
       "  <tbody>\n",
       "    <tr>\n",
       "      <th>0</th>\n",
       "      <td>1.0</td>\n",
       "      <td>NaN</td>\n",
       "      <td>2.0</td>\n",
       "      <td>3.0</td>\n",
       "      <td>4.0</td>\n",
       "    </tr>\n",
       "    <tr>\n",
       "      <th>1</th>\n",
       "      <td>1.0</td>\n",
       "      <td>2.0</td>\n",
       "      <td>3.0</td>\n",
       "      <td>4.0</td>\n",
       "      <td>NaN</td>\n",
       "    </tr>\n",
       "    <tr>\n",
       "      <th>2</th>\n",
       "      <td>1.0</td>\n",
       "      <td>2.0</td>\n",
       "      <td>3.0</td>\n",
       "      <td>4.0</td>\n",
       "      <td>5.0</td>\n",
       "    </tr>\n",
       "  </tbody>\n",
       "</table>\n",
       "</div>"
      ],
      "text/plain": [
       "     0    1    2    3    4\n",
       "0  1.0  NaN  2.0  3.0  4.0\n",
       "1  1.0  2.0  3.0  4.0  NaN\n",
       "2  1.0  2.0  3.0  4.0  5.0"
      ]
     },
     "execution_count": 126,
     "metadata": {},
     "output_type": "execute_result"
    }
   ],
   "source": [
    "s4"
   ]
  },
  {
   "cell_type": "code",
   "execution_count": 127,
   "metadata": {},
   "outputs": [
    {
     "data": {
      "text/plain": [
       "0    0.0\n",
       "1    0.0\n",
       "2    1.0\n",
       "3    1.0\n",
       "4    1.0\n",
       "dtype: float64"
      ]
     },
     "execution_count": 127,
     "metadata": {},
     "output_type": "execute_result"
    }
   ],
   "source": [
    "s4.apply(lambda x:x.max()-x.min())    #列上的最大值减最小值"
   ]
  },
  {
   "cell_type": "code",
   "execution_count": 128,
   "metadata": {},
   "outputs": [
    {
     "name": "stdout",
     "output_type": "stream",
     "text": [
      "Help on function cumsum in module numpy.core.fromnumeric:\n",
      "\n",
      "cumsum(a, axis=None, dtype=None, out=None)\n",
      "    Return the cumulative sum of the elements along a given axis.\n",
      "    \n",
      "    Parameters\n",
      "    ----------\n",
      "    a : array_like\n",
      "        Input array.\n",
      "    axis : int, optional\n",
      "        Axis along which the cumulative sum is computed. The default\n",
      "        (None) is to compute the cumsum over the flattened array.\n",
      "    dtype : dtype, optional\n",
      "        Type of the returned array and of the accumulator in which the\n",
      "        elements are summed.  If `dtype` is not specified, it defaults\n",
      "        to the dtype of `a`, unless `a` has an integer dtype with a\n",
      "        precision less than that of the default platform integer.  In\n",
      "        that case, the default platform integer is used.\n",
      "    out : ndarray, optional\n",
      "        Alternative output array in which to place the result. It must\n",
      "        have the same shape and buffer length as the expected output\n",
      "        but the type will be cast if necessary. See `doc.ufuncs`\n",
      "        (Section \"Output arguments\") for more details.\n",
      "    \n",
      "    Returns\n",
      "    -------\n",
      "    cumsum_along_axis : ndarray.\n",
      "        A new array holding the result is returned unless `out` is\n",
      "        specified, in which case a reference to `out` is returned. The\n",
      "        result has the same size as `a`, and the same shape as `a` if\n",
      "        `axis` is not None or `a` is a 1-d array.\n",
      "    \n",
      "    \n",
      "    See Also\n",
      "    --------\n",
      "    sum : Sum array elements.\n",
      "    \n",
      "    trapz : Integration of array values using the composite trapezoidal rule.\n",
      "    \n",
      "    diff :  Calculate the n-th discrete difference along given axis.\n",
      "    \n",
      "    Notes\n",
      "    -----\n",
      "    Arithmetic is modular when using integer types, and no error is\n",
      "    raised on overflow.\n",
      "    \n",
      "    Examples\n",
      "    --------\n",
      "    >>> a = np.array([[1,2,3], [4,5,6]])\n",
      "    >>> a\n",
      "    array([[1, 2, 3],\n",
      "           [4, 5, 6]])\n",
      "    >>> np.cumsum(a)\n",
      "    array([ 1,  3,  6, 10, 15, 21])\n",
      "    >>> np.cumsum(a, dtype=float)     # specifies type of output value(s)\n",
      "    array([  1.,   3.,   6.,  10.,  15.,  21.])\n",
      "    \n",
      "    >>> np.cumsum(a,axis=0)      # sum over rows for each of the 3 columns\n",
      "    array([[1, 2, 3],\n",
      "           [5, 7, 9]])\n",
      "    >>> np.cumsum(a,axis=1)      # sum over columns for each of the 2 rows\n",
      "    array([[ 1,  3,  6],\n",
      "           [ 4,  9, 15]])\n",
      "\n"
     ]
    }
   ],
   "source": [
    "help(np.cumsum)"
   ]
  },
  {
   "cell_type": "markdown",
   "metadata": {},
   "source": [
    "## 制图"
   ]
  },
  {
   "cell_type": "markdown",
   "metadata": {},
   "source": [
    "### 直方图"
   ]
  },
  {
   "cell_type": "code",
   "execution_count": 129,
   "metadata": {},
   "outputs": [],
   "source": [
    "n1=np.random.randint(0,7,size=10)"
   ]
  },
  {
   "cell_type": "code",
   "execution_count": 130,
   "metadata": {},
   "outputs": [
    {
     "data": {
      "text/plain": [
       "array([3, 5, 3, 2, 3, 6, 5, 1, 5, 2])"
      ]
     },
     "execution_count": 130,
     "metadata": {},
     "output_type": "execute_result"
    }
   ],
   "source": [
    "n1"
   ]
  },
  {
   "cell_type": "code",
   "execution_count": 131,
   "metadata": {
    "collapsed": true
   },
   "outputs": [],
   "source": [
    "s1=pd.Series(n1)"
   ]
  },
  {
   "cell_type": "code",
   "execution_count": 132,
   "metadata": {},
   "outputs": [
    {
     "data": {
      "text/plain": [
       "5    3\n",
       "3    3\n",
       "2    2\n",
       "6    1\n",
       "1    1\n",
       "dtype: int64"
      ]
     },
     "execution_count": 132,
     "metadata": {},
     "output_type": "execute_result"
    }
   ],
   "source": [
    "s1.value_counts()"
   ]
  },
  {
   "cell_type": "code",
   "execution_count": 133,
   "metadata": {
    "collapsed": true
   },
   "outputs": [],
   "source": [
    "n2=np.random.randint(0,10,size=100)"
   ]
  },
  {
   "cell_type": "code",
   "execution_count": 134,
   "metadata": {
    "collapsed": true
   },
   "outputs": [],
   "source": [
    "df=pd.Series(n2)"
   ]
  },
  {
   "cell_type": "code",
   "execution_count": 135,
   "metadata": {},
   "outputs": [
    {
     "data": {
      "text/plain": [
       "0     1\n",
       "1     5\n",
       "2     3\n",
       "3     4\n",
       "4     3\n",
       "5     9\n",
       "6     4\n",
       "7     4\n",
       "8     1\n",
       "9     6\n",
       "10    2\n",
       "11    2\n",
       "12    3\n",
       "13    4\n",
       "14    5\n",
       "15    0\n",
       "16    3\n",
       "17    5\n",
       "18    0\n",
       "19    9\n",
       "20    7\n",
       "21    5\n",
       "22    4\n",
       "23    6\n",
       "24    4\n",
       "25    8\n",
       "26    2\n",
       "27    0\n",
       "28    6\n",
       "29    3\n",
       "     ..\n",
       "70    5\n",
       "71    5\n",
       "72    5\n",
       "73    7\n",
       "74    6\n",
       "75    0\n",
       "76    8\n",
       "77    9\n",
       "78    8\n",
       "79    1\n",
       "80    5\n",
       "81    1\n",
       "82    0\n",
       "83    7\n",
       "84    5\n",
       "85    8\n",
       "86    8\n",
       "87    9\n",
       "88    0\n",
       "89    9\n",
       "90    7\n",
       "91    7\n",
       "92    4\n",
       "93    0\n",
       "94    8\n",
       "95    8\n",
       "96    4\n",
       "97    8\n",
       "98    6\n",
       "99    5\n",
       "Length: 100, dtype: int32"
      ]
     },
     "execution_count": 135,
     "metadata": {},
     "output_type": "execute_result"
    }
   ],
   "source": [
    "df"
   ]
  },
  {
   "cell_type": "code",
   "execution_count": 136,
   "metadata": {},
   "outputs": [
    {
     "data": {
      "text/plain": [
       "0    14\n",
       "5    13\n",
       "9    12\n",
       "4    12\n",
       "8    11\n",
       "7    10\n",
       "6     8\n",
       "3     7\n",
       "1     7\n",
       "2     6\n",
       "dtype: int64"
      ]
     },
     "execution_count": 136,
     "metadata": {},
     "output_type": "execute_result"
    }
   ],
   "source": [
    "df.value_counts()"
   ]
  },
  {
   "cell_type": "code",
   "execution_count": 137,
   "metadata": {},
   "outputs": [
    {
     "data": {
      "text/plain": [
       "<matplotlib.axes._subplots.AxesSubplot at 0xa47ba90>"
      ]
     },
     "execution_count": 137,
     "metadata": {},
     "output_type": "execute_result"
    }
   ],
   "source": [
    "df.hist(color='k',alpha=0.5)"
   ]
  },
  {
   "cell_type": "code",
   "execution_count": 138,
   "metadata": {},
   "outputs": [
    {
     "ename": "UnicodeEncodeError",
     "evalue": "'ascii' codec can't encode characters in position 25-26: ordinal not in range(128)",
     "output_type": "error",
     "traceback": [
      "\u001b[1;31m---------------------------------------------------------------------------\u001b[0m",
      "\u001b[1;31mUnicodeEncodeError\u001b[0m                        Traceback (most recent call last)",
      "\u001b[1;32mC:\\Users\\syph\\Anaconda2\\lib\\site-packages\\IPython\\core\\interactiveshell.pyc\u001b[0m in \u001b[0;36mrun_code\u001b[1;34m(self, code_obj, result)\u001b[0m\n\u001b[0;32m   2897\u001b[0m             \u001b[1;32mif\u001b[0m \u001b[0mresult\u001b[0m \u001b[1;32mis\u001b[0m \u001b[1;32mnot\u001b[0m \u001b[0mNone\u001b[0m\u001b[1;33m:\u001b[0m\u001b[1;33m\u001b[0m\u001b[0m\n\u001b[0;32m   2898\u001b[0m                 \u001b[0mresult\u001b[0m\u001b[1;33m.\u001b[0m\u001b[0merror_in_exec\u001b[0m \u001b[1;33m=\u001b[0m \u001b[0msys\u001b[0m\u001b[1;33m.\u001b[0m\u001b[0mexc_info\u001b[0m\u001b[1;33m(\u001b[0m\u001b[1;33m)\u001b[0m\u001b[1;33m[\u001b[0m\u001b[1;36m1\u001b[0m\u001b[1;33m]\u001b[0m\u001b[1;33m\u001b[0m\u001b[0m\n\u001b[1;32m-> 2899\u001b[1;33m             \u001b[0mself\u001b[0m\u001b[1;33m.\u001b[0m\u001b[0mshowtraceback\u001b[0m\u001b[1;33m(\u001b[0m\u001b[1;33m)\u001b[0m\u001b[1;33m\u001b[0m\u001b[0m\n\u001b[0m\u001b[0;32m   2900\u001b[0m         \u001b[1;32melse\u001b[0m\u001b[1;33m:\u001b[0m\u001b[1;33m\u001b[0m\u001b[0m\n\u001b[0;32m   2901\u001b[0m             \u001b[0moutflag\u001b[0m \u001b[1;33m=\u001b[0m \u001b[1;36m0\u001b[0m\u001b[1;33m\u001b[0m\u001b[0m\n",
      "\u001b[1;32mC:\\Users\\syph\\Anaconda2\\lib\\site-packages\\IPython\\core\\interactiveshell.pyc\u001b[0m in \u001b[0;36mshowtraceback\u001b[1;34m(self, exc_tuple, filename, tb_offset, exception_only)\u001b[0m\n\u001b[0;32m   1809\u001b[0m                 \u001b[0mself\u001b[0m\u001b[1;33m.\u001b[0m\u001b[0mshowsyntaxerror\u001b[0m\u001b[1;33m(\u001b[0m\u001b[0mfilename\u001b[0m\u001b[1;33m)\u001b[0m\u001b[1;33m\u001b[0m\u001b[0m\n\u001b[0;32m   1810\u001b[0m             \u001b[1;32melif\u001b[0m \u001b[0metype\u001b[0m \u001b[1;32mis\u001b[0m \u001b[0mUsageError\u001b[0m\u001b[1;33m:\u001b[0m\u001b[1;33m\u001b[0m\u001b[0m\n\u001b[1;32m-> 1811\u001b[1;33m                 \u001b[0mself\u001b[0m\u001b[1;33m.\u001b[0m\u001b[0mshow_usage_error\u001b[0m\u001b[1;33m(\u001b[0m\u001b[0mvalue\u001b[0m\u001b[1;33m)\u001b[0m\u001b[1;33m\u001b[0m\u001b[0m\n\u001b[0m\u001b[0;32m   1812\u001b[0m             \u001b[1;32melse\u001b[0m\u001b[1;33m:\u001b[0m\u001b[1;33m\u001b[0m\u001b[0m\n\u001b[0;32m   1813\u001b[0m                 \u001b[1;32mif\u001b[0m \u001b[0mexception_only\u001b[0m\u001b[1;33m:\u001b[0m\u001b[1;33m\u001b[0m\u001b[0m\n",
      "\u001b[1;32mC:\\Users\\syph\\Anaconda2\\lib\\site-packages\\IPython\\core\\interactiveshell.pyc\u001b[0m in \u001b[0;36mshow_usage_error\u001b[1;34m(self, exc)\u001b[0m\n\u001b[0;32m   1773\u001b[0m         \u001b[0mThese\u001b[0m \u001b[0mare\u001b[0m \u001b[0mspecial\u001b[0m \u001b[0mexceptions\u001b[0m \u001b[0mthat\u001b[0m \u001b[0mshouldn\u001b[0m\u001b[0;31m'\u001b[0m\u001b[0mt\u001b[0m \u001b[0mshow\u001b[0m \u001b[0ma\u001b[0m \u001b[0mtraceback\u001b[0m\u001b[1;33m.\u001b[0m\u001b[1;33m\u001b[0m\u001b[0m\n\u001b[0;32m   1774\u001b[0m         \"\"\"\n\u001b[1;32m-> 1775\u001b[1;33m         \u001b[1;32mprint\u001b[0m\u001b[1;33m(\u001b[0m\u001b[1;34m\"UsageError: %s\"\u001b[0m \u001b[1;33m%\u001b[0m \u001b[0mexc\u001b[0m\u001b[1;33m,\u001b[0m \u001b[0mfile\u001b[0m\u001b[1;33m=\u001b[0m\u001b[0msys\u001b[0m\u001b[1;33m.\u001b[0m\u001b[0mstderr\u001b[0m\u001b[1;33m)\u001b[0m\u001b[1;33m\u001b[0m\u001b[0m\n\u001b[0m\u001b[0;32m   1776\u001b[0m \u001b[1;33m\u001b[0m\u001b[0m\n\u001b[0;32m   1777\u001b[0m     \u001b[1;32mdef\u001b[0m \u001b[0mget_exception_only\u001b[0m\u001b[1;33m(\u001b[0m\u001b[0mself\u001b[0m\u001b[1;33m,\u001b[0m \u001b[0mexc_tuple\u001b[0m\u001b[1;33m=\u001b[0m\u001b[0mNone\u001b[0m\u001b[1;33m)\u001b[0m\u001b[1;33m:\u001b[0m\u001b[1;33m\u001b[0m\u001b[0m\n",
      "\u001b[1;31mUnicodeEncodeError\u001b[0m: 'ascii' codec can't encode characters in position 25-26: ordinal not in range(128)"
     ]
    }
   ],
   "source": [
    "%matplotlib inline   #载入matplotlib 库"
   ]
  },
  {
   "cell_type": "code",
   "execution_count": 139,
   "metadata": {},
   "outputs": [
    {
     "data": {
      "text/plain": [
       "<matplotlib.axes._subplots.AxesSubplot at 0xa47ba90>"
      ]
     },
     "execution_count": 139,
     "metadata": {},
     "output_type": "execute_result"
    }
   ],
   "source": [
    "df.hist(color='k',alpha=0.5)"
   ]
  },
  {
   "cell_type": "markdown",
   "metadata": {},
   "source": [
    "### 箱型图"
   ]
  },
  {
   "cell_type": "code",
   "execution_count": 140,
   "metadata": {
    "collapsed": true
   },
   "outputs": [],
   "source": [
    "n3=np.random.random((20,10))"
   ]
  },
  {
   "cell_type": "code",
   "execution_count": 141,
   "metadata": {},
   "outputs": [
    {
     "data": {
      "text/plain": [
       "array([[ 0.9893716 ,  0.17957574,  0.9770982 ,  0.69785939,  0.18492028,\n",
       "         0.42129425,  0.60256881,  0.00858798,  0.07073059,  0.44517585],\n",
       "       [ 0.02188288,  0.29768781,  0.27218882,  0.86029759,  0.70064405,\n",
       "         0.93038013,  0.22614753,  0.48316352,  0.22178629,  0.02330647],\n",
       "       [ 0.75082745,  0.92764847,  0.04705488,  0.84377035,  0.05221282,\n",
       "         0.87637983,  0.65566134,  0.38910994,  0.36649096,  0.26317042],\n",
       "       [ 0.97787695,  0.01630151,  0.12783853,  0.44547128,  0.97592069,\n",
       "         0.5793136 ,  0.38277872,  0.66607589,  0.79510753,  0.66031496],\n",
       "       [ 0.28058661,  0.34373869,  0.89868007,  0.15649177,  0.95569099,\n",
       "         0.37974506,  0.53720018,  0.33483881,  0.44925682,  0.0135547 ],\n",
       "       [ 0.36858339,  0.74529655,  0.39558594,  0.93615376,  0.11701436,\n",
       "         0.81965884,  0.96386593,  0.43647213,  0.3016157 ,  0.36522245],\n",
       "       [ 0.63004168,  0.87981876,  0.72603518,  0.30783507,  0.71313666,\n",
       "         0.04126648,  0.40024511,  0.21945389,  0.29945003,  0.85977675],\n",
       "       [ 0.52626283,  0.24925366,  0.52475443,  0.78727616,  0.23629026,\n",
       "         0.74276509,  0.68466374,  0.57058219,  0.321282  ,  0.50030366],\n",
       "       [ 0.36100338,  0.88413311,  0.52539496,  0.2970388 ,  0.49324282,\n",
       "         0.17519895,  0.27866741,  0.69458825,  0.23362773,  0.9804497 ],\n",
       "       [ 0.08073805,  0.2474455 ,  0.7177729 ,  0.01405369,  0.19102455,\n",
       "         0.81950104,  0.22091415,  0.26160423,  0.62300931,  0.24570079],\n",
       "       [ 0.6520019 ,  0.45677602,  0.35277818,  0.96418833,  0.61710873,\n",
       "         0.98476833,  0.16957892,  0.41801186,  0.09064375,  0.18643992],\n",
       "       [ 0.29872348,  0.51566058,  0.51528364,  0.15713229,  0.97414747,\n",
       "         0.89995548,  0.17797494,  0.00916305,  0.92435451,  0.37328188],\n",
       "       [ 0.85747975,  0.93809175,  0.81248041,  0.07282372,  0.61607181,\n",
       "         0.65713978,  0.06059749,  0.31520451,  0.59498833,  0.55548784],\n",
       "       [ 0.16180979,  0.49859694,  0.51972607,  0.14956705,  0.65729418,\n",
       "         0.69942341,  0.47395996,  0.19049087,  0.83919217,  0.96645596],\n",
       "       [ 0.52544155,  0.2346154 ,  0.22796863,  0.84405061,  0.69237441,\n",
       "         0.48156017,  0.15046419,  0.2973871 ,  0.77820287,  0.50589931],\n",
       "       [ 0.4582596 ,  0.52087618,  0.74998982,  0.51217616,  0.50140817,\n",
       "         0.15921483,  0.98968858,  0.89694809,  0.83352714,  0.75032336],\n",
       "       [ 0.53798178,  0.84797911,  0.8970606 ,  0.89873331,  0.62747493,\n",
       "         0.9261403 ,  0.58087457,  0.44272283,  0.17182206,  0.42932813],\n",
       "       [ 0.83221489,  0.26928496,  0.17121516,  0.32044844,  0.35426946,\n",
       "         0.11952057,  0.06718055,  0.58699366,  0.47965667,  0.25298294],\n",
       "       [ 0.7876728 ,  0.89559345,  0.51242906,  0.49907647,  0.57193819,\n",
       "         0.07117279,  0.92590633,  0.68298986,  0.46633142,  0.01389046],\n",
       "       [ 0.18911119,  0.03623047,  0.68447108,  0.4648038 ,  0.32575496,\n",
       "         0.31701512,  0.31937282,  0.11723608,  0.98803707,  0.02435941]])"
      ]
     },
     "execution_count": 141,
     "metadata": {},
     "output_type": "execute_result"
    }
   ],
   "source": [
    "n3"
   ]
  },
  {
   "cell_type": "code",
   "execution_count": 142,
   "metadata": {
    "collapsed": true
   },
   "outputs": [],
   "source": [
    "df2=DataFrame(n1.reshape(10,-1))"
   ]
  },
  {
   "cell_type": "code",
   "execution_count": 143,
   "metadata": {},
   "outputs": [
    {
     "data": {
      "text/plain": [
       "<matplotlib.axes._subplots.AxesSubplot at 0xa47ba90>"
      ]
     },
     "execution_count": 143,
     "metadata": {},
     "output_type": "execute_result"
    }
   ],
   "source": [
    "df2.boxplot()   #箱型图"
   ]
  },
  {
   "cell_type": "markdown",
   "metadata": {},
   "source": [
    "### 抖动图"
   ]
  },
  {
   "cell_type": "code",
   "execution_count": 147,
   "metadata": {
    "collapsed": true
   },
   "outputs": [],
   "source": [
    "def jitter(series,factor):\n",
    "    z=float(series.max())-float(series.min())  #最大值和最小值差值\n",
    "    a=float(factor)*z/50     #抖动距离使用factor阈值\n",
    "    return series.apply(lambda x: x+np.random.uniform(-a,a))"
   ]
  },
  {
   "cell_type": "code",
   "execution_count": 264,
   "metadata": {},
   "outputs": [],
   "source": [
    "n1=np.random.randint(50,60,size=100)"
   ]
  },
  {
   "cell_type": "code",
   "execution_count": 265,
   "metadata": {},
   "outputs": [],
   "source": [
    "s1=DataFrame(n1.reshape(50,2))"
   ]
  },
  {
   "cell_type": "code",
   "execution_count": 266,
   "metadata": {},
   "outputs": [],
   "source": [
    "s2=jitter(s1[0],1)"
   ]
  },
  {
   "cell_type": "code",
   "execution_count": 267,
   "metadata": {},
   "outputs": [
    {
     "data": {
      "text/plain": [
       "0     59.057777\n",
       "1     53.084104\n",
       "2     55.959649\n",
       "3     54.897561\n",
       "4     54.048490\n",
       "5     53.917965\n",
       "6     56.028205\n",
       "7     57.969650\n",
       "8     55.142471\n",
       "9     51.028658\n",
       "10    55.973980\n",
       "11    51.167201\n",
       "12    58.966700\n",
       "13    54.849259\n",
       "14    55.011704\n",
       "15    51.880751\n",
       "16    58.101348\n",
       "17    55.868626\n",
       "18    57.031535\n",
       "19    56.005225\n",
       "20    52.828756\n",
       "21    57.914970\n",
       "22    50.952062\n",
       "23    53.993045\n",
       "24    56.139439\n",
       "25    56.040423\n",
       "26    58.102646\n",
       "27    49.889344\n",
       "28    59.062037\n",
       "29    55.066777\n",
       "30    51.063062\n",
       "31    55.080580\n",
       "32    55.093968\n",
       "33    58.153744\n",
       "34    53.846735\n",
       "35    52.031668\n",
       "36    58.909723\n",
       "37    52.019409\n",
       "38    51.915477\n",
       "39    53.822773\n",
       "40    56.135018\n",
       "41    56.038918\n",
       "42    49.880717\n",
       "43    58.179523\n",
       "44    52.913949\n",
       "45    55.108899\n",
       "46    54.840591\n",
       "47    59.020792\n",
       "48    49.835753\n",
       "49    56.157168\n",
       "Name: 0, dtype: float64"
      ]
     },
     "execution_count": 267,
     "metadata": {},
     "output_type": "execute_result"
    }
   ],
   "source": [
    "s2"
   ]
  },
  {
   "cell_type": "code",
   "execution_count": 268,
   "metadata": {},
   "outputs": [],
   "source": [
    "s3=jitter(s1[1],1)"
   ]
  },
  {
   "cell_type": "code",
   "execution_count": 269,
   "metadata": {},
   "outputs": [
    {
     "data": {
      "text/plain": [
       "0     58.067166\n",
       "1     52.148223\n",
       "2     59.012983\n",
       "3     52.993180\n",
       "4     59.080427\n",
       "5     50.027048\n",
       "6     57.050241\n",
       "7     59.069261\n",
       "8     49.994636\n",
       "9     53.059126\n",
       "10    52.850307\n",
       "11    58.024218\n",
       "12    53.139643\n",
       "13    57.125187\n",
       "14    55.048655\n",
       "15    54.041239\n",
       "16    55.852785\n",
       "17    58.892002\n",
       "18    56.857502\n",
       "19    56.141685\n",
       "20    51.980847\n",
       "21    56.827313\n",
       "22    52.866753\n",
       "23    59.081835\n",
       "24    51.043066\n",
       "25    58.895666\n",
       "26    53.834477\n",
       "27    51.157070\n",
       "28    56.847144\n",
       "29    50.153592\n",
       "30    50.004142\n",
       "31    52.090769\n",
       "32    51.836795\n",
       "33    55.841749\n",
       "34    51.150459\n",
       "35    51.950121\n",
       "36    51.912062\n",
       "37    54.076795\n",
       "38    59.106813\n",
       "39    56.122463\n",
       "40    56.881703\n",
       "41    52.894107\n",
       "42    50.951821\n",
       "43    50.996364\n",
       "44    52.973063\n",
       "45    55.871651\n",
       "46    52.859333\n",
       "47    50.837905\n",
       "48    51.872287\n",
       "49    51.178903\n",
       "Name: 1, dtype: float64"
      ]
     },
     "execution_count": 269,
     "metadata": {},
     "output_type": "execute_result"
    }
   ],
   "source": [
    "s3"
   ]
  },
  {
   "cell_type": "markdown",
   "metadata": {},
   "source": [
    "#### 散点图"
   ]
  },
  {
   "cell_type": "code",
   "execution_count": 270,
   "metadata": {
    "collapsed": true
   },
   "outputs": [],
   "source": [
    "df2=s1"
   ]
  },
  {
   "cell_type": "code",
   "execution_count": 271,
   "metadata": {},
   "outputs": [],
   "source": [
    "df2[0]=s1\n",
    "df2[1]=s2"
   ]
  },
  {
   "cell_type": "code",
   "execution_count": 272,
   "metadata": {},
   "outputs": [
    {
     "data": {
      "text/html": [
       "<div>\n",
       "<style>\n",
       "    .dataframe thead tr:only-child th {\n",
       "        text-align: right;\n",
       "    }\n",
       "\n",
       "    .dataframe thead th {\n",
       "        text-align: left;\n",
       "    }\n",
       "\n",
       "    .dataframe tbody tr th {\n",
       "        vertical-align: top;\n",
       "    }\n",
       "</style>\n",
       "<table border=\"1\" class=\"dataframe\">\n",
       "  <thead>\n",
       "    <tr style=\"text-align: right;\">\n",
       "      <th></th>\n",
       "      <th>0</th>\n",
       "      <th>1</th>\n",
       "    </tr>\n",
       "  </thead>\n",
       "  <tbody>\n",
       "    <tr>\n",
       "      <th>0</th>\n",
       "      <td>59</td>\n",
       "      <td>59.057777</td>\n",
       "    </tr>\n",
       "    <tr>\n",
       "      <th>1</th>\n",
       "      <td>53</td>\n",
       "      <td>53.084104</td>\n",
       "    </tr>\n",
       "    <tr>\n",
       "      <th>2</th>\n",
       "      <td>56</td>\n",
       "      <td>55.959649</td>\n",
       "    </tr>\n",
       "    <tr>\n",
       "      <th>3</th>\n",
       "      <td>55</td>\n",
       "      <td>54.897561</td>\n",
       "    </tr>\n",
       "    <tr>\n",
       "      <th>4</th>\n",
       "      <td>54</td>\n",
       "      <td>54.048490</td>\n",
       "    </tr>\n",
       "    <tr>\n",
       "      <th>5</th>\n",
       "      <td>54</td>\n",
       "      <td>53.917965</td>\n",
       "    </tr>\n",
       "    <tr>\n",
       "      <th>6</th>\n",
       "      <td>56</td>\n",
       "      <td>56.028205</td>\n",
       "    </tr>\n",
       "    <tr>\n",
       "      <th>7</th>\n",
       "      <td>58</td>\n",
       "      <td>57.969650</td>\n",
       "    </tr>\n",
       "    <tr>\n",
       "      <th>8</th>\n",
       "      <td>55</td>\n",
       "      <td>55.142471</td>\n",
       "    </tr>\n",
       "    <tr>\n",
       "      <th>9</th>\n",
       "      <td>51</td>\n",
       "      <td>51.028658</td>\n",
       "    </tr>\n",
       "    <tr>\n",
       "      <th>10</th>\n",
       "      <td>56</td>\n",
       "      <td>55.973980</td>\n",
       "    </tr>\n",
       "    <tr>\n",
       "      <th>11</th>\n",
       "      <td>51</td>\n",
       "      <td>51.167201</td>\n",
       "    </tr>\n",
       "    <tr>\n",
       "      <th>12</th>\n",
       "      <td>59</td>\n",
       "      <td>58.966700</td>\n",
       "    </tr>\n",
       "    <tr>\n",
       "      <th>13</th>\n",
       "      <td>55</td>\n",
       "      <td>54.849259</td>\n",
       "    </tr>\n",
       "    <tr>\n",
       "      <th>14</th>\n",
       "      <td>55</td>\n",
       "      <td>55.011704</td>\n",
       "    </tr>\n",
       "    <tr>\n",
       "      <th>15</th>\n",
       "      <td>52</td>\n",
       "      <td>51.880751</td>\n",
       "    </tr>\n",
       "    <tr>\n",
       "      <th>16</th>\n",
       "      <td>58</td>\n",
       "      <td>58.101348</td>\n",
       "    </tr>\n",
       "    <tr>\n",
       "      <th>17</th>\n",
       "      <td>56</td>\n",
       "      <td>55.868626</td>\n",
       "    </tr>\n",
       "    <tr>\n",
       "      <th>18</th>\n",
       "      <td>57</td>\n",
       "      <td>57.031535</td>\n",
       "    </tr>\n",
       "    <tr>\n",
       "      <th>19</th>\n",
       "      <td>56</td>\n",
       "      <td>56.005225</td>\n",
       "    </tr>\n",
       "    <tr>\n",
       "      <th>20</th>\n",
       "      <td>53</td>\n",
       "      <td>52.828756</td>\n",
       "    </tr>\n",
       "    <tr>\n",
       "      <th>21</th>\n",
       "      <td>58</td>\n",
       "      <td>57.914970</td>\n",
       "    </tr>\n",
       "    <tr>\n",
       "      <th>22</th>\n",
       "      <td>51</td>\n",
       "      <td>50.952062</td>\n",
       "    </tr>\n",
       "    <tr>\n",
       "      <th>23</th>\n",
       "      <td>54</td>\n",
       "      <td>53.993045</td>\n",
       "    </tr>\n",
       "    <tr>\n",
       "      <th>24</th>\n",
       "      <td>56</td>\n",
       "      <td>56.139439</td>\n",
       "    </tr>\n",
       "    <tr>\n",
       "      <th>25</th>\n",
       "      <td>56</td>\n",
       "      <td>56.040423</td>\n",
       "    </tr>\n",
       "    <tr>\n",
       "      <th>26</th>\n",
       "      <td>58</td>\n",
       "      <td>58.102646</td>\n",
       "    </tr>\n",
       "    <tr>\n",
       "      <th>27</th>\n",
       "      <td>50</td>\n",
       "      <td>49.889344</td>\n",
       "    </tr>\n",
       "    <tr>\n",
       "      <th>28</th>\n",
       "      <td>59</td>\n",
       "      <td>59.062037</td>\n",
       "    </tr>\n",
       "    <tr>\n",
       "      <th>29</th>\n",
       "      <td>55</td>\n",
       "      <td>55.066777</td>\n",
       "    </tr>\n",
       "    <tr>\n",
       "      <th>30</th>\n",
       "      <td>51</td>\n",
       "      <td>51.063062</td>\n",
       "    </tr>\n",
       "    <tr>\n",
       "      <th>31</th>\n",
       "      <td>55</td>\n",
       "      <td>55.080580</td>\n",
       "    </tr>\n",
       "    <tr>\n",
       "      <th>32</th>\n",
       "      <td>55</td>\n",
       "      <td>55.093968</td>\n",
       "    </tr>\n",
       "    <tr>\n",
       "      <th>33</th>\n",
       "      <td>58</td>\n",
       "      <td>58.153744</td>\n",
       "    </tr>\n",
       "    <tr>\n",
       "      <th>34</th>\n",
       "      <td>54</td>\n",
       "      <td>53.846735</td>\n",
       "    </tr>\n",
       "    <tr>\n",
       "      <th>35</th>\n",
       "      <td>52</td>\n",
       "      <td>52.031668</td>\n",
       "    </tr>\n",
       "    <tr>\n",
       "      <th>36</th>\n",
       "      <td>59</td>\n",
       "      <td>58.909723</td>\n",
       "    </tr>\n",
       "    <tr>\n",
       "      <th>37</th>\n",
       "      <td>52</td>\n",
       "      <td>52.019409</td>\n",
       "    </tr>\n",
       "    <tr>\n",
       "      <th>38</th>\n",
       "      <td>52</td>\n",
       "      <td>51.915477</td>\n",
       "    </tr>\n",
       "    <tr>\n",
       "      <th>39</th>\n",
       "      <td>54</td>\n",
       "      <td>53.822773</td>\n",
       "    </tr>\n",
       "    <tr>\n",
       "      <th>40</th>\n",
       "      <td>56</td>\n",
       "      <td>56.135018</td>\n",
       "    </tr>\n",
       "    <tr>\n",
       "      <th>41</th>\n",
       "      <td>56</td>\n",
       "      <td>56.038918</td>\n",
       "    </tr>\n",
       "    <tr>\n",
       "      <th>42</th>\n",
       "      <td>50</td>\n",
       "      <td>49.880717</td>\n",
       "    </tr>\n",
       "    <tr>\n",
       "      <th>43</th>\n",
       "      <td>58</td>\n",
       "      <td>58.179523</td>\n",
       "    </tr>\n",
       "    <tr>\n",
       "      <th>44</th>\n",
       "      <td>53</td>\n",
       "      <td>52.913949</td>\n",
       "    </tr>\n",
       "    <tr>\n",
       "      <th>45</th>\n",
       "      <td>55</td>\n",
       "      <td>55.108899</td>\n",
       "    </tr>\n",
       "    <tr>\n",
       "      <th>46</th>\n",
       "      <td>55</td>\n",
       "      <td>54.840591</td>\n",
       "    </tr>\n",
       "    <tr>\n",
       "      <th>47</th>\n",
       "      <td>59</td>\n",
       "      <td>59.020792</td>\n",
       "    </tr>\n",
       "    <tr>\n",
       "      <th>48</th>\n",
       "      <td>50</td>\n",
       "      <td>49.835753</td>\n",
       "    </tr>\n",
       "    <tr>\n",
       "      <th>49</th>\n",
       "      <td>56</td>\n",
       "      <td>56.157168</td>\n",
       "    </tr>\n",
       "  </tbody>\n",
       "</table>\n",
       "</div>"
      ],
      "text/plain": [
       "     0          1\n",
       "0   59  59.057777\n",
       "1   53  53.084104\n",
       "2   56  55.959649\n",
       "3   55  54.897561\n",
       "4   54  54.048490\n",
       "5   54  53.917965\n",
       "6   56  56.028205\n",
       "7   58  57.969650\n",
       "8   55  55.142471\n",
       "9   51  51.028658\n",
       "10  56  55.973980\n",
       "11  51  51.167201\n",
       "12  59  58.966700\n",
       "13  55  54.849259\n",
       "14  55  55.011704\n",
       "15  52  51.880751\n",
       "16  58  58.101348\n",
       "17  56  55.868626\n",
       "18  57  57.031535\n",
       "19  56  56.005225\n",
       "20  53  52.828756\n",
       "21  58  57.914970\n",
       "22  51  50.952062\n",
       "23  54  53.993045\n",
       "24  56  56.139439\n",
       "25  56  56.040423\n",
       "26  58  58.102646\n",
       "27  50  49.889344\n",
       "28  59  59.062037\n",
       "29  55  55.066777\n",
       "30  51  51.063062\n",
       "31  55  55.080580\n",
       "32  55  55.093968\n",
       "33  58  58.153744\n",
       "34  54  53.846735\n",
       "35  52  52.031668\n",
       "36  59  58.909723\n",
       "37  52  52.019409\n",
       "38  52  51.915477\n",
       "39  54  53.822773\n",
       "40  56  56.135018\n",
       "41  56  56.038918\n",
       "42  50  49.880717\n",
       "43  58  58.179523\n",
       "44  53  52.913949\n",
       "45  55  55.108899\n",
       "46  55  54.840591\n",
       "47  59  59.020792\n",
       "48  50  49.835753\n",
       "49  56  56.157168"
      ]
     },
     "execution_count": 272,
     "metadata": {},
     "output_type": "execute_result"
    }
   ],
   "source": [
    "df2"
   ]
  },
  {
   "cell_type": "code",
   "execution_count": 273,
   "metadata": {},
   "outputs": [
    {
     "data": {
      "image/png": "[encoded data removed]",
      "text/plain": [
       "<matplotlib.figure.Figure at 0xc4e6d68>"
      ]
     },
     "execution_count": 273,
     "metadata": {},
     "output_type": "execute_result"
    }
   ],
   "source": [
    "df2.plot(kind='scatter',x=0,y=1,alpha=0.5).get_figure()"
   ]
  },
  {
   "cell_type": "code",
   "execution_count": 274,
   "metadata": {},
   "outputs": [
    {
     "data": {
      "image/png": "[encoded data removed]",
      "text/plain": [
       "<matplotlib.figure.Figure at 0xc5f3f98>"
      ]
     },
     "execution_count": 274,
     "metadata": {},
     "output_type": "execute_result"
    }
   ],
   "source": [
    "s1.plot(kind='scatter',x=1,y=0,alpha=0.5).get_figure()"
   ]
  },
  {
   "cell_type": "code",
   "execution_count": null,
   "metadata": {
    "collapsed": true
   },
   "outputs": [],
   "source": []
  }
 ],
 "metadata": {
  "kernelspec": {
   "display_name": "Python 2",
   "language": "python",
   "name": "python2"
  },
  "language_info": {
   "codemirror_mode": {
    "name": "ipython",
    "version": 2
   },
   "file_extension": ".py",
   "mimetype": "text/x-python",
   "name": "python",
   "nbconvert_exporter": "python",
   "pygments_lexer": "ipython2",
   "version": "2.7.14"
  }
 },
 "nbformat": 4,
 "nbformat_minor": 2
}
